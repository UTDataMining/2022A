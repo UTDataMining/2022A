{
  "nbformat": 4,
  "nbformat_minor": 0,
  "metadata": {
    "colab": {
      "name": "ex7.ipynb",
      "provenance": [],
      "collapsed_sections": [],
      "include_colab_link": true
    },
    "kernelspec": {
      "name": "python3",
      "display_name": "Python 3"
    },
    "language_info": {
      "name": "python"
    }
  },
  "cells": [
    {
      "cell_type": "markdown",
      "metadata": {
        "id": "view-in-github",
        "colab_type": "text"
      },
      "source": [
        "<a href=\"https://colab.research.google.com/github/UTDataMining/2021A/blob/master/ex7/ex7.ipynb\" target=\"_parent\"><img src=\"https://colab.research.google.com/assets/colab-badge.svg\" alt=\"Open In Colab\"/></a>"
      ]
    },
    {
      "cell_type": "markdown",
      "metadata": {
        "id": "lOoaxejTKr3w"
      },
      "source": [
        "# 課題7 主成分分析\n",
        "配点\n",
        "- Q1 2P\n",
        "- Q2 8P"
      ]
    },
    {
      "cell_type": "code",
      "metadata": {
        "id": "a2jFr0ZZJsZ5"
      },
      "source": [
        "import csv\n",
        "import pandas as pd\n",
        "import numpy as np\n",
        "import matplotlib.pyplot as plt\n",
        "%matplotlib inline"
      ],
      "execution_count": null,
      "outputs": []
    },
    {
      "cell_type": "markdown",
      "metadata": {
        "id": "FkFrgvFvK3fH"
      },
      "source": [
        "## Q1 共分散行列\n",
        "\n",
        "2つの変数$x$,$y$が取る対応する$n$個の値を\n",
        "\n",
        "$x=(x_1,x_2,...,x_n)$, \n",
        "\n",
        "$y=(y_1,y_2,...,y_n)$\n",
        "\n",
        "とすると、これらの変数間の共分散は以下のように計算できる。共分散は変数間の関係性を表すのに用いられ、共分散を正規化したものは相関係数となる。\n",
        "\n",
        "$ \\Sigma_{i=1}^{n} (x_i- \\overline{x}) (y_i- \\overline{y})/n$\n",
        "\n",
        "$\\overline{x}, \\overline{y}$はそれぞれ$x$と$y$の平均。\n",
        "\n",
        "不偏分散とする場合は$n-1$で割るが、本課題では標準分散を考え$n$で割ることを考える。\n",
        "\n",
        "複数の変数について、変数間の分散（同一変数について）と共分散（異なる変数について）の一覧を行列の形でまとめたものを分散共分散行列と呼び（以下では単に共分散行列と呼ぶことにする）、2変数の場合は、共分散行列は以下のように表される。\n",
        "\n",
        "\n",
        "$\n",
        "   \\left(\n",
        "    \\begin{array}{cc}\n",
        "        \\Sigma_{i=1}^{n}(x_i- \\overline{x})^2/n  &  \\Sigma_{i=1}^{n} (x_i- \\overline{x}) (y_i- \\overline{y})/n  \\\\\n",
        "      \\Sigma_{i=1}^{n} (x_i- \\overline{x}) (y_i- \\overline{y})/n　 &  \\Sigma_{i=1}^{n}(y_i- \\overline{y})^2/n \n",
        "    \\end{array}\n",
        "  \\right)\n",
        "$\n",
        "\n",
        "行列（2次元配列）を引数として受け取り、***各列を変数として列間の***共分散行列を配列として返す関数`cov_matrix`を完成させてください。"
      ]
    },
    {
      "cell_type": "code",
      "metadata": {
        "id": "uM9V8UiHK5dp",
        "exercise_id": "q1",
        "inlinetests": {
          "InlineTest_1": "\ntry:\n  from sklearn.datasets import load_iris\n  iris = load_iris()\n  assert int(np.sum(cov_matrix(iris['data']))*10) == 96, f\"'np.sum(cov_matrix(X))' returns {np.sum(cov_matrix(iris['data']))}, while the expected answer is 9.69...\"\n  assert int(cov_matrix(iris['data'])[0,0]*10) == 6, f\"'cov_matrix(X)[0,0]' returns {cov_matrix(iris['data'])[0,0]}, while the expected answer is 0.68...\"\n  assert int(cov_matrix(iris['data'])[0,2]*10) == 12, f\"'cov_matrix(X)[0,2]' returns {cov_matrix(iris['data'])[0,2]}, while the expected answer is 1.26...\"\nexcept AssertionError as e:\n    raise e\nexcept Exception as e:\n    assert False, f\"Your function raises an exception: {e}.\""
        }
      },
      "source": [
        "def cov_matrix(X):\n",
        "    ### 引数：\n",
        "    # X: 行列（2次元配列）\n",
        "    m = X.shape[0]\n",
        "    n = X.shape[1]\n",
        "    cov = np.zeros((n,n))\n",
        "\n",
        "    ### 入力の行列の列間の共分散行列を計算するコード\n",
        "    \n",
        "    return cov"
      ],
      "execution_count": null,
      "outputs": []
    },
    {
      "cell_type": "markdown",
      "metadata": {
        "id": "FVSrEMxNNlzx"
      },
      "source": [
        "`cov_matrix`関数が完成したら、以下のセルを実行して動作を確認してください。irisデータセットの4つの特徴量間の共分散行列を求めています。この共分散行列の要素の和は約9.6となります。"
      ]
    },
    {
      "cell_type": "code",
      "metadata": {
        "id": "DZ1KUh3qNwoG"
      },
      "source": [
        "from sklearn.datasets import load_iris\n",
        "iris = load_iris() \n",
        "X = iris['data']\n",
        "print(cov_matrix(X))\n",
        "print(np.sum(cov_matrix(X)))"
      ],
      "execution_count": null,
      "outputs": []
    },
    {
      "cell_type": "markdown",
      "metadata": {
        "id": "BZuoHlDSN4OF"
      },
      "source": [
        "NumPyのcov関数で上記の共分散行列は求めると以下のようになります。"
      ]
    },
    {
      "cell_type": "code",
      "metadata": {
        "id": "EGTW1ClQN7ya"
      },
      "source": [
        "np.cov(X, rowvar=0, ddof=0)"
      ],
      "execution_count": null,
      "outputs": []
    },
    {
      "cell_type": "markdown",
      "metadata": {
        "id": "IsDY-jXSOBe7"
      },
      "source": [
        "## Q2 主成分分析\n",
        "以下では、主成分分析により特徴量の次元縮約を行う`pca`関数を実装します。`pca`関数では第1引数に入力のデータ行列（データ数($m$)$\\times$次元数($n$))、第2引数に次元数$k$を受け取り、入力データを第2引数で指定された次元数に縮約した行列（データ数($m$)$\\times$次元数($k$))とその時の累積寄与率を返します。\n",
        "\n",
        "具体的に、`pca`関数では以下の手順により入力データの次元縮約を行います。\n",
        "\n",
        "- 各次元（特徴量）の標準化\n",
        "\n",
        "    - 入力データの各次元（特徴量）をそれぞれ平均0, 分散1に標準化する\n",
        "\n",
        "- 特徴量間の共分散行列の作成\n",
        "\n",
        "    - 標準化した特徴量間の共分散行列（$n \\times n$)を作成する\n",
        "\n",
        "- 共分散行列の固有値・固有ベクトルの計算\n",
        "\n",
        "    - 固有値・固有ベクトルの計算には`NumPy`の`np.linalg.eig`関数を用いる。`np.linalg.eig`関数の引数に以下のように行列を与えると、その行列の固有値を要素とする配列`w`とそれらの固有値に対応する固有ベクトルを列に持つ行列`v`（2次元配列）を返します。\n",
        "```Python\n",
        "w, v = np.linalg.eig(行列)\n",
        "```\n",
        "- 元のデータを$k$個の固有ベクトル（主成分）を基底とする座標で表す\n",
        "\n",
        "    - 上記で計算した固有値・固有ベクトルについて、固有ベクトルをそれが対応する固有値の大きい順に$k$個選び、それらをデータの新たな基底とします。\n",
        "\n",
        "        - 例えば、$n=4, k=2$ とし、4次元のデータを2次元に縮約するときは、固有値の大きい順に固有ベクトル$v_1, v_2$を２つ選び、元のデータ$x^{(i)}$との内積を計算することで、元のデータに対して$v_1, v_2$を新たな基底とする縮約された次元の座標$x^{(i)}_{new}$を計算できる。\n",
        "\n",
        "        - $x^{(i)}_{new}=(x^{(i)}v_1, x^{(i)}v_2)$（$v_1, v_2$を基底とする座標）\n",
        "\n",
        "    - 上記で標準化した元の入力データ行列を$X$（$x^{(1)},x^{(2)},...,x^{(m)}$を行ベクトルとする行列）とし、$k$個の固有ベクトル$v_1,v_2,...,v_k$を列ベクトルとする行列$(v_1 v_2 ... v_k)$を考えると、`pca`関数が返す$k$次元に縮約されたデータは$v_1,v_2,...,v_k$を基底した座標点として以下のように表せる。\n",
        "\n",
        "$\n",
        "    \\left(\n",
        "    \\begin{array}{c}\n",
        "      x^{(1)}_{new}  \\\\\n",
        "       x^{(2)}_{new}  \\\\\n",
        "        ...  \\\\\n",
        "         x^{(m)}_{new}  \\\\\n",
        "    \\end{array}\n",
        "  \\right)\n",
        "  =\n",
        "  \\left(\n",
        "    \\begin{array}{c}\n",
        "      x^{(1)}  \\\\\n",
        "       x^{(2)}  \\\\\n",
        "        ...  \\\\\n",
        "         x^{(m)}  \\\\\n",
        "    \\end{array}\n",
        "  \\right)\n",
        "    \\left(\n",
        "    \\begin{array}{cccc}\n",
        "      v_1 & v_2 & ... & v_k \n",
        "    \\end{array}\n",
        "  \\right)\n",
        "  =\n",
        "  \\left(\n",
        "    \\begin{array}{c}\n",
        "      x^{(1)} v_1,  x^{(1)} v_2, ..., x^{(1)} v_k \\\\\n",
        "       x^{(2)} v_1,  x^{(2)} v_2, ..., x^{(2)} v_k \\\\\n",
        "    ...  \\\\\n",
        "     x^{(m)} v_1,  x^{(m)} v_2, ..., x^{(m)} v_k \\\\ \n",
        "    \\end{array}\n",
        "  \\right)\n",
        "$\n",
        "\n",
        "- 累積寄与率の計算\n",
        "    - $k$個の固有ベクトル（主成分）までの固有値$\\lambda_i(i=1,..,k)$（分散）の和が全部の固有値（分散）$\\lambda_i(i=1,..,n)$の総和に占める以下の割合を累積寄与率と呼ぶ。`pca`関数は$k$次元に縮約されたデータとともにこの累積寄与率を返す\n",
        "\n",
        "    - $\\Sigma_{i=1}^k\\lambda_i/\\Sigma_{i=1}^n\\lambda_i$\n",
        "\n",
        "上記に従って、`pca`関数を完成させてください。"
      ]
    },
    {
      "cell_type": "code",
      "metadata": {
        "id": "dM97eYIhR-f2",
        "exercise_id": "q2",
        "inlinetests": {
          "InlineTest_2": "\ntry:\n  from sklearn.datasets import load_iris\n  iris = load_iris()\n  assert int(pca(iris['data'], 1)[1]*100) == 72, f\"'pca(X, 1)[1]' returns {pca(iris['data'], 1)[1]}, while the expected answer is 0.72...\"\n  assert int(pca(iris['data'], 2)[1]*100) == 95, f\"'pca(X, 2)[1]' returns {pca(iris['data'], 1)[2]}, while the expected answer is 0.95...\"\n  assert int(pca(iris['data'], 3)[1]*100) == 99, f\"'pca(X, 3)[1]' returns {pca(iris['data'], 1)[3]}, while the expected answer is 0.99...\"\nexcept AssertionError as e:\n    raise e\nexcept Exception as e:\n    assert False, f\"Your function raises an exception: {e}.\""
        }
      },
      "source": [
        "def pca(X, k):\n",
        "    ### 引数：\n",
        "    # X: 入力のデータ行列(データ数m*次元数n)\n",
        "    # k: 次元数\n",
        "\n",
        "    ### 1. 入力データの各列を標準化するコード（分散は標準分散としてよい）\n",
        "    \n",
        "    ### 2. 1.で標準化した入力データの列間の共分散行列を作成するコード（分散、共分散は標準分散としてよい）\n",
        "    \n",
        "    ### 3. 共分散行列の固有値・固有ベクトルを計算するコード\n",
        "      # 固有値の大きい順にk個の固有ベクトル（vの列ベクトル）は以下のように指定できる\n",
        "      # ind = np.argsort(w)[::-1] # 固有値の大きい順に並び替えた時のwのインデックス\n",
        "      # w[ind[:k]] # k個の固有値\n",
        "      # v[:, ind[:k]] # k個の固有ベクトル\n",
        "    \n",
        "    ### 4. 標準化した入力データをk個の固有ベクトルを基底とした座標で表した行列を求めるコード\n",
        "\n",
        "    ### 5. 累積寄与率を計算するコード\n",
        "    \n",
        "    return ### 4.の行列と5.の累積寄与率を返す"
      ],
      "execution_count": null,
      "outputs": []
    },
    {
      "cell_type": "markdown",
      "metadata": {
        "id": "NRLox1iNTL1-"
      },
      "source": [
        "`pca`関数が完成したら、以下のセルをそれぞれ実行して動作を確認してください。それぞれ、irisデータセットの4つの特徴量からなる特徴空間を1次元、2次元、3次元に次元縮約した結果を可視化しています。データは花の種類ごとに色分けしており、縮約された特徴空間において花の種類ごとにデータが近接していることがわかります。\n",
        "\n",
        "1次元に縮約した時の累積寄与率は約0.72ですが、2次元に縮約した時の累積寄与率は約0.95となり、データ全体の分散に対して第1と第2の主成分（固有ベクトル）の分散（固有値）が多く占めていることがわかります。"
      ]
    },
    {
      "cell_type": "code",
      "metadata": {
        "id": "GOQANKKQTUy4"
      },
      "source": [
        "D, P=pca(X, 1) # 1次元に縮約\n",
        "print(P) # 累積寄与率\n",
        "\n",
        "plt.figure(figsize=(7,5))\n",
        "plt.xlabel(\"1st Principal Component\")\n",
        "plt.scatter(D[:,0], np.zeros(D.shape[0]),c=iris.target);"
      ],
      "execution_count": null,
      "outputs": []
    },
    {
      "cell_type": "code",
      "metadata": {
        "id": "VFXZDiBvTZdk"
      },
      "source": [
        "D, P=pca(X, 2) # 2次元に縮約\n",
        "print(P) # 累積寄与率\n",
        "\n",
        "plt.figure(figsize=(7,5))\n",
        "plt.xlabel(\"1st Principal Component\")\n",
        "plt.ylabel(\"2nd Principal Component\")\n",
        "plt.scatter(D[:,0], D[:,1],c=iris.target);"
      ],
      "execution_count": null,
      "outputs": []
    },
    {
      "cell_type": "code",
      "metadata": {
        "id": "fecnu0shTcZ0"
      },
      "source": [
        "from mpl_toolkits.mplot3d import Axes3D\n",
        "\n",
        "D, P=pca(X, 3) # 3次元に縮約\n",
        "print(P) # 累積寄与率\n",
        "\n",
        "ax = Axes3D(plt.figure())\n",
        "ax.scatter(D[:,0], D[:,1], D[:,2],c=iris.target);"
      ],
      "execution_count": null,
      "outputs": []
    },
    {
      "cell_type": "markdown",
      "metadata": {
        "id": "jpWtEIhDThqQ"
      },
      "source": [
        "## 参考：scikit-learnでの主成分分析"
      ]
    },
    {
      "cell_type": "code",
      "metadata": {
        "id": "L5fztaHUTlWH"
      },
      "source": [
        "from sklearn.decomposition import PCA\n",
        "from sklearn.preprocessing import StandardScaler\n",
        "from sklearn.datasets import load_iris\n",
        "\n",
        "iris = load_iris() \n",
        "\n",
        "# 標準化\n",
        "scaler = StandardScaler()\n",
        "X = scaler.fit_transform(iris['data'])\n",
        "\n",
        "model = PCA(n_components=2) # 2次元に縮約\n",
        "model.fit(X) \n",
        "D=model.transform(X) \n",
        "print(np.sum(model.explained_variance_ratio_)) # 累積寄与率\n",
        "\n",
        "plt.figure(figsize=(7,5))\n",
        "plt.xlabel(\"1st Principal Component\")\n",
        "plt.ylabel(\"2nd Principal Component\")\n",
        "plt.scatter(D[:,0], D[:,1],c=iris.target);"
      ],
      "execution_count": null,
      "outputs": []
    },
    {
      "cell_type": "code",
      "metadata": {
        "id": "FQupnZmFTrIy"
      },
      "source": [
        "from mpl_toolkits.mplot3d import Axes3D\n",
        "\n",
        "model = PCA(n_components=3) # 3次元に縮約\n",
        "model.fit(X) \n",
        "D=model.transform(X) \n",
        "print(np.sum(model.explained_variance_ratio_)) # 累積寄与率\n",
        "\n",
        "ax = Axes3D(plt.figure())\n",
        "ax.scatter(D[:,0], D[:,1], D[:,2],c=iris.target);"
      ],
      "execution_count": null,
      "outputs": []
    },
    {
      "cell_type": "markdown",
      "metadata": {
        "id": "8ckC0-kdL6P2"
      },
      "source": [
        "## コードのテスト\n",
        "以下の実行ボタンを押してから、設問ごとにCheck関数でコードのテストをしてください。"
      ]
    },
    {
      "cell_type": "code",
      "metadata": {
        "id": "urKm5bZBL8zv"
      },
      "source": [
        "## コードのテストの前にこのセルを実行してください\n",
        "!pip install prog_edu_assistant_tools\n",
        "import re\n",
        "import sys\n",
        "import jinja2\n",
        "from IPython.core import display\n",
        "from google.colab import _message as google_message\n",
        "from prog_edu_assistant_tools.magics import report, autotest, CaptureOutput\n",
        "from prog_edu_assistant_tools.check import Check"
      ],
      "execution_count": null,
      "outputs": []
    },
    {
      "cell_type": "markdown",
      "metadata": {
        "id": "OLtkgtAjMMh_"
      },
      "source": [
        "## Q1"
      ]
    },
    {
      "cell_type": "code",
      "metadata": {
        "id": "78hAv5-nMNrk"
      },
      "source": [
        "# Run this cell to check your solution.\n",
        "# If you get an error 'Check not defined', make sure you have run all preceding\n",
        "# cells once (Runtime -> Run before)\n",
        "Check('q1')"
      ],
      "execution_count": null,
      "outputs": []
    },
    {
      "cell_type": "markdown",
      "metadata": {
        "id": "WkehHbIaMRCx"
      },
      "source": [
        "## Q2"
      ]
    },
    {
      "cell_type": "code",
      "metadata": {
        "id": "O7Gr0aiVMR-r"
      },
      "source": [
        "# Run this cell to check your solution.\n",
        "# If you get an error 'Check not defined', make sure you have run all preceding\n",
        "# cells once (Runtime -> Run before)\n",
        "Check('q2')"
      ],
      "execution_count": null,
      "outputs": []
    }
  ]
}
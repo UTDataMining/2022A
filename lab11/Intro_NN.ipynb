{
  "nbformat": 4,
  "nbformat_minor": 0,
  "metadata": {
    "colab": {
      "name": "Intro_NN.ipynb",
      "provenance": [],
      "include_colab_link": true
    },
    "kernelspec": {
      "name": "python3",
      "display_name": "Python 3"
    },
    "accelerator": "GPU",
    "widgets": {
      "application/vnd.jupyter.widget-state+json": {
        "e7ddc802f828475d8b3b911488c58079": {
          "model_module": "@jupyter-widgets/controls",
          "model_name": "HBoxModel",
          "model_module_version": "1.5.0",
          "state": {
            "_dom_classes": [],
            "_model_module": "@jupyter-widgets/controls",
            "_model_module_version": "1.5.0",
            "_model_name": "HBoxModel",
            "_view_count": null,
            "_view_module": "@jupyter-widgets/controls",
            "_view_module_version": "1.5.0",
            "_view_name": "HBoxView",
            "box_style": "",
            "children": [
              "IPY_MODEL_23ffa45796c44f8b88360f85e2cf0dde",
              "IPY_MODEL_6e4bda4a98dd43df83398442ae9c0e16",
              "IPY_MODEL_a30548bf96014b33aa216512af6e8dee"
            ],
            "layout": "IPY_MODEL_e37fb1455fb54a4bbd16e89eab80ce0f"
          }
        },
        "23ffa45796c44f8b88360f85e2cf0dde": {
          "model_module": "@jupyter-widgets/controls",
          "model_name": "HTMLModel",
          "model_module_version": "1.5.0",
          "state": {
            "_dom_classes": [],
            "_model_module": "@jupyter-widgets/controls",
            "_model_module_version": "1.5.0",
            "_model_name": "HTMLModel",
            "_view_count": null,
            "_view_module": "@jupyter-widgets/controls",
            "_view_module_version": "1.5.0",
            "_view_name": "HTMLView",
            "description": "",
            "description_tooltip": null,
            "layout": "IPY_MODEL_9f1cd80da4164fd0b1a2d9c320f5b71a",
            "placeholder": "​",
            "style": "IPY_MODEL_64ad7371883143d1b4a28fd6687651f4",
            "value": "100%"
          }
        },
        "6e4bda4a98dd43df83398442ae9c0e16": {
          "model_module": "@jupyter-widgets/controls",
          "model_name": "FloatProgressModel",
          "model_module_version": "1.5.0",
          "state": {
            "_dom_classes": [],
            "_model_module": "@jupyter-widgets/controls",
            "_model_module_version": "1.5.0",
            "_model_name": "FloatProgressModel",
            "_view_count": null,
            "_view_module": "@jupyter-widgets/controls",
            "_view_module_version": "1.5.0",
            "_view_name": "ProgressView",
            "bar_style": "success",
            "description": "",
            "description_tooltip": null,
            "layout": "IPY_MODEL_38480f2d83064eae804c7f3b9de44f02",
            "max": 9912422,
            "min": 0,
            "orientation": "horizontal",
            "style": "IPY_MODEL_58e7e545900d48af8ed2ba48ecad9ef4",
            "value": 9912422
          }
        },
        "a30548bf96014b33aa216512af6e8dee": {
          "model_module": "@jupyter-widgets/controls",
          "model_name": "HTMLModel",
          "model_module_version": "1.5.0",
          "state": {
            "_dom_classes": [],
            "_model_module": "@jupyter-widgets/controls",
            "_model_module_version": "1.5.0",
            "_model_name": "HTMLModel",
            "_view_count": null,
            "_view_module": "@jupyter-widgets/controls",
            "_view_module_version": "1.5.0",
            "_view_name": "HTMLView",
            "description": "",
            "description_tooltip": null,
            "layout": "IPY_MODEL_87607aa927564507898d25498546e1ed",
            "placeholder": "​",
            "style": "IPY_MODEL_18c9b96160a344649c8613fd8acea798",
            "value": " 9912422/9912422 [00:00&lt;00:00, 20072356.06it/s]"
          }
        },
        "e37fb1455fb54a4bbd16e89eab80ce0f": {
          "model_module": "@jupyter-widgets/base",
          "model_name": "LayoutModel",
          "model_module_version": "1.2.0",
          "state": {
            "_model_module": "@jupyter-widgets/base",
            "_model_module_version": "1.2.0",
            "_model_name": "LayoutModel",
            "_view_count": null,
            "_view_module": "@jupyter-widgets/base",
            "_view_module_version": "1.2.0",
            "_view_name": "LayoutView",
            "align_content": null,
            "align_items": null,
            "align_self": null,
            "border": null,
            "bottom": null,
            "display": null,
            "flex": null,
            "flex_flow": null,
            "grid_area": null,
            "grid_auto_columns": null,
            "grid_auto_flow": null,
            "grid_auto_rows": null,
            "grid_column": null,
            "grid_gap": null,
            "grid_row": null,
            "grid_template_areas": null,
            "grid_template_columns": null,
            "grid_template_rows": null,
            "height": null,
            "justify_content": null,
            "justify_items": null,
            "left": null,
            "margin": null,
            "max_height": null,
            "max_width": null,
            "min_height": null,
            "min_width": null,
            "object_fit": null,
            "object_position": null,
            "order": null,
            "overflow": null,
            "overflow_x": null,
            "overflow_y": null,
            "padding": null,
            "right": null,
            "top": null,
            "visibility": null,
            "width": null
          }
        },
        "9f1cd80da4164fd0b1a2d9c320f5b71a": {
          "model_module": "@jupyter-widgets/base",
          "model_name": "LayoutModel",
          "model_module_version": "1.2.0",
          "state": {
            "_model_module": "@jupyter-widgets/base",
            "_model_module_version": "1.2.0",
            "_model_name": "LayoutModel",
            "_view_count": null,
            "_view_module": "@jupyter-widgets/base",
            "_view_module_version": "1.2.0",
            "_view_name": "LayoutView",
            "align_content": null,
            "align_items": null,
            "align_self": null,
            "border": null,
            "bottom": null,
            "display": null,
            "flex": null,
            "flex_flow": null,
            "grid_area": null,
            "grid_auto_columns": null,
            "grid_auto_flow": null,
            "grid_auto_rows": null,
            "grid_column": null,
            "grid_gap": null,
            "grid_row": null,
            "grid_template_areas": null,
            "grid_template_columns": null,
            "grid_template_rows": null,
            "height": null,
            "justify_content": null,
            "justify_items": null,
            "left": null,
            "margin": null,
            "max_height": null,
            "max_width": null,
            "min_height": null,
            "min_width": null,
            "object_fit": null,
            "object_position": null,
            "order": null,
            "overflow": null,
            "overflow_x": null,
            "overflow_y": null,
            "padding": null,
            "right": null,
            "top": null,
            "visibility": null,
            "width": null
          }
        },
        "64ad7371883143d1b4a28fd6687651f4": {
          "model_module": "@jupyter-widgets/controls",
          "model_name": "DescriptionStyleModel",
          "model_module_version": "1.5.0",
          "state": {
            "_model_module": "@jupyter-widgets/controls",
            "_model_module_version": "1.5.0",
            "_model_name": "DescriptionStyleModel",
            "_view_count": null,
            "_view_module": "@jupyter-widgets/base",
            "_view_module_version": "1.2.0",
            "_view_name": "StyleView",
            "description_width": ""
          }
        },
        "38480f2d83064eae804c7f3b9de44f02": {
          "model_module": "@jupyter-widgets/base",
          "model_name": "LayoutModel",
          "model_module_version": "1.2.0",
          "state": {
            "_model_module": "@jupyter-widgets/base",
            "_model_module_version": "1.2.0",
            "_model_name": "LayoutModel",
            "_view_count": null,
            "_view_module": "@jupyter-widgets/base",
            "_view_module_version": "1.2.0",
            "_view_name": "LayoutView",
            "align_content": null,
            "align_items": null,
            "align_self": null,
            "border": null,
            "bottom": null,
            "display": null,
            "flex": null,
            "flex_flow": null,
            "grid_area": null,
            "grid_auto_columns": null,
            "grid_auto_flow": null,
            "grid_auto_rows": null,
            "grid_column": null,
            "grid_gap": null,
            "grid_row": null,
            "grid_template_areas": null,
            "grid_template_columns": null,
            "grid_template_rows": null,
            "height": null,
            "justify_content": null,
            "justify_items": null,
            "left": null,
            "margin": null,
            "max_height": null,
            "max_width": null,
            "min_height": null,
            "min_width": null,
            "object_fit": null,
            "object_position": null,
            "order": null,
            "overflow": null,
            "overflow_x": null,
            "overflow_y": null,
            "padding": null,
            "right": null,
            "top": null,
            "visibility": null,
            "width": null
          }
        },
        "58e7e545900d48af8ed2ba48ecad9ef4": {
          "model_module": "@jupyter-widgets/controls",
          "model_name": "ProgressStyleModel",
          "model_module_version": "1.5.0",
          "state": {
            "_model_module": "@jupyter-widgets/controls",
            "_model_module_version": "1.5.0",
            "_model_name": "ProgressStyleModel",
            "_view_count": null,
            "_view_module": "@jupyter-widgets/base",
            "_view_module_version": "1.2.0",
            "_view_name": "StyleView",
            "bar_color": null,
            "description_width": ""
          }
        },
        "87607aa927564507898d25498546e1ed": {
          "model_module": "@jupyter-widgets/base",
          "model_name": "LayoutModel",
          "model_module_version": "1.2.0",
          "state": {
            "_model_module": "@jupyter-widgets/base",
            "_model_module_version": "1.2.0",
            "_model_name": "LayoutModel",
            "_view_count": null,
            "_view_module": "@jupyter-widgets/base",
            "_view_module_version": "1.2.0",
            "_view_name": "LayoutView",
            "align_content": null,
            "align_items": null,
            "align_self": null,
            "border": null,
            "bottom": null,
            "display": null,
            "flex": null,
            "flex_flow": null,
            "grid_area": null,
            "grid_auto_columns": null,
            "grid_auto_flow": null,
            "grid_auto_rows": null,
            "grid_column": null,
            "grid_gap": null,
            "grid_row": null,
            "grid_template_areas": null,
            "grid_template_columns": null,
            "grid_template_rows": null,
            "height": null,
            "justify_content": null,
            "justify_items": null,
            "left": null,
            "margin": null,
            "max_height": null,
            "max_width": null,
            "min_height": null,
            "min_width": null,
            "object_fit": null,
            "object_position": null,
            "order": null,
            "overflow": null,
            "overflow_x": null,
            "overflow_y": null,
            "padding": null,
            "right": null,
            "top": null,
            "visibility": null,
            "width": null
          }
        },
        "18c9b96160a344649c8613fd8acea798": {
          "model_module": "@jupyter-widgets/controls",
          "model_name": "DescriptionStyleModel",
          "model_module_version": "1.5.0",
          "state": {
            "_model_module": "@jupyter-widgets/controls",
            "_model_module_version": "1.5.0",
            "_model_name": "DescriptionStyleModel",
            "_view_count": null,
            "_view_module": "@jupyter-widgets/base",
            "_view_module_version": "1.2.0",
            "_view_name": "StyleView",
            "description_width": ""
          }
        },
        "6597bb717f8e4e1bb11fd7e7d8b4c1c1": {
          "model_module": "@jupyter-widgets/controls",
          "model_name": "HBoxModel",
          "model_module_version": "1.5.0",
          "state": {
            "_dom_classes": [],
            "_model_module": "@jupyter-widgets/controls",
            "_model_module_version": "1.5.0",
            "_model_name": "HBoxModel",
            "_view_count": null,
            "_view_module": "@jupyter-widgets/controls",
            "_view_module_version": "1.5.0",
            "_view_name": "HBoxView",
            "box_style": "",
            "children": [
              "IPY_MODEL_56f8b56eb929419c894b5e15e48e2771",
              "IPY_MODEL_8d47337ed9e84195b1e044c43094913c",
              "IPY_MODEL_19caaa8d8f554417b8ad21eddd8c61e7"
            ],
            "layout": "IPY_MODEL_e2171dd428da4377b19914211fab34fe"
          }
        },
        "56f8b56eb929419c894b5e15e48e2771": {
          "model_module": "@jupyter-widgets/controls",
          "model_name": "HTMLModel",
          "model_module_version": "1.5.0",
          "state": {
            "_dom_classes": [],
            "_model_module": "@jupyter-widgets/controls",
            "_model_module_version": "1.5.0",
            "_model_name": "HTMLModel",
            "_view_count": null,
            "_view_module": "@jupyter-widgets/controls",
            "_view_module_version": "1.5.0",
            "_view_name": "HTMLView",
            "description": "",
            "description_tooltip": null,
            "layout": "IPY_MODEL_2f5ff0546d564e009212bdb0278d6ee5",
            "placeholder": "​",
            "style": "IPY_MODEL_a1df18ea23fa4429bf2c503067aaa241",
            "value": "100%"
          }
        },
        "8d47337ed9e84195b1e044c43094913c": {
          "model_module": "@jupyter-widgets/controls",
          "model_name": "FloatProgressModel",
          "model_module_version": "1.5.0",
          "state": {
            "_dom_classes": [],
            "_model_module": "@jupyter-widgets/controls",
            "_model_module_version": "1.5.0",
            "_model_name": "FloatProgressModel",
            "_view_count": null,
            "_view_module": "@jupyter-widgets/controls",
            "_view_module_version": "1.5.0",
            "_view_name": "ProgressView",
            "bar_style": "success",
            "description": "",
            "description_tooltip": null,
            "layout": "IPY_MODEL_0a6465e6cd37417d9a059d6631f03cd6",
            "max": 28881,
            "min": 0,
            "orientation": "horizontal",
            "style": "IPY_MODEL_76d562d764c24d94b86169355aeea90f",
            "value": 28881
          }
        },
        "19caaa8d8f554417b8ad21eddd8c61e7": {
          "model_module": "@jupyter-widgets/controls",
          "model_name": "HTMLModel",
          "model_module_version": "1.5.0",
          "state": {
            "_dom_classes": [],
            "_model_module": "@jupyter-widgets/controls",
            "_model_module_version": "1.5.0",
            "_model_name": "HTMLModel",
            "_view_count": null,
            "_view_module": "@jupyter-widgets/controls",
            "_view_module_version": "1.5.0",
            "_view_name": "HTMLView",
            "description": "",
            "description_tooltip": null,
            "layout": "IPY_MODEL_a6b246abe8244255ab5edcc24e5e586d",
            "placeholder": "​",
            "style": "IPY_MODEL_33dc6608ff784e1e9a1bea95539a4904",
            "value": " 28881/28881 [00:00&lt;00:00, 1940748.42it/s]"
          }
        },
        "e2171dd428da4377b19914211fab34fe": {
          "model_module": "@jupyter-widgets/base",
          "model_name": "LayoutModel",
          "model_module_version": "1.2.0",
          "state": {
            "_model_module": "@jupyter-widgets/base",
            "_model_module_version": "1.2.0",
            "_model_name": "LayoutModel",
            "_view_count": null,
            "_view_module": "@jupyter-widgets/base",
            "_view_module_version": "1.2.0",
            "_view_name": "LayoutView",
            "align_content": null,
            "align_items": null,
            "align_self": null,
            "border": null,
            "bottom": null,
            "display": null,
            "flex": null,
            "flex_flow": null,
            "grid_area": null,
            "grid_auto_columns": null,
            "grid_auto_flow": null,
            "grid_auto_rows": null,
            "grid_column": null,
            "grid_gap": null,
            "grid_row": null,
            "grid_template_areas": null,
            "grid_template_columns": null,
            "grid_template_rows": null,
            "height": null,
            "justify_content": null,
            "justify_items": null,
            "left": null,
            "margin": null,
            "max_height": null,
            "max_width": null,
            "min_height": null,
            "min_width": null,
            "object_fit": null,
            "object_position": null,
            "order": null,
            "overflow": null,
            "overflow_x": null,
            "overflow_y": null,
            "padding": null,
            "right": null,
            "top": null,
            "visibility": null,
            "width": null
          }
        },
        "2f5ff0546d564e009212bdb0278d6ee5": {
          "model_module": "@jupyter-widgets/base",
          "model_name": "LayoutModel",
          "model_module_version": "1.2.0",
          "state": {
            "_model_module": "@jupyter-widgets/base",
            "_model_module_version": "1.2.0",
            "_model_name": "LayoutModel",
            "_view_count": null,
            "_view_module": "@jupyter-widgets/base",
            "_view_module_version": "1.2.0",
            "_view_name": "LayoutView",
            "align_content": null,
            "align_items": null,
            "align_self": null,
            "border": null,
            "bottom": null,
            "display": null,
            "flex": null,
            "flex_flow": null,
            "grid_area": null,
            "grid_auto_columns": null,
            "grid_auto_flow": null,
            "grid_auto_rows": null,
            "grid_column": null,
            "grid_gap": null,
            "grid_row": null,
            "grid_template_areas": null,
            "grid_template_columns": null,
            "grid_template_rows": null,
            "height": null,
            "justify_content": null,
            "justify_items": null,
            "left": null,
            "margin": null,
            "max_height": null,
            "max_width": null,
            "min_height": null,
            "min_width": null,
            "object_fit": null,
            "object_position": null,
            "order": null,
            "overflow": null,
            "overflow_x": null,
            "overflow_y": null,
            "padding": null,
            "right": null,
            "top": null,
            "visibility": null,
            "width": null
          }
        },
        "a1df18ea23fa4429bf2c503067aaa241": {
          "model_module": "@jupyter-widgets/controls",
          "model_name": "DescriptionStyleModel",
          "model_module_version": "1.5.0",
          "state": {
            "_model_module": "@jupyter-widgets/controls",
            "_model_module_version": "1.5.0",
            "_model_name": "DescriptionStyleModel",
            "_view_count": null,
            "_view_module": "@jupyter-widgets/base",
            "_view_module_version": "1.2.0",
            "_view_name": "StyleView",
            "description_width": ""
          }
        },
        "0a6465e6cd37417d9a059d6631f03cd6": {
          "model_module": "@jupyter-widgets/base",
          "model_name": "LayoutModel",
          "model_module_version": "1.2.0",
          "state": {
            "_model_module": "@jupyter-widgets/base",
            "_model_module_version": "1.2.0",
            "_model_name": "LayoutModel",
            "_view_count": null,
            "_view_module": "@jupyter-widgets/base",
            "_view_module_version": "1.2.0",
            "_view_name": "LayoutView",
            "align_content": null,
            "align_items": null,
            "align_self": null,
            "border": null,
            "bottom": null,
            "display": null,
            "flex": null,
            "flex_flow": null,
            "grid_area": null,
            "grid_auto_columns": null,
            "grid_auto_flow": null,
            "grid_auto_rows": null,
            "grid_column": null,
            "grid_gap": null,
            "grid_row": null,
            "grid_template_areas": null,
            "grid_template_columns": null,
            "grid_template_rows": null,
            "height": null,
            "justify_content": null,
            "justify_items": null,
            "left": null,
            "margin": null,
            "max_height": null,
            "max_width": null,
            "min_height": null,
            "min_width": null,
            "object_fit": null,
            "object_position": null,
            "order": null,
            "overflow": null,
            "overflow_x": null,
            "overflow_y": null,
            "padding": null,
            "right": null,
            "top": null,
            "visibility": null,
            "width": null
          }
        },
        "76d562d764c24d94b86169355aeea90f": {
          "model_module": "@jupyter-widgets/controls",
          "model_name": "ProgressStyleModel",
          "model_module_version": "1.5.0",
          "state": {
            "_model_module": "@jupyter-widgets/controls",
            "_model_module_version": "1.5.0",
            "_model_name": "ProgressStyleModel",
            "_view_count": null,
            "_view_module": "@jupyter-widgets/base",
            "_view_module_version": "1.2.0",
            "_view_name": "StyleView",
            "bar_color": null,
            "description_width": ""
          }
        },
        "a6b246abe8244255ab5edcc24e5e586d": {
          "model_module": "@jupyter-widgets/base",
          "model_name": "LayoutModel",
          "model_module_version": "1.2.0",
          "state": {
            "_model_module": "@jupyter-widgets/base",
            "_model_module_version": "1.2.0",
            "_model_name": "LayoutModel",
            "_view_count": null,
            "_view_module": "@jupyter-widgets/base",
            "_view_module_version": "1.2.0",
            "_view_name": "LayoutView",
            "align_content": null,
            "align_items": null,
            "align_self": null,
            "border": null,
            "bottom": null,
            "display": null,
            "flex": null,
            "flex_flow": null,
            "grid_area": null,
            "grid_auto_columns": null,
            "grid_auto_flow": null,
            "grid_auto_rows": null,
            "grid_column": null,
            "grid_gap": null,
            "grid_row": null,
            "grid_template_areas": null,
            "grid_template_columns": null,
            "grid_template_rows": null,
            "height": null,
            "justify_content": null,
            "justify_items": null,
            "left": null,
            "margin": null,
            "max_height": null,
            "max_width": null,
            "min_height": null,
            "min_width": null,
            "object_fit": null,
            "object_position": null,
            "order": null,
            "overflow": null,
            "overflow_x": null,
            "overflow_y": null,
            "padding": null,
            "right": null,
            "top": null,
            "visibility": null,
            "width": null
          }
        },
        "33dc6608ff784e1e9a1bea95539a4904": {
          "model_module": "@jupyter-widgets/controls",
          "model_name": "DescriptionStyleModel",
          "model_module_version": "1.5.0",
          "state": {
            "_model_module": "@jupyter-widgets/controls",
            "_model_module_version": "1.5.0",
            "_model_name": "DescriptionStyleModel",
            "_view_count": null,
            "_view_module": "@jupyter-widgets/base",
            "_view_module_version": "1.2.0",
            "_view_name": "StyleView",
            "description_width": ""
          }
        },
        "624022b035054e669bb8c526a506c46d": {
          "model_module": "@jupyter-widgets/controls",
          "model_name": "HBoxModel",
          "model_module_version": "1.5.0",
          "state": {
            "_dom_classes": [],
            "_model_module": "@jupyter-widgets/controls",
            "_model_module_version": "1.5.0",
            "_model_name": "HBoxModel",
            "_view_count": null,
            "_view_module": "@jupyter-widgets/controls",
            "_view_module_version": "1.5.0",
            "_view_name": "HBoxView",
            "box_style": "",
            "children": [
              "IPY_MODEL_5929e19a686e444e80c1d7771156ce3a",
              "IPY_MODEL_5536ab6b16914811bae667ccbbb6ac6b",
              "IPY_MODEL_3714288a24294f91a09365abbef9efd3"
            ],
            "layout": "IPY_MODEL_1ac42146a7204b32a62cf7ce04f7bb72"
          }
        },
        "5929e19a686e444e80c1d7771156ce3a": {
          "model_module": "@jupyter-widgets/controls",
          "model_name": "HTMLModel",
          "model_module_version": "1.5.0",
          "state": {
            "_dom_classes": [],
            "_model_module": "@jupyter-widgets/controls",
            "_model_module_version": "1.5.0",
            "_model_name": "HTMLModel",
            "_view_count": null,
            "_view_module": "@jupyter-widgets/controls",
            "_view_module_version": "1.5.0",
            "_view_name": "HTMLView",
            "description": "",
            "description_tooltip": null,
            "layout": "IPY_MODEL_6c39a0d4b43e4a6bb1bf7ccf5cf4c9de",
            "placeholder": "​",
            "style": "IPY_MODEL_bd3cb44720484f6e8f47fe284f518f65",
            "value": "100%"
          }
        },
        "5536ab6b16914811bae667ccbbb6ac6b": {
          "model_module": "@jupyter-widgets/controls",
          "model_name": "FloatProgressModel",
          "model_module_version": "1.5.0",
          "state": {
            "_dom_classes": [],
            "_model_module": "@jupyter-widgets/controls",
            "_model_module_version": "1.5.0",
            "_model_name": "FloatProgressModel",
            "_view_count": null,
            "_view_module": "@jupyter-widgets/controls",
            "_view_module_version": "1.5.0",
            "_view_name": "ProgressView",
            "bar_style": "success",
            "description": "",
            "description_tooltip": null,
            "layout": "IPY_MODEL_4032be17ffbb4ae18ec758ac962254fd",
            "max": 1648877,
            "min": 0,
            "orientation": "horizontal",
            "style": "IPY_MODEL_0b38aca33fe24ad1a6b902addcecef00",
            "value": 1648877
          }
        },
        "3714288a24294f91a09365abbef9efd3": {
          "model_module": "@jupyter-widgets/controls",
          "model_name": "HTMLModel",
          "model_module_version": "1.5.0",
          "state": {
            "_dom_classes": [],
            "_model_module": "@jupyter-widgets/controls",
            "_model_module_version": "1.5.0",
            "_model_name": "HTMLModel",
            "_view_count": null,
            "_view_module": "@jupyter-widgets/controls",
            "_view_module_version": "1.5.0",
            "_view_name": "HTMLView",
            "description": "",
            "description_tooltip": null,
            "layout": "IPY_MODEL_ffc9154328884285a2a985716b0f0603",
            "placeholder": "​",
            "style": "IPY_MODEL_ed75af87ed6144178be9718b97f431df",
            "value": " 1648877/1648877 [00:00&lt;00:00, 20513411.04it/s]"
          }
        },
        "1ac42146a7204b32a62cf7ce04f7bb72": {
          "model_module": "@jupyter-widgets/base",
          "model_name": "LayoutModel",
          "model_module_version": "1.2.0",
          "state": {
            "_model_module": "@jupyter-widgets/base",
            "_model_module_version": "1.2.0",
            "_model_name": "LayoutModel",
            "_view_count": null,
            "_view_module": "@jupyter-widgets/base",
            "_view_module_version": "1.2.0",
            "_view_name": "LayoutView",
            "align_content": null,
            "align_items": null,
            "align_self": null,
            "border": null,
            "bottom": null,
            "display": null,
            "flex": null,
            "flex_flow": null,
            "grid_area": null,
            "grid_auto_columns": null,
            "grid_auto_flow": null,
            "grid_auto_rows": null,
            "grid_column": null,
            "grid_gap": null,
            "grid_row": null,
            "grid_template_areas": null,
            "grid_template_columns": null,
            "grid_template_rows": null,
            "height": null,
            "justify_content": null,
            "justify_items": null,
            "left": null,
            "margin": null,
            "max_height": null,
            "max_width": null,
            "min_height": null,
            "min_width": null,
            "object_fit": null,
            "object_position": null,
            "order": null,
            "overflow": null,
            "overflow_x": null,
            "overflow_y": null,
            "padding": null,
            "right": null,
            "top": null,
            "visibility": null,
            "width": null
          }
        },
        "6c39a0d4b43e4a6bb1bf7ccf5cf4c9de": {
          "model_module": "@jupyter-widgets/base",
          "model_name": "LayoutModel",
          "model_module_version": "1.2.0",
          "state": {
            "_model_module": "@jupyter-widgets/base",
            "_model_module_version": "1.2.0",
            "_model_name": "LayoutModel",
            "_view_count": null,
            "_view_module": "@jupyter-widgets/base",
            "_view_module_version": "1.2.0",
            "_view_name": "LayoutView",
            "align_content": null,
            "align_items": null,
            "align_self": null,
            "border": null,
            "bottom": null,
            "display": null,
            "flex": null,
            "flex_flow": null,
            "grid_area": null,
            "grid_auto_columns": null,
            "grid_auto_flow": null,
            "grid_auto_rows": null,
            "grid_column": null,
            "grid_gap": null,
            "grid_row": null,
            "grid_template_areas": null,
            "grid_template_columns": null,
            "grid_template_rows": null,
            "height": null,
            "justify_content": null,
            "justify_items": null,
            "left": null,
            "margin": null,
            "max_height": null,
            "max_width": null,
            "min_height": null,
            "min_width": null,
            "object_fit": null,
            "object_position": null,
            "order": null,
            "overflow": null,
            "overflow_x": null,
            "overflow_y": null,
            "padding": null,
            "right": null,
            "top": null,
            "visibility": null,
            "width": null
          }
        },
        "bd3cb44720484f6e8f47fe284f518f65": {
          "model_module": "@jupyter-widgets/controls",
          "model_name": "DescriptionStyleModel",
          "model_module_version": "1.5.0",
          "state": {
            "_model_module": "@jupyter-widgets/controls",
            "_model_module_version": "1.5.0",
            "_model_name": "DescriptionStyleModel",
            "_view_count": null,
            "_view_module": "@jupyter-widgets/base",
            "_view_module_version": "1.2.0",
            "_view_name": "StyleView",
            "description_width": ""
          }
        },
        "4032be17ffbb4ae18ec758ac962254fd": {
          "model_module": "@jupyter-widgets/base",
          "model_name": "LayoutModel",
          "model_module_version": "1.2.0",
          "state": {
            "_model_module": "@jupyter-widgets/base",
            "_model_module_version": "1.2.0",
            "_model_name": "LayoutModel",
            "_view_count": null,
            "_view_module": "@jupyter-widgets/base",
            "_view_module_version": "1.2.0",
            "_view_name": "LayoutView",
            "align_content": null,
            "align_items": null,
            "align_self": null,
            "border": null,
            "bottom": null,
            "display": null,
            "flex": null,
            "flex_flow": null,
            "grid_area": null,
            "grid_auto_columns": null,
            "grid_auto_flow": null,
            "grid_auto_rows": null,
            "grid_column": null,
            "grid_gap": null,
            "grid_row": null,
            "grid_template_areas": null,
            "grid_template_columns": null,
            "grid_template_rows": null,
            "height": null,
            "justify_content": null,
            "justify_items": null,
            "left": null,
            "margin": null,
            "max_height": null,
            "max_width": null,
            "min_height": null,
            "min_width": null,
            "object_fit": null,
            "object_position": null,
            "order": null,
            "overflow": null,
            "overflow_x": null,
            "overflow_y": null,
            "padding": null,
            "right": null,
            "top": null,
            "visibility": null,
            "width": null
          }
        },
        "0b38aca33fe24ad1a6b902addcecef00": {
          "model_module": "@jupyter-widgets/controls",
          "model_name": "ProgressStyleModel",
          "model_module_version": "1.5.0",
          "state": {
            "_model_module": "@jupyter-widgets/controls",
            "_model_module_version": "1.5.0",
            "_model_name": "ProgressStyleModel",
            "_view_count": null,
            "_view_module": "@jupyter-widgets/base",
            "_view_module_version": "1.2.0",
            "_view_name": "StyleView",
            "bar_color": null,
            "description_width": ""
          }
        },
        "ffc9154328884285a2a985716b0f0603": {
          "model_module": "@jupyter-widgets/base",
          "model_name": "LayoutModel",
          "model_module_version": "1.2.0",
          "state": {
            "_model_module": "@jupyter-widgets/base",
            "_model_module_version": "1.2.0",
            "_model_name": "LayoutModel",
            "_view_count": null,
            "_view_module": "@jupyter-widgets/base",
            "_view_module_version": "1.2.0",
            "_view_name": "LayoutView",
            "align_content": null,
            "align_items": null,
            "align_self": null,
            "border": null,
            "bottom": null,
            "display": null,
            "flex": null,
            "flex_flow": null,
            "grid_area": null,
            "grid_auto_columns": null,
            "grid_auto_flow": null,
            "grid_auto_rows": null,
            "grid_column": null,
            "grid_gap": null,
            "grid_row": null,
            "grid_template_areas": null,
            "grid_template_columns": null,
            "grid_template_rows": null,
            "height": null,
            "justify_content": null,
            "justify_items": null,
            "left": null,
            "margin": null,
            "max_height": null,
            "max_width": null,
            "min_height": null,
            "min_width": null,
            "object_fit": null,
            "object_position": null,
            "order": null,
            "overflow": null,
            "overflow_x": null,
            "overflow_y": null,
            "padding": null,
            "right": null,
            "top": null,
            "visibility": null,
            "width": null
          }
        },
        "ed75af87ed6144178be9718b97f431df": {
          "model_module": "@jupyter-widgets/controls",
          "model_name": "DescriptionStyleModel",
          "model_module_version": "1.5.0",
          "state": {
            "_model_module": "@jupyter-widgets/controls",
            "_model_module_version": "1.5.0",
            "_model_name": "DescriptionStyleModel",
            "_view_count": null,
            "_view_module": "@jupyter-widgets/base",
            "_view_module_version": "1.2.0",
            "_view_name": "StyleView",
            "description_width": ""
          }
        },
        "648f0c36a2fa455a931b2b63f103920d": {
          "model_module": "@jupyter-widgets/controls",
          "model_name": "HBoxModel",
          "model_module_version": "1.5.0",
          "state": {
            "_dom_classes": [],
            "_model_module": "@jupyter-widgets/controls",
            "_model_module_version": "1.5.0",
            "_model_name": "HBoxModel",
            "_view_count": null,
            "_view_module": "@jupyter-widgets/controls",
            "_view_module_version": "1.5.0",
            "_view_name": "HBoxView",
            "box_style": "",
            "children": [
              "IPY_MODEL_51c44e3bc34444b28a0ff19c94dd4f9d",
              "IPY_MODEL_68d65df73e51405eadbb1cad1e6c6cf4",
              "IPY_MODEL_c5d24f50e74f4bd390dbf4ae16e331d2"
            ],
            "layout": "IPY_MODEL_ddce5d21b1944dc7b525616b14dee79e"
          }
        },
        "51c44e3bc34444b28a0ff19c94dd4f9d": {
          "model_module": "@jupyter-widgets/controls",
          "model_name": "HTMLModel",
          "model_module_version": "1.5.0",
          "state": {
            "_dom_classes": [],
            "_model_module": "@jupyter-widgets/controls",
            "_model_module_version": "1.5.0",
            "_model_name": "HTMLModel",
            "_view_count": null,
            "_view_module": "@jupyter-widgets/controls",
            "_view_module_version": "1.5.0",
            "_view_name": "HTMLView",
            "description": "",
            "description_tooltip": null,
            "layout": "IPY_MODEL_4c79c2efdd0f49ca9286d3033d3a656e",
            "placeholder": "​",
            "style": "IPY_MODEL_6ba531ccb7d34be3acb498a074a9124f",
            "value": "100%"
          }
        },
        "68d65df73e51405eadbb1cad1e6c6cf4": {
          "model_module": "@jupyter-widgets/controls",
          "model_name": "FloatProgressModel",
          "model_module_version": "1.5.0",
          "state": {
            "_dom_classes": [],
            "_model_module": "@jupyter-widgets/controls",
            "_model_module_version": "1.5.0",
            "_model_name": "FloatProgressModel",
            "_view_count": null,
            "_view_module": "@jupyter-widgets/controls",
            "_view_module_version": "1.5.0",
            "_view_name": "ProgressView",
            "bar_style": "success",
            "description": "",
            "description_tooltip": null,
            "layout": "IPY_MODEL_c739dd5f88ef48c4b5ddae07bef741ce",
            "max": 4542,
            "min": 0,
            "orientation": "horizontal",
            "style": "IPY_MODEL_8cb10f778f834d4da0e4f028fb544c66",
            "value": 4542
          }
        },
        "c5d24f50e74f4bd390dbf4ae16e331d2": {
          "model_module": "@jupyter-widgets/controls",
          "model_name": "HTMLModel",
          "model_module_version": "1.5.0",
          "state": {
            "_dom_classes": [],
            "_model_module": "@jupyter-widgets/controls",
            "_model_module_version": "1.5.0",
            "_model_name": "HTMLModel",
            "_view_count": null,
            "_view_module": "@jupyter-widgets/controls",
            "_view_module_version": "1.5.0",
            "_view_name": "HTMLView",
            "description": "",
            "description_tooltip": null,
            "layout": "IPY_MODEL_7ebbe8181ede432ba14f884a3b580279",
            "placeholder": "​",
            "style": "IPY_MODEL_0e78470b63cd464b8e4bcd5a90d0f4b7",
            "value": " 4542/4542 [00:00&lt;00:00, 274360.98it/s]"
          }
        },
        "ddce5d21b1944dc7b525616b14dee79e": {
          "model_module": "@jupyter-widgets/base",
          "model_name": "LayoutModel",
          "model_module_version": "1.2.0",
          "state": {
            "_model_module": "@jupyter-widgets/base",
            "_model_module_version": "1.2.0",
            "_model_name": "LayoutModel",
            "_view_count": null,
            "_view_module": "@jupyter-widgets/base",
            "_view_module_version": "1.2.0",
            "_view_name": "LayoutView",
            "align_content": null,
            "align_items": null,
            "align_self": null,
            "border": null,
            "bottom": null,
            "display": null,
            "flex": null,
            "flex_flow": null,
            "grid_area": null,
            "grid_auto_columns": null,
            "grid_auto_flow": null,
            "grid_auto_rows": null,
            "grid_column": null,
            "grid_gap": null,
            "grid_row": null,
            "grid_template_areas": null,
            "grid_template_columns": null,
            "grid_template_rows": null,
            "height": null,
            "justify_content": null,
            "justify_items": null,
            "left": null,
            "margin": null,
            "max_height": null,
            "max_width": null,
            "min_height": null,
            "min_width": null,
            "object_fit": null,
            "object_position": null,
            "order": null,
            "overflow": null,
            "overflow_x": null,
            "overflow_y": null,
            "padding": null,
            "right": null,
            "top": null,
            "visibility": null,
            "width": null
          }
        },
        "4c79c2efdd0f49ca9286d3033d3a656e": {
          "model_module": "@jupyter-widgets/base",
          "model_name": "LayoutModel",
          "model_module_version": "1.2.0",
          "state": {
            "_model_module": "@jupyter-widgets/base",
            "_model_module_version": "1.2.0",
            "_model_name": "LayoutModel",
            "_view_count": null,
            "_view_module": "@jupyter-widgets/base",
            "_view_module_version": "1.2.0",
            "_view_name": "LayoutView",
            "align_content": null,
            "align_items": null,
            "align_self": null,
            "border": null,
            "bottom": null,
            "display": null,
            "flex": null,
            "flex_flow": null,
            "grid_area": null,
            "grid_auto_columns": null,
            "grid_auto_flow": null,
            "grid_auto_rows": null,
            "grid_column": null,
            "grid_gap": null,
            "grid_row": null,
            "grid_template_areas": null,
            "grid_template_columns": null,
            "grid_template_rows": null,
            "height": null,
            "justify_content": null,
            "justify_items": null,
            "left": null,
            "margin": null,
            "max_height": null,
            "max_width": null,
            "min_height": null,
            "min_width": null,
            "object_fit": null,
            "object_position": null,
            "order": null,
            "overflow": null,
            "overflow_x": null,
            "overflow_y": null,
            "padding": null,
            "right": null,
            "top": null,
            "visibility": null,
            "width": null
          }
        },
        "6ba531ccb7d34be3acb498a074a9124f": {
          "model_module": "@jupyter-widgets/controls",
          "model_name": "DescriptionStyleModel",
          "model_module_version": "1.5.0",
          "state": {
            "_model_module": "@jupyter-widgets/controls",
            "_model_module_version": "1.5.0",
            "_model_name": "DescriptionStyleModel",
            "_view_count": null,
            "_view_module": "@jupyter-widgets/base",
            "_view_module_version": "1.2.0",
            "_view_name": "StyleView",
            "description_width": ""
          }
        },
        "c739dd5f88ef48c4b5ddae07bef741ce": {
          "model_module": "@jupyter-widgets/base",
          "model_name": "LayoutModel",
          "model_module_version": "1.2.0",
          "state": {
            "_model_module": "@jupyter-widgets/base",
            "_model_module_version": "1.2.0",
            "_model_name": "LayoutModel",
            "_view_count": null,
            "_view_module": "@jupyter-widgets/base",
            "_view_module_version": "1.2.0",
            "_view_name": "LayoutView",
            "align_content": null,
            "align_items": null,
            "align_self": null,
            "border": null,
            "bottom": null,
            "display": null,
            "flex": null,
            "flex_flow": null,
            "grid_area": null,
            "grid_auto_columns": null,
            "grid_auto_flow": null,
            "grid_auto_rows": null,
            "grid_column": null,
            "grid_gap": null,
            "grid_row": null,
            "grid_template_areas": null,
            "grid_template_columns": null,
            "grid_template_rows": null,
            "height": null,
            "justify_content": null,
            "justify_items": null,
            "left": null,
            "margin": null,
            "max_height": null,
            "max_width": null,
            "min_height": null,
            "min_width": null,
            "object_fit": null,
            "object_position": null,
            "order": null,
            "overflow": null,
            "overflow_x": null,
            "overflow_y": null,
            "padding": null,
            "right": null,
            "top": null,
            "visibility": null,
            "width": null
          }
        },
        "8cb10f778f834d4da0e4f028fb544c66": {
          "model_module": "@jupyter-widgets/controls",
          "model_name": "ProgressStyleModel",
          "model_module_version": "1.5.0",
          "state": {
            "_model_module": "@jupyter-widgets/controls",
            "_model_module_version": "1.5.0",
            "_model_name": "ProgressStyleModel",
            "_view_count": null,
            "_view_module": "@jupyter-widgets/base",
            "_view_module_version": "1.2.0",
            "_view_name": "StyleView",
            "bar_color": null,
            "description_width": ""
          }
        },
        "7ebbe8181ede432ba14f884a3b580279": {
          "model_module": "@jupyter-widgets/base",
          "model_name": "LayoutModel",
          "model_module_version": "1.2.0",
          "state": {
            "_model_module": "@jupyter-widgets/base",
            "_model_module_version": "1.2.0",
            "_model_name": "LayoutModel",
            "_view_count": null,
            "_view_module": "@jupyter-widgets/base",
            "_view_module_version": "1.2.0",
            "_view_name": "LayoutView",
            "align_content": null,
            "align_items": null,
            "align_self": null,
            "border": null,
            "bottom": null,
            "display": null,
            "flex": null,
            "flex_flow": null,
            "grid_area": null,
            "grid_auto_columns": null,
            "grid_auto_flow": null,
            "grid_auto_rows": null,
            "grid_column": null,
            "grid_gap": null,
            "grid_row": null,
            "grid_template_areas": null,
            "grid_template_columns": null,
            "grid_template_rows": null,
            "height": null,
            "justify_content": null,
            "justify_items": null,
            "left": null,
            "margin": null,
            "max_height": null,
            "max_width": null,
            "min_height": null,
            "min_width": null,
            "object_fit": null,
            "object_position": null,
            "order": null,
            "overflow": null,
            "overflow_x": null,
            "overflow_y": null,
            "padding": null,
            "right": null,
            "top": null,
            "visibility": null,
            "width": null
          }
        },
        "0e78470b63cd464b8e4bcd5a90d0f4b7": {
          "model_module": "@jupyter-widgets/controls",
          "model_name": "DescriptionStyleModel",
          "model_module_version": "1.5.0",
          "state": {
            "_model_module": "@jupyter-widgets/controls",
            "_model_module_version": "1.5.0",
            "_model_name": "DescriptionStyleModel",
            "_view_count": null,
            "_view_module": "@jupyter-widgets/base",
            "_view_module_version": "1.2.0",
            "_view_name": "StyleView",
            "description_width": ""
          }
        }
      }
    }
  },
  "cells": [
    {
      "cell_type": "markdown",
      "metadata": {
        "id": "view-in-github",
        "colab_type": "text"
      },
      "source": [
        "<a href=\"https://colab.research.google.com/github/UTDataMining/2022A/blob/main/lab11/Intro_NN.ipynb\" target=\"_parent\"><img src=\"https://colab.research.google.com/assets/colab-badge.svg\" alt=\"Open In Colab\"/></a>"
      ]
    },
    {
      "cell_type": "markdown",
      "metadata": {
        "id": "l2oske8d1u8W"
      },
      "source": [
        "# PyTorchによるニューラルネットワークの実装\n",
        "[Pytorch](https://pytorch.org/)"
      ]
    },
    {
      "cell_type": "code",
      "metadata": {
        "id": "Q4wuDdElYSnr"
      },
      "source": [
        "import autograd.numpy as np\n",
        "from autograd import grad\n",
        "import torch"
      ],
      "execution_count": 2,
      "outputs": []
    },
    {
      "cell_type": "markdown",
      "metadata": {
        "id": "-2LRlB5gYMqZ"
      },
      "source": [
        "## Autograd\n",
        "シグモイド関数の勾配計算\n",
        "\n",
        "$$\n",
        "f(x) = \\frac{1}{1 + e^{-x}}\n",
        "$$\n",
        "\n",
        "$$\n",
        "\\frac{\\partial f}{\\partial x} = f(x)(1-f(x))\n",
        "$$\n"
      ]
    },
    {
      "cell_type": "code",
      "source": [
        "def sigmoid(x): # 関数定義\n",
        "  return 1.0/(1.0 + np.exp(-x))"
      ],
      "metadata": {
        "id": "q0ygEn1-VTjJ"
      },
      "execution_count": 3,
      "outputs": []
    },
    {
      "cell_type": "code",
      "source": [
        "def grad_sigmoid_symbolic(x):\n",
        "    s = sigmoid(x)\n",
        "    dsdx = s * (1 - s)\n",
        "    return dsdx\n",
        "grad_sigmoid_symbolic(1.0) # 勾配の値（x=1.0における）"
      ],
      "metadata": {
        "colab": {
          "base_uri": "https://localhost:8080/"
        },
        "id": "MpGeLhm9OyGO",
        "outputId": "7610a426-e4da-420d-c894-aa146f2711a8"
      },
      "execution_count": 4,
      "outputs": [
        {
          "output_type": "execute_result",
          "data": {
            "text/plain": [
              "0.19661193324148185"
            ]
          },
          "metadata": {},
          "execution_count": 4
        }
      ]
    },
    {
      "cell_type": "markdown",
      "metadata": {
        "id": "wGRkG1D8E8eE"
      },
      "source": [
        "Autograd（自動微分）によるシグモイド関数の勾配計算\n",
        "\n",
        "[Autograd](https://github.com/HIPS/autograd)\n",
        "\n",
        "[Autogradチュートリアル](https://github.com/HIPS/autograd/blob/master/docs/tutorial.md)\n",
        "\n",
        "\n",
        "シグモイド関数を以下のような単純な関数の組み合わせで考える。\n",
        "\n",
        "$$f(x) = s(c(b(a(x))))$$\n",
        "\n",
        "$$\n",
        "a(x) = -x\n",
        "$$\n",
        "\n",
        "$$\n",
        "b(a) = e^a\n",
        "$$\n",
        "\n",
        "$$\n",
        "c(b) = 1 + b\n",
        "$$\n",
        "\n",
        "$$\n",
        "s(c) = \\frac{1}{c}\n",
        "$$\n",
        "\n",
        "この時の計算グラフは以下のように表すことができる。\n",
        " \n",
        "![Gradient Computation Image](https://drive.google.com/uc?export=view&id=1bvdPv0MI2eM3GeobsHFsFjLrLsibuhJa)\n",
        "\n",
        "連鎖律を用いて入力$x$に関する関数$s$の勾配$\\frac{\\partial s}{\\partial x}$は\n",
        "$$\n",
        "\\frac{\\partial s}{\\partial x} = \\frac{\\partial s}{\\partial c} \\frac{\\partial c}{\\partial b} \\frac{\\partial b}{\\partial a} \\frac{\\partial a}{\\partial x}\n",
        "$$\n",
        "となります。この勾配を実際に求めてみると以下のようになります。"
      ]
    },
    {
      "cell_type": "code",
      "metadata": {
        "colab": {
          "base_uri": "https://localhost:8080/"
        },
        "id": "oqfsFXxBEu8j",
        "outputId": "b43371fa-6f05-42ae-e234-071892c5b367"
      },
      "source": [
        "def grad_sigmoid_manual(x):\n",
        "    a = -x        \n",
        "    b = np.exp(a) \n",
        "    c = 1 + b     \n",
        "    s = 1.0 / c   \n",
        "    \n",
        "    dsdc = (-1.0 / (c**2))\n",
        "    dsdb = dsdc * 1\n",
        "    dsda = dsdb * np.exp(a)\n",
        "    dsdx = dsda * (-1)\n",
        "    \n",
        "    return dsdx\n",
        "\n",
        "grad_sigmoid_manual(1.0) # 勾配の値（x=1.0における）"
      ],
      "execution_count": 5,
      "outputs": [
        {
          "output_type": "execute_result",
          "data": {
            "text/plain": [
              "0.19661193324148188"
            ]
          },
          "metadata": {},
          "execution_count": 5
        }
      ]
    },
    {
      "cell_type": "markdown",
      "metadata": {
        "id": "MglIp04FGf9q"
      },
      "source": [
        "上記の手続きをAutogradで記述すると以下のようになります。"
      ]
    },
    {
      "cell_type": "code",
      "metadata": {
        "colab": {
          "base_uri": "https://localhost:8080/"
        },
        "id": "LdffDvlGYj2U",
        "outputId": "e0975857-4240-496c-85bd-d19b86c83534"
      },
      "source": [
        "grad_sigmoid = grad(sigmoid) # 勾配の取得　\n",
        "grad_sigmoid(1.0) # 勾配の値（x=1.0における）"
      ],
      "execution_count": 6,
      "outputs": [
        {
          "output_type": "execute_result",
          "data": {
            "text/plain": [
              "0.19661193324148188"
            ]
          },
          "metadata": {},
          "execution_count": 6
        }
      ]
    },
    {
      "cell_type": "markdown",
      "source": [
        "有限差分による勾配を確認してみましょう。"
      ],
      "metadata": {
        "id": "GRAK6GqgUKlU"
      }
    },
    {
      "cell_type": "code",
      "metadata": {
        "colab": {
          "base_uri": "https://localhost:8080/"
        },
        "id": "vOufirt_avdw",
        "outputId": "f0ea703f-1e2b-4180-9466-f06fdb3f25cb"
      },
      "source": [
        "(sigmoid(1.0001) - sigmoid(0.9999)) / 0.0002 # 有限差分による勾配の確認"
      ],
      "execution_count": null,
      "outputs": [
        {
          "output_type": "execute_result",
          "data": {
            "text/plain": [
              "0.19661193318254444"
            ]
          },
          "metadata": {},
          "execution_count": 6
        }
      ]
    },
    {
      "cell_type": "markdown",
      "metadata": {
        "id": "Zeyho2LRa5Dk"
      },
      "source": [
        "## PyTorchによるAutomatic differentiation\n",
        "[Autograd](https://pytorch.org/docs/stable/notes/autograd.html)\n"
      ]
    },
    {
      "cell_type": "code",
      "metadata": {
        "colab": {
          "base_uri": "https://localhost:8080/"
        },
        "id": "tWykyzzsa89H",
        "outputId": "e3203f1b-dcee-43a7-cb35-4f7f534342d2"
      },
      "source": [
        "def f(x): # 関数定義 \n",
        "    return 1.0/(1.0+torch.exp(-x))\n",
        "\n",
        "x = torch.from_numpy(np.array([1.0])).requires_grad_(True)\n",
        "# x = torch.tensor(1.0).requires_grad_(True) \n",
        "y = f(x)\n",
        "y.backward() # 勾配の計算\n",
        "x.grad.item()"
      ],
      "execution_count": 7,
      "outputs": [
        {
          "output_type": "execute_result",
          "data": {
            "text/plain": [
              "0.19661193324148188"
            ]
          },
          "metadata": {},
          "execution_count": 7
        }
      ]
    },
    {
      "cell_type": "markdown",
      "source": [
        "## PyTorchによるロジスティック回帰の実装\n",
        "課題9で実装したロジスティック回帰をPyTorchで実装"
      ],
      "metadata": {
        "id": "Kdpz87dXV4VD"
      }
    },
    {
      "cell_type": "code",
      "source": [
        "import numpy as np\n",
        "import pandas as pd\n",
        "iris = pd.read_csv('https://raw.githubusercontent.com/UTDataMining/2022A/master/ex8/iris.csv')\n",
        "X=iris[(iris['species']=='versicolor')| (iris['species']=='virginica')][['petal_length', 'petal_width']].values\n",
        "y=iris[(iris['species']=='versicolor')| (iris['species']=='virginica')][['species']].values\n",
        "y = (y=='versicolor').astype(int)\n",
        "X = (X-np.mean(X, axis=0))/np.std(X, axis=0)\n",
        "m = X.shape[0]\n",
        "n = X.shape[1]\n",
        "X = torch.from_numpy(X).to(torch.float)\n",
        "y = torch.from_numpy(y).to(torch.float)"
      ],
      "metadata": {
        "id": "ECk8MZRuOdYn"
      },
      "execution_count": 9,
      "outputs": []
    },
    {
      "cell_type": "code",
      "source": [
        "num_epochs = 100  # エポック数\n",
        "alpha = 0.1  # 学習率"
      ],
      "metadata": {
        "id": "v0KUs_WKXaOv"
      },
      "execution_count": 16,
      "outputs": []
    },
    {
      "cell_type": "markdown",
      "source": [
        "### その1\n",
        "- 損失関数の勾配を自動微分で計算"
      ],
      "metadata": {
        "id": "FWLJPEv2WQ0Z"
      }
    },
    {
      "cell_type": "code",
      "source": [
        "w = torch.zeros(n,1).requires_grad_(True) # パラメータ\n",
        "b = torch.zeros(1).requires_grad_(True) # バイアス\n",
        "for i in range(num_epochs):\n",
        "    f = torch.mm(X,w)+b # torch.matmul(X,w)+b, X@w+b\n",
        "    g = 1/(1+torch.exp(-f))\n",
        "    loss =  (-1 / m) * torch.sum(y*torch.log(g)+(1-y)*torch.log(1-g))\n",
        "    loss.backward()\n",
        "    with torch.no_grad():\n",
        "        w.data = w - alpha * w.grad # w -= alpha * w.grad\n",
        "        b.data = b  - alpha * b.grad # b -= alpha * b.grad\n",
        "        w.grad.zero_()\n",
        "        b.grad.zero_()\n",
        "print(w.detach().cpu().numpy())\n",
        "print(b.detach().cpu().numpy())\n",
        "print(loss.item()) # コスト"
      ],
      "metadata": {
        "colab": {
          "base_uri": "https://localhost:8080/"
        },
        "id": "3Rv8CaQCQCYs",
        "outputId": "ab8ff40f-8425-4a21-8dcf-88ec3e6b3c22"
      },
      "execution_count": 13,
      "outputs": [
        {
          "output_type": "stream",
          "name": "stdout",
          "text": [
            "[[-1.2888526]\n",
            " [-1.4116936]]\n",
            "[-0.02318852]\n",
            "0.19912464916706085\n"
          ]
        }
      ]
    },
    {
      "cell_type": "markdown",
      "source": [
        "### その2\n",
        "- PyTorchを使ってパラメータ最適化（確率的勾配降下法）\n",
        "  - [optim.SGD](https://pytorch.org/docs/stable/generated/torch.optim.SGD.html)"
      ],
      "metadata": {
        "id": "RvbiGj76XCBr"
      }
    },
    {
      "cell_type": "code",
      "source": [
        "w = torch.zeros(n,1).requires_grad_(True) # パラメータ\n",
        "b = torch.zeros(1).requires_grad_(True) # バイアス\n",
        "optimizer = torch.optim.SGD([w, b], lr=alpha) # SGD: 確率的勾配降下法\n",
        "for epoch in range(num_epochs):\n",
        "    f = torch.mm(X, w) + b\n",
        "    g = torch.sigmoid(f)\n",
        "    loss =  (-1 / m) * torch.sum(y*torch.log(g)+(1-y)*torch.log(1-g))\n",
        "    optimizer.zero_grad()\n",
        "    loss.backward()\n",
        "    optimizer.step()\n",
        "print(w.detach().cpu().numpy())\n",
        "print(b.detach().cpu().numpy())\n",
        "print(loss.item())"
      ],
      "metadata": {
        "id": "KcJ_A0ALK_nK",
        "outputId": "beab0dc3-e699-4a35-ce8e-1da10eba28ff",
        "colab": {
          "base_uri": "https://localhost:8080/"
        }
      },
      "execution_count": 17,
      "outputs": [
        {
          "output_type": "stream",
          "name": "stdout",
          "text": [
            "[[-1.2888526]\n",
            " [-1.4116936]]\n",
            "[-0.02318852]\n",
            "0.19912464916706085\n"
          ]
        }
      ]
    },
    {
      "cell_type": "markdown",
      "source": [
        "### その3\n",
        "- PyTorchを使ってモデルを作成（`nn.Sequential`）\n",
        "  - [nn.Sequantial](https://pytorch.org/docs/stable/generated/torch.nn.Sequential.html)"
      ],
      "metadata": {
        "id": "omNJXnXhX7sA"
      }
    },
    {
      "cell_type": "code",
      "source": [
        "model = torch.nn.Sequential()\n",
        "linear = torch.nn.Linear(n, 1) # 線形層 n -> 1\n",
        "torch.nn.init.zeros_(linear.weight) # パラメータ初期化\n",
        "torch.nn.init.zeros_(linear.bias) # バイアス初期化\n",
        "model.add_module('linear', linear) \n",
        "model.add_module('simoid', torch.nn.Sigmoid()) # シグモイド関数\n",
        "cost = torch.nn.BCELoss() # バイナリー交差エントロピー誤差\n",
        "optimizer = torch.optim.SGD(model.parameters(), lr=alpha)\n",
        "for i in range(num_epochs):\n",
        "    loss = cost(model(X), y)\n",
        "    optimizer.zero_grad()\n",
        "    loss.backward()\n",
        "    optimizer.step()\n",
        "for param in model.parameters():\n",
        "  print(param.detach().cpu().numpy())\n",
        "print(loss.item())"
      ],
      "metadata": {
        "id": "puV7QWBJwl5h",
        "outputId": "35baa11b-3a43-49d3-dc7d-4fd069214176",
        "colab": {
          "base_uri": "https://localhost:8080/"
        }
      },
      "execution_count": 20,
      "outputs": [
        {
          "output_type": "stream",
          "name": "stdout",
          "text": [
            "[[-1.2888526 -1.4116936]]\n",
            "[-0.02318852]\n",
            "0.19912463426589966\n"
          ]
        }
      ]
    },
    {
      "cell_type": "markdown",
      "source": [
        "### その4\n",
        "- PyTorchを使ってモデルを作成（`nn.Module`）\n",
        "   - [nn.Module](https://pytorch.org/docs/stable/generated/torch.nn.Module.html)"
      ],
      "metadata": {
        "id": "3PtaDCENYkIL"
      }
    },
    {
      "cell_type": "code",
      "source": [
        "class MyModel(torch.nn.Module):\n",
        "    def __init__(self, input_dim):\n",
        "        super(MyModel, self).__init__()\n",
        "        self.linear = torch.nn.Linear(input_dim, 1) # 線形層 n -> 1\n",
        "        torch.nn.init.zeros_(self.linear.weight)\n",
        "        torch.nn.init.zeros_(self.linear.bias)\n",
        "    def forward(self, x):\n",
        "        return torch.sigmoid(self.linear(x)) # シグモイド関数"
      ],
      "metadata": {
        "id": "dVzGpPnfln57"
      },
      "execution_count": 21,
      "outputs": []
    },
    {
      "cell_type": "code",
      "source": [
        "model = MyModel(n)\n",
        "cost = torch.nn.BCELoss()\n",
        "optimizer = torch.optim.SGD(model.parameters(), lr=alpha)\n",
        "for i in range(num_epochs):  \n",
        "    loss = cost(model(X), y)\n",
        "    optimizer.zero_grad()\n",
        "    loss.backward()\n",
        "    optimizer.step()\n",
        "for param in model.parameters():\n",
        "  print(param.detach().cpu().numpy())\n",
        "print(loss.item())"
      ],
      "metadata": {
        "id": "_SqhqbGpgmqw",
        "outputId": "b2b1fdcd-6d43-48c2-ad81-0af9f0253cb4",
        "colab": {
          "base_uri": "https://localhost:8080/"
        }
      },
      "execution_count": 23,
      "outputs": [
        {
          "output_type": "stream",
          "name": "stdout",
          "text": [
            "[[-1.2888526 -1.4116936]]\n",
            "[-0.02318852]\n",
            "0.19912463426589966\n"
          ]
        }
      ]
    },
    {
      "cell_type": "markdown",
      "metadata": {
        "id": "A8b_tPMNcd0A"
      },
      "source": [
        "## マルチレイヤーパーセプトロンの実装（手書き数字画像認識の例）\n",
        "\n",
        "実行の前にメニューの\n",
        "\n",
        "ランタイム -> ランタイムのタイプの変更　\n",
        "\n",
        "でハードウェアアクセラレータをGPUにしてください"
      ]
    },
    {
      "cell_type": "code",
      "metadata": {
        "colab": {
          "base_uri": "https://localhost:8080/"
        },
        "id": "uGz-grdDc6R0",
        "outputId": "eb6d090b-a379-42cc-80ae-27c1b14b82ad"
      },
      "source": [
        "# グラフを動的に可視化するモジュール\n",
        "!pip install livelossplot "
      ],
      "execution_count": 24,
      "outputs": [
        {
          "output_type": "stream",
          "name": "stdout",
          "text": [
            "Looking in indexes: https://pypi.org/simple, https://us-python.pkg.dev/colab-wheels/public/simple/\n",
            "Collecting livelossplot\n",
            "  Downloading livelossplot-0.5.5-py3-none-any.whl (22 kB)\n",
            "Requirement already satisfied: bokeh in /usr/local/lib/python3.8/dist-packages (from livelossplot) (2.3.3)\n",
            "Requirement already satisfied: matplotlib in /usr/local/lib/python3.8/dist-packages (from livelossplot) (3.2.2)\n",
            "Requirement already satisfied: typing-extensions>=3.7.4 in /usr/local/lib/python3.8/dist-packages (from bokeh->livelossplot) (4.4.0)\n",
            "Requirement already satisfied: python-dateutil>=2.1 in /usr/local/lib/python3.8/dist-packages (from bokeh->livelossplot) (2.8.2)\n",
            "Requirement already satisfied: packaging>=16.8 in /usr/local/lib/python3.8/dist-packages (from bokeh->livelossplot) (21.3)\n",
            "Requirement already satisfied: numpy>=1.11.3 in /usr/local/lib/python3.8/dist-packages (from bokeh->livelossplot) (1.21.6)\n",
            "Requirement already satisfied: pillow>=7.1.0 in /usr/local/lib/python3.8/dist-packages (from bokeh->livelossplot) (7.1.2)\n",
            "Requirement already satisfied: Jinja2>=2.9 in /usr/local/lib/python3.8/dist-packages (from bokeh->livelossplot) (2.11.3)\n",
            "Requirement already satisfied: PyYAML>=3.10 in /usr/local/lib/python3.8/dist-packages (from bokeh->livelossplot) (6.0)\n",
            "Requirement already satisfied: tornado>=5.1 in /usr/local/lib/python3.8/dist-packages (from bokeh->livelossplot) (6.0.4)\n",
            "Requirement already satisfied: MarkupSafe>=0.23 in /usr/local/lib/python3.8/dist-packages (from Jinja2>=2.9->bokeh->livelossplot) (2.0.1)\n",
            "Requirement already satisfied: pyparsing!=3.0.5,>=2.0.2 in /usr/local/lib/python3.8/dist-packages (from packaging>=16.8->bokeh->livelossplot) (3.0.9)\n",
            "Requirement already satisfied: six>=1.5 in /usr/local/lib/python3.8/dist-packages (from python-dateutil>=2.1->bokeh->livelossplot) (1.15.0)\n",
            "Requirement already satisfied: kiwisolver>=1.0.1 in /usr/local/lib/python3.8/dist-packages (from matplotlib->livelossplot) (1.4.4)\n",
            "Requirement already satisfied: cycler>=0.10 in /usr/local/lib/python3.8/dist-packages (from matplotlib->livelossplot) (0.11.0)\n",
            "Installing collected packages: livelossplot\n",
            "Successfully installed livelossplot-0.5.5\n"
          ]
        }
      ]
    },
    {
      "cell_type": "code",
      "metadata": {
        "id": "IafSc2jvcl_R"
      },
      "source": [
        "import torch\n",
        "import torchvision\n",
        "from torchvision import datasets, transforms\n",
        "import numpy as np\n",
        "import matplotlib.pyplot as plt\n",
        "from torch.utils.data import DataLoader\n",
        "from livelossplot import PlotLosses"
      ],
      "execution_count": 25,
      "outputs": []
    },
    {
      "cell_type": "code",
      "metadata": {
        "id": "AiyXcVwsc4Ot",
        "colab": {
          "base_uri": "https://localhost:8080/",
          "height": 443,
          "referenced_widgets": [
            "e7ddc802f828475d8b3b911488c58079",
            "23ffa45796c44f8b88360f85e2cf0dde",
            "6e4bda4a98dd43df83398442ae9c0e16",
            "a30548bf96014b33aa216512af6e8dee",
            "e37fb1455fb54a4bbd16e89eab80ce0f",
            "9f1cd80da4164fd0b1a2d9c320f5b71a",
            "64ad7371883143d1b4a28fd6687651f4",
            "38480f2d83064eae804c7f3b9de44f02",
            "58e7e545900d48af8ed2ba48ecad9ef4",
            "87607aa927564507898d25498546e1ed",
            "18c9b96160a344649c8613fd8acea798",
            "6597bb717f8e4e1bb11fd7e7d8b4c1c1",
            "56f8b56eb929419c894b5e15e48e2771",
            "8d47337ed9e84195b1e044c43094913c",
            "19caaa8d8f554417b8ad21eddd8c61e7",
            "e2171dd428da4377b19914211fab34fe",
            "2f5ff0546d564e009212bdb0278d6ee5",
            "a1df18ea23fa4429bf2c503067aaa241",
            "0a6465e6cd37417d9a059d6631f03cd6",
            "76d562d764c24d94b86169355aeea90f",
            "a6b246abe8244255ab5edcc24e5e586d",
            "33dc6608ff784e1e9a1bea95539a4904",
            "624022b035054e669bb8c526a506c46d",
            "5929e19a686e444e80c1d7771156ce3a",
            "5536ab6b16914811bae667ccbbb6ac6b",
            "3714288a24294f91a09365abbef9efd3",
            "1ac42146a7204b32a62cf7ce04f7bb72",
            "6c39a0d4b43e4a6bb1bf7ccf5cf4c9de",
            "bd3cb44720484f6e8f47fe284f518f65",
            "4032be17ffbb4ae18ec758ac962254fd",
            "0b38aca33fe24ad1a6b902addcecef00",
            "ffc9154328884285a2a985716b0f0603",
            "ed75af87ed6144178be9718b97f431df",
            "648f0c36a2fa455a931b2b63f103920d",
            "51c44e3bc34444b28a0ff19c94dd4f9d",
            "68d65df73e51405eadbb1cad1e6c6cf4",
            "c5d24f50e74f4bd390dbf4ae16e331d2",
            "ddce5d21b1944dc7b525616b14dee79e",
            "4c79c2efdd0f49ca9286d3033d3a656e",
            "6ba531ccb7d34be3acb498a074a9124f",
            "c739dd5f88ef48c4b5ddae07bef741ce",
            "8cb10f778f834d4da0e4f028fb544c66",
            "7ebbe8181ede432ba14f884a3b580279",
            "0e78470b63cd464b8e4bcd5a90d0f4b7"
          ]
        },
        "outputId": "608ae279-175e-4a3c-c89e-c44474c7f21c"
      },
      "source": [
        "# データセット\n",
        "mnist_train = datasets.MNIST('data', train=True, download=True, transform=transforms.ToTensor())\n",
        "mnist_test = datasets.MNIST('data', train=False, download=True, transform=transforms.ToTensor())"
      ],
      "execution_count": 26,
      "outputs": [
        {
          "output_type": "stream",
          "name": "stdout",
          "text": [
            "Downloading http://yann.lecun.com/exdb/mnist/train-images-idx3-ubyte.gz\n",
            "Downloading http://yann.lecun.com/exdb/mnist/train-images-idx3-ubyte.gz to data/MNIST/raw/train-images-idx3-ubyte.gz\n"
          ]
        },
        {
          "output_type": "display_data",
          "data": {
            "text/plain": [
              "  0%|          | 0/9912422 [00:00<?, ?it/s]"
            ],
            "application/vnd.jupyter.widget-view+json": {
              "version_major": 2,
              "version_minor": 0,
              "model_id": "e7ddc802f828475d8b3b911488c58079"
            }
          },
          "metadata": {}
        },
        {
          "output_type": "stream",
          "name": "stdout",
          "text": [
            "Extracting data/MNIST/raw/train-images-idx3-ubyte.gz to data/MNIST/raw\n",
            "\n",
            "Downloading http://yann.lecun.com/exdb/mnist/train-labels-idx1-ubyte.gz\n",
            "Downloading http://yann.lecun.com/exdb/mnist/train-labels-idx1-ubyte.gz to data/MNIST/raw/train-labels-idx1-ubyte.gz\n"
          ]
        },
        {
          "output_type": "display_data",
          "data": {
            "text/plain": [
              "  0%|          | 0/28881 [00:00<?, ?it/s]"
            ],
            "application/vnd.jupyter.widget-view+json": {
              "version_major": 2,
              "version_minor": 0,
              "model_id": "6597bb717f8e4e1bb11fd7e7d8b4c1c1"
            }
          },
          "metadata": {}
        },
        {
          "output_type": "stream",
          "name": "stdout",
          "text": [
            "Extracting data/MNIST/raw/train-labels-idx1-ubyte.gz to data/MNIST/raw\n",
            "\n",
            "Downloading http://yann.lecun.com/exdb/mnist/t10k-images-idx3-ubyte.gz\n",
            "Downloading http://yann.lecun.com/exdb/mnist/t10k-images-idx3-ubyte.gz to data/MNIST/raw/t10k-images-idx3-ubyte.gz\n"
          ]
        },
        {
          "output_type": "display_data",
          "data": {
            "text/plain": [
              "  0%|          | 0/1648877 [00:00<?, ?it/s]"
            ],
            "application/vnd.jupyter.widget-view+json": {
              "version_major": 2,
              "version_minor": 0,
              "model_id": "624022b035054e669bb8c526a506c46d"
            }
          },
          "metadata": {}
        },
        {
          "output_type": "stream",
          "name": "stdout",
          "text": [
            "Extracting data/MNIST/raw/t10k-images-idx3-ubyte.gz to data/MNIST/raw\n",
            "\n",
            "Downloading http://yann.lecun.com/exdb/mnist/t10k-labels-idx1-ubyte.gz\n",
            "Downloading http://yann.lecun.com/exdb/mnist/t10k-labels-idx1-ubyte.gz to data/MNIST/raw/t10k-labels-idx1-ubyte.gz\n"
          ]
        },
        {
          "output_type": "display_data",
          "data": {
            "text/plain": [
              "  0%|          | 0/4542 [00:00<?, ?it/s]"
            ],
            "application/vnd.jupyter.widget-view+json": {
              "version_major": 2,
              "version_minor": 0,
              "model_id": "648f0c36a2fa455a931b2b63f103920d"
            }
          },
          "metadata": {}
        },
        {
          "output_type": "stream",
          "name": "stdout",
          "text": [
            "Extracting data/MNIST/raw/t10k-labels-idx1-ubyte.gz to data/MNIST/raw\n",
            "\n"
          ]
        }
      ]
    },
    {
      "cell_type": "code",
      "metadata": {
        "colab": {
          "base_uri": "https://localhost:8080/",
          "height": 469
        },
        "id": "8meT6XfBk2Su",
        "outputId": "1e74e3d0-8e3d-477b-91a4-f00e39f90577"
      },
      "source": [
        "train_bs = 128 # 訓練データのバッチサイズ\n",
        "test_bs = 100 # テストデータのバッチサイズ\n",
        "\n",
        "# データローダ\n",
        "train_dl = DataLoader(mnist_train, batch_size = train_bs, shuffle=True)\n",
        "test_dl = DataLoader(mnist_test, batch_size = test_bs)\n",
        "\n",
        "dataiter = iter(train_dl)\n",
        "images, labels = next(dataiter)\n",
        "viz = torchvision.utils.make_grid(images, nrow=10, padding = 2).numpy()\n",
        "fig, ax = plt.subplots(figsize= (8,8))\n",
        "ax.imshow(np.transpose(viz, (1,2,0)))\n",
        "ax.set_xticks([])\n",
        "ax.set_yticks([])\n",
        "plt.show()"
      ],
      "execution_count": 27,
      "outputs": [
        {
          "output_type": "display_data",
          "data": {
            "text/plain": [
              "<Figure size 576x576 with 1 Axes>"
            ],
            "image/png": "[encoded data removed]"
          },
          "metadata": {}
        }
      ]
    },
    {
      "cell_type": "code",
      "metadata": {
        "colab": {
          "base_uri": "https://localhost:8080/"
        },
        "id": "Oa7_T9vt2QNn",
        "outputId": "d5d41482-0fa7-47bd-c416-b9b1ee9bfa96"
      },
      "source": [
        "# ネットワーク定義\n",
        "dim_x = 784 # 入力層のユニット数（28x28のピクセル）\n",
        "dim_h = 100 # 隠れ層のユニット数\n",
        "dim_out = 10 # 出力層のユニット数（クラス数）\n",
        "\n",
        "model = torch.nn.Sequential()\n",
        "model.add_module('fc1', torch.nn.Linear(dim_x, dim_h)) # 入力層-隠れ層\n",
        "model.add_module('relu1', torch.nn.ReLU()) # 活性関数ReLU\n",
        "#model.add_module('dropout1',torch.nn.Dropout()) # ドロップアウト\n",
        "model.add_module('fc2', torch.nn.Linear(dim_h, dim_out)) # 隠れ層-出力層\n",
        "print(model)"
      ],
      "execution_count": 28,
      "outputs": [
        {
          "output_type": "stream",
          "name": "stdout",
          "text": [
            "Sequential(\n",
            "  (fc1): Linear(in_features=784, out_features=100, bias=True)\n",
            "  (relu1): ReLU()\n",
            "  (fc2): Linear(in_features=100, out_features=10, bias=True)\n",
            ")\n"
          ]
        }
      ]
    },
    {
      "cell_type": "code",
      "metadata": {
        "colab": {
          "base_uri": "https://localhost:8080/",
          "height": 637
        },
        "id": "QqxxwTHQdkxy",
        "outputId": "45693589-fbdd-483f-e89a-9ca9d683a89f"
      },
      "source": [
        "# GPUsの使用\n",
        "if torch.cuda.is_available():\n",
        "    print(\"Using cuda\")\n",
        "    use_cuda = True\n",
        "    device = torch.device(\"cuda\")\n",
        "else:\n",
        "    device = \"cpu\"\n",
        "\n",
        "learning_rate = 1e-2 # 学習率\n",
        "epochs = 20 # エポック数\n",
        "\n",
        "# 最適化法（SGD）\n",
        "optimizer = torch.optim.SGD(model.parameters(), lr=learning_rate)\n",
        "loss_fn = torch.nn.CrossEntropyLoss() # 損失関数\n",
        "model.to(device) # モデルをGPUへ\n",
        "model.train() # 訓練モード\n",
        "liveloss = PlotLosses() # グラフ可視化\n",
        "\n",
        "# エポック数繰り返し\n",
        "for epoch in range(epochs):\n",
        "    train_loss = []\n",
        "    train_acc = []\n",
        "    test_loss = []\n",
        "    test_acc = []\n",
        "\n",
        "    model.train() # 訓練モード\n",
        "    for i, (X_train, y_train) in enumerate(train_dl):\n",
        "        X_train = X_train.to(device)\n",
        "        y_train = y_train.to(device)\n",
        "        X_train = X_train.view(X_train.size(0), -1)\n",
        "        \n",
        "        # forward\n",
        "        y_pred = model(X_train) \n",
        "        loss = loss_fn(y_pred, y_train) # 損失\n",
        "        preds = torch.argmax(y_pred, dim=1)\n",
        "        acc = (preds==y_train).float().mean()       \n",
        "        train_loss.append(loss.item())\n",
        "        train_acc.append(acc.item())\n",
        "\n",
        "        # backward \n",
        "        model.zero_grad() # またはoptimizer.zero_grad() 勾配初期化\n",
        "        loss.backward() # 勾配計算\n",
        "        optimizer.step() # パラメータ更新\n",
        "    \n",
        "    model.eval() # 評価モード    \n",
        "    for i, (X_test, y_test) in enumerate(test_dl):\n",
        "        X_test = X_test.to(device)\n",
        "        y_test = y_test.to(device)\n",
        "        X_test = X_test.view(X_test.size(0), -1)\n",
        "        y_pred = model(X_test) \n",
        "        loss = loss_fn(y_pred, y_test) # 損失\n",
        "        preds = torch.argmax(y_pred, dim=1)\n",
        "        acc = (preds==y_test).float().mean() # 精度        \n",
        "        test_loss.append(loss.item())\n",
        "        test_acc.append(acc.item())\n",
        "    \n",
        "    #print(epoch+1, np.array(train_loss).mean(), np.array(train_acc).mean()) # 訓練誤差\n",
        "    #print(epoch+1, np.array(test_loss).mean(), np.array(test_acc).mean()) # テスト誤差\n",
        "    \n",
        "    liveloss.update({\n",
        "        'accuracy': np.array(train_acc).mean(),\n",
        "        'val_accuracy': np.array(test_acc).mean()\n",
        "    })\n",
        "    liveloss.draw()"
      ],
      "execution_count": 29,
      "outputs": [
        {
          "output_type": "display_data",
          "data": {
            "text/plain": [
              "<Figure size 864x576 with 2 Axes>"
            ],
            "image/png": "[encoded data removed]"
          },
          "metadata": {
            "needs_background": "light"
          }
        },
        {
          "output_type": "stream",
          "name": "stdout",
          "text": [
            "accuracy\n",
            "\ttraining         \t (min:    0.628, max:    0.927, cur:    0.927)\n",
            "\tvalidation       \t (min:    0.810, max:    0.931, cur:    0.931)\n"
          ]
        }
      ]
    },
    {
      "cell_type": "markdown",
      "metadata": {
        "id": "ZSCiIk9kkqko"
      },
      "source": [
        "### モデル選択"
      ]
    },
    {
      "cell_type": "code",
      "metadata": {
        "id": "RyWsia6Qttsn"
      },
      "source": [
        "# ネットワークの定義\n",
        "class Net(torch.nn.Module):\n",
        "    def __init__(self, input_dim, hidden_dim, output_dim, activation_func=torch.nn.functional.relu):\n",
        "        super(Net, self).__init__()\n",
        "        self.fc1 = torch.nn.Linear(input_dim, hidden_dim) # 入力層-隠れ層1\n",
        "        self.fc2 = torch.nn.Linear(hidden_dim, hidden_dim)  # 隠れ層1-隠れ層2\n",
        "        self.fc3 = torch.nn.Linear(hidden_dim, output_dim)  # 隠れ層2-出力層\n",
        "        self.activation_func = activation_func # 活性化関数\n",
        "    \n",
        "    def forward(self, x):\n",
        "        h1 = self.activation_func(self.fc1(x))\n",
        "        h2 = self.activation_func(self.fc2(h1))\n",
        "        out = self.fc3(h2)\n",
        "        return out"
      ],
      "execution_count": 30,
      "outputs": []
    },
    {
      "cell_type": "code",
      "metadata": {
        "id": "ggUj7Xwwmsls"
      },
      "source": [
        "# モデル訓練\n",
        "def train_model(model, optimizer, train_loader, test_loader, epochs=10):\n",
        "  if torch.cuda.is_available():\n",
        "      print(\"Using cuda\")\n",
        "      use_cuda = True\n",
        "      device = torch.device(\"cuda\")\n",
        "  else:\n",
        "      device = \"cpu\"\n",
        "\n",
        "  loss_fn = torch.nn.CrossEntropyLoss()\n",
        "  model.to(device)    \n",
        "  model.train()\n",
        "  liveloss = PlotLosses()\n",
        "  \n",
        "  for epoch in range(epochs):\n",
        "    train_loss = []\n",
        "    train_acc = []\n",
        "    test_loss = []\n",
        "    test_acc = []\n",
        "\n",
        "    model.train() # 訓練モード\n",
        "    for i, (X_train, y_train) in enumerate(train_dl):\n",
        "        X_train = X_train.to(device)\n",
        "        y_train = y_train.to(device)\n",
        "        X_train = X_train.view(X_train.size(0), -1)\n",
        "        \n",
        "        # forward\n",
        "        y_pred = model(X_train) \n",
        "        loss = loss_fn(y_pred, y_train) # 損失\n",
        "        preds = torch.argmax(y_pred, dim=1)\n",
        "        acc = (preds==y_train).float().mean()\n",
        "        train_loss.append(loss.item())\n",
        "        train_acc.append(acc.item())\n",
        "\n",
        "        # backward \n",
        "        model.zero_grad() # またはoptimizer.zero_grad() 勾配初期化\n",
        "        loss.backward() # 勾配計算\n",
        "        optimizer.step() # パラメータ更新\n",
        "    \n",
        "    model.eval() # 評価モード\n",
        "    for i, (X_test, y_test) in enumerate(test_dl):\n",
        "        X_test = X_test.to(device)\n",
        "        y_test = y_test.to(device)\n",
        "        X_test = X_test.view(X_test.size(0), -1)\n",
        "\n",
        "        y_pred = model(X_test) \n",
        "        loss = loss_fn(y_pred, y_test) # 損失\n",
        "        preds = torch.argmax(y_pred, dim=1)\n",
        "        acc = (preds==y_test).float().mean()\n",
        "        test_loss.append(loss.item())\n",
        "        test_acc.append(acc.item())\n",
        "    \n",
        "    #print(epoch+1, np.array(train_loss).mean(), np.array(train_acc).mean()) # 訓練誤差\n",
        "    #print(epoch+1, np.array(test_loss).mean(), np.array(test_acc).mean()) # テスト誤差\n",
        "    \n",
        "    liveloss.update({\n",
        "        'accuracy': np.array(train_acc).mean(),\n",
        "        'val_accuracy': np.array(test_acc).mean()\n",
        "    })\n",
        "    liveloss.draw()"
      ],
      "execution_count": 31,
      "outputs": []
    },
    {
      "cell_type": "code",
      "metadata": {
        "id": "ljsrZkncqZl6"
      },
      "source": [
        "# パラメータ初期化方法\n",
        "def init_weights_xavier(m): #\n",
        "  if type(m) == torch.nn.Linear:\n",
        "    torch.nn.init.xavier_normal_(m.weight)\n",
        "\n",
        "def init_weights_kaiminghe(m): # \n",
        "  if type(m) == torch.nn.Linear:\n",
        "    torch.nn.init.kaiming_normal_(m.weight)"
      ],
      "execution_count": 32,
      "outputs": []
    },
    {
      "cell_type": "markdown",
      "metadata": {
        "id": "cmRFkZUH6EQg"
      },
      "source": [
        "以下を変更してみてください\n",
        "- 隠れ層のユニット数\n",
        "- 隠れ層の数\n",
        "- 活性化関数 [functional](https://pytorch.org/docs/stable/nn.functional.html)\n",
        "- パラメータの初期化方法 [init](https://pytorch.org/docs/stable/nn.init.html)\n",
        "- 最適化方法 [optim](https://pytorch.org/docs/stable/optim.html)\n",
        "- 学習率\n",
        "- エポック数"
      ]
    },
    {
      "cell_type": "code",
      "metadata": {
        "colab": {
          "base_uri": "https://localhost:8080/",
          "height": 637
        },
        "id": "UbazHyuOpcas",
        "outputId": "d9305ac7-31b0-4568-f265-e8539e5d6aff"
      },
      "source": [
        "train_bs = 128 # 訓練データのバッチサイズ\n",
        "test_bs = 100 # テストデータのバッチサイズ\n",
        "train_dl = DataLoader(mnist_train, batch_size = train_bs, shuffle=True)\n",
        "test_dl = DataLoader(mnist_test, batch_size =test_bs)\n",
        "\n",
        "dim_x = 784 # 入力層のユニット数（28x28の画像）\n",
        "dim_h = 100 # 隠れ層のユニット数\n",
        "dim_out = 10 # 出力層のユニット数（クラス数）\n",
        "\n",
        "# 活性化関数\n",
        "activation_func = torch.nn.functional.relu\n",
        "model = Net(dim_x, dim_h, dim_out, activation_func)\n",
        "\n",
        "# パラメータ初期化\n",
        "model = model.apply(init_weights_kaiminghe)\n",
        "\n",
        "# 最適化法\n",
        "params = model.parameters()\n",
        "learning_rate = 0.01 # 学習率\n",
        "momentum = 0.9 # モーメンタム\n",
        "optimizer = torch.optim.SGD(params, lr=learning_rate, momentum=momentum)\n",
        "#optimizer = torch.optim.RMSprop(params, learning_rate)\n",
        "#optimizer = torch.optim.Adam(params, learning_rate)\n",
        "\n",
        "epochs = 20 # エポック数  \n",
        "train_model(model, optimizer, train_dl, test_dl, epochs=epochs)"
      ],
      "execution_count": 33,
      "outputs": [
        {
          "output_type": "display_data",
          "data": {
            "text/plain": [
              "<Figure size 864x576 with 2 Axes>"
            ],
            "image/png": "[encoded data removed]"
          },
          "metadata": {
            "needs_background": "light"
          }
        },
        {
          "output_type": "stream",
          "name": "stdout",
          "text": [
            "accuracy\n",
            "\ttraining         \t (min:    0.868, max:    0.995, cur:    0.995)\n",
            "\tvalidation       \t (min:    0.934, max:    0.979, cur:    0.979)\n"
          ]
        }
      ]
    },
    {
      "cell_type": "code",
      "source": [],
      "metadata": {
        "id": "bCSatAEzawck"
      },
      "execution_count": null,
      "outputs": []
    }
  ]
}
{
  "nbformat": 4,
  "nbformat_minor": 0,
  "metadata": {
    "colab": {
      "name": "Intro_NN.ipynb",
      "provenance": [],
      "include_colab_link": true
    },
    "kernelspec": {
      "name": "python3",
      "display_name": "Python 3"
    },
    "accelerator": "GPU",
    "widgets": {
      "application/vnd.jupyter.widget-state+json": {
        "2f8349887ae14cce81f0c51b05ae214e": {
          "model_module": "@jupyter-widgets/controls",
          "model_name": "HBoxModel",
          "model_module_version": "1.5.0",
          "state": {
            "_dom_classes": [],
            "_model_module": "@jupyter-widgets/controls",
            "_model_module_version": "1.5.0",
            "_model_name": "HBoxModel",
            "_view_count": null,
            "_view_module": "@jupyter-widgets/controls",
            "_view_module_version": "1.5.0",
            "_view_name": "HBoxView",
            "box_style": "",
            "children": [
              "IPY_MODEL_c11f063f9e8143cc83ccc52fbe01c35a",
              "IPY_MODEL_cbff4c0377704aea9aeea2791c54f545",
              "IPY_MODEL_d79827ba85944fffb1878a8402224bd7"
            ],
            "layout": "IPY_MODEL_c121b63c45e94232a28bd56ced3ca772"
          }
        },
        "c11f063f9e8143cc83ccc52fbe01c35a": {
          "model_module": "@jupyter-widgets/controls",
          "model_name": "HTMLModel",
          "model_module_version": "1.5.0",
          "state": {
            "_dom_classes": [],
            "_model_module": "@jupyter-widgets/controls",
            "_model_module_version": "1.5.0",
            "_model_name": "HTMLModel",
            "_view_count": null,
            "_view_module": "@jupyter-widgets/controls",
            "_view_module_version": "1.5.0",
            "_view_name": "HTMLView",
            "description": "",
            "description_tooltip": null,
            "layout": "IPY_MODEL_9500d0da79da47a2ab9b914ad8c1e51e",
            "placeholder": "​",
            "style": "IPY_MODEL_8e8cc93489e8439d8540111257f63056",
            "value": "100%"
          }
        },
        "cbff4c0377704aea9aeea2791c54f545": {
          "model_module": "@jupyter-widgets/controls",
          "model_name": "FloatProgressModel",
          "model_module_version": "1.5.0",
          "state": {
            "_dom_classes": [],
            "_model_module": "@jupyter-widgets/controls",
            "_model_module_version": "1.5.0",
            "_model_name": "FloatProgressModel",
            "_view_count": null,
            "_view_module": "@jupyter-widgets/controls",
            "_view_module_version": "1.5.0",
            "_view_name": "ProgressView",
            "bar_style": "success",
            "description": "",
            "description_tooltip": null,
            "layout": "IPY_MODEL_743184b42e624cabaab9f78491427e3d",
            "max": 9912422,
            "min": 0,
            "orientation": "horizontal",
            "style": "IPY_MODEL_ee19d29a8cae41ee816e7d321274eb07",
            "value": 9912422
          }
        },
        "d79827ba85944fffb1878a8402224bd7": {
          "model_module": "@jupyter-widgets/controls",
          "model_name": "HTMLModel",
          "model_module_version": "1.5.0",
          "state": {
            "_dom_classes": [],
            "_model_module": "@jupyter-widgets/controls",
            "_model_module_version": "1.5.0",
            "_model_name": "HTMLModel",
            "_view_count": null,
            "_view_module": "@jupyter-widgets/controls",
            "_view_module_version": "1.5.0",
            "_view_name": "HTMLView",
            "description": "",
            "description_tooltip": null,
            "layout": "IPY_MODEL_191c685e889c439081c69ac4942d7477",
            "placeholder": "​",
            "style": "IPY_MODEL_b1547123bd0d4ac9855a8632166220ab",
            "value": " 9912422/9912422 [00:00&lt;00:00, 137058416.53it/s]"
          }
        },
        "c121b63c45e94232a28bd56ced3ca772": {
          "model_module": "@jupyter-widgets/base",
          "model_name": "LayoutModel",
          "model_module_version": "1.2.0",
          "state": {
            "_model_module": "@jupyter-widgets/base",
            "_model_module_version": "1.2.0",
            "_model_name": "LayoutModel",
            "_view_count": null,
            "_view_module": "@jupyter-widgets/base",
            "_view_module_version": "1.2.0",
            "_view_name": "LayoutView",
            "align_content": null,
            "align_items": null,
            "align_self": null,
            "border": null,
            "bottom": null,
            "display": null,
            "flex": null,
            "flex_flow": null,
            "grid_area": null,
            "grid_auto_columns": null,
            "grid_auto_flow": null,
            "grid_auto_rows": null,
            "grid_column": null,
            "grid_gap": null,
            "grid_row": null,
            "grid_template_areas": null,
            "grid_template_columns": null,
            "grid_template_rows": null,
            "height": null,
            "justify_content": null,
            "justify_items": null,
            "left": null,
            "margin": null,
            "max_height": null,
            "max_width": null,
            "min_height": null,
            "min_width": null,
            "object_fit": null,
            "object_position": null,
            "order": null,
            "overflow": null,
            "overflow_x": null,
            "overflow_y": null,
            "padding": null,
            "right": null,
            "top": null,
            "visibility": null,
            "width": null
          }
        },
        "9500d0da79da47a2ab9b914ad8c1e51e": {
          "model_module": "@jupyter-widgets/base",
          "model_name": "LayoutModel",
          "model_module_version": "1.2.0",
          "state": {
            "_model_module": "@jupyter-widgets/base",
            "_model_module_version": "1.2.0",
            "_model_name": "LayoutModel",
            "_view_count": null,
            "_view_module": "@jupyter-widgets/base",
            "_view_module_version": "1.2.0",
            "_view_name": "LayoutView",
            "align_content": null,
            "align_items": null,
            "align_self": null,
            "border": null,
            "bottom": null,
            "display": null,
            "flex": null,
            "flex_flow": null,
            "grid_area": null,
            "grid_auto_columns": null,
            "grid_auto_flow": null,
            "grid_auto_rows": null,
            "grid_column": null,
            "grid_gap": null,
            "grid_row": null,
            "grid_template_areas": null,
            "grid_template_columns": null,
            "grid_template_rows": null,
            "height": null,
            "justify_content": null,
            "justify_items": null,
            "left": null,
            "margin": null,
            "max_height": null,
            "max_width": null,
            "min_height": null,
            "min_width": null,
            "object_fit": null,
            "object_position": null,
            "order": null,
            "overflow": null,
            "overflow_x": null,
            "overflow_y": null,
            "padding": null,
            "right": null,
            "top": null,
            "visibility": null,
            "width": null
          }
        },
        "8e8cc93489e8439d8540111257f63056": {
          "model_module": "@jupyter-widgets/controls",
          "model_name": "DescriptionStyleModel",
          "model_module_version": "1.5.0",
          "state": {
            "_model_module": "@jupyter-widgets/controls",
            "_model_module_version": "1.5.0",
            "_model_name": "DescriptionStyleModel",
            "_view_count": null,
            "_view_module": "@jupyter-widgets/base",
            "_view_module_version": "1.2.0",
            "_view_name": "StyleView",
            "description_width": ""
          }
        },
        "743184b42e624cabaab9f78491427e3d": {
          "model_module": "@jupyter-widgets/base",
          "model_name": "LayoutModel",
          "model_module_version": "1.2.0",
          "state": {
            "_model_module": "@jupyter-widgets/base",
            "_model_module_version": "1.2.0",
            "_model_name": "LayoutModel",
            "_view_count": null,
            "_view_module": "@jupyter-widgets/base",
            "_view_module_version": "1.2.0",
            "_view_name": "LayoutView",
            "align_content": null,
            "align_items": null,
            "align_self": null,
            "border": null,
            "bottom": null,
            "display": null,
            "flex": null,
            "flex_flow": null,
            "grid_area": null,
            "grid_auto_columns": null,
            "grid_auto_flow": null,
            "grid_auto_rows": null,
            "grid_column": null,
            "grid_gap": null,
            "grid_row": null,
            "grid_template_areas": null,
            "grid_template_columns": null,
            "grid_template_rows": null,
            "height": null,
            "justify_content": null,
            "justify_items": null,
            "left": null,
            "margin": null,
            "max_height": null,
            "max_width": null,
            "min_height": null,
            "min_width": null,
            "object_fit": null,
            "object_position": null,
            "order": null,
            "overflow": null,
            "overflow_x": null,
            "overflow_y": null,
            "padding": null,
            "right": null,
            "top": null,
            "visibility": null,
            "width": null
          }
        },
        "ee19d29a8cae41ee816e7d321274eb07": {
          "model_module": "@jupyter-widgets/controls",
          "model_name": "ProgressStyleModel",
          "model_module_version": "1.5.0",
          "state": {
            "_model_module": "@jupyter-widgets/controls",
            "_model_module_version": "1.5.0",
            "_model_name": "ProgressStyleModel",
            "_view_count": null,
            "_view_module": "@jupyter-widgets/base",
            "_view_module_version": "1.2.0",
            "_view_name": "StyleView",
            "bar_color": null,
            "description_width": ""
          }
        },
        "191c685e889c439081c69ac4942d7477": {
          "model_module": "@jupyter-widgets/base",
          "model_name": "LayoutModel",
          "model_module_version": "1.2.0",
          "state": {
            "_model_module": "@jupyter-widgets/base",
            "_model_module_version": "1.2.0",
            "_model_name": "LayoutModel",
            "_view_count": null,
            "_view_module": "@jupyter-widgets/base",
            "_view_module_version": "1.2.0",
            "_view_name": "LayoutView",
            "align_content": null,
            "align_items": null,
            "align_self": null,
            "border": null,
            "bottom": null,
            "display": null,
            "flex": null,
            "flex_flow": null,
            "grid_area": null,
            "grid_auto_columns": null,
            "grid_auto_flow": null,
            "grid_auto_rows": null,
            "grid_column": null,
            "grid_gap": null,
            "grid_row": null,
            "grid_template_areas": null,
            "grid_template_columns": null,
            "grid_template_rows": null,
            "height": null,
            "justify_content": null,
            "justify_items": null,
            "left": null,
            "margin": null,
            "max_height": null,
            "max_width": null,
            "min_height": null,
            "min_width": null,
            "object_fit": null,
            "object_position": null,
            "order": null,
            "overflow": null,
            "overflow_x": null,
            "overflow_y": null,
            "padding": null,
            "right": null,
            "top": null,
            "visibility": null,
            "width": null
          }
        },
        "b1547123bd0d4ac9855a8632166220ab": {
          "model_module": "@jupyter-widgets/controls",
          "model_name": "DescriptionStyleModel",
          "model_module_version": "1.5.0",
          "state": {
            "_model_module": "@jupyter-widgets/controls",
            "_model_module_version": "1.5.0",
            "_model_name": "DescriptionStyleModel",
            "_view_count": null,
            "_view_module": "@jupyter-widgets/base",
            "_view_module_version": "1.2.0",
            "_view_name": "StyleView",
            "description_width": ""
          }
        },
        "5687a76c8f584790823acce7ecc45f92": {
          "model_module": "@jupyter-widgets/controls",
          "model_name": "HBoxModel",
          "model_module_version": "1.5.0",
          "state": {
            "_dom_classes": [],
            "_model_module": "@jupyter-widgets/controls",
            "_model_module_version": "1.5.0",
            "_model_name": "HBoxModel",
            "_view_count": null,
            "_view_module": "@jupyter-widgets/controls",
            "_view_module_version": "1.5.0",
            "_view_name": "HBoxView",
            "box_style": "",
            "children": [
              "IPY_MODEL_b612a83190dd4af6a8aab442a884af77",
              "IPY_MODEL_6343939cb2934204832df591d10f6c6d",
              "IPY_MODEL_9a594102915447b2adb91074293222ed"
            ],
            "layout": "IPY_MODEL_7bc5a9ced06a4e548e2bbc8456a300c7"
          }
        },
        "b612a83190dd4af6a8aab442a884af77": {
          "model_module": "@jupyter-widgets/controls",
          "model_name": "HTMLModel",
          "model_module_version": "1.5.0",
          "state": {
            "_dom_classes": [],
            "_model_module": "@jupyter-widgets/controls",
            "_model_module_version": "1.5.0",
            "_model_name": "HTMLModel",
            "_view_count": null,
            "_view_module": "@jupyter-widgets/controls",
            "_view_module_version": "1.5.0",
            "_view_name": "HTMLView",
            "description": "",
            "description_tooltip": null,
            "layout": "IPY_MODEL_c07c9aae638e46b9bafc141fe1ceda0d",
            "placeholder": "​",
            "style": "IPY_MODEL_a1b48bbfcf314cd68e971d10d7440673",
            "value": "100%"
          }
        },
        "6343939cb2934204832df591d10f6c6d": {
          "model_module": "@jupyter-widgets/controls",
          "model_name": "FloatProgressModel",
          "model_module_version": "1.5.0",
          "state": {
            "_dom_classes": [],
            "_model_module": "@jupyter-widgets/controls",
            "_model_module_version": "1.5.0",
            "_model_name": "FloatProgressModel",
            "_view_count": null,
            "_view_module": "@jupyter-widgets/controls",
            "_view_module_version": "1.5.0",
            "_view_name": "ProgressView",
            "bar_style": "success",
            "description": "",
            "description_tooltip": null,
            "layout": "IPY_MODEL_88b7ebbed50b43c19c8653a01b036517",
            "max": 28881,
            "min": 0,
            "orientation": "horizontal",
            "style": "IPY_MODEL_aadfd5c3712546d4a81a44df3d8d78f5",
            "value": 28881
          }
        },
        "9a594102915447b2adb91074293222ed": {
          "model_module": "@jupyter-widgets/controls",
          "model_name": "HTMLModel",
          "model_module_version": "1.5.0",
          "state": {
            "_dom_classes": [],
            "_model_module": "@jupyter-widgets/controls",
            "_model_module_version": "1.5.0",
            "_model_name": "HTMLModel",
            "_view_count": null,
            "_view_module": "@jupyter-widgets/controls",
            "_view_module_version": "1.5.0",
            "_view_name": "HTMLView",
            "description": "",
            "description_tooltip": null,
            "layout": "IPY_MODEL_9738bff9acef497e88771b53db056a10",
            "placeholder": "​",
            "style": "IPY_MODEL_836f529cb57a46b5a83fff82f9b8a962",
            "value": " 28881/28881 [00:00&lt;00:00, 1213954.80it/s]"
          }
        },
        "7bc5a9ced06a4e548e2bbc8456a300c7": {
          "model_module": "@jupyter-widgets/base",
          "model_name": "LayoutModel",
          "model_module_version": "1.2.0",
          "state": {
            "_model_module": "@jupyter-widgets/base",
            "_model_module_version": "1.2.0",
            "_model_name": "LayoutModel",
            "_view_count": null,
            "_view_module": "@jupyter-widgets/base",
            "_view_module_version": "1.2.0",
            "_view_name": "LayoutView",
            "align_content": null,
            "align_items": null,
            "align_self": null,
            "border": null,
            "bottom": null,
            "display": null,
            "flex": null,
            "flex_flow": null,
            "grid_area": null,
            "grid_auto_columns": null,
            "grid_auto_flow": null,
            "grid_auto_rows": null,
            "grid_column": null,
            "grid_gap": null,
            "grid_row": null,
            "grid_template_areas": null,
            "grid_template_columns": null,
            "grid_template_rows": null,
            "height": null,
            "justify_content": null,
            "justify_items": null,
            "left": null,
            "margin": null,
            "max_height": null,
            "max_width": null,
            "min_height": null,
            "min_width": null,
            "object_fit": null,
            "object_position": null,
            "order": null,
            "overflow": null,
            "overflow_x": null,
            "overflow_y": null,
            "padding": null,
            "right": null,
            "top": null,
            "visibility": null,
            "width": null
          }
        },
        "c07c9aae638e46b9bafc141fe1ceda0d": {
          "model_module": "@jupyter-widgets/base",
          "model_name": "LayoutModel",
          "model_module_version": "1.2.0",
          "state": {
            "_model_module": "@jupyter-widgets/base",
            "_model_module_version": "1.2.0",
            "_model_name": "LayoutModel",
            "_view_count": null,
            "_view_module": "@jupyter-widgets/base",
            "_view_module_version": "1.2.0",
            "_view_name": "LayoutView",
            "align_content": null,
            "align_items": null,
            "align_self": null,
            "border": null,
            "bottom": null,
            "display": null,
            "flex": null,
            "flex_flow": null,
            "grid_area": null,
            "grid_auto_columns": null,
            "grid_auto_flow": null,
            "grid_auto_rows": null,
            "grid_column": null,
            "grid_gap": null,
            "grid_row": null,
            "grid_template_areas": null,
            "grid_template_columns": null,
            "grid_template_rows": null,
            "height": null,
            "justify_content": null,
            "justify_items": null,
            "left": null,
            "margin": null,
            "max_height": null,
            "max_width": null,
            "min_height": null,
            "min_width": null,
            "object_fit": null,
            "object_position": null,
            "order": null,
            "overflow": null,
            "overflow_x": null,
            "overflow_y": null,
            "padding": null,
            "right": null,
            "top": null,
            "visibility": null,
            "width": null
          }
        },
        "a1b48bbfcf314cd68e971d10d7440673": {
          "model_module": "@jupyter-widgets/controls",
          "model_name": "DescriptionStyleModel",
          "model_module_version": "1.5.0",
          "state": {
            "_model_module": "@jupyter-widgets/controls",
            "_model_module_version": "1.5.0",
            "_model_name": "DescriptionStyleModel",
            "_view_count": null,
            "_view_module": "@jupyter-widgets/base",
            "_view_module_version": "1.2.0",
            "_view_name": "StyleView",
            "description_width": ""
          }
        },
        "88b7ebbed50b43c19c8653a01b036517": {
          "model_module": "@jupyter-widgets/base",
          "model_name": "LayoutModel",
          "model_module_version": "1.2.0",
          "state": {
            "_model_module": "@jupyter-widgets/base",
            "_model_module_version": "1.2.0",
            "_model_name": "LayoutModel",
            "_view_count": null,
            "_view_module": "@jupyter-widgets/base",
            "_view_module_version": "1.2.0",
            "_view_name": "LayoutView",
            "align_content": null,
            "align_items": null,
            "align_self": null,
            "border": null,
            "bottom": null,
            "display": null,
            "flex": null,
            "flex_flow": null,
            "grid_area": null,
            "grid_auto_columns": null,
            "grid_auto_flow": null,
            "grid_auto_rows": null,
            "grid_column": null,
            "grid_gap": null,
            "grid_row": null,
            "grid_template_areas": null,
            "grid_template_columns": null,
            "grid_template_rows": null,
            "height": null,
            "justify_content": null,
            "justify_items": null,
            "left": null,
            "margin": null,
            "max_height": null,
            "max_width": null,
            "min_height": null,
            "min_width": null,
            "object_fit": null,
            "object_position": null,
            "order": null,
            "overflow": null,
            "overflow_x": null,
            "overflow_y": null,
            "padding": null,
            "right": null,
            "top": null,
            "visibility": null,
            "width": null
          }
        },
        "aadfd5c3712546d4a81a44df3d8d78f5": {
          "model_module": "@jupyter-widgets/controls",
          "model_name": "ProgressStyleModel",
          "model_module_version": "1.5.0",
          "state": {
            "_model_module": "@jupyter-widgets/controls",
            "_model_module_version": "1.5.0",
            "_model_name": "ProgressStyleModel",
            "_view_count": null,
            "_view_module": "@jupyter-widgets/base",
            "_view_module_version": "1.2.0",
            "_view_name": "StyleView",
            "bar_color": null,
            "description_width": ""
          }
        },
        "9738bff9acef497e88771b53db056a10": {
          "model_module": "@jupyter-widgets/base",
          "model_name": "LayoutModel",
          "model_module_version": "1.2.0",
          "state": {
            "_model_module": "@jupyter-widgets/base",
            "_model_module_version": "1.2.0",
            "_model_name": "LayoutModel",
            "_view_count": null,
            "_view_module": "@jupyter-widgets/base",
            "_view_module_version": "1.2.0",
            "_view_name": "LayoutView",
            "align_content": null,
            "align_items": null,
            "align_self": null,
            "border": null,
            "bottom": null,
            "display": null,
            "flex": null,
            "flex_flow": null,
            "grid_area": null,
            "grid_auto_columns": null,
            "grid_auto_flow": null,
            "grid_auto_rows": null,
            "grid_column": null,
            "grid_gap": null,
            "grid_row": null,
            "grid_template_areas": null,
            "grid_template_columns": null,
            "grid_template_rows": null,
            "height": null,
            "justify_content": null,
            "justify_items": null,
            "left": null,
            "margin": null,
            "max_height": null,
            "max_width": null,
            "min_height": null,
            "min_width": null,
            "object_fit": null,
            "object_position": null,
            "order": null,
            "overflow": null,
            "overflow_x": null,
            "overflow_y": null,
            "padding": null,
            "right": null,
            "top": null,
            "visibility": null,
            "width": null
          }
        },
        "836f529cb57a46b5a83fff82f9b8a962": {
          "model_module": "@jupyter-widgets/controls",
          "model_name": "DescriptionStyleModel",
          "model_module_version": "1.5.0",
          "state": {
            "_model_module": "@jupyter-widgets/controls",
            "_model_module_version": "1.5.0",
            "_model_name": "DescriptionStyleModel",
            "_view_count": null,
            "_view_module": "@jupyter-widgets/base",
            "_view_module_version": "1.2.0",
            "_view_name": "StyleView",
            "description_width": ""
          }
        },
        "8a60b67bbb44404e9b67ec48bf234819": {
          "model_module": "@jupyter-widgets/controls",
          "model_name": "HBoxModel",
          "model_module_version": "1.5.0",
          "state": {
            "_dom_classes": [],
            "_model_module": "@jupyter-widgets/controls",
            "_model_module_version": "1.5.0",
            "_model_name": "HBoxModel",
            "_view_count": null,
            "_view_module": "@jupyter-widgets/controls",
            "_view_module_version": "1.5.0",
            "_view_name": "HBoxView",
            "box_style": "",
            "children": [
              "IPY_MODEL_4cf84179166347209eaaffd2c192752b",
              "IPY_MODEL_1b2f12e10d414aa3b45934b1fdb488ce",
              "IPY_MODEL_9ff8a606661b42e9b9cc6772cdeb28d0"
            ],
            "layout": "IPY_MODEL_ffe7c0503fb6405c9fcba8af4dabfc1e"
          }
        },
        "4cf84179166347209eaaffd2c192752b": {
          "model_module": "@jupyter-widgets/controls",
          "model_name": "HTMLModel",
          "model_module_version": "1.5.0",
          "state": {
            "_dom_classes": [],
            "_model_module": "@jupyter-widgets/controls",
            "_model_module_version": "1.5.0",
            "_model_name": "HTMLModel",
            "_view_count": null,
            "_view_module": "@jupyter-widgets/controls",
            "_view_module_version": "1.5.0",
            "_view_name": "HTMLView",
            "description": "",
            "description_tooltip": null,
            "layout": "IPY_MODEL_4f870a939a6e4b5187f6e59866ab29e3",
            "placeholder": "​",
            "style": "IPY_MODEL_de855841f3e94684a98db87fe72b575c",
            "value": "100%"
          }
        },
        "1b2f12e10d414aa3b45934b1fdb488ce": {
          "model_module": "@jupyter-widgets/controls",
          "model_name": "FloatProgressModel",
          "model_module_version": "1.5.0",
          "state": {
            "_dom_classes": [],
            "_model_module": "@jupyter-widgets/controls",
            "_model_module_version": "1.5.0",
            "_model_name": "FloatProgressModel",
            "_view_count": null,
            "_view_module": "@jupyter-widgets/controls",
            "_view_module_version": "1.5.0",
            "_view_name": "ProgressView",
            "bar_style": "success",
            "description": "",
            "description_tooltip": null,
            "layout": "IPY_MODEL_1086eb920c6941a9bf965b84887c4d7a",
            "max": 1648877,
            "min": 0,
            "orientation": "horizontal",
            "style": "IPY_MODEL_690b339ae9db4dfb95d469b5b32d0b7f",
            "value": 1648877
          }
        },
        "9ff8a606661b42e9b9cc6772cdeb28d0": {
          "model_module": "@jupyter-widgets/controls",
          "model_name": "HTMLModel",
          "model_module_version": "1.5.0",
          "state": {
            "_dom_classes": [],
            "_model_module": "@jupyter-widgets/controls",
            "_model_module_version": "1.5.0",
            "_model_name": "HTMLModel",
            "_view_count": null,
            "_view_module": "@jupyter-widgets/controls",
            "_view_module_version": "1.5.0",
            "_view_name": "HTMLView",
            "description": "",
            "description_tooltip": null,
            "layout": "IPY_MODEL_c47a67fd15b34ea8b6808487ec8feea0",
            "placeholder": "​",
            "style": "IPY_MODEL_d4184ffe7e8e4520a1940bd6284be055",
            "value": " 1648877/1648877 [00:00&lt;00:00, 32353685.21it/s]"
          }
        },
        "ffe7c0503fb6405c9fcba8af4dabfc1e": {
          "model_module": "@jupyter-widgets/base",
          "model_name": "LayoutModel",
          "model_module_version": "1.2.0",
          "state": {
            "_model_module": "@jupyter-widgets/base",
            "_model_module_version": "1.2.0",
            "_model_name": "LayoutModel",
            "_view_count": null,
            "_view_module": "@jupyter-widgets/base",
            "_view_module_version": "1.2.0",
            "_view_name": "LayoutView",
            "align_content": null,
            "align_items": null,
            "align_self": null,
            "border": null,
            "bottom": null,
            "display": null,
            "flex": null,
            "flex_flow": null,
            "grid_area": null,
            "grid_auto_columns": null,
            "grid_auto_flow": null,
            "grid_auto_rows": null,
            "grid_column": null,
            "grid_gap": null,
            "grid_row": null,
            "grid_template_areas": null,
            "grid_template_columns": null,
            "grid_template_rows": null,
            "height": null,
            "justify_content": null,
            "justify_items": null,
            "left": null,
            "margin": null,
            "max_height": null,
            "max_width": null,
            "min_height": null,
            "min_width": null,
            "object_fit": null,
            "object_position": null,
            "order": null,
            "overflow": null,
            "overflow_x": null,
            "overflow_y": null,
            "padding": null,
            "right": null,
            "top": null,
            "visibility": null,
            "width": null
          }
        },
        "4f870a939a6e4b5187f6e59866ab29e3": {
          "model_module": "@jupyter-widgets/base",
          "model_name": "LayoutModel",
          "model_module_version": "1.2.0",
          "state": {
            "_model_module": "@jupyter-widgets/base",
            "_model_module_version": "1.2.0",
            "_model_name": "LayoutModel",
            "_view_count": null,
            "_view_module": "@jupyter-widgets/base",
            "_view_module_version": "1.2.0",
            "_view_name": "LayoutView",
            "align_content": null,
            "align_items": null,
            "align_self": null,
            "border": null,
            "bottom": null,
            "display": null,
            "flex": null,
            "flex_flow": null,
            "grid_area": null,
            "grid_auto_columns": null,
            "grid_auto_flow": null,
            "grid_auto_rows": null,
            "grid_column": null,
            "grid_gap": null,
            "grid_row": null,
            "grid_template_areas": null,
            "grid_template_columns": null,
            "grid_template_rows": null,
            "height": null,
            "justify_content": null,
            "justify_items": null,
            "left": null,
            "margin": null,
            "max_height": null,
            "max_width": null,
            "min_height": null,
            "min_width": null,
            "object_fit": null,
            "object_position": null,
            "order": null,
            "overflow": null,
            "overflow_x": null,
            "overflow_y": null,
            "padding": null,
            "right": null,
            "top": null,
            "visibility": null,
            "width": null
          }
        },
        "de855841f3e94684a98db87fe72b575c": {
          "model_module": "@jupyter-widgets/controls",
          "model_name": "DescriptionStyleModel",
          "model_module_version": "1.5.0",
          "state": {
            "_model_module": "@jupyter-widgets/controls",
            "_model_module_version": "1.5.0",
            "_model_name": "DescriptionStyleModel",
            "_view_count": null,
            "_view_module": "@jupyter-widgets/base",
            "_view_module_version": "1.2.0",
            "_view_name": "StyleView",
            "description_width": ""
          }
        },
        "1086eb920c6941a9bf965b84887c4d7a": {
          "model_module": "@jupyter-widgets/base",
          "model_name": "LayoutModel",
          "model_module_version": "1.2.0",
          "state": {
            "_model_module": "@jupyter-widgets/base",
            "_model_module_version": "1.2.0",
            "_model_name": "LayoutModel",
            "_view_count": null,
            "_view_module": "@jupyter-widgets/base",
            "_view_module_version": "1.2.0",
            "_view_name": "LayoutView",
            "align_content": null,
            "align_items": null,
            "align_self": null,
            "border": null,
            "bottom": null,
            "display": null,
            "flex": null,
            "flex_flow": null,
            "grid_area": null,
            "grid_auto_columns": null,
            "grid_auto_flow": null,
            "grid_auto_rows": null,
            "grid_column": null,
            "grid_gap": null,
            "grid_row": null,
            "grid_template_areas": null,
            "grid_template_columns": null,
            "grid_template_rows": null,
            "height": null,
            "justify_content": null,
            "justify_items": null,
            "left": null,
            "margin": null,
            "max_height": null,
            "max_width": null,
            "min_height": null,
            "min_width": null,
            "object_fit": null,
            "object_position": null,
            "order": null,
            "overflow": null,
            "overflow_x": null,
            "overflow_y": null,
            "padding": null,
            "right": null,
            "top": null,
            "visibility": null,
            "width": null
          }
        },
        "690b339ae9db4dfb95d469b5b32d0b7f": {
          "model_module": "@jupyter-widgets/controls",
          "model_name": "ProgressStyleModel",
          "model_module_version": "1.5.0",
          "state": {
            "_model_module": "@jupyter-widgets/controls",
            "_model_module_version": "1.5.0",
            "_model_name": "ProgressStyleModel",
            "_view_count": null,
            "_view_module": "@jupyter-widgets/base",
            "_view_module_version": "1.2.0",
            "_view_name": "StyleView",
            "bar_color": null,
            "description_width": ""
          }
        },
        "c47a67fd15b34ea8b6808487ec8feea0": {
          "model_module": "@jupyter-widgets/base",
          "model_name": "LayoutModel",
          "model_module_version": "1.2.0",
          "state": {
            "_model_module": "@jupyter-widgets/base",
            "_model_module_version": "1.2.0",
            "_model_name": "LayoutModel",
            "_view_count": null,
            "_view_module": "@jupyter-widgets/base",
            "_view_module_version": "1.2.0",
            "_view_name": "LayoutView",
            "align_content": null,
            "align_items": null,
            "align_self": null,
            "border": null,
            "bottom": null,
            "display": null,
            "flex": null,
            "flex_flow": null,
            "grid_area": null,
            "grid_auto_columns": null,
            "grid_auto_flow": null,
            "grid_auto_rows": null,
            "grid_column": null,
            "grid_gap": null,
            "grid_row": null,
            "grid_template_areas": null,
            "grid_template_columns": null,
            "grid_template_rows": null,
            "height": null,
            "justify_content": null,
            "justify_items": null,
            "left": null,
            "margin": null,
            "max_height": null,
            "max_width": null,
            "min_height": null,
            "min_width": null,
            "object_fit": null,
            "object_position": null,
            "order": null,
            "overflow": null,
            "overflow_x": null,
            "overflow_y": null,
            "padding": null,
            "right": null,
            "top": null,
            "visibility": null,
            "width": null
          }
        },
        "d4184ffe7e8e4520a1940bd6284be055": {
          "model_module": "@jupyter-widgets/controls",
          "model_name": "DescriptionStyleModel",
          "model_module_version": "1.5.0",
          "state": {
            "_model_module": "@jupyter-widgets/controls",
            "_model_module_version": "1.5.0",
            "_model_name": "DescriptionStyleModel",
            "_view_count": null,
            "_view_module": "@jupyter-widgets/base",
            "_view_module_version": "1.2.0",
            "_view_name": "StyleView",
            "description_width": ""
          }
        },
        "8f1c1de6288f4f86a7df0067764ba7ab": {
          "model_module": "@jupyter-widgets/controls",
          "model_name": "HBoxModel",
          "model_module_version": "1.5.0",
          "state": {
            "_dom_classes": [],
            "_model_module": "@jupyter-widgets/controls",
            "_model_module_version": "1.5.0",
            "_model_name": "HBoxModel",
            "_view_count": null,
            "_view_module": "@jupyter-widgets/controls",
            "_view_module_version": "1.5.0",
            "_view_name": "HBoxView",
            "box_style": "",
            "children": [
              "IPY_MODEL_4bc2aad2f335491eb1ecd0046c2d8150",
              "IPY_MODEL_3d6ad9aeccb842809935d64cbbd1ef69",
              "IPY_MODEL_e752226e78fd4b718c1c920ec2c24871"
            ],
            "layout": "IPY_MODEL_40500a4994d84b738a61ca671790f2a7"
          }
        },
        "4bc2aad2f335491eb1ecd0046c2d8150": {
          "model_module": "@jupyter-widgets/controls",
          "model_name": "HTMLModel",
          "model_module_version": "1.5.0",
          "state": {
            "_dom_classes": [],
            "_model_module": "@jupyter-widgets/controls",
            "_model_module_version": "1.5.0",
            "_model_name": "HTMLModel",
            "_view_count": null,
            "_view_module": "@jupyter-widgets/controls",
            "_view_module_version": "1.5.0",
            "_view_name": "HTMLView",
            "description": "",
            "description_tooltip": null,
            "layout": "IPY_MODEL_0e0c1cc046674dc2b7edf1b949edc337",
            "placeholder": "​",
            "style": "IPY_MODEL_08ab41e6063543eb92bb0391e8734d00",
            "value": "100%"
          }
        },
        "3d6ad9aeccb842809935d64cbbd1ef69": {
          "model_module": "@jupyter-widgets/controls",
          "model_name": "FloatProgressModel",
          "model_module_version": "1.5.0",
          "state": {
            "_dom_classes": [],
            "_model_module": "@jupyter-widgets/controls",
            "_model_module_version": "1.5.0",
            "_model_name": "FloatProgressModel",
            "_view_count": null,
            "_view_module": "@jupyter-widgets/controls",
            "_view_module_version": "1.5.0",
            "_view_name": "ProgressView",
            "bar_style": "success",
            "description": "",
            "description_tooltip": null,
            "layout": "IPY_MODEL_e207f9936db647b6af126fcb43554127",
            "max": 4542,
            "min": 0,
            "orientation": "horizontal",
            "style": "IPY_MODEL_af5dd0e1499346c59cdad8dd9955990e",
            "value": 4542
          }
        },
        "e752226e78fd4b718c1c920ec2c24871": {
          "model_module": "@jupyter-widgets/controls",
          "model_name": "HTMLModel",
          "model_module_version": "1.5.0",
          "state": {
            "_dom_classes": [],
            "_model_module": "@jupyter-widgets/controls",
            "_model_module_version": "1.5.0",
            "_model_name": "HTMLModel",
            "_view_count": null,
            "_view_module": "@jupyter-widgets/controls",
            "_view_module_version": "1.5.0",
            "_view_name": "HTMLView",
            "description": "",
            "description_tooltip": null,
            "layout": "IPY_MODEL_0bce1f421b444cab9eaa0b3f386684ee",
            "placeholder": "​",
            "style": "IPY_MODEL_dd207a43d2cf434b973163ab3553a3dd",
            "value": " 4542/4542 [00:00&lt;00:00, 129851.60it/s]"
          }
        },
        "40500a4994d84b738a61ca671790f2a7": {
          "model_module": "@jupyter-widgets/base",
          "model_name": "LayoutModel",
          "model_module_version": "1.2.0",
          "state": {
            "_model_module": "@jupyter-widgets/base",
            "_model_module_version": "1.2.0",
            "_model_name": "LayoutModel",
            "_view_count": null,
            "_view_module": "@jupyter-widgets/base",
            "_view_module_version": "1.2.0",
            "_view_name": "LayoutView",
            "align_content": null,
            "align_items": null,
            "align_self": null,
            "border": null,
            "bottom": null,
            "display": null,
            "flex": null,
            "flex_flow": null,
            "grid_area": null,
            "grid_auto_columns": null,
            "grid_auto_flow": null,
            "grid_auto_rows": null,
            "grid_column": null,
            "grid_gap": null,
            "grid_row": null,
            "grid_template_areas": null,
            "grid_template_columns": null,
            "grid_template_rows": null,
            "height": null,
            "justify_content": null,
            "justify_items": null,
            "left": null,
            "margin": null,
            "max_height": null,
            "max_width": null,
            "min_height": null,
            "min_width": null,
            "object_fit": null,
            "object_position": null,
            "order": null,
            "overflow": null,
            "overflow_x": null,
            "overflow_y": null,
            "padding": null,
            "right": null,
            "top": null,
            "visibility": null,
            "width": null
          }
        },
        "0e0c1cc046674dc2b7edf1b949edc337": {
          "model_module": "@jupyter-widgets/base",
          "model_name": "LayoutModel",
          "model_module_version": "1.2.0",
          "state": {
            "_model_module": "@jupyter-widgets/base",
            "_model_module_version": "1.2.0",
            "_model_name": "LayoutModel",
            "_view_count": null,
            "_view_module": "@jupyter-widgets/base",
            "_view_module_version": "1.2.0",
            "_view_name": "LayoutView",
            "align_content": null,
            "align_items": null,
            "align_self": null,
            "border": null,
            "bottom": null,
            "display": null,
            "flex": null,
            "flex_flow": null,
            "grid_area": null,
            "grid_auto_columns": null,
            "grid_auto_flow": null,
            "grid_auto_rows": null,
            "grid_column": null,
            "grid_gap": null,
            "grid_row": null,
            "grid_template_areas": null,
            "grid_template_columns": null,
            "grid_template_rows": null,
            "height": null,
            "justify_content": null,
            "justify_items": null,
            "left": null,
            "margin": null,
            "max_height": null,
            "max_width": null,
            "min_height": null,
            "min_width": null,
            "object_fit": null,
            "object_position": null,
            "order": null,
            "overflow": null,
            "overflow_x": null,
            "overflow_y": null,
            "padding": null,
            "right": null,
            "top": null,
            "visibility": null,
            "width": null
          }
        },
        "08ab41e6063543eb92bb0391e8734d00": {
          "model_module": "@jupyter-widgets/controls",
          "model_name": "DescriptionStyleModel",
          "model_module_version": "1.5.0",
          "state": {
            "_model_module": "@jupyter-widgets/controls",
            "_model_module_version": "1.5.0",
            "_model_name": "DescriptionStyleModel",
            "_view_count": null,
            "_view_module": "@jupyter-widgets/base",
            "_view_module_version": "1.2.0",
            "_view_name": "StyleView",
            "description_width": ""
          }
        },
        "e207f9936db647b6af126fcb43554127": {
          "model_module": "@jupyter-widgets/base",
          "model_name": "LayoutModel",
          "model_module_version": "1.2.0",
          "state": {
            "_model_module": "@jupyter-widgets/base",
            "_model_module_version": "1.2.0",
            "_model_name": "LayoutModel",
            "_view_count": null,
            "_view_module": "@jupyter-widgets/base",
            "_view_module_version": "1.2.0",
            "_view_name": "LayoutView",
            "align_content": null,
            "align_items": null,
            "align_self": null,
            "border": null,
            "bottom": null,
            "display": null,
            "flex": null,
            "flex_flow": null,
            "grid_area": null,
            "grid_auto_columns": null,
            "grid_auto_flow": null,
            "grid_auto_rows": null,
            "grid_column": null,
            "grid_gap": null,
            "grid_row": null,
            "grid_template_areas": null,
            "grid_template_columns": null,
            "grid_template_rows": null,
            "height": null,
            "justify_content": null,
            "justify_items": null,
            "left": null,
            "margin": null,
            "max_height": null,
            "max_width": null,
            "min_height": null,
            "min_width": null,
            "object_fit": null,
            "object_position": null,
            "order": null,
            "overflow": null,
            "overflow_x": null,
            "overflow_y": null,
            "padding": null,
            "right": null,
            "top": null,
            "visibility": null,
            "width": null
          }
        },
        "af5dd0e1499346c59cdad8dd9955990e": {
          "model_module": "@jupyter-widgets/controls",
          "model_name": "ProgressStyleModel",
          "model_module_version": "1.5.0",
          "state": {
            "_model_module": "@jupyter-widgets/controls",
            "_model_module_version": "1.5.0",
            "_model_name": "ProgressStyleModel",
            "_view_count": null,
            "_view_module": "@jupyter-widgets/base",
            "_view_module_version": "1.2.0",
            "_view_name": "StyleView",
            "bar_color": null,
            "description_width": ""
          }
        },
        "0bce1f421b444cab9eaa0b3f386684ee": {
          "model_module": "@jupyter-widgets/base",
          "model_name": "LayoutModel",
          "model_module_version": "1.2.0",
          "state": {
            "_model_module": "@jupyter-widgets/base",
            "_model_module_version": "1.2.0",
            "_model_name": "LayoutModel",
            "_view_count": null,
            "_view_module": "@jupyter-widgets/base",
            "_view_module_version": "1.2.0",
            "_view_name": "LayoutView",
            "align_content": null,
            "align_items": null,
            "align_self": null,
            "border": null,
            "bottom": null,
            "display": null,
            "flex": null,
            "flex_flow": null,
            "grid_area": null,
            "grid_auto_columns": null,
            "grid_auto_flow": null,
            "grid_auto_rows": null,
            "grid_column": null,
            "grid_gap": null,
            "grid_row": null,
            "grid_template_areas": null,
            "grid_template_columns": null,
            "grid_template_rows": null,
            "height": null,
            "justify_content": null,
            "justify_items": null,
            "left": null,
            "margin": null,
            "max_height": null,
            "max_width": null,
            "min_height": null,
            "min_width": null,
            "object_fit": null,
            "object_position": null,
            "order": null,
            "overflow": null,
            "overflow_x": null,
            "overflow_y": null,
            "padding": null,
            "right": null,
            "top": null,
            "visibility": null,
            "width": null
          }
        },
        "dd207a43d2cf434b973163ab3553a3dd": {
          "model_module": "@jupyter-widgets/controls",
          "model_name": "DescriptionStyleModel",
          "model_module_version": "1.5.0",
          "state": {
            "_model_module": "@jupyter-widgets/controls",
            "_model_module_version": "1.5.0",
            "_model_name": "DescriptionStyleModel",
            "_view_count": null,
            "_view_module": "@jupyter-widgets/base",
            "_view_module_version": "1.2.0",
            "_view_name": "StyleView",
            "description_width": ""
          }
        }
      }
    }
  },
  "cells": [
    {
      "cell_type": "markdown",
      "metadata": {
        "id": "view-in-github",
        "colab_type": "text"
      },
      "source": [
        "<a href=\"https://colab.research.google.com/github/UTDataMining/2022A/blob/main/lab11/Intro_NN.ipynb\" target=\"_parent\"><img src=\"https://colab.research.google.com/assets/colab-badge.svg\" alt=\"Open In Colab\"/></a>"
      ]
    },
    {
      "cell_type": "markdown",
      "metadata": {
        "id": "l2oske8d1u8W"
      },
      "source": [
        "# PyTorchによるニューラルネットワークの実装\n",
        "[Pytorch](https://pytorch.org/)"
      ]
    },
    {
      "cell_type": "markdown",
      "metadata": {
        "id": "-2LRlB5gYMqZ"
      },
      "source": [
        "## Autograd\n",
        "自動微分による勾配の計算\n",
        "\n",
        "[Autograd](https://github.com/HIPS/autograd)\n",
        "\n",
        "[Autogradチュートリアル](https://github.com/HIPS/autograd/blob/master/docs/tutorial.md)\n"
      ]
    },
    {
      "cell_type": "code",
      "source": [
        "def grad_sigmoid_symbolic(x):\n",
        "    # Since d sigmoid(x) / dx = sigmoid(x) * (1 - sigmoid(x))\n",
        "    s = sigmoid(x)\n",
        "    dsdx = s * (1 - s)\n",
        "    return dsdx\n",
        "grad_sigmoid_symbolic(1.0) # 勾配の値（x=1.0における）"
      ],
      "metadata": {
        "colab": {
          "base_uri": "https://localhost:8080/"
        },
        "id": "MpGeLhm9OyGO",
        "outputId": "d66d27a1-c964-400b-bb96-df3f7ca21d8a"
      },
      "execution_count": 34,
      "outputs": [
        {
          "output_type": "execute_result",
          "data": {
            "text/plain": [
              "0.19661193324148185"
            ]
          },
          "metadata": {},
          "execution_count": 34
        }
      ]
    },
    {
      "cell_type": "code",
      "metadata": {
        "id": "Q4wuDdElYSnr"
      },
      "source": [
        "import autograd.numpy as np\n",
        "from autograd import grad"
      ],
      "execution_count": null,
      "outputs": []
    },
    {
      "cell_type": "markdown",
      "metadata": {
        "id": "wGRkG1D8E8eE"
      },
      "source": [
        "Autogradによるシグモイド関数の勾配計算の例\n",
        "\n",
        "$$\n",
        "f(x) = \\frac{1}{1 + e^{-x}}\n",
        "$$\n",
        "\n",
        "シグモイド関数を以下のような単純な関数の組み合わせで考える。\n",
        "\n",
        "$$f(x) = s(c(b(a(x))))$$\n",
        "\n",
        "$$\n",
        "a(x) = -x\n",
        "$$\n",
        "\n",
        "$$\n",
        "b(a) = e^a\n",
        "$$\n",
        "\n",
        "$$\n",
        "c(b) = 1 + b\n",
        "$$\n",
        "\n",
        "$$\n",
        "s(c) = \\frac{1}{c}\n",
        "$$\n",
        "\n",
        "この時の計算グラフは以下のように表すことができる。\n",
        " \n",
        "![Gradient Computation Image](https://drive.google.com/uc?export=view&id=1bvdPv0MI2eM3GeobsHFsFjLrLsibuhJa)\n",
        "\n",
        "連鎖律を用いて入力$x$に関する関数$s$の勾配$\\frac{\\partial s}{\\partial x}$は\n",
        "$$\n",
        "\\frac{\\partial s}{\\partial x} = \\frac{\\partial s}{\\partial c} \\frac{\\partial c}{\\partial b} \\frac{\\partial b}{\\partial a} \\frac{\\partial a}{\\partial x}\n",
        "$$\n",
        "となります。この勾配を実際に求めてみると以下のようになります。"
      ]
    },
    {
      "cell_type": "code",
      "metadata": {
        "colab": {
          "base_uri": "https://localhost:8080/"
        },
        "id": "oqfsFXxBEu8j",
        "outputId": "b3feb9cb-6824-49f6-8e41-1c50134fc381"
      },
      "source": [
        "def grad_sigmoid_manual(x):\n",
        "    a = -x        \n",
        "    b = np.exp(a) \n",
        "    c = 1 + b     \n",
        "    s = 1.0 / c   \n",
        "    \n",
        "    dsdc = (-1.0 / (c**2))\n",
        "    dsdb = dsdc * 1\n",
        "    dsda = dsdb * np.exp(a)\n",
        "    dsdx = dsda * (-1)\n",
        "    \n",
        "    return dsdx\n",
        "\n",
        "grad_sigmoid_manual(1.0) # 勾配の値（x=1.0における）"
      ],
      "execution_count": null,
      "outputs": [
        {
          "output_type": "execute_result",
          "data": {
            "text/plain": [
              "0.19661193324148188"
            ]
          },
          "metadata": {},
          "execution_count": 4
        }
      ]
    },
    {
      "cell_type": "markdown",
      "metadata": {
        "id": "MglIp04FGf9q"
      },
      "source": [
        "上記の手続きをAutogradで記述すると以下のようになります。"
      ]
    },
    {
      "cell_type": "code",
      "metadata": {
        "colab": {
          "base_uri": "https://localhost:8080/"
        },
        "id": "LdffDvlGYj2U",
        "outputId": "fc3fa4ae-38af-4e83-c8f8-896ee1a7190f"
      },
      "source": [
        "def sigmoid(x): # 関数定義\n",
        "  return 1.0/(1.0 + np.exp(-x))\n",
        "\n",
        "grad_sigmoid = grad(sigmoid) # 勾配の取得　\n",
        "grad_sigmoid(1.0) # 勾配の値（x=1.0における）"
      ],
      "execution_count": null,
      "outputs": [
        {
          "output_type": "execute_result",
          "data": {
            "text/plain": [
              "0.19661193324148188"
            ]
          },
          "metadata": {},
          "execution_count": 5
        }
      ]
    },
    {
      "cell_type": "markdown",
      "source": [
        "有限差分による勾配を確認してみましょう。"
      ],
      "metadata": {
        "id": "GRAK6GqgUKlU"
      }
    },
    {
      "cell_type": "code",
      "metadata": {
        "colab": {
          "base_uri": "https://localhost:8080/"
        },
        "id": "vOufirt_avdw",
        "outputId": "f0ea703f-1e2b-4180-9466-f06fdb3f25cb"
      },
      "source": [
        "(sigmoid(1.0001) - sigmoid(0.9999)) / 0.0002 # 有限差分による勾配の確認"
      ],
      "execution_count": null,
      "outputs": [
        {
          "output_type": "execute_result",
          "data": {
            "text/plain": [
              "0.19661193318254444"
            ]
          },
          "metadata": {},
          "execution_count": 6
        }
      ]
    },
    {
      "cell_type": "markdown",
      "metadata": {
        "id": "Zeyho2LRa5Dk"
      },
      "source": [
        "## PyTorchによるAutomatic differentiation\n",
        "[Autograd](https://pytorch.org/docs/stable/notes/autograd.html)\n"
      ]
    },
    {
      "cell_type": "code",
      "metadata": {
        "id": "RjAqXkDFbQ6P"
      },
      "source": [
        "import torch"
      ],
      "execution_count": null,
      "outputs": []
    },
    {
      "cell_type": "code",
      "metadata": {
        "colab": {
          "base_uri": "https://localhost:8080/"
        },
        "id": "tWykyzzsa89H",
        "outputId": "b4260d6e-5537-4f0b-b5d6-891f35af0227"
      },
      "source": [
        "def f(x): # 関数定義 \n",
        "    return 1.0/(1.0+torch.exp(-x))\n",
        "\n",
        "x = torch.from_numpy(np.array([1.0])).requires_grad_(True)\n",
        "# x = torch.tensor(1.0).requires_grad_(True) \n",
        "y = f(x)\n",
        "y.backward() # 勾配の計算\n",
        "x.grad.item()"
      ],
      "execution_count": null,
      "outputs": [
        {
          "output_type": "execute_result",
          "data": {
            "text/plain": [
              "0.19661193324148188"
            ]
          },
          "metadata": {},
          "execution_count": 13
        }
      ]
    },
    {
      "cell_type": "code",
      "source": [
        "import numpy as np\n",
        "import pandas as pd\n",
        "iris = pd.read_csv('https://raw.githubusercontent.com/UTDataMining/2022A/master/ex8/iris.csv')\n",
        "X=iris[(iris['species']=='versicolor')| (iris['species']=='virginica')][['petal_length', 'petal_width']].values\n",
        "y=iris[(iris['species']=='versicolor')| (iris['species']=='virginica')][['species']].values\n",
        "y = (y=='versicolor').astype(int)\n",
        "X = (X-np.mean(X, axis=0))/np.std(X, axis=0)\n",
        "X = np.hstack([np.ones((m,1)), X])\n",
        "m = X.shape[0]\n",
        "n = X.shape[1]\n",
        "X = torch.from_numpy(X).to(torch.float)\n",
        "y = torch.from_numpy(y).to(torch.long)"
      ],
      "metadata": {
        "id": "ECk8MZRuOdYn"
      },
      "execution_count": 137,
      "outputs": []
    },
    {
      "cell_type": "code",
      "source": [
        "num_epochs = 100  # Number of epochs of training\n",
        "alpha = 0.1  # Learning rate\n",
        "costs = []\n",
        "w = torch.zeros(n,1).requires_grad_(True)\n",
        "for i in range(num_epochs):\n",
        "    f = torch.mm(X,w)\n",
        "    # f = X@w\n",
        "    g = 1/(1+torch.exp(-f))\n",
        "    loss =  (-1 / m) * torch.sum(y*torch.log(g)+(1-y)*torch.log(1-g))\n",
        "    loss.backward()\n",
        "    costs.append(loss.item())    \n",
        "    # Update parameters w and b\n",
        "    with torch.no_grad():\n",
        "        w.data = w - alpha * w.grad\n",
        "        #w -= alpha * w.grad\n",
        "        w.grad.zero_()\n",
        "print(w.detach().cpu().numpy())\n",
        "print(costs[-1])"
      ],
      "metadata": {
        "colab": {
          "base_uri": "https://localhost:8080/"
        },
        "id": "3Rv8CaQCQCYs",
        "outputId": "ad7f60a8-5261-4a7f-b629-57cd311f12de"
      },
      "execution_count": 139,
      "outputs": [
        {
          "output_type": "stream",
          "name": "stdout",
          "text": [
            "[[-0.02318852]\n",
            " [-1.2888526 ]\n",
            " [-1.4116936 ]]\n",
            "0.19912463426589966\n"
          ]
        }
      ]
    },
    {
      "cell_type": "code",
      "source": [
        "X=iris[(iris['species']=='versicolor')| (iris['species']=='virginica')][['petal_length', 'petal_width']].values\n",
        "y=iris[(iris['species']=='versicolor')| (iris['species']=='virginica')][['species']].values\n",
        "y = (y=='versicolor').astype(int)\n",
        "X = (X-np.mean(X, axis=0))/np.std(X, axis=0)\n",
        "n = X.shape[1]\n",
        "X = torch.from_numpy(X).to(torch.float)\n",
        "y = torch.from_numpy(y).to(torch.float)"
      ],
      "metadata": {
        "id": "0XURQSVPnPzQ"
      },
      "execution_count": 170,
      "outputs": []
    },
    {
      "cell_type": "code",
      "source": [
        "class MyModel(torch.nn.Module):\n",
        "    def __init__(self, input_size):\n",
        "        super(MyModel, self).__init__()\n",
        "        self.linear = torch.nn.Linear(input_size, 1)\n",
        "    def forward(self, x):\n",
        "        return torch.sigmoid(self.linear(x))"
      ],
      "metadata": {
        "id": "dVzGpPnfln57"
      },
      "execution_count": 173,
      "outputs": []
    },
    {
      "cell_type": "code",
      "source": [
        "num_epochs = 100  # Number of epochs of training\n",
        "lr = 0.1  # Learning rate\n",
        "model = MyModel(n)\n",
        "cost = torch.nn.BCELoss()\n",
        "optimizer = torch.optim.SGD(model.parameters(), lr=lr)\n",
        "for i in range(num_epochs):\n",
        "    optimizer.zero_grad()\n",
        "    loss = cost(model(X), y)\n",
        "    loss.backward()\n",
        "    optimizer.step()\n",
        "for param in model.parameters():\n",
        "  print(param.detach().cpu().numpy())\n",
        "print(loss.item())"
      ],
      "metadata": {
        "id": "_SqhqbGpgmqw",
        "outputId": "9278a4ba-15d3-4605-999f-9f6a61b58e86",
        "colab": {
          "base_uri": "https://localhost:8080/"
        }
      },
      "execution_count": 179,
      "outputs": [
        {
          "output_type": "stream",
          "name": "stdout",
          "text": [
            "[[-1.2798562 -1.3476255]]\n",
            "[-0.12275416]\n",
            "0.20409250259399414\n"
          ]
        }
      ]
    },
    {
      "cell_type": "markdown",
      "metadata": {
        "id": "A8b_tPMNcd0A"
      },
      "source": [
        "## マルチレイヤーパーセプトロンによる手書き数字画像認識の例\n",
        "\n",
        "実行の前にメニューの\n",
        "\n",
        "ランタイム -> ランタイムのタイプの変更　\n",
        "\n",
        "でハードウェアアクセラレータをGPUにしてください"
      ]
    },
    {
      "cell_type": "code",
      "metadata": {
        "colab": {
          "base_uri": "https://localhost:8080/"
        },
        "id": "uGz-grdDc6R0",
        "outputId": "670523d4-f8ca-4757-8c10-4e1048f66971"
      },
      "source": [
        "# グラフを動的に可視化するモジュール\n",
        "!pip install livelossplot "
      ],
      "execution_count": null,
      "outputs": [
        {
          "output_type": "stream",
          "name": "stdout",
          "text": [
            "Looking in indexes: https://pypi.org/simple, https://us-python.pkg.dev/colab-wheels/public/simple/\n",
            "Collecting livelossplot\n",
            "  Downloading livelossplot-0.5.5-py3-none-any.whl (22 kB)\n",
            "Requirement already satisfied: matplotlib in /usr/local/lib/python3.8/dist-packages (from livelossplot) (3.2.2)\n",
            "Requirement already satisfied: bokeh in /usr/local/lib/python3.8/dist-packages (from livelossplot) (2.3.3)\n",
            "Requirement already satisfied: PyYAML>=3.10 in /usr/local/lib/python3.8/dist-packages (from bokeh->livelossplot) (6.0)\n",
            "Requirement already satisfied: Jinja2>=2.9 in /usr/local/lib/python3.8/dist-packages (from bokeh->livelossplot) (2.11.3)\n",
            "Requirement already satisfied: packaging>=16.8 in /usr/local/lib/python3.8/dist-packages (from bokeh->livelossplot) (21.3)\n",
            "Requirement already satisfied: tornado>=5.1 in /usr/local/lib/python3.8/dist-packages (from bokeh->livelossplot) (6.0.4)\n",
            "Requirement already satisfied: python-dateutil>=2.1 in /usr/local/lib/python3.8/dist-packages (from bokeh->livelossplot) (2.8.2)\n",
            "Requirement already satisfied: typing-extensions>=3.7.4 in /usr/local/lib/python3.8/dist-packages (from bokeh->livelossplot) (4.4.0)\n",
            "Requirement already satisfied: numpy>=1.11.3 in /usr/local/lib/python3.8/dist-packages (from bokeh->livelossplot) (1.21.6)\n",
            "Requirement already satisfied: pillow>=7.1.0 in /usr/local/lib/python3.8/dist-packages (from bokeh->livelossplot) (7.1.2)\n",
            "Requirement already satisfied: MarkupSafe>=0.23 in /usr/local/lib/python3.8/dist-packages (from Jinja2>=2.9->bokeh->livelossplot) (2.0.1)\n",
            "Requirement already satisfied: pyparsing!=3.0.5,>=2.0.2 in /usr/local/lib/python3.8/dist-packages (from packaging>=16.8->bokeh->livelossplot) (3.0.9)\n",
            "Requirement already satisfied: six>=1.5 in /usr/local/lib/python3.8/dist-packages (from python-dateutil>=2.1->bokeh->livelossplot) (1.15.0)\n",
            "Requirement already satisfied: kiwisolver>=1.0.1 in /usr/local/lib/python3.8/dist-packages (from matplotlib->livelossplot) (1.4.4)\n",
            "Requirement already satisfied: cycler>=0.10 in /usr/local/lib/python3.8/dist-packages (from matplotlib->livelossplot) (0.11.0)\n",
            "Installing collected packages: livelossplot\n",
            "Successfully installed livelossplot-0.5.5\n"
          ]
        }
      ]
    },
    {
      "cell_type": "code",
      "metadata": {
        "id": "IafSc2jvcl_R"
      },
      "source": [
        "import torch\n",
        "import torchvision\n",
        "from torchvision import datasets, transforms\n",
        "import numpy as np\n",
        "import matplotlib.pyplot as plt\n",
        "from torch.utils.data import DataLoader\n",
        "from livelossplot import PlotLosses"
      ],
      "execution_count": null,
      "outputs": []
    },
    {
      "cell_type": "code",
      "metadata": {
        "id": "AiyXcVwsc4Ot",
        "colab": {
          "base_uri": "https://localhost:8080/",
          "height": 443,
          "referenced_widgets": [
            "2f8349887ae14cce81f0c51b05ae214e",
            "c11f063f9e8143cc83ccc52fbe01c35a",
            "cbff4c0377704aea9aeea2791c54f545",
            "d79827ba85944fffb1878a8402224bd7",
            "c121b63c45e94232a28bd56ced3ca772",
            "9500d0da79da47a2ab9b914ad8c1e51e",
            "8e8cc93489e8439d8540111257f63056",
            "743184b42e624cabaab9f78491427e3d",
            "ee19d29a8cae41ee816e7d321274eb07",
            "191c685e889c439081c69ac4942d7477",
            "b1547123bd0d4ac9855a8632166220ab",
            "5687a76c8f584790823acce7ecc45f92",
            "b612a83190dd4af6a8aab442a884af77",
            "6343939cb2934204832df591d10f6c6d",
            "9a594102915447b2adb91074293222ed",
            "7bc5a9ced06a4e548e2bbc8456a300c7",
            "c07c9aae638e46b9bafc141fe1ceda0d",
            "a1b48bbfcf314cd68e971d10d7440673",
            "88b7ebbed50b43c19c8653a01b036517",
            "aadfd5c3712546d4a81a44df3d8d78f5",
            "9738bff9acef497e88771b53db056a10",
            "836f529cb57a46b5a83fff82f9b8a962",
            "8a60b67bbb44404e9b67ec48bf234819",
            "4cf84179166347209eaaffd2c192752b",
            "1b2f12e10d414aa3b45934b1fdb488ce",
            "9ff8a606661b42e9b9cc6772cdeb28d0",
            "ffe7c0503fb6405c9fcba8af4dabfc1e",
            "4f870a939a6e4b5187f6e59866ab29e3",
            "de855841f3e94684a98db87fe72b575c",
            "1086eb920c6941a9bf965b84887c4d7a",
            "690b339ae9db4dfb95d469b5b32d0b7f",
            "c47a67fd15b34ea8b6808487ec8feea0",
            "d4184ffe7e8e4520a1940bd6284be055",
            "8f1c1de6288f4f86a7df0067764ba7ab",
            "4bc2aad2f335491eb1ecd0046c2d8150",
            "3d6ad9aeccb842809935d64cbbd1ef69",
            "e752226e78fd4b718c1c920ec2c24871",
            "40500a4994d84b738a61ca671790f2a7",
            "0e0c1cc046674dc2b7edf1b949edc337",
            "08ab41e6063543eb92bb0391e8734d00",
            "e207f9936db647b6af126fcb43554127",
            "af5dd0e1499346c59cdad8dd9955990e",
            "0bce1f421b444cab9eaa0b3f386684ee",
            "dd207a43d2cf434b973163ab3553a3dd"
          ]
        },
        "outputId": "107a8e12-187e-4e48-f8fc-7eeb240f84de"
      },
      "source": [
        "# データセット\n",
        "mnist_train = datasets.MNIST('data', train=True, download=True, transform=transforms.ToTensor())\n",
        "mnist_test = datasets.MNIST('data', train=False, download=True, transform=transforms.ToTensor())"
      ],
      "execution_count": null,
      "outputs": [
        {
          "output_type": "stream",
          "name": "stdout",
          "text": [
            "Downloading http://yann.lecun.com/exdb/mnist/train-images-idx3-ubyte.gz\n",
            "Downloading http://yann.lecun.com/exdb/mnist/train-images-idx3-ubyte.gz to data/MNIST/raw/train-images-idx3-ubyte.gz\n"
          ]
        },
        {
          "output_type": "display_data",
          "data": {
            "text/plain": [
              "  0%|          | 0/9912422 [00:00<?, ?it/s]"
            ],
            "application/vnd.jupyter.widget-view+json": {
              "version_major": 2,
              "version_minor": 0,
              "model_id": "2f8349887ae14cce81f0c51b05ae214e"
            }
          },
          "metadata": {}
        },
        {
          "output_type": "stream",
          "name": "stdout",
          "text": [
            "Extracting data/MNIST/raw/train-images-idx3-ubyte.gz to data/MNIST/raw\n",
            "\n",
            "Downloading http://yann.lecun.com/exdb/mnist/train-labels-idx1-ubyte.gz\n",
            "Downloading http://yann.lecun.com/exdb/mnist/train-labels-idx1-ubyte.gz to data/MNIST/raw/train-labels-idx1-ubyte.gz\n"
          ]
        },
        {
          "output_type": "display_data",
          "data": {
            "text/plain": [
              "  0%|          | 0/28881 [00:00<?, ?it/s]"
            ],
            "application/vnd.jupyter.widget-view+json": {
              "version_major": 2,
              "version_minor": 0,
              "model_id": "5687a76c8f584790823acce7ecc45f92"
            }
          },
          "metadata": {}
        },
        {
          "output_type": "stream",
          "name": "stdout",
          "text": [
            "Extracting data/MNIST/raw/train-labels-idx1-ubyte.gz to data/MNIST/raw\n",
            "\n",
            "Downloading http://yann.lecun.com/exdb/mnist/t10k-images-idx3-ubyte.gz\n",
            "Downloading http://yann.lecun.com/exdb/mnist/t10k-images-idx3-ubyte.gz to data/MNIST/raw/t10k-images-idx3-ubyte.gz\n"
          ]
        },
        {
          "output_type": "display_data",
          "data": {
            "text/plain": [
              "  0%|          | 0/1648877 [00:00<?, ?it/s]"
            ],
            "application/vnd.jupyter.widget-view+json": {
              "version_major": 2,
              "version_minor": 0,
              "model_id": "8a60b67bbb44404e9b67ec48bf234819"
            }
          },
          "metadata": {}
        },
        {
          "output_type": "stream",
          "name": "stdout",
          "text": [
            "Extracting data/MNIST/raw/t10k-images-idx3-ubyte.gz to data/MNIST/raw\n",
            "\n",
            "Downloading http://yann.lecun.com/exdb/mnist/t10k-labels-idx1-ubyte.gz\n",
            "Downloading http://yann.lecun.com/exdb/mnist/t10k-labels-idx1-ubyte.gz to data/MNIST/raw/t10k-labels-idx1-ubyte.gz\n"
          ]
        },
        {
          "output_type": "display_data",
          "data": {
            "text/plain": [
              "  0%|          | 0/4542 [00:00<?, ?it/s]"
            ],
            "application/vnd.jupyter.widget-view+json": {
              "version_major": 2,
              "version_minor": 0,
              "model_id": "8f1c1de6288f4f86a7df0067764ba7ab"
            }
          },
          "metadata": {}
        },
        {
          "output_type": "stream",
          "name": "stdout",
          "text": [
            "Extracting data/MNIST/raw/t10k-labels-idx1-ubyte.gz to data/MNIST/raw\n",
            "\n"
          ]
        }
      ]
    },
    {
      "cell_type": "code",
      "metadata": {
        "colab": {
          "base_uri": "https://localhost:8080/",
          "height": 469
        },
        "id": "8meT6XfBk2Su",
        "outputId": "63fba297-93c1-42ad-cd3f-a4ac678603b2"
      },
      "source": [
        "train_bs = 128 # 訓練データのバッチサイズ\n",
        "test_bs = 100 # テストデータのバッチサイズ\n",
        "\n",
        "# データローダ\n",
        "train_dl = DataLoader(mnist_train, batch_size = train_bs, shuffle=True)\n",
        "test_dl = DataLoader(mnist_test, batch_size = test_bs)\n",
        "\n",
        "dataiter = iter(train_dl)\n",
        "images, labels = next(dataiter)\n",
        "viz = torchvision.utils.make_grid(images, nrow=10, padding = 2).numpy()\n",
        "fig, ax = plt.subplots(figsize= (8,8))\n",
        "ax.imshow(np.transpose(viz, (1,2,0)))\n",
        "ax.set_xticks([])\n",
        "ax.set_yticks([])\n",
        "plt.show()"
      ],
      "execution_count": null,
      "outputs": [
        {
          "output_type": "display_data",
          "data": {
            "text/plain": [
              "<Figure size 576x576 with 1 Axes>"
            ],
            "image/png": "[encoded data removed]"
          },
          "metadata": {}
        }
      ]
    },
    {
      "cell_type": "code",
      "source": [
        "import math\n",
        "import math\n",
        "%matplotlib inline"
      ],
      "metadata": {
        "id": "sJ3NQxTcD8Nb"
      },
      "execution_count": null,
      "outputs": []
    },
    {
      "cell_type": "code",
      "source": [
        "def model(xb, weights, bias):\n",
        "    x = xb @ weights + bias      \n",
        "    return x - x.exp().sum(-1).log().unsqueeze(-1) # softmaxの対数\n",
        "\n",
        "def loss_func(input, target): # 負の対数尤度\n",
        "    # input (prediction) shape = (batch_size, 10)\n",
        "    # target shape = (batch_size,)\n",
        "    # input[range(batch_size), target] shape = (batch_size,)\n",
        "    return -input[range(target.shape[0]), target].mean()"
      ],
      "metadata": {
        "id": "Doau2PcvDD-H"
      },
      "execution_count": null,
      "outputs": []
    },
    {
      "cell_type": "code",
      "source": [
        "def accuracy(out, yb):\n",
        "    preds = torch.argmax(out, dim=1)\n",
        "    return (preds==yb).float().mean()\n",
        "\n",
        "def num_correct(out, yb):\n",
        "    preds = torch.argmax(out, dim=1)\n",
        "    return torch.sum(preds == yb)\n",
        "\n",
        "def eval_performance(dl, weights, bias):\n",
        "    total_samples = 0\n",
        "    total_correct = 0\n",
        "\n",
        "    for xb, yb in dl:\n",
        "        xb = xb.view(xb.size(0), -1)\n",
        "\n",
        "        preds = model(xb, weights, bias)\n",
        "        correct = num_correct(preds, yb)\n",
        "\n",
        "        total_correct += correct\n",
        "        total_samples += len(yb)\n",
        "\n",
        "    return total_correct / float(total_samples)"
      ],
      "metadata": {
        "id": "QYp3FrxsDL99"
      },
      "execution_count": null,
      "outputs": []
    },
    {
      "cell_type": "code",
      "source": [
        "lr = 0.1\n",
        "epochs = 5\n",
        "\n",
        "in_shape = 784\n",
        "out_shape = 10\n",
        "\n",
        "# Initialize weights\n",
        "weights = torch.randn(in_shape, out_shape) / math.sqrt(in_shape)\n",
        "weights.requires_grad_()\n",
        "bias = torch.zeros(out_shape, requires_grad=True)\n",
        "\n",
        "for epoch in range(epochs):\n",
        "    for i, (xb, yb) in enumerate(train_dl):    \n",
        "        xb = xb.view(xb.size(0), -1)\n",
        "            \n",
        "        # Forward pass    \n",
        "        pred = model(xb, weights, bias)\n",
        "        loss = loss_func(pred, yb)\n",
        "\n",
        "        # Backward pass\n",
        "        loss.backward()\n",
        "        with torch.no_grad():   # temporarily sets all the requires_grad flags to False\n",
        "            weights -= weights.grad * lr\n",
        "            bias -= bias.grad * lr\n",
        "            weights.grad.zero_()\n",
        "            bias.grad.zero_()\n",
        "            \n",
        "    train_acc = eval_performance(train_dl, weights, bias)\n",
        "    test_acc = eval_performance(test_dl, weights, bias)\n",
        "    print(\"Epoch: {} | Train Acc: {} | Test Acc: {}\".format(epoch + 1, train_acc, test_acc))"
      ],
      "metadata": {
        "id": "cayRVJfuDQe8",
        "outputId": "8b94b0dd-ec44-4445-d00e-6f78c5181781",
        "colab": {
          "base_uri": "https://localhost:8080/"
        }
      },
      "execution_count": null,
      "outputs": [
        {
          "output_type": "stream",
          "name": "stdout",
          "text": [
            "Epoch: 1 | Train Acc: 0.88878333568573 | Test Acc: 0.897599995136261\n",
            "Epoch: 2 | Train Acc: 0.9005833268165588 | Test Acc: 0.9077000021934509\n",
            "Epoch: 3 | Train Acc: 0.9065499901771545 | Test Acc: 0.9115999937057495\n",
            "Epoch: 4 | Train Acc: 0.9107000231742859 | Test Acc: 0.9147999882698059\n",
            "Epoch: 5 | Train Acc: 0.9131166934967041 | Test Acc: 0.916100025177002\n"
          ]
        }
      ]
    },
    {
      "cell_type": "code",
      "metadata": {
        "colab": {
          "base_uri": "https://localhost:8080/"
        },
        "id": "Oa7_T9vt2QNn",
        "outputId": "315a27b9-385c-4eea-808c-727cfb086c9f"
      },
      "source": [
        "# ネットワーク定義\n",
        "dim_x = 784 # 入力層のユニット数（28x28のピクセル）\n",
        "dim_h = 100 # 隠れ層のユニット数\n",
        "dim_out = 10 # 出力層のユニット数（クラス数）\n",
        "\n",
        "model = torch.nn.Sequential()\n",
        "model.add_module('fc1', torch.nn.Linear(dim_x, dim_h)) # 入力層-隠れ層\n",
        "model.add_module('relu1', torch.nn.ReLU()) # 活性関数ReLU\n",
        "#model.add_module('dropout1',torch.nn.Dropout()) # ドロップアウト\n",
        "model.add_module('fc2', torch.nn.Linear(dim_h, dim_out)) # 隠れ層-出力層\n",
        "print(model)"
      ],
      "execution_count": null,
      "outputs": [
        {
          "output_type": "stream",
          "name": "stdout",
          "text": [
            "Sequential(\n",
            "  (fc1): Linear(in_features=784, out_features=100, bias=True)\n",
            "  (relu1): ReLU()\n",
            "  (fc2): Linear(in_features=100, out_features=10, bias=True)\n",
            ")\n"
          ]
        }
      ]
    },
    {
      "cell_type": "code",
      "metadata": {
        "colab": {
          "base_uri": "https://localhost:8080/",
          "height": 637
        },
        "id": "QqxxwTHQdkxy",
        "outputId": "e243a877-4295-4c91-d463-c4f3b4bf471c"
      },
      "source": [
        "# GPUsの使用\n",
        "if torch.cuda.is_available():\n",
        "    print(\"Using cuda\")\n",
        "    use_cuda = True\n",
        "    device = torch.device(\"cuda\")\n",
        "else:\n",
        "    device = \"cpu\"\n",
        "\n",
        "learning_rate = 1e-2 # 学習率\n",
        "epochs = 20 # エポック数\n",
        "\n",
        "# 最適化法（SGD）\n",
        "optimizer = torch.optim.SGD(model.parameters(), lr=learning_rate)\n",
        "loss_fn = torch.nn.CrossEntropyLoss() # 損失関数\n",
        "model.to(device) # モデルをGPUへ\n",
        "model.train() # 訓練モード\n",
        "liveloss = PlotLosses() # グラフ可視化\n",
        "\n",
        "# エポック数繰り返し\n",
        "for epoch in range(epochs):\n",
        "    train_loss = []\n",
        "    train_acc = []\n",
        "    test_loss = []\n",
        "    test_acc = []\n",
        "\n",
        "    model.train() # 訓練モード\n",
        "    for i, (X_train, y_train) in enumerate(train_dl):\n",
        "        X_train = X_train.to(device)\n",
        "        y_train = y_train.to(device)\n",
        "        X_train = X_train.view(X_train.size(0), -1)\n",
        "        \n",
        "        # forward\n",
        "        y_pred = model(X_train) \n",
        "        loss = loss_fn(y_pred, y_train) # 損失\n",
        "        preds = torch.argmax(y_pred, dim=1)\n",
        "        acc = (preds==y_train).float().mean()       \n",
        "        train_loss.append(loss.item())\n",
        "        train_acc.append(acc.item())\n",
        "\n",
        "        # backward \n",
        "        model.zero_grad() # またはoptimizer.zero_grad() 勾配初期化\n",
        "        loss.backward() # 勾配計算\n",
        "        optimizer.step() # パラメータ更新\n",
        "    \n",
        "    model.eval() # 評価モード    \n",
        "    for i, (X_test, y_test) in enumerate(test_dl):\n",
        "        X_test = X_test.to(device)\n",
        "        y_test = y_test.to(device)\n",
        "        X_test = X_test.view(X_test.size(0), -1)\n",
        "        y_pred = model(X_test) \n",
        "        loss = loss_fn(y_pred, y_test) # 損失\n",
        "        preds = torch.argmax(y_pred, dim=1)\n",
        "        acc = (preds==y_test).float().mean() # 精度        \n",
        "        test_loss.append(loss.item())\n",
        "        test_acc.append(acc.item())\n",
        "    \n",
        "    #print(epoch+1, np.array(train_loss).mean(), np.array(train_acc).mean()) # 訓練誤差\n",
        "    #print(epoch+1, np.array(test_loss).mean(), np.array(test_acc).mean()) # テスト誤差\n",
        "    \n",
        "    liveloss.update({\n",
        "        'accuracy': np.array(train_acc).mean(),\n",
        "        'val_accuracy': np.array(test_acc).mean()\n",
        "    })\n",
        "    liveloss.draw()"
      ],
      "execution_count": null,
      "outputs": [
        {
          "output_type": "display_data",
          "data": {
            "text/plain": [
              "<Figure size 864x576 with 2 Axes>"
            ],
            "image/png": "[encoded data removed]"
          },
          "metadata": {
            "needs_background": "light"
          }
        },
        {
          "output_type": "stream",
          "name": "stdout",
          "text": [
            "accuracy\n",
            "\ttraining         \t (min:    0.626, max:    0.925, cur:    0.925)\n",
            "\tvalidation       \t (min:    0.798, max:    0.929, cur:    0.929)\n"
          ]
        }
      ]
    },
    {
      "cell_type": "markdown",
      "metadata": {
        "id": "ZSCiIk9kkqko"
      },
      "source": [
        "## モデル選択・パラメータ最適化"
      ]
    },
    {
      "cell_type": "code",
      "metadata": {
        "id": "RyWsia6Qttsn"
      },
      "source": [
        "# ネットワークの定義\n",
        "class Net(torch.nn.Module):\n",
        "    def __init__(self, input_dim, hidden_dim, output_dim, activation_func=torch.nn.functional.relu):\n",
        "        super(Net, self).__init__()\n",
        "        self.fc1 = torch.nn.Linear(input_dim, hidden_dim) # 入力層-隠れ層1\n",
        "        self.fc2 = torch.nn.Linear(hidden_dim, hidden_dim)  # 隠れ層1-隠れ層2\n",
        "        self.fc3 = torch.nn.Linear(hidden_dim, output_dim)  # 隠れ層2-出力層\n",
        "        self.activation_func = activation_func # 活性化関数\n",
        "    \n",
        "    def forward(self, x):\n",
        "        h1 = self.activation_func(self.fc1(x))\n",
        "        h2 = self.activation_func(self.fc2(h1))\n",
        "        out = self.fc3(h2)\n",
        "        return out"
      ],
      "execution_count": null,
      "outputs": []
    },
    {
      "cell_type": "code",
      "metadata": {
        "id": "ggUj7Xwwmsls"
      },
      "source": [
        "# モデル訓練\n",
        "def train_model(model, optimizer, train_loader, test_loader, epochs=10):\n",
        "  if torch.cuda.is_available():\n",
        "      print(\"Using cuda\")\n",
        "      use_cuda = True\n",
        "      device = torch.device(\"cuda\")\n",
        "  else:\n",
        "      device = \"cpu\"\n",
        "\n",
        "  loss_fn = torch.nn.CrossEntropyLoss()\n",
        "  model.to(device)    \n",
        "  model.train()\n",
        "  liveloss = PlotLosses()\n",
        "  \n",
        "  for epoch in range(epochs):\n",
        "\n",
        "    train_loss = []\n",
        "    train_acc = []\n",
        "    test_loss = []\n",
        "    test_acc = []\n",
        "\n",
        "    model.train() # 訓練モード\n",
        "    for i, (X_train, y_train) in enumerate(train_dl):\n",
        "        X_train = X_train.to(device)\n",
        "        y_train = y_train.to(device)\n",
        "        X_train = X_train.view(X_train.size(0), -1)\n",
        "        \n",
        "        # forward\n",
        "        y_pred = model(X_train) \n",
        "        loss = loss_fn(y_pred, y_train) # 損失\n",
        "        preds = torch.argmax(y_pred, dim=1)\n",
        "        acc = (preds==y_train).float().mean()\n",
        "        train_loss.append(loss.item())\n",
        "        train_acc.append(acc.item())\n",
        "\n",
        "        # backward \n",
        "        model.zero_grad() # またはoptimizer.zero_grad() 勾配初期化\n",
        "        loss.backward() # 勾配計算\n",
        "        optimizer.step() # パラメータ更新\n",
        "    \n",
        "    model.eval() # 評価モード\n",
        "    for i, (X_test, y_test) in enumerate(test_dl):\n",
        "        X_test = X_test.to(device)\n",
        "        y_test = y_test.to(device)\n",
        "        X_test = X_test.view(X_test.size(0), -1)\n",
        "\n",
        "        y_pred = model(X_test) \n",
        "        loss = loss_fn(y_pred, y_test) # 損失\n",
        "        preds = torch.argmax(y_pred, dim=1)\n",
        "        acc = (preds==y_test).float().mean()\n",
        "        test_loss.append(loss.item())\n",
        "        test_acc.append(acc.item())\n",
        "    \n",
        "    #print(epoch+1, np.array(train_loss).mean(), np.array(train_acc).mean()) # 訓練誤差\n",
        "    #print(epoch+1, np.array(test_loss).mean(), np.array(test_acc).mean()) # テスト誤差\n",
        "    \n",
        "    liveloss.update({\n",
        "        'accuracy': np.array(train_acc).mean(),\n",
        "        'val_accuracy': np.array(test_acc).mean()\n",
        "    })\n",
        "    liveloss.draw()"
      ],
      "execution_count": null,
      "outputs": []
    },
    {
      "cell_type": "code",
      "metadata": {
        "id": "ljsrZkncqZl6"
      },
      "source": [
        "# パラメータ初期化方法\n",
        "def init_weights_xavier(m): #\n",
        "  if type(m) == torch.nn.Linear:\n",
        "    torch.nn.init.xavier_normal_(m.weight)\n",
        "\n",
        "def init_weights_kaiminghe(m): # \n",
        "  if type(m) == torch.nn.Linear:\n",
        "    torch.nn.init.kaiming_normal_(m.weight)"
      ],
      "execution_count": null,
      "outputs": []
    },
    {
      "cell_type": "markdown",
      "metadata": {
        "id": "cmRFkZUH6EQg"
      },
      "source": [
        "以下を変更してみてください\n",
        "- 隠れ層のユニット数\n",
        "- 隠れ層の数\n",
        "- 活性化関数 [functional](https://pytorch.org/docs/stable/nn.functional.html)\n",
        "- パラメータの初期化方法 [init](https://pytorch.org/docs/stable/nn.init.html)\n",
        "- 最適化方法 [optim](https://pytorch.org/docs/stable/optim.html)\n",
        "- 学習率\n",
        "- エポック数"
      ]
    },
    {
      "cell_type": "code",
      "metadata": {
        "colab": {
          "base_uri": "https://localhost:8080/",
          "height": 635
        },
        "id": "UbazHyuOpcas",
        "outputId": "a082c9be-2de4-4272-f977-7b8b9cbee2e4"
      },
      "source": [
        "train_bs = 128 # 訓練データのバッチサイズ\n",
        "test_bs = 100 # テストデータのバッチサイズ\n",
        "train_dl = DataLoader(mnist_train, batch_size = train_bs, shuffle=True)\n",
        "test_dl = DataLoader(mnist_test, batch_size =test_bs)\n",
        "\n",
        "dim_x = 784 # 入力層のユニット数（28x28の画像）\n",
        "dim_h = 100 # 隠れ層のユニット数\n",
        "dim_out = 10 # 出力層のユニット数（クラス数）\n",
        "\n",
        "# 活性化関数\n",
        "activation_func = torch.nn.functional.relu\n",
        "model = Net(dim_x, dim_h, dim_out, activation_func)\n",
        "\n",
        "# パラメータ初期化\n",
        "model = model.apply(init_weights_kaiminghe)\n",
        "\n",
        "# 最適化法\n",
        "params = model.parameters()\n",
        "learning_rate = 0.01 # 学習率\n",
        "momentum = 0.9 # モーメンタム\n",
        "optimizer = torch.optim.SGD(params, lr=learning_rate, momentum=momentum)\n",
        "#optimizer = torch.optim.RMSprop(params, learning_rate)\n",
        "#optimizer = torch.optim.Adam(params, learning_rate)\n",
        "\n",
        "epochs = 20 # エポック数  \n",
        "train_model(model, optimizer, train_dl, test_dl, epochs=epochs)"
      ],
      "execution_count": null,
      "outputs": [
        {
          "output_type": "display_data",
          "data": {
            "image/png": "[encoded data removed]",
            "text/plain": [
              "<Figure size 864x576 with 2 Axes>"
            ]
          },
          "metadata": {
            "needs_background": "light"
          }
        },
        {
          "output_type": "stream",
          "name": "stdout",
          "text": [
            "accuracy\n",
            "\ttraining         \t (min:    0.870, max:    0.995, cur:    0.995)\n",
            "\tvalidation       \t (min:    0.932, max:    0.976, cur:    0.976)\n"
          ]
        }
      ]
    },
    {
      "cell_type": "code",
      "source": [],
      "metadata": {
        "id": "bCSatAEzawck"
      },
      "execution_count": null,
      "outputs": []
    }
  ]
}
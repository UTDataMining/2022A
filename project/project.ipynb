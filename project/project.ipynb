{
  "cells": [
    {
      "cell_type": "markdown",
      "metadata": {
        "id": "view-in-github",
        "colab_type": "text"
      },
      "source": [
        "<a href=\"https://colab.research.google.com/github/UTDataMining/2021A/blob/master/project/project.ipynb\" target=\"_parent\"><img src=\"https://colab.research.google.com/assets/colab-badge.svg\" alt=\"Open In Colab\"/></a>"
      ]
    },
    {
      "cell_type": "markdown",
      "metadata": {
        "id": "S0STxdZQOsgj"
      },
      "source": [
        "# プロジェクト"
      ]
    },
    {
      "cell_type": "code",
      "execution_count": 9,
      "metadata": {
        "id": "CyMjylZAOsgn"
      },
      "outputs": [],
      "source": [
        "import pandas as pd\n",
        "import numpy as  np\n",
        "from sklearn.linear_model import LogisticRegression\n",
        "from sklearn.model_selection import train_test_split\n",
        "from sklearn.metrics import confusion_matrix,  accuracy_score, precision_score, recall_score, f1_score\n",
        "import matplotlib.pyplot  as plt\n",
        "%matplotlib inline\n",
        "# 必要なモジュールがあれば適宜追加してください"
      ]
    },
    {
      "cell_type": "markdown",
      "metadata": {
        "id": "f2wyXvIAOsgo"
      },
      "source": [
        "あなたは酒造会社のデータ分析部門の責任者です。ワインの理化学検査結果からワインの品質を予測するシステムの検討を行ってほしいとの依頼をCTO（最高技術責任者）から受けました。\n",
        "\n",
        "部門の新人で最近データ分析を勉強した部下が次のような分析を行い、実データ（UCI Machine Learning Repositoryに公開されているワインの品質データセットを使います）を用いて、ワインの理化学検査結果に基づく特徴量からワインの品質予測を以下のように試行しました。\n",
        "\n",
        "***白ワイン***のデータセットを使用する。（赤ワインのデータセットではないことに注意してください）\n",
        "\n",
        "[Wine Quality Data Set ](https://archive.ics.uci.edu/ml/datasets/wine+quality)\n",
        "\n",
        "各ワインのデータは以下の11種類の特徴量からなる。\n",
        "- 1 - fixed acidity \n",
        "- 2 - volatile acidity \n",
        "- 3 - citric acid \n",
        "- 4 - residual sugar \n",
        "- 5 - chlorides \n",
        "- 6 - free sulfur dioxide \n",
        "- 7 - total sulfur dioxide \n",
        "- 8 - density \n",
        "- 9 - pH \n",
        "- 10 - sulphates \n",
        "- 11 - alcohol \n",
        "\n",
        "各ワインには0から10の品質スコアが付与されており、11種類の特徴量を元にワインの品質を高品質（ワインのqualityが6以上）、低品質（ワインのqualityが6未満）の2値にして予測する2クラス分類問題を考える。"
      ]
    },
    {
      "cell_type": "code",
      "execution_count": 10,
      "metadata": {
        "id": "1MpidDieOsgp",
        "outputId": "823ba02a-b4c9-4c97-f4fa-90d65935ed58",
        "colab": {
          "base_uri": "https://localhost:8080/"
        }
      },
      "outputs": [
        {
          "output_type": "stream",
          "name": "stdout",
          "text": [
            "--2021-12-26 10:20:57--  https://raw.githubusercontent.com/UTDataMining/2021S/master/project/winequality-white.csv\n",
            "Resolving raw.githubusercontent.com (raw.githubusercontent.com)... 185.199.111.133, 185.199.109.133, 185.199.108.133, ...\n",
            "Connecting to raw.githubusercontent.com (raw.githubusercontent.com)|185.199.111.133|:443... connected.\n",
            "HTTP request sent, awaiting response... 200 OK\n",
            "Length: 264426 (258K) [text/plain]\n",
            "Saving to: ‘winequality-white.csv.1’\n",
            "\n",
            "winequality-white.c 100%[===================>] 258.23K  --.-KB/s    in 0.04s   \n",
            "\n",
            "2021-12-26 10:20:58 (6.61 MB/s) - ‘winequality-white.csv.1’ saved [264426/264426]\n",
            "\n"
          ]
        }
      ],
      "source": [
        "# Colaboratoryでは以下を実行して必要なファイルをダウンロード\n",
        "!wget https://raw.githubusercontent.com/UTDataMining/2021S/master/project/winequality-white.csv"
      ]
    },
    {
      "cell_type": "code",
      "execution_count": 11,
      "metadata": {
        "id": "PWXf36u1Osgq"
      },
      "outputs": [],
      "source": [
        "# 白ワインデータセットの読み込み\n",
        "wine = pd.read_csv(\"winequality-white.csv\", sep=\";\")"
      ]
    },
    {
      "cell_type": "code",
      "execution_count": 12,
      "metadata": {
        "id": "TDOtW5ThOsgq",
        "outputId": "16918a14-f105-4e8c-ec80-bb3ea8c99f3f",
        "colab": {
          "base_uri": "https://localhost:8080/"
        }
      },
      "outputs": [
        {
          "output_type": "stream",
          "name": "stdout",
          "text": [
            "3258\n",
            "1640\n"
          ]
        }
      ],
      "source": [
        "# 特徴量\n",
        "X=wine[ ['fixed acidity','volatile acidity','citric acid','residual sugar','chlorides','free sulfur dioxide', 'total sulfur dioxide', 'density', 'pH', 'sulphates','alcohol']].values\n",
        "\n",
        "# 正解ラベルを1（高品質：ワインのqualityが6以上）か0（低品質：ワインのqualityが6未満）とする\n",
        "y=wine['quality'].values\n",
        "y = (y>=6).astype(np.int) \n",
        "print(np.sum(y==1, axis=0)) # 高品質ワインデータの数\n",
        "print(np.sum(y==0, axis=0)) # 低品質ワインデータの数"
      ]
    },
    {
      "cell_type": "code",
      "execution_count": 14,
      "metadata": {
        "id": "tokwSCu_Osgr",
        "outputId": "bba70578-2ea0-4bce-bf95-36f9055247c0",
        "colab": {
          "base_uri": "https://localhost:8080/",
          "height": 242
        }
      },
      "outputs": [
        {
          "output_type": "stream",
          "name": "stdout",
          "text": [
            "[[158 170]\n",
            " [ 75 577]]\n",
            "0.75\n",
            "0.7724230254350736\n",
            "0.8849693251533742\n",
            "0.8248749106504645\n"
          ]
        },
        {
          "output_type": "execute_result",
          "data": {
            "text/html": [
              "\n",
              "  <div id=\"df-f31e508c-cbce-46f1-933d-e810370eaff4\">\n",
              "    <div class=\"colab-df-container\">\n",
              "      <div>\n",
              "<style scoped>\n",
              "    .dataframe tbody tr th:only-of-type {\n",
              "        vertical-align: middle;\n",
              "    }\n",
              "\n",
              "    .dataframe tbody tr th {\n",
              "        vertical-align: top;\n",
              "    }\n",
              "\n",
              "    .dataframe thead th {\n",
              "        text-align: right;\n",
              "    }\n",
              "</style>\n",
              "<table border=\"1\" class=\"dataframe\">\n",
              "  <thead>\n",
              "    <tr style=\"text-align: right;\">\n",
              "      <th></th>\n",
              "      <th>fixed acidity</th>\n",
              "      <th>volatile acidity</th>\n",
              "      <th>citric acid</th>\n",
              "      <th>residual sugar</th>\n",
              "      <th>chlorides</th>\n",
              "      <th>free sulfur dioxide</th>\n",
              "      <th>total sulfur dioxide</th>\n",
              "      <th>density</th>\n",
              "      <th>pH</th>\n",
              "      <th>sulphates</th>\n",
              "      <th>alcohol</th>\n",
              "    </tr>\n",
              "  </thead>\n",
              "  <tbody>\n",
              "    <tr>\n",
              "      <th>weight</th>\n",
              "      <td>-0.195072</td>\n",
              "      <td>-5.553155</td>\n",
              "      <td>-0.159136</td>\n",
              "      <td>0.057788</td>\n",
              "      <td>-0.441644</td>\n",
              "      <td>0.008894</td>\n",
              "      <td>-0.001888</td>\n",
              "      <td>-2.718552</td>\n",
              "      <td>-0.581467</td>\n",
              "      <td>0.957013</td>\n",
              "      <td>0.97454</td>\n",
              "    </tr>\n",
              "  </tbody>\n",
              "</table>\n",
              "</div>\n",
              "      <button class=\"colab-df-convert\" onclick=\"convertToInteractive('df-f31e508c-cbce-46f1-933d-e810370eaff4')\"\n",
              "              title=\"Convert this dataframe to an interactive table.\"\n",
              "              style=\"display:none;\">\n",
              "        \n",
              "  <svg xmlns=\"http://www.w3.org/2000/svg\" height=\"24px\"viewBox=\"0 0 24 24\"\n",
              "       width=\"24px\">\n",
              "    <path d=\"M0 0h24v24H0V0z\" fill=\"none\"/>\n",
              "    <path d=\"M18.56 5.44l.94 2.06.94-2.06 2.06-.94-2.06-.94-.94-2.06-.94 2.06-2.06.94zm-11 1L8.5 8.5l.94-2.06 2.06-.94-2.06-.94L8.5 2.5l-.94 2.06-2.06.94zm10 10l.94 2.06.94-2.06 2.06-.94-2.06-.94-.94-2.06-.94 2.06-2.06.94z\"/><path d=\"M17.41 7.96l-1.37-1.37c-.4-.4-.92-.59-1.43-.59-.52 0-1.04.2-1.43.59L10.3 9.45l-7.72 7.72c-.78.78-.78 2.05 0 2.83L4 21.41c.39.39.9.59 1.41.59.51 0 1.02-.2 1.41-.59l7.78-7.78 2.81-2.81c.8-.78.8-2.07 0-2.86zM5.41 20L4 18.59l7.72-7.72 1.47 1.35L5.41 20z\"/>\n",
              "  </svg>\n",
              "      </button>\n",
              "      \n",
              "  <style>\n",
              "    .colab-df-container {\n",
              "      display:flex;\n",
              "      flex-wrap:wrap;\n",
              "      gap: 12px;\n",
              "    }\n",
              "\n",
              "    .colab-df-convert {\n",
              "      background-color: #E8F0FE;\n",
              "      border: none;\n",
              "      border-radius: 50%;\n",
              "      cursor: pointer;\n",
              "      display: none;\n",
              "      fill: #1967D2;\n",
              "      height: 32px;\n",
              "      padding: 0 0 0 0;\n",
              "      width: 32px;\n",
              "    }\n",
              "\n",
              "    .colab-df-convert:hover {\n",
              "      background-color: #E2EBFA;\n",
              "      box-shadow: 0px 1px 2px rgba(60, 64, 67, 0.3), 0px 1px 3px 1px rgba(60, 64, 67, 0.15);\n",
              "      fill: #174EA6;\n",
              "    }\n",
              "\n",
              "    [theme=dark] .colab-df-convert {\n",
              "      background-color: #3B4455;\n",
              "      fill: #D2E3FC;\n",
              "    }\n",
              "\n",
              "    [theme=dark] .colab-df-convert:hover {\n",
              "      background-color: #434B5C;\n",
              "      box-shadow: 0px 1px 3px 1px rgba(0, 0, 0, 0.15);\n",
              "      filter: drop-shadow(0px 1px 2px rgba(0, 0, 0, 0.3));\n",
              "      fill: #FFFFFF;\n",
              "    }\n",
              "  </style>\n",
              "\n",
              "      <script>\n",
              "        const buttonEl =\n",
              "          document.querySelector('#df-f31e508c-cbce-46f1-933d-e810370eaff4 button.colab-df-convert');\n",
              "        buttonEl.style.display =\n",
              "          google.colab.kernel.accessAllowed ? 'block' : 'none';\n",
              "\n",
              "        async function convertToInteractive(key) {\n",
              "          const element = document.querySelector('#df-f31e508c-cbce-46f1-933d-e810370eaff4');\n",
              "          const dataTable =\n",
              "            await google.colab.kernel.invokeFunction('convertToInteractive',\n",
              "                                                     [key], {});\n",
              "          if (!dataTable) return;\n",
              "\n",
              "          const docLinkHtml = 'Like what you see? Visit the ' +\n",
              "            '<a target=\"_blank\" href=https://colab.research.google.com/notebooks/data_table.ipynb>data table notebook</a>'\n",
              "            + ' to learn more about interactive tables.';\n",
              "          element.innerHTML = '';\n",
              "          dataTable['output_type'] = 'display_data';\n",
              "          await google.colab.output.renderOutput(dataTable, element);\n",
              "          const docLink = document.createElement('div');\n",
              "          docLink.innerHTML = docLinkHtml;\n",
              "          element.appendChild(docLink);\n",
              "        }\n",
              "      </script>\n",
              "    </div>\n",
              "  </div>\n",
              "  "
            ],
            "text/plain": [
              "        fixed acidity  volatile acidity  ...  sulphates  alcohol\n",
              "weight      -0.195072         -5.553155  ...   0.957013  0.97454\n",
              "\n",
              "[1 rows x 11 columns]"
            ]
          },
          "metadata": {},
          "execution_count": 14
        }
      ],
      "source": [
        "# 訓練データとテストデータに分割\n",
        "X_train, X_test, y_train, y_test = train_test_split(X, y, test_size=0.2, random_state=0, stratify=y) \n",
        "\n",
        "# ロジスティック回帰モデル\n",
        "lr=LogisticRegression(solver='liblinear',  multi_class='auto') \n",
        "lr.fit(X_train, y_train) # 訓練データで学習\n",
        "y_pred = lr.predict(X_test) # テストデータで予測\n",
        "\n",
        "print(confusion_matrix(y_test, y_pred)) # 混同行列\n",
        "print(accuracy_score(y_test, y_pred)) # accuracy\n",
        "print(precision_score(y_test, y_pred)) # precision\n",
        "print(recall_score(y_test, y_pred)) # recall\n",
        "print(f1_score(y_test, y_pred))  # f値\n",
        "\n",
        "# 特徴量ごとのパラメータ重み\n",
        "pd.DataFrame(lr.coef_, index=['weight'], columns=wine.drop(\"quality\", axis=1).columns.values)"
      ]
    },
    {
      "cell_type": "markdown",
      "metadata": {
        "id": "Pja765NYOsgs"
      },
      "source": [
        "部下は、この分析を元にワインの品質予測の（2クラス分類としての）accuracyは75%となりそうです、と報告してきました。駆け出しのデータサイエンティストである部下の上司であり指導的立場にあるあなたはこの分析は適切と考えますか？\n",
        "\n",
        "**上記のワインの理化学検査結果からの品質予測について、あなた自身で（部下に対して模範となるような）分析に行い、その分析の過程と結果についてレポートとしてまとめたものを作成して提出してください。**\n",
        "\n",
        "なお、レポートは定められた様式に従って図表を含めて最大3ページまでとし、少なくとも1ページ以上は本文で構成してください（図表だけを貼り付けただけで説明がないものは不可）。\n",
        "\n",
        "レポートと合わせて分析に用いたコードも提出してください。\n",
        "\n",
        "授業で未習の内容を取り入れてもらっても構いませんが、それを持って大きく加点することはありません。むしろ、授業で学んだ内容を元にまず、適切に分析を行っているか、その上で独自の創意工夫があるか、を主に評価します。"
      ]
    },
    {
      "cell_type": "code",
      "execution_count": null,
      "metadata": {
        "id": "iPXGRQ_9Osgs"
      },
      "outputs": [],
      "source": [
        ""
      ]
    }
  ],
  "metadata": {
    "kernelspec": {
      "display_name": "Python 3",
      "language": "python",
      "name": "python3"
    },
    "language_info": {
      "codemirror_mode": {
        "name": "ipython",
        "version": 3
      },
      "file_extension": ".py",
      "mimetype": "text/x-python",
      "name": "python",
      "nbconvert_exporter": "python",
      "pygments_lexer": "ipython3",
      "version": "3.7.3"
    },
    "colab": {
      "name": "project.ipynb",
      "provenance": [],
      "collapsed_sections": [],
      "include_colab_link": true
    }
  },
  "nbformat": 4,
  "nbformat_minor": 0
}
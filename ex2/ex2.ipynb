{
  "nbformat": 4,
  "nbformat_minor": 0,
  "metadata": {
    "colab": {
      "name": "ex2.ipynb",
      "provenance": [],
      "collapsed_sections": [],
      "include_colab_link": true
    },
    "kernelspec": {
      "name": "python3",
      "display_name": "Python 3"
    },
    "language_info": {
      "name": "python"
    }
  },
  "cells": [
    {
      "cell_type": "markdown",
      "metadata": {
        "id": "view-in-github",
        "colab_type": "text"
      },
      "source": [
        "<a href=\"https://colab.research.google.com/github/UTDataMining/2021A/blob/master/ex2/ex2.ipynb\" target=\"_parent\"><img src=\"https://colab.research.google.com/assets/colab-badge.svg\" alt=\"Open In Colab\"/></a>"
      ]
    },
    {
      "cell_type": "markdown",
      "metadata": {
        "id": "HY_7tUgrzasL"
      },
      "source": [
        "# 課題2 データの整理\n",
        "\n",
        "配点\n",
        "- Q1 4P\n",
        "- Q2-1 1P\n",
        "- Q2-2 2P\n",
        "- Q2-3 1P\n",
        "- Q2-4 2P\n"
      ]
    },
    {
      "cell_type": "markdown",
      "metadata": {
        "id": "gaePYiuK0Dmd"
      },
      "source": [
        "## Q1\n",
        "### 中央値\n",
        "中央値はデータの中心傾向を観察するための記述統計の指標です。同じくデータの中心傾向の指標である平均値と比べると、データの外れ値の影響を受けにくという特徴があります。1変数の$n$個のデータを考えた時、中央値を求めるにはまず、データの値の大きさの順に並び替えます。\n",
        "\n",
        "次に、データの数が奇数個の場合は、大きさの順に並び替えた$(n+1)/2$番目の値、データの数が偶数個の場合は、大きさの順に並び替えた$n/2$番目と$n/2+1$の値の平均の値、をそれぞれデータの中央値とします。\n",
        "\n",
        "### （標本）分散\n",
        "分散はデータのばらつきを観察するための記述統計の指標です。個々のデータがデータ全体の平均からどらぐらいばらついているかを表します。以下の通り、個々のデータの値$x_{i}$とデータ全体の平均の値$\\overline{x}$の差の2乗和をデータ数$n$で割ったものが分散になります。\n",
        "\n",
        "$\\frac{1}{n}\\Sigma^{n}_{i=1}(x_{i}-\\overline{x})^{2}$\n",
        "\n",
        "0から100までの整数を要素とする任意の長さのリストを引数で入力として受け取り、以下を要素とするリストを返す`avg_med_var()`関数を完成させてください。\n",
        "- 入力リストの全ての要素の平均値\n",
        "- 入力リストの全ての要素の中央値\n",
        "- 入力リストの全ての要素の分散"
      ]
    },
    {
      "cell_type": "code",
      "metadata": {
        "id": "PBXUEkWjzWbZ",
        "exercise_id": "q1",
        "inlinetests": {
          "InlineTest_1": "\nassert 'avg_med_var' in globals(), f\"Have you defined the function 'avg_med_var'?\"\nassert str(avg_med_var.__class__) == \"<class 'function'>\", f\"Have you defined a function 'avg_med_var'? Found a {avg_med_var.__class__} instead\"\ntry:\n  import random\n  import numpy as np\n  #lst = [random.randint(0, 20) for i in range(10)]\n  lst = [1,4,3,2,5,6,8,7,9,10]\n  ans = [np.mean(lst), np.median(lst), np.var(lst)]\n  assert avg_med_var(lst) == ans, f\"Your function 'avg_med_var' returns {avg_med_var(lst)}, while the expected answer is {ans}\"\n  lst = [1,4,3,2,5,6,8,7,9,10,11]\n  ans = [np.mean(lst), np.median(lst), np.var(lst)]\n  assert avg_med_var(lst) == ans, f\"Your function 'avg_med_var' returns {avg_med_var(lst)}, while the expected answer is {ans}\"\nexcept AssertionError as e:\n    raise e\nexcept Exception as e:\n    assert False, f\"Your function raises an exception: {e}.\""
        }
      },
      "source": [
        "def avg_med_var(input_list):\n",
        "  mean_value=0 #平均値を初期化\n",
        "  med_value=0 # 中央値を初期化\n",
        "  var_value=0 # 分散を初期化\n",
        "  results=[] # 結果のリスト\n",
        "        \n",
        "  input_list.sort() # リストの要素を昇順に並び替え\n",
        "  mid_idx = len(input_list)//2 # リストの中央（長さの半分）のインデックス（必要であれば利用する）\n",
        "\n",
        "  if ### リストの長さが偶数か奇数か調べる条件のコード ###\n",
        "    med_value= ### リストの長さが偶数の時の中央値を計算するコード ###\n",
        "  else:\n",
        "    med_value = ### リストの長さが奇数の時の中央値を計算するコード ###\n",
        "    \n",
        "  mean_value = ### 平均値を計算するコード ###\n",
        "  mse_value = 0 # データの値と平均値の差の2乗和を初期化\n",
        "    \n",
        "  for ### input_listの要素を繰り返し処理するコード ###\n",
        "    mse_value = ### データの値と平均値の差の2乗和を更新するコード ###\n",
        "  var_value = ### 分散を計算するコード ###\n",
        "    \n",
        "  results.append(...) \n",
        "  results.append(...) \n",
        "  results.append(...)\n",
        "\n",
        "\n",
        "  return results   "
      ],
      "execution_count": null,
      "outputs": []
    },
    {
      "cell_type": "markdown",
      "metadata": {
        "id": "89Tw1UuQ1izK"
      },
      "source": [
        "`avg_med_var()`関数が完成したら、以下のセルを実行して動作を確認してください。"
      ]
    },
    {
      "cell_type": "code",
      "metadata": {
        "id": "QuuDCRFf1jRo"
      },
      "source": [
        "print(avg_med_var([1,4,3,2,5,6,8,7,9,10]))\n",
        "print(avg_med_var([1,4,3,2,5,6,8,7,9,10,11]))"
      ],
      "execution_count": null,
      "outputs": []
    },
    {
      "cell_type": "markdown",
      "metadata": {
        "id": "PlYmaunz14pT"
      },
      "source": [
        "結果はそれぞれ、`[5.5, 5.5, 8.25]`、`[6.0, 6.0, 10.0]`、となります。結果が異なる場合は、作成した`avg_max_min`関数に誤りがないか確認してください。"
      ]
    },
    {
      "cell_type": "markdown",
      "metadata": {
        "id": "gMTTIHWW4Lm9"
      },
      "source": [
        "# Q2\n",
        "以下のような形式の\"user_score.csv\"ファイルを読み込み、データフレーム`score`を作成します。\n",
        "```Python\n",
        "## user_score.csvファイル\n",
        "user, kokugo, shakai, sugaku, rika\n",
        "1, 30, 43, 51, 63\n",
        "2, 39, 21, 49, 56\n",
        "...\n",
        "```"
      ]
    },
    {
      "cell_type": "code",
      "metadata": {
        "id": "UbQTRbRm4Sm2"
      },
      "source": [
        "# Colaboratoryでは以下を実行して必要なファイルをダウンロード\n",
        "!wget https://raw.githubusercontent.com/UTDataMining/2020A/master/ex2/user_score.csv"
      ],
      "execution_count": null,
      "outputs": []
    },
    {
      "cell_type": "code",
      "metadata": {
        "id": "urTOeAV34aW5"
      },
      "source": [
        "import pandas as pd\n",
        "score = pd.read_csv('user_score.csv')\n",
        "score.head()"
      ],
      "execution_count": null,
      "outputs": []
    },
    {
      "cell_type": "markdown",
      "metadata": {
        "id": "DoexDTJH489m"
      },
      "source": [
        "データフレームの`desribe()`メソッドを使って、各教科ごとの記述統計を確認してください\n",
        "\n",
        "[pandas.DataFrame.describe](https://pandas.pydata.org/pandas-docs/stable/reference/api/pandas.DataFrame.describe.html?highlight=describe#pandas.DataFrame.describe)"
      ]
    },
    {
      "cell_type": "code",
      "metadata": {
        "id": "yfDVrnL749hc"
      },
      "source": [
        "score.describe()"
      ],
      "execution_count": null,
      "outputs": []
    },
    {
      "cell_type": "markdown",
      "metadata": {
        "id": "CGkqdvxR5MkP"
      },
      "source": [
        "### Q2-1\n",
        "データフレーム`score`から指定された科目`subject`の得点が平均点以上の`user`の数を返す`above_mean()`関数を作成してください。"
      ]
    },
    {
      "cell_type": "code",
      "metadata": {
        "id": "U4fXMocB5Lpw",
        "exercise_id": "q2_1",
        "inlinetests": {
          "InlineTest_2_1": "\nassert 'above_mean' in globals(), f\"Have you defined the function 'above_mean'?\"\nassert str(above_mean.__class__) == \"<class 'function'>\", f\"Have you defined a function 'avg_med_var'? Found a {above_mean.__class__} instead\"\ntry:\n  assert above_mean(score, 'kokugo') == len(score[(score['kokugo']>=score['kokugo'].mean())]), f\"Your function 'above_mean' returns {above_mean(score, 'kokugo')}, while the expected answer is {len(score[(score['kokugo']>=score['kokugo'].mean())])}\"\n  assert above_mean(score, 'sugaku') == len(score[(score['sugaku']>=score['sugaku'].mean())]), f\"Your function 'above_mean' returns {above_mean(score, 'sugaku')}, while the expected answer is {len(score[(score['sugaku']>=score['sugaku'].mean())])}\"\nexcept AssertionError as e:\n    raise e\nexcept Exception as e:\n    assert False, f\"Your function raises an exception: {e}.\""
        }
      },
      "source": [
        "def above_mean(df, subject):\n",
        "  # subjectは'kokugo','shakai','sugaku','rika'のいずれか\n",
        "  ...\n",
        "  return ..."
      ],
      "execution_count": null,
      "outputs": []
    },
    {
      "cell_type": "markdown",
      "metadata": {
        "id": "U70gq8sp6YtU"
      },
      "source": [
        "`above_mean()`関数が完成したら、以下のセルを実行して動作を確認してください。"
      ]
    },
    {
      "cell_type": "code",
      "metadata": {
        "id": "rNtw_xWx6ijA"
      },
      "source": [
        "above_mean(score, 'kokugo')"
      ],
      "execution_count": null,
      "outputs": []
    },
    {
      "cell_type": "markdown",
      "metadata": {
        "id": "GbQO4GBj6phS"
      },
      "source": [
        "結果は、`84`、となります。結果が異なる場合は、作成した`above_mean`関数に誤りがないか確認してください。"
      ]
    },
    {
      "cell_type": "markdown",
      "metadata": {
        "id": "C_l5CPKW9Fvs"
      },
      "source": [
        "### Q2-2\n",
        "ユーザごとの全教科の得点の総和の値を表す'sum'列をデータフレーム`df`に新たに追加したデータフレームを返す`score_sum()`関数を作成してください。\n",
        "\n",
        "以下のようにして、データフレームの指定した列の行方向の値の和を持つシリーズオブジェクト作ることができます。ユーザごとの全教科の得点の総和の値を表す'sum'列をデータフレーム`df`に新たに追加してください。\n",
        "\n",
        "```Python\n",
        "データフレーム[[列1,列2,...,]].sum(axis=1)\n",
        "```\n",
        "[pandas.DataFrame.sum](https://pandas.pydata.org/pandas-docs/stable/reference/api/pandas.DataFrame.sum.html)"
      ]
    },
    {
      "cell_type": "code",
      "metadata": {
        "id": "GtgbOc_W_6W8"
      },
      "source": [
        "def score_sum(df):\n",
        "  # 教科名は決め打ちでok\n",
        "  df['sum'] = ...\n",
        "  return df"
      ],
      "execution_count": null,
      "outputs": []
    },
    {
      "cell_type": "markdown",
      "metadata": {
        "id": "_qI_GAMx_-ox"
      },
      "source": [
        "`score_sum()`関数が完成したら、以下のセルを実行して動作を確認してください。'sum'列が追加されていることを確認してください。"
      ]
    },
    {
      "cell_type": "code",
      "metadata": {
        "id": "aQCIPx7pAE_A"
      },
      "source": [
        "score = score_sum(score)\n",
        "score.head()"
      ],
      "execution_count": null,
      "outputs": []
    },
    {
      "cell_type": "markdown",
      "metadata": {
        "id": "erqWC7mQAd6x"
      },
      "source": [
        "上記で作成したデータフレーム`df`の'sum'列を元に、全教科の合計得点の上位3人の'user'を1位、2位、3位の順に要素として持つリストを返す`score_top3()`関数を作成させてください。なお、合計得点は全て異なるものとし、同一順位はないと仮定してください。"
      ]
    },
    {
      "cell_type": "code",
      "metadata": {
        "id": "zgYvXeI-9J5J",
        "exercise_id": "q2_2",
        "inlinetests": {
          "InlineTest_2_2": "\nassert 'score_top3' in globals(), f\"Have you defined the function 'score_top3'?\"\nassert str(score_top3.__class__) == \"<class 'function'>\", f\"Have you defined a function 'score_top3'? Found a {score_top3.__class__} instead\"\ntry:\n  assert score_top3(score) == [39,4,50], f\"Your function 'score_top3' returns {score_top3(score)}, while the expected answer is {[39,4,50]}\"\nexcept AssertionError as e:\n    raise e\nexcept Exception as e:\n    assert False, f\"Your function raises an exception: {e}.\""
        }
      },
      "source": [
        "def score_top3(df):\n",
        "  ...\n",
        "  return ..."
      ],
      "execution_count": null,
      "outputs": []
    },
    {
      "cell_type": "markdown",
      "metadata": {
        "id": "mFKDPh0jA7JT"
      },
      "source": [
        "`score_top3()`関数が完成したら、以下のセルを実行して動作を確認してください。"
      ]
    },
    {
      "cell_type": "code",
      "metadata": {
        "id": "hAsHBYweA9lD"
      },
      "source": [
        "score_top3(score)"
      ],
      "execution_count": null,
      "outputs": []
    },
    {
      "cell_type": "markdown",
      "metadata": {
        "id": "GuAJPZEvA9x3"
      },
      "source": [
        "結果は、`[39, 4, 50]`、となります。結果が異なる場合は、作成した`score_top3`関数に誤りがないか確認してください。"
      ]
    },
    {
      "cell_type": "markdown",
      "metadata": {
        "id": "d64XIy9iBswp"
      },
      "source": [
        "### Q2-3\n",
        "データフレーム`score`の'sum'列を対象に、以下を階級幅として各階級の度数を要素として持つリストを返す`score_hist()`関数を完成させてください。\n",
        "- 0以上、50以下\n",
        "- 51以上、100以下\n",
        "- 101以上、150以下\n",
        "- 151以上、200以下\n",
        "- 201以上、250以下\n",
        "- 251以上、300以下\n",
        "- 301以上、350以下\n",
        "- 351以上、400以下"
      ]
    },
    {
      "cell_type": "code",
      "metadata": {
        "id": "i3S2vE4bBw12",
        "exercise_id": "q2_3",
        "inlinetests": {
          "InlineTest_2_3": "\nassert 'score_hist' in globals(), f\"Have you defined the function 'score_hist'?\"\nassert str(score_hist.__class__) == \"<class 'function'>\", f\"Have you defined a function 'score_hist'? Found a {score_hist.__class__} instead\"\ntry:\n  ans = [4, 20, 39, 35, 29, 24, 13, 2]\n  assert score_hist(score) == ans, f\"Your function 'score_hist' returns {score_hist(score)}, while the expected answer is {ans}\"\nexcept AssertionError as e:\n    raise e\nexcept Exception as e:\n    assert False, f\"Your function raises an exception: {e}.\""
        }
      },
      "source": [
        "def score_hist(df):\n",
        "  ...\n",
        "  return ..."
      ],
      "execution_count": null,
      "outputs": []
    },
    {
      "cell_type": "markdown",
      "metadata": {
        "id": "r4wU0iH8Ee_m"
      },
      "source": [
        "`score_hist()`関数が完成したら、以下のセルを実行して動作を確認してください。"
      ]
    },
    {
      "cell_type": "code",
      "metadata": {
        "id": "8WvkWUA_EgrS"
      },
      "source": [
        "score_hist(score)"
      ],
      "execution_count": null,
      "outputs": []
    },
    {
      "cell_type": "markdown",
      "metadata": {
        "id": "j3-mLOn5EhQ8"
      },
      "source": [
        "結果は、`[4, 20, 39, 35, 29, 24, 13, 2]`、となります。結果が異なる場合は、作成した`score_hist`関数に誤りがないか確認してください。"
      ]
    },
    {
      "cell_type": "markdown",
      "metadata": {
        "id": "k18pw5IVEx9_"
      },
      "source": [
        "### Q2-4\n",
        "以下のような形式の\"user_class.csv\"ファイルを読み込み、データフレーム`user_class`を作成します。\n",
        "```Python\n",
        "## user_class.csvファイル\n",
        "'user', 'class'\n",
        "1, 'C'\n",
        "2, 'C'\n",
        "3, 'B'\n",
        "...\n",
        "```"
      ]
    },
    {
      "cell_type": "code",
      "metadata": {
        "id": "tlq5fwWeE2nh"
      },
      "source": [
        "# Colaboratoryでは以下を実行して必要なファイルをダウンロード\n",
        "!wget https://raw.githubusercontent.com/UTDataMining/2020A/master/ex2/user_class.csv"
      ],
      "execution_count": null,
      "outputs": []
    },
    {
      "cell_type": "code",
      "metadata": {
        "id": "-yVd8d1NFwGI"
      },
      "source": [
        "user_class = pd.read_csv('user_class.csv')\n",
        "user_class.head()"
      ],
      "execution_count": null,
      "outputs": []
    },
    {
      "cell_type": "markdown",
      "metadata": {
        "id": "CqJntUKIF-VN"
      },
      "source": [
        "'user'の列の値をキーに、2つのデータフレーム、`user_class`と`score`、を結合して新しいデータフレームを作成した上で、データフレームの`groupby`メソッドを使って、'class'をインデックス、'class'ごとの'sum'の最高値を列として持つシリーズオブジェクトを返す`score_by_class()`関数を完成させてください。"
      ]
    },
    {
      "cell_type": "code",
      "metadata": {
        "id": "dHiE6F9sF9Ty",
        "exercise_id": "q2_4",
        "inlinetests": {
          "InlineTest_2_4": "\nassert 'score_by_class' in globals(), f\"Have you defined the function 'score_by_class'?\"\nassert str(score_by_class.__class__) == \"<class 'function'>\", f\"Have you defined a function 'score_by_class'? Found a {score_by_class.__class__} instead\"\ntry:\n  ans = {'A': 361, 'B': 349, 'C': 359}\n  assert score_by_class(score, user_class).to_dict() == ans, f\"Your function 'score_by_class' returns {score_by_class(score, user_class).to_dict()}, while the expected answer is {ans}\"\nexcept AssertionError as e:\n    raise e\nexcept Exception as e:\n    assert False, f\"Your function raises an exception: {e}.\""
        }
      },
      "source": [
        "def score_by_class(df1, df2):\n",
        "  ...\n",
        "  return ..."
      ],
      "execution_count": null,
      "outputs": []
    },
    {
      "cell_type": "markdown",
      "metadata": {
        "id": "u3osQUPmHHvB"
      },
      "source": [
        "`score_by_class()`関数が完成したら、以下のセルを実行して動作を確認してください。"
      ]
    },
    {
      "cell_type": "code",
      "metadata": {
        "id": "nmoP7lH5HNOX"
      },
      "source": [
        "score_by_class(score, user_class).to_dict()"
      ],
      "execution_count": null,
      "outputs": []
    },
    {
      "cell_type": "markdown",
      "metadata": {
        "id": "pu8_gks5HN18"
      },
      "source": [
        "結果は、`{'A': 361, 'B': 349, 'C': 359}`、となります。結果が異なる場合は、作成した`score_by_class`関数に誤りがないか確認してください。"
      ]
    },
    {
      "cell_type": "markdown",
      "metadata": {
        "id": "9paB_oYvKq3J"
      },
      "source": [
        "## コードのテスト\n",
        "以下の実行ボタンを押してから、設問ごとにCheck関数でコードのテストをしてください。"
      ]
    },
    {
      "cell_type": "code",
      "metadata": {
        "id": "X8EGGkUnKsWL"
      },
      "source": [
        "# コードのテストの前にこのセルを実行してください\n",
        "!pip install prog_edu_assistant_tools\n",
        "import re\n",
        "import sys\n",
        "import jinja2\n",
        "from IPython.core import display\n",
        "from google.colab import _message as google_message\n",
        "from prog_edu_assistant_tools.magics import report, autotest, CaptureOutput\n",
        "from prog_edu_assistant_tools.check import Check"
      ],
      "execution_count": null,
      "outputs": []
    },
    {
      "cell_type": "markdown",
      "metadata": {
        "id": "UBmME2BCK3pa"
      },
      "source": [
        "## Q1"
      ]
    },
    {
      "cell_type": "code",
      "metadata": {
        "id": "8--IsILXK24k"
      },
      "source": [
        "# Run this cell to check your solution.\n",
        "# If you get an error 'Check not defined', make sure you have run all preceding\n",
        "# cells once (Runtime -> Run before)\n",
        "Check('q1')"
      ],
      "execution_count": null,
      "outputs": []
    },
    {
      "cell_type": "markdown",
      "metadata": {
        "id": "ghtta35YLCCK"
      },
      "source": [
        "## Q2-1"
      ]
    },
    {
      "cell_type": "code",
      "metadata": {
        "id": "5weMT7X5LFMz"
      },
      "source": [
        "# Run this cell to check your solution.\n",
        "# If you get an error 'Check not defined', make sure you have run all preceding\n",
        "# cells once (Runtime -> Run before)\n",
        "Check('q2_1')"
      ],
      "execution_count": null,
      "outputs": []
    },
    {
      "cell_type": "markdown",
      "metadata": {
        "id": "iqrZnK4mLLjz"
      },
      "source": [
        "## Q2-2"
      ]
    },
    {
      "cell_type": "code",
      "metadata": {
        "id": "Yuuzw3aoLM-C"
      },
      "source": [
        "# Run this cell to check your solution.\n",
        "# If you get an error 'Check not defined', make sure you have run all preceding\n",
        "# cells once (Runtime -> Run before)\n",
        "Check('q2_2')"
      ],
      "execution_count": null,
      "outputs": []
    },
    {
      "cell_type": "markdown",
      "metadata": {
        "id": "VA5SR1hBLQ0y"
      },
      "source": [
        "## Q2-3"
      ]
    },
    {
      "cell_type": "code",
      "metadata": {
        "id": "ydSwT6VjLSTb"
      },
      "source": [
        "# Run this cell to check your solution.\n",
        "# If you get an error 'Check not defined', make sure you have run all preceding\n",
        "# cells once (Runtime -> Run before)\n",
        "Check('q2_3')"
      ],
      "execution_count": null,
      "outputs": []
    },
    {
      "cell_type": "markdown",
      "metadata": {
        "id": "f1sEH6YBLUIy"
      },
      "source": [
        "## Q2-4"
      ]
    },
    {
      "cell_type": "code",
      "metadata": {
        "id": "YaK2X8uYLWCT"
      },
      "source": [
        "# Run this cell to check your solution.\n",
        "# If you get an error 'Check not defined', make sure you have run all preceding\n",
        "# cells once (Runtime -> Run before)\n",
        "Check('q2_4')"
      ],
      "execution_count": null,
      "outputs": []
    }
  ]
}
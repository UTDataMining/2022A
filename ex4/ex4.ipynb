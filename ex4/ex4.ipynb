{
  "nbformat": 4,
  "nbformat_minor": 0,
  "metadata": {
    "colab": {
      "name": "ex4.ipynb",
      "provenance": [],
      "collapsed_sections": [],
      "include_colab_link": true
    },
    "kernelspec": {
      "name": "python3",
      "display_name": "Python 3"
    },
    "language_info": {
      "name": "python"
    }
  },
  "cells": [
    {
      "cell_type": "markdown",
      "metadata": {
        "id": "view-in-github",
        "colab_type": "text"
      },
      "source": [
        "<a href=\"https://colab.research.google.com/github/UTDataMining/2022A/blob/main/ex4/ex4.ipynb\" target=\"_parent\"><img src=\"https://colab.research.google.com/assets/colab-badge.svg\" alt=\"Open In Colab\"/></a>"
      ]
    },
    {
      "cell_type": "markdown",
      "metadata": {
        "id": "OML25K1Bv3L2"
      },
      "source": [
        "# 課題4 テキストデータ分析\n",
        "配点\n",
        "- Q1, 1P\n",
        "- Q2, 2P\n",
        "- Q3, 4P\n",
        "- Q4, 3P"
      ]
    },
    {
      "cell_type": "code",
      "metadata": {
        "id": "I_2I7_5hv7JW"
      },
      "source": [
        "# 必要なモジュールのimport\n",
        "import numpy as np\n",
        "import pandas as pd"
      ],
      "execution_count": null,
      "outputs": []
    },
    {
      "cell_type": "markdown",
      "metadata": {
        "id": "DpAaCPlLwEsU"
      },
      "source": [
        "## Q1\n",
        "$n$-次元ベクトル空間における、任意の2つのベクトル、$ \\vec{x}=(x_1,x_2,...,x_n)$、$\\vec{y}=(y_1,y_2,...,y_n)$、の間のcos類似度 $cos( \\vec{x}, \\vec{y})$ は以下のように定義されます。\n",
        "\n",
        "$cos( \\vec{x}, \\vec{y}) =  \\frac{\\vec{x}\\cdot \\vec{y}}{\\|x\\|_2\\|y\\|_2}=\\frac{\\Sigma^{n}_{i=1}{x_{i}y_{i}}}{\\sqrt{\\Sigma^{n}_{i=1}x_{i}^{2}}\\sqrt{\\Sigma^{n}_{i=1}y_{i}^{2}}}$\n",
        "\n",
        "入力ベクトル $\\vec{x}$, $\\vec{y}$ をそれぞれ`NumPy` の配列として引数で受け取り、それらのベクトル間のcos類似度を計算して返す関数 `cos_sim` を完成させてください。"
      ]
    },
    {
      "cell_type": "code",
      "metadata": {
        "id": "q5g57zSEwM7M",
        "exercise_id": "q1",
        "inlinetests": {
          "InlineTest_1": "\ntry:\n  import numpy as np\n  assert 0.82 == round(cos_sim(np.array([1,0,1]), np.array([1,1,1])), 2), f\"'cos_sim(np.array([1,0,1]), np.array([1,1,1]))' returns {cos_sim(np.array([1,0,1]), np.array([1,1,1]))}, while the expected answer is {0.816}...\"\n  assert 1 == round(cos_sim(np.array([1,1,1]), np.array([1,1,1])), 2), f\"'cos_sim(np.array([1,1,1]), np.array([1,1,1]))' returns {cos_sim(np.array([1,1,1]), np.array([1,1,1]))}, while the expected answer is {1.0}\"\n  assert -1 == round(cos_sim(np.array([-1,-1,-1]), np.array([1,1,1])), 2), f\"'cos_sim(np.array([-1,-1,-1]), np.array([1,1,1]))' returns {cos_sim(np.array([-1,-1,-1]), np.array([1,1,1]))}, while the expected answer is {-1.0}\"\nexcept AssertionError as e:\n    raise e\nexcept Exception as e:\n    assert False, f\"Your function raises an exception: {e}.\""
        }
      },
      "source": [
        "def cos_sim(vec1, vec2):\n",
        "  return ..."
      ],
      "execution_count": null,
      "outputs": []
    },
    {
      "cell_type": "markdown",
      "metadata": {
        "id": "oGhCfrk9www9"
      },
      "source": [
        "`cos_sim()`関数が完成したら、以下のセルを実行して動作を確認してください。"
      ]
    },
    {
      "cell_type": "code",
      "metadata": {
        "id": "6PBnF_Viwzak"
      },
      "source": [
        "print(round(cos_sim(np.array([1,0,1]), np.array([1,1,1])), 2))\n",
        "print(round(cos_sim(np.array([1,1,1]), np.array([1,1,1])), 2))\n",
        "print(round(cos_sim(np.array([-1,-1,-1]), np.array([1,1,1])), 2))"
      ],
      "execution_count": null,
      "outputs": []
    },
    {
      "cell_type": "markdown",
      "metadata": {
        "id": "gHDWhcv-yYxA"
      },
      "source": [
        "結果は、`0.82`、`1.0`、`-1.0`、となります。結果が異なる場合は、作成した関数に誤りがないか確認してください。"
      ]
    },
    {
      "cell_type": "markdown",
      "metadata": {
        "id": "5_QiLSAP1Jn4"
      },
      "source": [
        "## Q2\n",
        "\"course_list.csv\"ファイルには以下のように各行に授業名のテキストデータ（文字コードはUTF8）が含まれています。以下では、このファイルを読み込み、各授業のベクトルを作成し、授業間の類似度を求めるコードを実装します。\n",
        "```Python\n",
        "## course_list.csvファイル\n",
        "...\n",
        "数理科学基礎\n",
        "物性化学\n",
        "政治Ⅰ\n",
        "身体運動・健康科学実習Ⅰ（ﾒﾃﾞｨｶﾙｹｱ1）\n",
        "スペイン語テクスト分析Ⅰ\n",
        "英語二列Ｗ（ALESS）\n",
        "応用倫理学\n",
        "...\n",
        "```"
      ]
    },
    {
      "cell_type": "code",
      "metadata": {
        "id": "lyBEzDX61Ngb"
      },
      "source": [
        "# Colaboratoryでは以下を実行して必要なファイルをダウンロード\n",
        "!wget https://raw.githubusercontent.com/UTDataMining/2022A/master/ex4/course_list.csv"
      ],
      "execution_count": null,
      "outputs": []
    },
    {
      "cell_type": "markdown",
      "metadata": {
        "id": "Qmrm37sH2PWp"
      },
      "source": [
        "### Q2.1\n",
        "引数`file`に与えられたファイル名のファイルを1行ずつ**順番に**読み込み、その各行を要素とするリストを作成して返す`create_list`関数を完成さてください。作成されたリストは変数`courses`で受け取ります。**以降の処理では、リスト`courses`のインデックスをその要素（授業名）のIDとして扱います**。"
      ]
    },
    {
      "cell_type": "code",
      "metadata": {
        "id": "IHBBvlOg2Ysq",
        "exercise_id": "q2_1",
        "inlinetests": {
          "InlineTest_2_1": "\ntry:\n  courses = create_list('course_list.csv')\n  assert 552 == len(courses), f\"'len(courses)' returns {len(courses)}, while the expected answer is {552}\"\n  assert 198 == courses.index('計算機プログラミング'), f\"'courses.index('計算機プログラミング')' returns {courses.index('計算機プログラミング')}, while the expected answer is {198}\"\n  vocab = create_list('keyword_list.csv')\n  assert 243 == len(vocab), f\"'len(vocab)' returns {len(vocab)}, while the expected answer is {243}\"\n  assert 145 == vocab.index('プログラミング'), f\"'vocab.index('プログラミング')' returns {vocab.index('プログラミング')}, while the expected answer is {145}\"\nexcept AssertionError as e:\n    raise e\nexcept Exception as e:\n    assert False, f\"Your function raises an exception: {e}.\""
        }
      },
      "source": [
        "def create_list(file):\n",
        "  return pd.read_csv(..., header=None, encoding=\"utf-8\").values.flatten().tolist()"
      ],
      "execution_count": null,
      "outputs": []
    },
    {
      "cell_type": "markdown",
      "metadata": {
        "id": "thBxnu7R3kDI"
      },
      "source": [
        "`create_list`関数が完成したら、以下のセルを実行して動作を確認してください。リストの長さ（授業の数）は`552`、講義\"計算機プログラミング\"のID（リスト`courses`のインデックス）は`198`となります。"
      ]
    },
    {
      "cell_type": "code",
      "metadata": {
        "id": "ly6m0Hd-3oNE"
      },
      "source": [
        "courses = create_list('course_list.csv')\n",
        "print(len(courses))\n",
        "print(courses.index('計算機プログラミング'))"
      ],
      "execution_count": null,
      "outputs": []
    },
    {
      "cell_type": "markdown",
      "metadata": {
        "id": "7jucVWG55p-e"
      },
      "source": [
        "\"keyword_list.csv\"ファイルには以下のように各行に1単語が含まれています（文字コードはUTF8）。\n",
        "```Python\n",
        "## keyword_list.csvファイル\n",
        "...\n",
        "外国語\n",
        "日本語\n",
        "力学\n",
        "身体運動\n",
        "微分積分学\n",
        "ロシア語\n",
        "熱力学\n",
        "線型代数学\n",
        "イタリア語\n",
        "物性\n",
        "...\n",
        "```\n",
        "上記と同様に`create_list`関数により、\"keywor_list.csv\"ファイルを1行ずつ**順番に**読み込み、その各行を要素とするリストを作成します。作成されたリストは変数`vocab`で受け取ります。以降の処理では、リスト`vocab`のインデックスをその要素（単語）のIDとして扱います。リスト`vocab`は以降の処理における語彙となります。"
      ]
    },
    {
      "cell_type": "code",
      "metadata": {
        "id": "sSIO7Yl151wl"
      },
      "source": [
        "# Colaboratoryでは以下を実行して必要なファイルをダウンロード\n",
        "!wget https://raw.githubusercontent.com/UTDataMining/2022A/master/ex4/keyword_list.csv"
      ],
      "execution_count": null,
      "outputs": []
    },
    {
      "cell_type": "markdown",
      "metadata": {
        "id": "uZ7efuVs6CWY"
      },
      "source": [
        "以下のセルを実行して動作を確認してください。リストの長さ（単語の数）は`243`、単語\"プログラミング\"のID（リスト`vocab`のインデックス）は`145`、単語\"英語\"のID（リスト`vocab`のインデックス）は`0`となります。"
      ]
    },
    {
      "cell_type": "code",
      "metadata": {
        "id": "Ved5dvUm6JMQ"
      },
      "source": [
        "vocab = create_list('keyword_list.csv')\n",
        "print(len(vocab))\n",
        "print(vocab.index('プログラミング'))\n",
        "print(vocab.index('英語'))"
      ],
      "execution_count": null,
      "outputs": []
    },
    {
      "cell_type": "markdown",
      "metadata": {
        "id": "PM73mMPV7TLh"
      },
      "source": [
        "### Q2.2\n",
        "リスト`courses`と`vocab`を引数で受け取り、単語のID（リスト`vocab`のその単語のインデックス）をキー、授業名を1文書（document）と考えた時のその単語のDF（Document Frequency)を値とする辞書を作成して返す`count_df`関数を作成してください。作成された辞書は変数`df`で受け取ります。この場合、ある単語のDFはその単語を授業名に含む授業数に対応します。**単語が授業名に複数回含まれる場合でも1回と数えます**"
      ]
    },
    {
      "cell_type": "code",
      "metadata": {
        "id": "gXafFvvp7wtj",
        "exercise_id": "q2_2",
        "inlinetests": {
          "InlineTest_2_2": "\ntry:\n  courses = create_list('course_list.csv')\n  vocab = create_list('keyword_list.csv')\n  df = count_df(courses, vocab)\n  assert 243 == len(df), f\"'len(df)' returns {len(df)}, while the expected answer is {243}\"\n  assert 2 == df[vocab.index('プログラミング')], f\"'df[vocab.index('プログラミング')]' returns {df[vocab.index('プログラミング')]}, while the expected answer is {2}\"\n  assert 12 == df[vocab.index('英語')], f\"'df[vocab.index('英語')]' returns {df[vocab.index('英語')]}, while the expected answer is {12}\"\nexcept AssertionError as e:\n    raise e\nexcept Exception as e:\n    assert False, f\"Your function raises an exception: {e}.\""
        }
      },
      "source": [
        "def count_df(courses, vocab):\n",
        "  dic={}\n",
        "  for i in range(len(vocab)):\n",
        "    for c in courses:\n",
        "      ... # courseがvocab[i]を含めばdic[i]の値を1つ増やす\n",
        "      ... # （dicにiのキーが存在しない場合に注意）\n",
        "  return dic"
      ],
      "execution_count": null,
      "outputs": []
    },
    {
      "cell_type": "markdown",
      "metadata": {
        "id": "jJFv8DWN8q8r"
      },
      "source": [
        "`count_df`関数が完成したら、以下のセルを実行して動作を確認してください。辞書の長さは`243`、単語\"プログラミング\"（IDは`145`）のDFは`2`、単語\"英語\"（IDは`0`）のDFは`12`となります。"
      ]
    },
    {
      "cell_type": "code",
      "metadata": {
        "id": "MPouabvS83LR"
      },
      "source": [
        "df = count_df(courses, vocab)\n",
        "print(len(df))\n",
        "print(vocab.index('プログラミング'), df[vocab.index('プログラミング')])\n",
        "print(vocab.index('英語'), df[vocab.index('英語')])"
      ],
      "execution_count": null,
      "outputs": []
    },
    {
      "cell_type": "markdown",
      "metadata": {
        "id": "3_sBEgPJ_nwj"
      },
      "source": [
        "## Q3\n",
        "### Q3.1\n",
        "リスト`vocab`の各単語を次元とする授業ベクトルを考えます。授業ベクトルの長さはリスト`vocab`の長さと等しく、リスト`vocab`のインデックス`i`の単語`vocab[i]`が授業名に含まれる時、授業ベクトルの`i`番目の要素は`1`、含まれなければ`0`とします。\n",
        "\n",
        "以下では、リスト`courses`と`vocab`を引数で受け取り、リスト`courses`の各授業のベクトルを行、リスト`vocab`の各単語を列とした`NumPy`の行列を作成して返す`lec_word_matrix`関数を完成させてください。作成した授業-単語行列は、授業（行）の授業名に単語（列）が含まれていれば、その要素が1であるような行列です。"
      ]
    },
    {
      "cell_type": "code",
      "metadata": {
        "id": "XqR9PR7e_zk9",
        "exercise_id": "q3_1",
        "inlinetests": {
          "InlineTest_3_1": "\ntry:\n  courses = create_list('course_list.csv')\n  vocab = create_list('keyword_list.csv')\n  assert (552, 243) == lec_word_matrix(courses, vocab).shape, f\"'lec_word_matrix(courses, vocab).shape' returns {lec_word_matrix(courses, vocab).shape}, while the expected answer is {(552, 243)}\"\n  assert 2287 == np.sum(lec_word_matrix(courses, vocab)), f\"'np.sum(lec_word_matrix(courses, vocab))' returns {np.sum(lec_word_matrix(courses, vocab))}, while the expected answer is {2287}\"\nexcept AssertionError as e:\n    raise e\nexcept Exception as e:\n    assert False, f\"Your function raises an exception: {e}.\""
        }
      },
      "source": [
        "def lec_word_matrix(courses, vocab):\n",
        "  ### 引数：\n",
        "  # courses: 授業リスト\n",
        "  # vocab: 単語リスト\n",
        "  mat = np.zeros((..., ...)) # 授業数x単語数の0要素の行列を初期化\n",
        "  ... # courses[i]がvocab[j]を含めばmat[i, j]の値を1\n",
        "  return mat"
      ],
      "execution_count": null,
      "outputs": []
    },
    {
      "cell_type": "markdown",
      "metadata": {
        "id": "EgqmU3JWA0Hw"
      },
      "source": [
        "`lec_word_matrix`関数が完成したら、以下のセルを実行して動作を確認してください。作成した授業-単語行列の形状は`(552, 243)`、要素の値の和は`2287`となります。"
      ]
    },
    {
      "cell_type": "code",
      "metadata": {
        "id": "qVVOV39zA5gk"
      },
      "source": [
        "print(lec_word_matrix(courses, vocab).shape)\n",
        "print(np.sum(lec_word_matrix(courses, vocab)))"
      ],
      "execution_count": null,
      "outputs": []
    },
    {
      "cell_type": "markdown",
      "metadata": {
        "id": "gyrpzNGWCg-U"
      },
      "source": [
        "### Q3.2\n",
        "Q3.1で作成した授業-単語行列の各要素を、その授業の授業名に単語が含まれるか否かの1or0ではなく、その授業の授業名に単語が何回含まれるか（TF: Term Frequency)で表した行列を作成して返す`lec_word_tf_matrix`関数を完成させてください。"
      ]
    },
    {
      "cell_type": "code",
      "metadata": {
        "id": "JZo8sCHzCqL6",
        "exercise_id": "q3_2",
        "inlinetests": {
          "InlineTest_3_2": "\ntry:\n  courses = create_list('course_list.csv')\n  vocab = create_list('keyword_list.csv')\n  assert (552, 243) == lec_word_tf_matrix(courses, vocab).shape, f\"'lec_word_tf_matrix(courses, vocab).shape' returns {lec_word_tf_matrix(courses, vocab).shape}, while the expected answer is {(552, 243)}\"\n  assert 2366 == np.sum(lec_word_tf_matrix(courses, vocab)), f\"'np.sum(lec_word_tf_matrix(courses, vocab))' returns {np.sum(lec_word_tf_matrix(courses, vocab))}, while the expected answer is {2366}\"\n  assert 2 == lec_word_tf_matrix(courses, vocab)[courses.index('自然科学ゼミナール（情報科学）'), vocab.index('科学')], f\"'lec_word_tf_matrix(courses, vocab)[courses.index('自然科学ゼミナール（情報科学）'), vocab.index('科学')]' returns {lec_word_tf_matrix(courses, vocab)[courses.index('自然科学ゼミナール（情報科学）'), vocab.index('科学')]}, while the expected answer is {2}\"\nexcept AssertionError as e:\n    raise e\nexcept Exception as e:\n    assert False, f\"Your function raises an exception: {e}.\""
        }
      },
      "source": [
        "def lec_word_tf_matrix(courses, vocab):\n",
        "  ### 引数：\n",
        "  # courses: 授業リスト\n",
        "  # vocab: 単語リスト\n",
        "  mat = np.zeros((..., ...)) # 授業数x単語数の0要素の行列を初期化\n",
        "  ... # courses[i]に含まれるvocab[j]の数をmat[i, j]の値に\n",
        "  return mat"
      ],
      "execution_count": null,
      "outputs": []
    },
    {
      "cell_type": "markdown",
      "metadata": {
        "id": "M26CWzOUDH_X"
      },
      "source": [
        "`lec_word_tf_matrix`関数が完成したら、以下のセルを実行して動作を確認してください。作成した授業-単語行列の要素の値の和は`2366`となります。\n",
        "\n",
        "授業「自然科学ゼミナール（情報科学）」には「科学」が2回含まれるので対応する行列の要素の値は2となります。"
      ]
    },
    {
      "cell_type": "code",
      "metadata": {
        "id": "Ve7KjM-ODVDX"
      },
      "source": [
        "print(np.sum(lec_word_tf_matrix(courses, vocab)))\n",
        "print(lec_word_tf_matrix(courses, vocab)[courses.index('自然科学ゼミナール（情報科学）'), vocab.index('科学')])"
      ],
      "execution_count": null,
      "outputs": []
    },
    {
      "cell_type": "markdown",
      "metadata": {
        "id": "oBfOCrrjEUKA"
      },
      "source": [
        "### Q3.3\n",
        "Q3.2で作成した授業-単語行列の各要素（授業`i`の単語`j`の$TF_{ij}$）にその単語のIDF値を掛けたTFIDF値を要素とする行列を作成して返す`lec_word_tfidf_matrix`関数を完成させてください。\n",
        "\n",
        "ここで、授業`i`、単語`j`のTFIDF値は以下のように定義されます。\n",
        "```Python\n",
        "TFIDF=TF_ij*log(すべての授業数/単語jのDF)=TF_ij*log(len(courses)/df[j])\n",
        "```\n",
        "`log`の計算には`np.log()`が使用できます。"
      ]
    },
    {
      "cell_type": "code",
      "metadata": {
        "id": "4xGrq29jE27m",
        "exercise_id": "q3_3",
        "inlinetests": {
          "InlineTest_3_3": "\ntry:\n  courses = create_list('course_list.csv')\n  vocab = create_list('keyword_list.csv')\n  df = count_df(courses, vocab)\n  tfidf_mat = lec_word_tfidf_matrix(courses, vocab, df)\n  assert 7274 == int(np.sum(tfidf_mat)), f\"'int(np.sum(tfidf_mat))' returns {int(np.sum(tfidf_mat))}, while the expected answer is {7274}\"\n  assert 399 == int(tfidf_mat[courses.index('自然科学ゼミナール（情報科学）'), vocab.index('科学')]*100), f\"'tfidf_mat[courses.index('自然科学ゼミナール（情報科学）'), vocab.index('科学')]' returns {tfidf_mat[courses.index('自然科学ゼミナール（情報科学）'), vocab.index('科学')]}, while the expected answer is {3.99}...\"\nexcept AssertionError as e:\n    raise e\nexcept Exception as e:\n    assert False, f\"Your function raises an exception: {e}.\""
        }
      },
      "source": [
        "def lec_word_tfidf_matrix(courses, vocab, df):\n",
        "  ### 引数：\n",
        "  # courses: 授業リスト\n",
        "  # vocab: 単語リスト\n",
        "  # df: DF辞書\n",
        "  mat = np.zeros((..., ...)) # 授業数x単語数の0要素の行列を初期化\n",
        "  ... # 授業名iの単語jのTFIDF値をmat[i,j]の値に\n",
        "  return mat"
      ],
      "execution_count": null,
      "outputs": []
    },
    {
      "cell_type": "markdown",
      "metadata": {
        "id": "Lrq2X3hfFdyx"
      },
      "source": [
        "`lec_word_tfidf_matrix`関数が完成したら、以下のセルを実行して動作を確認してください。作成した授業-単語行列の要素の値の和の整数部分は`7274`となります。\n",
        "\n",
        "講義「自然科学ゼミナール（情報科学）」には「科学」が2回含まれ、「科学」のDF値は75なので対応する行列の要素の値は$2*log(552/75)\\simeq3.99$となります。"
      ]
    },
    {
      "cell_type": "code",
      "metadata": {
        "id": "Sj9aqbuyFxZj"
      },
      "source": [
        "tfidf_mat = lec_word_tfidf_matrix(courses, vocab, df)\n",
        "print(int(np.sum(tfidf_mat)))\n",
        "print(df[vocab.index('科学')], tfidf_mat[courses.index('自然科学ゼミナール（情報科学）'), vocab.index('科学')])"
      ],
      "execution_count": null,
      "outputs": []
    },
    {
      "cell_type": "markdown",
      "metadata": {
        "id": "nj-p57LnHrHj"
      },
      "source": [
        "## Q4\n",
        "Q3.3で作成した授業-単語行列を元に、入力の授業に対してcos類似度に基づいて他のすべての授業との類似度を計算し、類似する授業名をキー、その類似度を値とした辞書を返す以下の`find_similar_course`関数を完成させてください。その際、**入力の授業および類似度が0の授業は辞書に含めない**ようにしてください。cos類似度の計算にはQ1で作成した関数を使ってもよいです。"
      ]
    },
    {
      "cell_type": "code",
      "metadata": {
        "id": "1SGjWSGJH0BY",
        "exercise_id": "q4",
        "inlinetests": {
          "InlineTest_4": "\ntry:\n  courses = create_list('course_list.csv')\n  vocab = create_list('keyword_list.csv')\n  df = count_df(courses, vocab)\n  tfidf_mat = lec_word_tfidf_matrix(courses, vocab, df)\n  title=\"自然科学ゼミナール（情報科学）\" \n  results=find_similar_course(courses.index(title), tfidf_mat, courses)\n  ranking = pd.DataFrame(list(results.items()), columns=['title', \"similarity\"])\n  assert 64 ==  int(ranking.sort_values(by='similarity', ascending=False).iloc[0,1]*100), f\"'ranking.sort_values(by='similarity', ascending=False).iloc[0,1]' returns {ranking.sort_values(by='similarity', ascending=False).iloc[0,1]}, while the expected answer is {0.64}...\"\n  assert 63 ==  int(ranking.sort_values(by='similarity', ascending=False).iloc[1,1]*100), f\"'ranking.sort_values(by='similarity', ascending=False).iloc[1,1]' returns {ranking.sort_values(by='similarity', ascending=False).iloc[1,1]}, while the expected answer is {0.63}...\"\n  assert \"自然科学ゼミナール（生命科学）\" == ranking.sort_values(by='similarity', ascending=False).iloc[0,0], f\"'ranking.sort_values(by='similarity', ascending=False).iloc[0,0]' returns {ranking.sort_values(by='similarity', ascending=False).iloc[0,0]}, while the expected answer is {'自然科学ゼミナール（生命科学）'}\"\n  assert \"生物情報科学\" == ranking.sort_values(by='similarity', ascending=False).iloc[1,0] , f\"'ranking.sort_values(by='similarity', ascending=False).iloc[1,0]' returns {ranking.sort_values(by='similarity', ascending=False).iloc[1,0]}, while the expected answer is {'生物情報科学'}\"\nexcept AssertionError as e:\n    raise e\nexcept Exception as e:\n    assert False, f\"Your function raises an exception: {e}.\""
        }
      },
      "source": [
        "def find_similar_course(target, tfidf_mat, courses):\n",
        "  ### 引数：\n",
        "  # target:  入力授業のID\n",
        "  # tfidf_mat: Q3.3で作成した授業-単語行列\n",
        "  # courses: 授業リスト\n",
        "  ... # 入力授業のベクトルtfidf_mat[target]と各授業iのベクトルtfidf_mat[i]の類似度を計算\n",
        "  return ... # 類似する授業名をキー、その類似度を値とする辞書を返す"
      ],
      "execution_count": null,
      "outputs": []
    },
    {
      "cell_type": "markdown",
      "metadata": {
        "id": "opCyVGY2JFN8"
      },
      "source": [
        "`find_similar_course`関数が完成したら、以下のセルを実行して動作を確認してください。\n",
        "\n",
        "入力の講義`自然科学ゼミナール（情報科学）`に類似した上位の講義は、`自然科学ゼミナール（生命科学）、生物情報科学、自然科学ゼミナール（数理科学）、自然現象とモデル、人類科学、...`となります。\n",
        "\n",
        "類似した授業数は230となります。"
      ]
    },
    {
      "cell_type": "code",
      "metadata": {
        "id": "dMxDtMWcJJ8v"
      },
      "source": [
        "tfidf_mat = lec_word_tfidf_matrix(courses, vocab, df)\n",
        "title=\"自然科学ゼミナール（情報科学）\" # 入力の授業名\n",
        "results=find_similar_course(courses.index(title), tfidf_mat, courses) # 類似授業の辞書を受け取る\n",
        "print(len(results)) # 類似授業の数\n",
        "ranking = pd.DataFrame(list(results.items()), columns=['title', \"similarity\"]) # 類似度が上位の授業を表示\n",
        "ranking.sort_values(by='similarity', ascending=False).head(10)"
      ],
      "execution_count": null,
      "outputs": []
    },
    {
      "cell_type": "markdown",
      "metadata": {
        "id": "H8DW30_AxIxe"
      },
      "source": [
        "## コードのテスト\n",
        "以下のセルを実行してから、設問ごとにCheck関数でコードのテストをしてください。"
      ]
    },
    {
      "cell_type": "code",
      "metadata": {
        "id": "N46m4DxjxHtn"
      },
      "source": [
        "# コードのテストの前にこのセルを実行してください\n",
        "!pip install prog_edu_assistant_tools\n",
        "import re\n",
        "import sys\n",
        "import jinja2\n",
        "from IPython.core import display\n",
        "from google.colab import _message as google_message\n",
        "from prog_edu_assistant_tools.magics import report, autotest, CaptureOutput\n",
        "from prog_edu_assistant_tools.check import Check"
      ],
      "execution_count": null,
      "outputs": []
    },
    {
      "cell_type": "markdown",
      "metadata": {
        "id": "dJuIyggO0zw1"
      },
      "source": [
        "## Q1"
      ]
    },
    {
      "cell_type": "code",
      "metadata": {
        "id": "5g_v37Xr04J4"
      },
      "source": [
        "# Run this cell to check your solution.\n",
        "# If you get an error 'Check not defined', make sure you have run all preceding\n",
        "# cells once (Runtime -> Run before)\n",
        "Check('q1')"
      ],
      "execution_count": null,
      "outputs": []
    },
    {
      "cell_type": "markdown",
      "metadata": {
        "id": "e1TbzkBs5ap_"
      },
      "source": [
        "## Q2.1"
      ]
    },
    {
      "cell_type": "code",
      "metadata": {
        "id": "gKZXt3eQ08dY"
      },
      "source": [
        "# Run this cell to check your solution.\n",
        "# If you get an error 'Check not defined', make sure you have run all preceding\n",
        "# cells once (Runtime -> Run before)\n",
        "Check('q2_1')"
      ],
      "execution_count": null,
      "outputs": []
    },
    {
      "cell_type": "markdown",
      "metadata": {
        "id": "OGDf6atV-UHM"
      },
      "source": [
        "## Q2.2"
      ]
    },
    {
      "cell_type": "code",
      "metadata": {
        "id": "HbeXyD9y5d6T"
      },
      "source": [
        "# Run this cell to check your solution.\n",
        "# If you get an error 'Check not defined', make sure you have run all preceding\n",
        "# cells once (Runtime -> Run before)\n",
        "Check('q2_2')"
      ],
      "execution_count": null,
      "outputs": []
    },
    {
      "cell_type": "markdown",
      "metadata": {
        "id": "d7HhYdJ8B7Al"
      },
      "source": [
        "## Q3.1"
      ]
    },
    {
      "cell_type": "code",
      "metadata": {
        "id": "6TjcM2g9-Y7G"
      },
      "source": [
        "# Run this cell to check your solution.\n",
        "# If you get an error 'Check not defined', make sure you have run all preceding\n",
        "# cells once (Runtime -> Run before)\n",
        "Check('q3_1')"
      ],
      "execution_count": null,
      "outputs": []
    },
    {
      "cell_type": "markdown",
      "metadata": {
        "id": "XdIiAGXwEHif"
      },
      "source": [
        "## Q3.2"
      ]
    },
    {
      "cell_type": "code",
      "metadata": {
        "id": "wrgq4dMVB-Mi"
      },
      "source": [
        "# Run this cell to check your solution.\n",
        "# If you get an error 'Check not defined', make sure you have run all preceding\n",
        "# cells once (Runtime -> Run before)\n",
        "Check('q3_2')"
      ],
      "execution_count": null,
      "outputs": []
    },
    {
      "cell_type": "markdown",
      "metadata": {
        "id": "DLB_F73LHELG"
      },
      "source": [
        "## Q3.3"
      ]
    },
    {
      "cell_type": "code",
      "metadata": {
        "id": "vCSBLZIFEK8o"
      },
      "source": [
        "# Run this cell to check your solution.\n",
        "# If you get an error 'Check not defined', make sure you have run all preceding\n",
        "# cells once (Runtime -> Run before)\n",
        "Check('q3_3')"
      ],
      "execution_count": null,
      "outputs": []
    },
    {
      "cell_type": "markdown",
      "metadata": {
        "id": "y91pYrUrMbss"
      },
      "source": [
        "## Q4"
      ]
    },
    {
      "cell_type": "code",
      "metadata": {
        "id": "qlIEnmwEHHzd"
      },
      "source": [
        "# Run this cell to check your solution.\n",
        "# If you get an error 'Check not defined', make sure you have run all preceding\n",
        "# cells once (Runtime -> Run before)\n",
        "Check('q4')"
      ],
      "execution_count": null,
      "outputs": []
    }
  ]
}
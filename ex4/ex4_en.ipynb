{
  "nbformat": 4,
  "nbformat_minor": 0,
  "metadata": {
    "colab": {
      "provenance": [],
      "collapsed_sections": [],
      "include_colab_link": true
    },
    "kernelspec": {
      "name": "python3",
      "display_name": "Python 3"
    },
    "language_info": {
      "name": "python"
    }
  },
  "cells": [
    {
      "cell_type": "markdown",
      "metadata": {
        "id": "view-in-github",
        "colab_type": "text"
      },
      "source": [
        "<a href=\"https://colab.research.google.com/github/UTDataMining/2022A/blob/main/ex4/ex4_en.ipynb\" target=\"_parent\"><img src=\"https://colab.research.google.com/assets/colab-badge.svg\" alt=\"Open In Colab\"/></a>"
      ]
    },
    {
      "cell_type": "markdown",
      "metadata": {
        "id": "OML25K1Bv3L2"
      },
      "source": [
        "# EX4 Text Analysis\n",
        "\n",
        "Points\n",
        "- Q1, 1P\n",
        "- Q2, 2P\n",
        "- Q3, 4P\n",
        "- Q4, 3P"
      ]
    },
    {
      "cell_type": "code",
      "metadata": {
        "id": "I_2I7_5hv7JW"
      },
      "source": [
        "# 必要なモジュールのimport\n",
        "import numpy as np\n",
        "import pandas as pd"
      ],
      "execution_count": null,
      "outputs": []
    },
    {
      "cell_type": "markdown",
      "metadata": {
        "id": "DpAaCPlLwEsU"
      },
      "source": [
        "## Q1\n",
        "Given any two vectors in an $n$-dimensional vector space, $ \\vec{x}=(x_1,x_2,... ,x_n)$, $\\vec{y}=(y_1,y_2,... ,y_n)$, the cos similarity, $cos( \\vec{x}, \\vec{y})$, between these vectors is defined as follows:\n",
        "\n",
        "$cos( \\vec{x}, \\vec{y}) =  \\frac{\\vec{x}\\cdot \\vec{y}}{\\|x\\|_2\\|y\\|_2}=\\frac{\\Sigma^{n}_{i=1}{x_{i}y_{i}}}{\\sqrt{\\Sigma^{n}_{i=1}x_{i}^{2}}\\sqrt{\\Sigma^{n}_{i=1}y_{i}^{2}}}$.\n",
        "\n",
        "Complete the `cos_sim` function that takes the input vectors $\\vec{x}$ and $\\vec{y}$ as `NumPy` arrays and returns the cos similarity between these vectors."
      ]
    },
    {
      "cell_type": "code",
      "metadata": {
        "id": "q5g57zSEwM7M",
        "exercise_id": "q1",
        "inlinetests": {
          "InlineTest_1": "\ntry:\n  import numpy as np\n  assert 0.82 == round(cos_sim(np.array([1,0,1]), np.array([1,1,1])), 2), f\"'cos_sim(np.array([1,0,1]), np.array([1,1,1]))' returns {cos_sim(np.array([1,0,1]), np.array([1,1,1]))}, while the expected answer is {0.816}...\"\n  assert 1 == round(cos_sim(np.array([1,1,1]), np.array([1,1,1])), 2), f\"'cos_sim(np.array([1,1,1]), np.array([1,1,1]))' returns {cos_sim(np.array([1,1,1]), np.array([1,1,1]))}, while the expected answer is {1.0}\"\n  assert -1 == round(cos_sim(np.array([-1,-1,-1]), np.array([1,1,1])), 2), f\"'cos_sim(np.array([-1,-1,-1]), np.array([1,1,1]))' returns {cos_sim(np.array([-1,-1,-1]), np.array([1,1,1]))}, while the expected answer is {-1.0}\"\nexcept AssertionError as e:\n    raise e\nexcept Exception as e:\n    assert False, f\"Your function raises an exception: {e}.\""
        }
      },
      "source": [
        "def cos_sim(vec1, vec2):\n",
        "  return ..."
      ],
      "execution_count": null,
      "outputs": []
    },
    {
      "cell_type": "markdown",
      "metadata": {
        "id": "oGhCfrk9www9"
      },
      "source": [
        "Once the `cos_sim()` function is complete, run the following cell to see how it works."
      ]
    },
    {
      "cell_type": "code",
      "metadata": {
        "id": "6PBnF_Viwzak"
      },
      "source": [
        "print(round(cos_sim(np.array([1,0,1]), np.array([1,1,1])), 2))\n",
        "print(round(cos_sim(np.array([1,1,1]), np.array([1,1,1])), 2))\n",
        "print(round(cos_sim(np.array([-1,-1,-1]), np.array([1,1,1])), 2))"
      ],
      "execution_count": null,
      "outputs": []
    },
    {
      "cell_type": "markdown",
      "metadata": {
        "id": "gHDWhcv-yYxA"
      },
      "source": [
        "Make sure that your function returns `0.82`, `1.0`, `-1.0` respectively."
      ]
    },
    {
      "cell_type": "markdown",
      "metadata": {
        "id": "5_QiLSAP1Jn4"
      },
      "source": [
        "## Q2\n",
        "The following \"course_list.csv\" file contains text data with a lecture title in each line. \n",
        "\n",
        "```Python\n",
        "## course_list.csvファイル\n",
        "...\n",
        "数理科学基礎\n",
        "物性化学\n",
        "政治Ⅰ\n",
        "身体運動・健康科学実習Ⅰ（ﾒﾃﾞｨｶﾙｹｱ1）\n",
        "スペイン語テクスト分析Ⅰ\n",
        "英語二列Ｗ（ALESS）\n",
        "応用倫理学\n",
        "...\n",
        "```\n",
        "\n",
        "In the following, you are going to implement the codes to create a vector representing a lecture and calculate the similarity between the lectures."
      ]
    },
    {
      "cell_type": "code",
      "metadata": {
        "id": "lyBEzDX61Ngb"
      },
      "source": [
        "# Colaboratoryでは以下を実行して必要なファイルをダウンロード\n",
        "!wget https://raw.githubusercontent.com/UTDataMining/2022A/master/ex5/course_list.csv"
      ],
      "execution_count": null,
      "outputs": []
    },
    {
      "cell_type": "markdown",
      "metadata": {
        "id": "Qmrm37sH2PWp"
      },
      "source": [
        "### Q2.1\n",
        "Complete the `create_list` function that reads each row in order given the `file` and returns a list with each row as its element. \n",
        "\n",
        "The created list is received in the variable `courses`. \n",
        "\n",
        "**The index of `courses` list is regarded as its corresponding lecture's ID.**"
      ]
    },
    {
      "cell_type": "code",
      "metadata": {
        "id": "IHBBvlOg2Ysq",
        "exercise_id": "q2_1",
        "inlinetests": {
          "InlineTest_2_1": "\ntry:\n  courses = create_list('course_list.csv')\n  assert 552 == len(courses), f\"'len(courses)' returns {len(courses)}, while the expected answer is {552}\"\n  assert 198 == courses.index('計算機プログラミング'), f\"'courses.index('計算機プログラミング')' returns {courses.index('計算機プログラミング')}, while the expected answer is {198}\"\n  vocab = create_list('keyword_list.csv')\n  assert 243 == len(vocab), f\"'len(vocab)' returns {len(vocab)}, while the expected answer is {243}\"\n  assert 145 == vocab.index('プログラミング'), f\"'vocab.index('プログラミング')' returns {vocab.index('プログラミング')}, while the expected answer is {145}\"\nexcept AssertionError as e:\n    raise e\nexcept Exception as e:\n    assert False, f\"Your function raises an exception: {e}.\""
        }
      },
      "source": [
        "def create_list(file):\n",
        "  return pd.read_csv(..., header=None, encoding=\"utf-8\").values.flatten().tolist()"
      ],
      "execution_count": null,
      "outputs": []
    },
    {
      "cell_type": "markdown",
      "metadata": {
        "id": "thBxnu7R3kDI"
      },
      "source": [
        "Once the `create_list` function is complete, run the following cell. Your function should return a list with length `552`.\n",
        "\n",
        "ID (its index of `courses` list) of a lecture \"計算機プログラミング\" should be `198`."
      ]
    },
    {
      "cell_type": "code",
      "metadata": {
        "id": "ly6m0Hd-3oNE"
      },
      "source": [
        "courses = create_list('course_list.csv')\n",
        "print(len(courses))\n",
        "print(courses.index('計算機プログラミング'))"
      ],
      "execution_count": null,
      "outputs": []
    },
    {
      "cell_type": "markdown",
      "metadata": {
        "id": "7jucVWG55p-e"
      },
      "source": [
        "The following\"keyword_list.csv\" file contains one word in each line.\n",
        "\n",
        "```Python\n",
        "## keyword_list.csvファイル\n",
        "...\n",
        "外国語\n",
        "日本語\n",
        "力学\n",
        "身体運動\n",
        "微分積分学\n",
        "ロシア語\n",
        "熱力学\n",
        "線型代数学\n",
        "イタリア語\n",
        "物性\n",
        "...\n",
        "```\n",
        "\n",
        "In the following, we read the \"keywor_list.csv\" file and create a list with each line as its element. \n",
        "\n",
        "The created list is received in the variable `vocab`. \n",
        "\n",
        "\n",
        "**The index of `vocab` list is regarded as its corresponding word's ID.**\n"
      ]
    },
    {
      "cell_type": "code",
      "metadata": {
        "id": "sSIO7Yl151wl"
      },
      "source": [
        "# Colaboratoryでは以下を実行して必要なファイルをダウンロード\n",
        "!wget https://raw.githubusercontent.com/UTDataMining/2022A/master/ex5/keyword_list.csv"
      ],
      "execution_count": null,
      "outputs": []
    },
    {
      "cell_type": "markdown",
      "metadata": {
        "id": "uZ7efuVs6CWY"
      },
      "source": [
        "Run the following cell. Your function should return a list with length `243`.\n",
        "\n",
        "ID (its index of `vocab`list) of a word \"プログラミング\" should be `145`.\n"
      ]
    },
    {
      "cell_type": "code",
      "metadata": {
        "id": "Ved5dvUm6JMQ"
      },
      "source": [
        "vocab = create_list('keyword_list.csv')\n",
        "print(len(vocab))\n",
        "print(vocab.index('プログラミング'))\n",
        "print(vocab.index('英語'))"
      ],
      "execution_count": null,
      "outputs": []
    },
    {
      "cell_type": "markdown",
      "metadata": {
        "id": "PM73mMPV7TLh"
      },
      "source": [
        "### Q2.2\n",
        "Complete the `count_df` function that takes the `courses` and `vocab` lists and return a dictionary with the word ID (the index of that word in `vocab`) as key and Document Frequency (DF) of that word as value.\n",
        "Note that DF of a word is the number of lectures containing that word in its title. **Even if a word appears more than once in a lecture title, it is counted once**.\n"
      ]
    },
    {
      "cell_type": "code",
      "metadata": {
        "id": "gXafFvvp7wtj",
        "exercise_id": "q2_2",
        "inlinetests": {
          "InlineTest_2_2": "\ntry:\n  courses = create_list('course_list.csv')\n  vocab = create_list('keyword_list.csv')\n  df = count_df(courses, vocab)\n  assert 243 == len(df), f\"'len(df)' returns {len(df)}, while the expected answer is {243}\"\n  assert 2 == df[vocab.index('プログラミング')], f\"'df[vocab.index('プログラミング')]' returns {df[vocab.index('プログラミング')]}, while the expected answer is {2}\"\n  assert 12 == df[vocab.index('英語')], f\"'df[vocab.index('英語')]' returns {df[vocab.index('英語')]}, while the expected answer is {12}\"\nexcept AssertionError as e:\n    raise e\nexcept Exception as e:\n    assert False, f\"Your function raises an exception: {e}.\""
        }
      },
      "source": [
        "def count_df(courses, vocab):\n",
        "  dic={}\n",
        "  for i in range(len(vocab)):\n",
        "    for c in courses:\n",
        "      ... \n",
        "  return dic"
      ],
      "execution_count": null,
      "outputs": []
    },
    {
      "cell_type": "markdown",
      "metadata": {
        "id": "jJFv8DWN8q8r"
      },
      "source": [
        "Once the `count_df` function is complete, run the following code. Your function should return a dictionary with lenght `243`. And DF of a word \"プログラミング\"（its ID is `145`）should be `2`."
      ]
    },
    {
      "cell_type": "code",
      "metadata": {
        "id": "MPouabvS83LR"
      },
      "source": [
        "df = count_df(courses, vocab)\n",
        "print(len(df))\n",
        "print(vocab.index('プログラミング'), df[vocab.index('プログラミング')])\n",
        "print(vocab.index('英語'), df[vocab.index('英語')])"
      ],
      "execution_count": null,
      "outputs": []
    },
    {
      "cell_type": "markdown",
      "metadata": {
        "id": "3_sBEgPJ_nwj"
      },
      "source": [
        "## Q3\n",
        "### Q3.1\n",
        "Consider a vector to represent a lecture, whose dimension is each word in `vocab`. The vector length is equal to the length of `vocab`, and the `i`th element of the vector is `1` if when the word `vocab[i]` is included in the lecture title, and `0` otherwise.\n",
        "\n",
        "Complete the `lec_word_matrix` function that takes the `courses` and `vocab` lists and returns a `NumPy` matrix with the vector of each lecture in `courses` as its row and each word in `vocab` as its column. In the returned matrix (lecture-word matrix), if a lecture title (row) contains a word (column), then its corresponding element should be 1.\n"
      ]
    },
    {
      "cell_type": "code",
      "metadata": {
        "id": "XqR9PR7e_zk9",
        "exercise_id": "q3_1",
        "inlinetests": {
          "InlineTest_3_1": "\ntry:\n  courses = create_list('course_list.csv')\n  vocab = create_list('keyword_list.csv')\n  assert (552, 243) == lec_word_matrix(courses, vocab).shape, f\"'lec_word_matrix(courses, vocab).shape' returns {lec_word_matrix(courses, vocab).shape}, while the expected answer is {(552, 243)}\"\n  assert 2287 == np.sum(lec_word_matrix(courses, vocab)), f\"'np.sum(lec_word_matrix(courses, vocab))' returns {np.sum(lec_word_matrix(courses, vocab))}, while the expected answer is {2287}\"\nexcept AssertionError as e:\n    raise e\nexcept Exception as e:\n    assert False, f\"Your function raises an exception: {e}.\""
        }
      },
      "source": [
        "def lec_word_matrix(courses, vocab):\n",
        "  ### Arguments：\n",
        "  # courses: lecture list\n",
        "  # vocab: word list\n",
        "  mat = np.zeros((..., ...))\n",
        "  ...\n",
        "  return mat"
      ],
      "execution_count": null,
      "outputs": []
    },
    {
      "cell_type": "markdown",
      "metadata": {
        "id": "EgqmU3JWA0Hw"
      },
      "source": [
        "Once the `lec_word_matrix` function is complete, run the following cell. Your function should return a matrix with a shape `(552, 243)` and the sum of its element values should be `2287`."
      ]
    },
    {
      "cell_type": "code",
      "metadata": {
        "id": "qVVOV39zA5gk"
      },
      "source": [
        "print(lec_word_matrix(courses, vocab).shape)\n",
        "print(np.sum(lec_word_matrix(courses, vocab)))"
      ],
      "execution_count": null,
      "outputs": []
    },
    {
      "cell_type": "markdown",
      "metadata": {
        "id": "gyrpzNGWCg-U"
      },
      "source": [
        "### Q3.2\n",
        "Complete the `lec_word_tf_matrix` to return a matrix where each element of the lecture-word matrix in Q3.1 is represented by the number of times the lecture title contains the word (TF: Term Frequency), rather than 1 or 0.\n"
      ]
    },
    {
      "cell_type": "code",
      "metadata": {
        "id": "JZo8sCHzCqL6",
        "exercise_id": "q3_2",
        "inlinetests": {
          "InlineTest_3_2": "\ntry:\n  courses = create_list('course_list.csv')\n  vocab = create_list('keyword_list.csv')\n  assert (552, 243) == lec_word_tf_matrix(courses, vocab).shape, f\"'lec_word_tf_matrix(courses, vocab).shape' returns {lec_word_tf_matrix(courses, vocab).shape}, while the expected answer is {(552, 243)}\"\n  assert 2366 == np.sum(lec_word_tf_matrix(courses, vocab)), f\"'np.sum(lec_word_tf_matrix(courses, vocab))' returns {np.sum(lec_word_tf_matrix(courses, vocab))}, while the expected answer is {2366}\"\n  assert 2 == lec_word_tf_matrix(courses, vocab)[courses.index('自然科学ゼミナール（情報科学）'), vocab.index('科学')], f\"'lec_word_tf_matrix(courses, vocab)[courses.index('自然科学ゼミナール（情報科学）'), vocab.index('科学')]' returns {lec_word_tf_matrix(courses, vocab)[courses.index('自然科学ゼミナール（情報科学）'), vocab.index('科学')]}, while the expected answer is {2}\"\nexcept AssertionError as e:\n    raise e\nexcept Exception as e:\n    assert False, f\"Your function raises an exception: {e}.\""
        }
      },
      "source": [
        "def lec_word_tf_matrix(courses, vocab):\n",
        "  ### Arguments：\n",
        "  # courses: lecture list\n",
        "  # vocab: word list\n",
        "  mat = np.zeros((..., ...))\n",
        "  ...\n",
        "  return mat"
      ],
      "execution_count": null,
      "outputs": []
    },
    {
      "cell_type": "markdown",
      "metadata": {
        "id": "M26CWzOUDH_X"
      },
      "source": [
        "Once the `lec_word_tf_matrix` function is complete, run the following cell. Your function should return a matrix whose the sum of its element values is `2366`.\n",
        "\n",
        "For example, a lecture 「自然科学ゼミナール（情報科学）」 contains 「科学」 twice in its title. Therefore, its correspoinding matrix element should be 2."
      ]
    },
    {
      "cell_type": "code",
      "metadata": {
        "id": "Ve7KjM-ODVDX"
      },
      "source": [
        "print(np.sum(lec_word_tf_matrix(courses, vocab)))\n",
        "print(lec_word_tf_matrix(courses, vocab)[courses.index('自然科学ゼミナール（情報科学）'), vocab.index('科学')])"
      ],
      "execution_count": null,
      "outputs": []
    },
    {
      "cell_type": "markdown",
      "metadata": {
        "id": "oBfOCrrjEUKA"
      },
      "source": [
        "### Q3.3\n",
        "Complete the `lec_word_tfidf_matrix` function that returns a matrix whose elements are TFIDF values obtained by multiplying each element of the lecture-word matrix in Q3.2 ($TF_{ij}$ for word `j` in lecture `i`) by the IDF value of that word.\n",
        "\n",
        "Here, the TFIDF values for lecture `i` and word `j` are defined as follows:\n",
        "\n",
        "```Python\n",
        "TFIDF=TF_ij*log(the number of lectures/DF for word j)=TF_ij*log(len(courses)/df[j])\n",
        "```\n",
        "You may use `np.log()`."
      ]
    },
    {
      "cell_type": "code",
      "metadata": {
        "id": "4xGrq29jE27m",
        "exercise_id": "q3_3",
        "inlinetests": {
          "InlineTest_3_3": "\ntry:\n  courses = create_list('course_list.csv')\n  vocab = create_list('keyword_list.csv')\n  df = count_df(courses, vocab)\n  tfidf_mat = lec_word_tfidf_matrix(courses, vocab, df)\n  assert 7274 == int(np.sum(tfidf_mat)), f\"'int(np.sum(tfidf_mat))' returns {int(np.sum(tfidf_mat))}, while the expected answer is {7274}\"\n  assert 399 == int(tfidf_mat[courses.index('自然科学ゼミナール（情報科学）'), vocab.index('科学')]*100), f\"'tfidf_mat[courses.index('自然科学ゼミナール（情報科学）'), vocab.index('科学')]' returns {tfidf_mat[courses.index('自然科学ゼミナール（情報科学）'), vocab.index('科学')]}, while the expected answer is {3.99}...\"\nexcept AssertionError as e:\n    raise e\nexcept Exception as e:\n    assert False, f\"Your function raises an exception: {e}.\""
        }
      },
      "source": [
        "def lec_word_tfidf_matrix(courses, vocab, df):\n",
        "  ### Arguments：\n",
        "  # courses: lecture list\n",
        "  # vocab: word list\n",
        "  # df: DF dictionary\n",
        "  mat = np.zeros((..., ...)) \n",
        "  ... \n",
        "  return mat"
      ],
      "execution_count": null,
      "outputs": []
    },
    {
      "cell_type": "markdown",
      "metadata": {
        "id": "Lrq2X3hfFdyx"
      },
      "source": [
        "Once the `lec_word_tfidf_matrix` function is complete, run the following cell. Your function should return a matrix whose the integer part of the sum of its element values is `7274`.\n",
        "\n",
        "A lecture 「自然科学ゼミナール（情報科学）」 contains 「科学」 twice in its title and DF for 「科学」 is 75. Therefore, its corresponding matrix element should be $2*log(552/75)\\simeq3.99$."
      ]
    },
    {
      "cell_type": "code",
      "metadata": {
        "id": "Sj9aqbuyFxZj"
      },
      "source": [
        "tfidf_mat = lec_word_tfidf_matrix(courses, vocab, df)\n",
        "print(int(np.sum(tfidf_mat)))\n",
        "print(df[vocab.index('科学')], tfidf_mat[courses.index('自然科学ゼミナール（情報科学）'), vocab.index('科学')])"
      ],
      "execution_count": null,
      "outputs": []
    },
    {
      "cell_type": "markdown",
      "metadata": {
        "id": "nj-p57LnHrHj"
      },
      "source": [
        "## Q4\n",
        "Complete the `find_similar_course` function that calculates the similarity of the input lecture to all other lectures based on cos similarity and returns a dictionary with the titles of similar lectures as its keys and their similarity as values. You may use the function in Q1 to calculate cos similarity.\n",
        "\n",
        "Note that the input lecture and lectures with similarity of 0 should not be included in the dictionary. \n",
        "\n"
      ]
    },
    {
      "cell_type": "code",
      "metadata": {
        "id": "1SGjWSGJH0BY",
        "exercise_id": "q4",
        "inlinetests": {
          "InlineTest_4": "\ntry:\n  courses = create_list('course_list.csv')\n  vocab = create_list('keyword_list.csv')\n  df = count_df(courses, vocab)\n  tfidf_mat = lec_word_tfidf_matrix(courses, vocab, df)\n  title=\"自然科学ゼミナール（情報科学）\" \n  results=find_similar_course(courses.index(title), tfidf_mat, courses)\n  ranking = pd.DataFrame(list(results.items()), columns=['title', \"similarity\"])\n  assert 64 ==  int(ranking.sort_values(by='similarity', ascending=False).iloc[0,1]*100), f\"'ranking.sort_values(by='similarity', ascending=False).iloc[0,1]' returns {ranking.sort_values(by='similarity', ascending=False).iloc[0,1]}, while the expected answer is {0.64}...\"\n  assert 63 ==  int(ranking.sort_values(by='similarity', ascending=False).iloc[1,1]*100), f\"'ranking.sort_values(by='similarity', ascending=False).iloc[1,1]' returns {ranking.sort_values(by='similarity', ascending=False).iloc[1,1]}, while the expected answer is {0.63}...\"\n  assert \"自然科学ゼミナール（生命科学）\" == ranking.sort_values(by='similarity', ascending=False).iloc[0,0], f\"'ranking.sort_values(by='similarity', ascending=False).iloc[0,0]' returns {ranking.sort_values(by='similarity', ascending=False).iloc[0,0]}, while the expected answer is {'自然科学ゼミナール（生命科学）'}\"\n  assert \"生物情報科学\" == ranking.sort_values(by='similarity', ascending=False).iloc[1,0] , f\"'ranking.sort_values(by='similarity', ascending=False).iloc[1,0]' returns {ranking.sort_values(by='similarity', ascending=False).iloc[1,0]}, while the expected answer is {'生物情報科学'}\"\nexcept AssertionError as e:\n    raise e\nexcept Exception as e:\n    assert False, f\"Your function raises an exception: {e}.\""
        }
      },
      "source": [
        "def find_similar_course(target, tfidf_mat, courses):\n",
        "  ### Arguments：\n",
        "  # target:  ID of a input lecture\n",
        "  # tfidf_mat: matrix created in Q3.3\n",
        "  # courses: lecture list\n",
        "  ... \n",
        "  return ... "
      ],
      "execution_count": null,
      "outputs": []
    },
    {
      "cell_type": "markdown",
      "metadata": {
        "id": "opCyVGY2JFN8"
      },
      "source": [
        "Once the `find_similar_course` function is complete, run the following cell.\n",
        "\n",
        "The top similar lectures to the input lecture `自然科学ゼミナール（情報科学）` are `自然科学ゼミナール（生命科学）、生物情報科学、自然科学ゼミナール（数理科学）、自然現象とモデル、人類科学、...`.\n",
        "\n",
        "The number of similar lectures should be `230`."
      ]
    },
    {
      "cell_type": "code",
      "metadata": {
        "id": "dMxDtMWcJJ8v"
      },
      "source": [
        "tfidf_mat = lec_word_tfidf_matrix(courses, vocab, df)\n",
        "title=\"自然科学ゼミナール（情報科学）\" # 入力の授業名\n",
        "results=find_similar_course(courses.index(title), tfidf_mat, courses) # 類似授業の辞書を受け取る\n",
        "print(len(results)) # 類似授業の数\n",
        "ranking = pd.DataFrame(list(results.items()), columns=['title', \"similarity\"]) # 類似度が上位の授業を表示\n",
        "ranking.sort_values(by='similarity', ascending=False).head(10)"
      ],
      "execution_count": null,
      "outputs": []
    },
    {
      "cell_type": "markdown",
      "metadata": {
        "id": "H8DW30_AxIxe"
      },
      "source": [
        "## Code Testing\n"
      ]
    },
    {
      "cell_type": "code",
      "metadata": {
        "id": "N46m4DxjxHtn"
      },
      "source": [
        "# Run this cell first\n",
        "!pip install prog_edu_assistant_tools\n",
        "import re\n",
        "import sys\n",
        "import jinja2\n",
        "from IPython.core import display\n",
        "from google.colab import _message as google_message\n",
        "from prog_edu_assistant_tools.magics import report, autotest, CaptureOutput\n",
        "from prog_edu_assistant_tools.check import Check"
      ],
      "execution_count": null,
      "outputs": []
    },
    {
      "cell_type": "markdown",
      "metadata": {
        "id": "dJuIyggO0zw1"
      },
      "source": [
        "## Q1"
      ]
    },
    {
      "cell_type": "code",
      "metadata": {
        "id": "5g_v37Xr04J4"
      },
      "source": [
        "# Run this cell to check your solution.\n",
        "# If you get an error 'Check not defined', make sure you have run all preceding\n",
        "# cells once (Runtime -> Run before)\n",
        "Check('q1')"
      ],
      "execution_count": null,
      "outputs": []
    },
    {
      "cell_type": "markdown",
      "metadata": {
        "id": "e1TbzkBs5ap_"
      },
      "source": [
        "## Q2.1"
      ]
    },
    {
      "cell_type": "code",
      "metadata": {
        "id": "gKZXt3eQ08dY"
      },
      "source": [
        "# Run this cell to check your solution.\n",
        "# If you get an error 'Check not defined', make sure you have run all preceding\n",
        "# cells once (Runtime -> Run before)\n",
        "Check('q2_1')"
      ],
      "execution_count": null,
      "outputs": []
    },
    {
      "cell_type": "markdown",
      "metadata": {
        "id": "OGDf6atV-UHM"
      },
      "source": [
        "## Q2.2"
      ]
    },
    {
      "cell_type": "code",
      "metadata": {
        "id": "HbeXyD9y5d6T"
      },
      "source": [
        "# Run this cell to check your solution.\n",
        "# If you get an error 'Check not defined', make sure you have run all preceding\n",
        "# cells once (Runtime -> Run before)\n",
        "Check('q2_2')"
      ],
      "execution_count": null,
      "outputs": []
    },
    {
      "cell_type": "markdown",
      "metadata": {
        "id": "d7HhYdJ8B7Al"
      },
      "source": [
        "## Q3.1"
      ]
    },
    {
      "cell_type": "code",
      "metadata": {
        "id": "6TjcM2g9-Y7G"
      },
      "source": [
        "# Run this cell to check your solution.\n",
        "# If you get an error 'Check not defined', make sure you have run all preceding\n",
        "# cells once (Runtime -> Run before)\n",
        "Check('q3_1')"
      ],
      "execution_count": null,
      "outputs": []
    },
    {
      "cell_type": "markdown",
      "metadata": {
        "id": "XdIiAGXwEHif"
      },
      "source": [
        "## Q3.2"
      ]
    },
    {
      "cell_type": "code",
      "metadata": {
        "id": "wrgq4dMVB-Mi"
      },
      "source": [
        "# Run this cell to check your solution.\n",
        "# If you get an error 'Check not defined', make sure you have run all preceding\n",
        "# cells once (Runtime -> Run before)\n",
        "Check('q3_2')"
      ],
      "execution_count": null,
      "outputs": []
    },
    {
      "cell_type": "markdown",
      "metadata": {
        "id": "DLB_F73LHELG"
      },
      "source": [
        "## Q3.3"
      ]
    },
    {
      "cell_type": "code",
      "metadata": {
        "id": "vCSBLZIFEK8o"
      },
      "source": [
        "# Run this cell to check your solution.\n",
        "# If you get an error 'Check not defined', make sure you have run all preceding\n",
        "# cells once (Runtime -> Run before)\n",
        "Check('q3_3')"
      ],
      "execution_count": null,
      "outputs": []
    },
    {
      "cell_type": "markdown",
      "metadata": {
        "id": "y91pYrUrMbss"
      },
      "source": [
        "## Q4"
      ]
    },
    {
      "cell_type": "code",
      "metadata": {
        "id": "qlIEnmwEHHzd"
      },
      "source": [
        "# Run this cell to check your solution.\n",
        "# If you get an error 'Check not defined', make sure you have run all preceding\n",
        "# cells once (Runtime -> Run before)\n",
        "Check('q4')"
      ],
      "execution_count": null,
      "outputs": []
    }
  ]
}
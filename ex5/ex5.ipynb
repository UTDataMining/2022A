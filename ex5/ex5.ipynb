{
  "nbformat": 4,
  "nbformat_minor": 0,
  "metadata": {
    "colab": {
      "name": "ex5.ipynb",
      "provenance": [],
      "collapsed_sections": [],
      "include_colab_link": true
    },
    "kernelspec": {
      "name": "python3",
      "display_name": "Python 3"
    },
    "language_info": {
      "name": "python"
    }
  },
  "cells": [
    {
      "cell_type": "markdown",
      "metadata": {
        "id": "view-in-github",
        "colab_type": "text"
      },
      "source": [
        "<a href=\"https://colab.research.google.com/github/UTDataMining/2021A/blob/master/ex5/ex5.ipynb\" target=\"_parent\"><img src=\"https://colab.research.google.com/assets/colab-badge.svg\" alt=\"Open In Colab\"/></a>"
      ]
    },
    {
      "cell_type": "markdown",
      "metadata": {
        "id": "R0J9ejet_FW_"
      },
      "source": [
        "# 課題5 ネットワーク分析\n",
        "\n",
        "配点\n",
        "- Q1 4P\n",
        "- Q2 4P\n",
        "- Q3 2P"
      ]
    },
    {
      "cell_type": "code",
      "metadata": {
        "id": "XbCuB5Om_AQV"
      },
      "source": [
        "# モジュールのインポート\n",
        "import networkx as nx\n",
        "import numpy as np\n",
        "import pandas as pd\n",
        "import matplotlib.pyplot as plt\n",
        "%matplotlib inline"
      ],
      "execution_count": null,
      "outputs": []
    },
    {
      "cell_type": "markdown",
      "metadata": {
        "id": "vC1uq5od_nA3"
      },
      "source": [
        "以下では、networkxモジュールに含まれるデータセット、空手クラブのソーシャルネットワーク、からグラフオブジェクトを作成し、ネットワーク全体を可視化しています。ネットワークは無方向で重みなしです。また自己ループやノード間の多重リンクはありません。"
      ]
    },
    {
      "cell_type": "code",
      "metadata": {
        "id": "weEbQ0rU_RoF"
      },
      "source": [
        "G = nx.karate_club_graph() # グラフの作成\n",
        "pos = nx.spring_layout(G) # 可視化のレイアウト\n",
        "plt.figure(figsize=(10,10)) # 可視化のサイズ\n",
        "nx.draw(G, pos=pos, with_labels=True) # 可視化"
      ],
      "execution_count": null,
      "outputs": []
    },
    {
      "cell_type": "markdown",
      "metadata": {
        "id": "I-GqIjvQ_00X"
      },
      "source": [
        "このネットワークには34のノードと78のリンクが含まれ、各ノードには0から33の数字がふられています。以下ではこの数字をノードのラベルとして用います。"
      ]
    },
    {
      "cell_type": "code",
      "metadata": {
        "id": "kPmhGYFl_PHm"
      },
      "source": [
        "print(len(G)) # ノード数\n",
        "print(G.size()) # リンク数"
      ],
      "execution_count": null,
      "outputs": []
    },
    {
      "cell_type": "markdown",
      "metadata": {
        "id": "1a5BRvmI_5xT"
      },
      "source": [
        "このネットワークの隣接行列`adj_matrix`は、以下の通りです。"
      ]
    },
    {
      "cell_type": "code",
      "metadata": {
        "id": "nVuBBRUN_9ld"
      },
      "source": [
        "adj_matrix=nx.adjacency_matrix(G).toarray() # 隣接行列の取得\n",
        "for row in adj_matrix:\n",
        "    print(row)"
      ],
      "execution_count": null,
      "outputs": []
    },
    {
      "cell_type": "markdown",
      "metadata": {
        "id": "rUsj10pkAOvE"
      },
      "source": [
        "## Q1.1\n",
        "以下の辞書`adj_list`は、上記のネットワークのノードをキー、そのノードに隣接しているノードのリストを値として持つ辞書です。例えば、キーが31の値のリストを見ることで、ノード31には0, 24, 25, 28, 32, 33のノードが隣接していることがわかります。このような各ノードの隣接ノードリストの辞書を隣接リストと呼びます。\n",
        "\n",
        "```Python\n",
        "adj_list={0: [1, 2, 3, 4, 5, 6, 7, 8, 10, 11, 12, 13, 17, 19, 21, 31],\n",
        "                1: [0, 2, 3, 7, 13, 17, 19, 21, 30],\n",
        "                2: [0, 1, 3, 7, 8, 9, 13, 27, 28, 32],\n",
        "                  ...\n",
        "                31: [0, 24, 25, 28, 32, 33],\n",
        "                32: [2, 8, 14, 15, 18, 20, 22, 23, 29, 30, 31, 33],\n",
        "                33: [8, 9, 13, 14, 15, 18, 19, 20, 22, 23, 26, 27, 28, 29, 30, 31, 32]}\n",
        "```\n",
        "\n",
        "隣接行列`adj_matrix`を受け取り、隣接リストとなる辞書`adj_list`を作成して返す`get_adj_list()`関数を実装してください。"
      ]
    },
    {
      "cell_type": "code",
      "metadata": {
        "id": "y5zOshrQAYjI",
        "exercise_id": "q1_1",
        "inlinetests": {
          "InlineTest_1_1": "\ntry:\n  adj_list=get_adj_list(adj_matrix)\n  assert [1, 2, 3, 4, 5, 6, 7, 8, 10, 11, 12, 13, 17, 19, 21, 31] == adj_list[0], f\"'adj_list[0]' returns {adj_list[0]}, while the expected answer is {[1, 2, 3, 4, 5, 6, 7, 8, 10, 11, 12, 13, 17, 19, 21, 31]}\"\n  assert [8, 9, 13, 14, 15, 18, 19, 20, 22, 23, 26, 27, 28, 29, 30, 31, 32] == adj_list[33], f\"'adj_list[33]' returns {adj_list[33]}, while the expected answer is {[8, 9, 13, 14, 15, 18, 19, 20, 22, 23, 26, 27, 28, 29, 30, 31, 32]}\"\nexcept AssertionError as e:\n    raise e\nexcept Exception as e:\n    assert False, f\"Your function raises an exception: {e}.\""
        }
      },
      "source": [
        "def get_adj_list(adj_matrix):\n",
        "    adj_list={}\n",
        "    ...\n",
        "    return adj_list"
      ],
      "execution_count": null,
      "outputs": []
    },
    {
      "cell_type": "markdown",
      "metadata": {
        "id": "erf3_-tmAq-S"
      },
      "source": [
        "`get_adj_list`関数が完成したら、以下のセルを実行して、`adj_list[0]`や`adj_list[33]`を表示し、上記に示されている各ノードの隣接ノードリストが作成できているか確認してください。"
      ]
    },
    {
      "cell_type": "code",
      "metadata": {
        "id": "_lwExcU2AuLb"
      },
      "source": [
        "adj_list=get_adj_list(adj_matrix)\n",
        "\n",
        "print(adj_list[0])\n",
        "print(adj_list[33])"
      ],
      "execution_count": null,
      "outputs": []
    },
    {
      "cell_type": "markdown",
      "metadata": {
        "id": "dG4zyhljCRBX"
      },
      "source": [
        "### Q1.2\n",
        "授業資料の幅優先探索のアルゴリズムを参考に、第1引数として隣接リスト、第2引数として始点ノードのラベルを受け取り、始点から各ノードへの距離の辞書`d`を返す以下の`bfs`関数を完成させてください。隣接リストは上記で作成した`adj_list`を用います。`d`は、キーがノードのラベル、値が始点からそのノードへの距離となる辞書です。\n",
        "\n",
        "授業資料中の`Q.enqueue`, `Q.dequeue`はそれぞれコード中の`Q.append`, `Q.popleft`に対応します。"
      ]
    },
    {
      "cell_type": "code",
      "metadata": {
        "id": "oqWIEtpRCjrp",
        "exercise_id": "q1_2",
        "inlinetests": {
          "InlineTest_1_2": "\ntry:\n  assert 3 == bfs(adj_list, 0)[26], f\"'bfs(adj_list, 0)[26]' returns {bfs(adj_list, 0)[26]}, while the expected answer is {3}\"\n  assert 4 == bfs(adj_list, 11)[26], f\"'bfs(adj_list, 11)[26]' returns {bfs(adj_list, 11)[26]}, while the expected answer is {4}\"\nexcept AssertionError as e:\n    raise e\nexcept Exception as e:\n    assert False, f\"Your function raises an exception: {e}.\""
        }
      },
      "source": [
        "from collections import deque # キューのインポート\n",
        "def bfs(g, s):\n",
        "    ### 引数：\n",
        "    # g: 隣接リスト\n",
        "    # s: 始点ノードのラベル\n",
        "    \n",
        "    Q = deque() # キューの初期化\n",
        "    visited={} # 訪問済みノード辞書\n",
        "    d={} # 始点から各ノードへの距離の辞書\n",
        "    for i in g.keys(): # ネットワークの各ノードiについて\n",
        "        d[i]=np.inf # 距離の辞書を全て距離無限大に初期化\n",
        "        visited[i]=False  # 訪問済みノード辞書を全て未訪問（False）に初期化\n",
        "        \n",
        "    visited[s]=True # 始点ノードを訪問済みにする\n",
        "    d[s]=0 # 始点ノード自身への距離は0\n",
        "    Q.append(s) # 始点ノードをキューに入れる\n",
        "\n",
        "    while Q: # キューが空でない限り繰り返し\n",
        "        i = Q.popleft()\n",
        "        ...\n",
        "    return d # 始点から各ノードへの距離の辞書を返す"
      ],
      "execution_count": null,
      "outputs": []
    },
    {
      "cell_type": "markdown",
      "metadata": {
        "id": "5TzdUJ_LDDd9"
      },
      "source": [
        "`bfs`関数が完成したら、以下のセルを実行して動作を確認してください。ノード0からノード26への長さは3、ノード11からノード26への長さは4となります。"
      ]
    },
    {
      "cell_type": "code",
      "metadata": {
        "id": "OFLQrCLoDCpw"
      },
      "source": [
        "d1=bfs(adj_list, 0)\n",
        "print(d1[26])\n",
        "\n",
        "d2=bfs(adj_list, 11)\n",
        "print(d2[26])"
      ],
      "execution_count": null,
      "outputs": []
    },
    {
      "cell_type": "markdown",
      "metadata": {
        "id": "yNHq1zFxEOTY"
      },
      "source": [
        "## Q2\n",
        "以下では、空手クラブのソーシャルネットワークデータについて各ノードの次数中心性を計算し、次数中心性の上位のノードを表示しています。ノード33が最も次数中心性が高いことがわかります。"
      ]
    },
    {
      "cell_type": "code",
      "metadata": {
        "id": "9pXbuRcrEcJd"
      },
      "source": [
        "G = nx.karate_club_graph()\n",
        "plt.figure(figsize=(10,10)) # 可視化のサイズ\n",
        "nx.draw(G, pos=pos, with_labels=True) # 可視化"
      ],
      "execution_count": null,
      "outputs": []
    },
    {
      "cell_type": "code",
      "metadata": {
        "id": "2SMkU_wcEeNJ"
      },
      "source": [
        "# 次数中心性 (次数/最大次数（N-1))\n",
        "degree=nx.degree_centrality(G)\n",
        "print(pd.Series(degree).sort_values(ascending=False).head(5)) "
      ],
      "execution_count": null,
      "outputs": []
    },
    {
      "cell_type": "markdown",
      "metadata": {
        "id": "hhP5Pk7PEiz7"
      },
      "source": [
        "近接中心性、媒介中心性、固有ベクトル中心性の各中心性について、上位のノードは以下の通りです。\n",
        "\n",
        "ネットワーク図の各ノードの位置を参照しながらそれぞれの中心性で上位のノードがどのような位置にあるか観察してください。"
      ]
    },
    {
      "cell_type": "code",
      "metadata": {
        "id": "b_JoANk_Eys1"
      },
      "source": [
        "# 近接中心性\n",
        "closeness = nx.closeness_centrality(G)\n",
        "print(pd.Series(closeness).sort_values(ascending=False).head(5))\n",
        "\n",
        "# 媒介中心性\n",
        "betweenness = nx.betweenness_centrality(G)\n",
        "print(pd.Series(betweenness).sort_values(ascending=False).head(5))\n",
        "\n",
        "# 固有ベクトル中心性\n",
        "eigen = nx.eigenvector_centrality(G)\n",
        "print(pd.Series(eigen).sort_values(ascending=False).head(5))"
      ],
      "execution_count": null,
      "outputs": []
    },
    {
      "cell_type": "markdown",
      "metadata": {
        "id": "s8lC842lFB-u"
      },
      "source": [
        "以下では各ノードのPageRankを計算する関数を実装します。`pagerank_centrality`関数は、第1引数としてネットワークの隣接行列、第2引数としてダンピング係数（通常移動とテレポート移動の割合を指定）、第3引数としてベキ乗法の繰り返し回数を受け取り、各ノードのPageRankを要素とするベクトルを返します。ベクトルの各要素のインデックスはノードのラベルに対応します。\n",
        "\n",
        "PageRankを更新するための行列$B$はダンピング係数を$\\alpha$、推移確率行列を$A$として以下のように定義されます。行列$A$はネットワークの隣接行列について、すべての要素が0の列があればその列のすべての要素を1とした上で、隣接行列の各要素についてその列の和で割ったものです。\n",
        "\n",
        "$B=\\alpha A+\\frac{1-\\alpha}{ノード数}$\n",
        "\n",
        "行列$B$を用いてPageRankのベクトル$x=(x_1,x_2,...,x_n)$は以下のように更新されます。\n",
        "\n",
        "$x=Bx$\n",
        "\n",
        "なお、PageRankでは元々$x$は正規化されているのでここでは冗長な処理ですが、ベキ乗法の手続きでは$x$の更新ごとに正規化処理を行います\n",
        "\n",
        "$x=x/\\Sigma_{i=1}^n x_i$ "
      ]
    },
    {
      "cell_type": "code",
      "metadata": {
        "id": "Vkq1CTdlF8On",
        "exercise_id": "q2",
        "inlinetests": {
          "InlineTest_2": "\ntry:\n  assert 10 == int(pagerank[33]*100), f\"'pagerank[33]' returns {pagerank[33]}, while the expected answer is {0.10}...\"\n  assert 9 == int(pagerank[0]*100), f\"'pagerank[0]' returns {pagerank[0]}, while the expected answer is {0.09}...\"\n  assert 7 == int(pagerank[32]*100), f\"'pagerank[32]' returns {pagerank[32]}, while the expected answer is {0.07}...\"\nexcept AssertionError as e:\n    raise e\nexcept Exception as e:\n    assert False, f\"Your function raises an exception: {e}.\""
        }
      },
      "source": [
        "def pagerank_centrality(adj_matrix, alpha=0.85, t=100):\n",
        "    # すべての要素が0の列があればその列のすべての要素を1とする\n",
        "    adj_matrix[:, adj_matrix.sum(0)==0]=1\n",
        "    A = ...\n",
        "    B = ...\n",
        "    x = ...\n",
        "    ...\n",
        "    return ..."
      ],
      "execution_count": null,
      "outputs": []
    },
    {
      "cell_type": "markdown",
      "metadata": {
        "id": "Xpp7LVO-HD-7"
      },
      "source": [
        "`pagerank_centrality`関数が完成したら、以下のセルを実行して動作を確認してください。最もPageRankが高いノードは33でそのPageRankは$\\simeq0.10$、次にPageRankが高いノードは0でそのPageRankは$\\simeq0.09$となります。"
      ]
    },
    {
      "cell_type": "code",
      "metadata": {
        "id": "tino7yQ2HDSr"
      },
      "source": [
        "adj_matrix=nx.adjacency_matrix(G).toarray()\n",
        "pagerank=pagerank_centrality(adj_matrix, 0.85, 100)\n",
        "# print(pagerank)\n",
        "print(pd.Series(pagerank).sort_values(ascending=False).head(5))"
      ],
      "execution_count": null,
      "outputs": []
    },
    {
      "cell_type": "markdown",
      "metadata": {
        "id": "rBnaGEU2HMJA"
      },
      "source": [
        "NetworkXの`nx.pagerank`関数を使って各ノードのPageRankを計算すると以下のようになります。"
      ]
    },
    {
      "cell_type": "code",
      "metadata": {
        "id": "iixZrJDkHLJu"
      },
      "source": [
        "pr=nx.pagerank(G, alpha=0.85, max_iter=100)\n",
        "print(pd.Series(pr).sort_values(ascending=False).head(5))"
      ],
      "execution_count": null,
      "outputs": []
    },
    {
      "cell_type": "markdown",
      "metadata": {
        "id": "2Mg9RID6JeP5"
      },
      "source": [
        "## Q3\n",
        "以下では、空手クラブのソーシャルネットワークデータを用いてコミュニティ抽出を行います。まず、コミュニティ抽出前のネットワークを可視化します。"
      ]
    },
    {
      "cell_type": "code",
      "metadata": {
        "id": "rfPeuNAzJh0h"
      },
      "source": [
        "G = nx.karate_club_graph()\n",
        "pos = nx.spring_layout(G)\n",
        "plt.figure(figsize=(10,10))\n",
        "nx.draw_networkx(G, pos=pos)\n",
        "_ = plt.axis('off')"
      ],
      "execution_count": null,
      "outputs": []
    },
    {
      "cell_type": "markdown",
      "metadata": {
        "id": "TQbE0z2_JobR"
      },
      "source": [
        "エッジ媒介中心性を用いたコミュニティ抽出（Girvan-Newman法）を行う以下の`girvan_newman`関数を完成させてください。`girvan_newman`関数は引数としてnetworkxのグラフオブジェクトを受け取り、各コミュニティのノード集合を要素としたリストを返します。"
      ]
    },
    {
      "cell_type": "code",
      "metadata": {
        "id": "0VLWbfhfJqce",
        "exercise_id": "q3",
        "inlinetests": {
          "InlineTest_3": "\ntry:\n  G = nx.karate_club_graph()\n  assert set(girvan_newman(G)[1]) == set([(0, 31), (0, 2), (0, 8), (13, 33), (19, 33), (2, 32), (1, 30), (1, 2), (2, 3), (2, 7), (2, 13)]), f\"'removed_edges' returns {girvan_newman(G)[1]}, while the expected answer is {[(0, 31), (0, 2), (0, 8), (13, 33), (19, 33), (2, 32), (1, 30), (1, 2), (2, 3), (2, 7), (2, 13)]}\"\nexcept AssertionError as e:\n    raise e\nexcept Exception as e:\n    assert False, f\"Your function raises an exception: {e}.\""
        }
      },
      "source": [
        "def girvan_newman(G):\n",
        "    G = G.copy() # グラフGのエッジを除いていくのでグラフオブジェクトをコピーしておく\n",
        "    removed_edges=[] # 取り除いたエッジのリスト\n",
        "    while nx.number_connected_components(G) ==1: # グラフが分割されるまで繰り返す\n",
        "    # エッジ媒介中心性が一番大きいエッジをGから取り除く\n",
        "    # 取り除いたエッジの両端ノードのIDのペアをタプルとしてremoved_edgesに追加\n",
        "      ...\n",
        "    return list(nx.connected_components(G)), removed_edges\n",
        "\n",
        "def find_best_edge(G): # グラフGにおいてエッジ媒介中心性が一番大きいエッジの両端ノードをタプルとして返す関数\n",
        "    edge_between = nx.edge_betweenness_centrality(G)     \n",
        "    return max(edge_between, key=edge_between.get)"
      ],
      "execution_count": null,
      "outputs": []
    },
    {
      "cell_type": "markdown",
      "metadata": {
        "id": "G6N2twJ9LTEH"
      },
      "source": [
        "`girvan_newman`関数が完成したら、以下のセルを実行して動作を確認してください。取り除かれるエッジのリスト`removed_edges`は以下になります。\n",
        "\n",
        "```Python\n",
        " [(0, 31), (0, 2), (0, 8), (13, 33), (19, 33), (2, 32), (1, 30), (1, 2), (2, 3), (2, 7), (2, 13)]\n",
        " ```"
      ]
    },
    {
      "cell_type": "code",
      "metadata": {
        "id": "xpHA5KQNLW5C"
      },
      "source": [
        "communities, removed_edges = girvan_newman(G)\n",
        "print(removed_edges)"
      ],
      "execution_count": null,
      "outputs": []
    },
    {
      "cell_type": "markdown",
      "metadata": {
        "id": "1qd5eodBMcK7"
      },
      "source": [
        "以下のセルを実行してネットワークを可視化し、先の処理で抽出されたコミュニティを確認してください。取り除かれたエッジは破線で示されています。"
      ]
    },
    {
      "cell_type": "code",
      "metadata": {
        "id": "piuNribPMgWR"
      },
      "source": [
        "keeped_edges = set(G.edges()) - set(removed_edges)\n",
        "colors = ['red', 'yellow']\n",
        "\n",
        "plt.figure(figsize=(10,10))\n",
        "nx.draw_networkx_edges(G, pos, edgelist=keeped_edges)\n",
        "nx.draw_networkx_edges(G, pos, edgelist=removed_edges, style='dashed')\n",
        "for community, color in zip(communities, colors):\n",
        "    nx.draw_networkx_nodes(G, pos=pos, nodelist=community, node_color=color)\n",
        "nx.draw_networkx_labels(G, pos=pos)\n",
        "_ = plt.axis('off')"
      ],
      "execution_count": null,
      "outputs": []
    },
    {
      "cell_type": "markdown",
      "metadata": {
        "id": "kjcLZz14MjpN"
      },
      "source": [
        "### 参考"
      ]
    },
    {
      "cell_type": "code",
      "metadata": {
        "id": "R8tPHc8bMqEg"
      },
      "source": [
        "# networkx(バージョン2.X以上)のGirvan–Newman法の関数によるコミュニティ抽出\n",
        "community_generator = nx.community.girvan_newman(G)\n",
        "\n",
        "# community_generatorはジェネレーターとなっており、for文を繰り返すごとにコミュニティ分割を行う\n",
        "# 最終的には各ノードが1つのコミュニティの状態となる\n",
        "for communities in community_generator: \n",
        "    print(communities)"
      ],
      "execution_count": null,
      "outputs": []
    },
    {
      "cell_type": "markdown",
      "metadata": {
        "id": "w3QgpRxC_SuY"
      },
      "source": [
        "## コードのテスト\n",
        "以下の実行ボタンを押してから、設問ごとにCheck関数でコードのテストをしてください。"
      ]
    },
    {
      "cell_type": "code",
      "metadata": {
        "id": "QB7X4Xkn_WT8"
      },
      "source": [
        "## コードのテストの前にこのセルを実行してください\n",
        "!pip install prog_edu_assistant_tools\n",
        "import re\n",
        "import sys\n",
        "import jinja2\n",
        "from IPython.core import display\n",
        "from google.colab import _message as google_message\n",
        "from prog_edu_assistant_tools.magics import report, autotest, CaptureOutput\n",
        "from prog_edu_assistant_tools.check import Check"
      ],
      "execution_count": null,
      "outputs": []
    },
    {
      "cell_type": "markdown",
      "metadata": {
        "id": "v73Z3CnM_gRV"
      },
      "source": [
        "## Q1.1"
      ]
    },
    {
      "cell_type": "code",
      "metadata": {
        "id": "FoFu5OgN_e30"
      },
      "source": [
        "# Run this cell to check your solution.\n",
        "# If you get an error 'Check not defined', make sure you have run all preceding\n",
        "# cells once (Runtime -> Run before)\n",
        "Check('q1_1')"
      ],
      "execution_count": null,
      "outputs": []
    },
    {
      "cell_type": "markdown",
      "metadata": {
        "id": "JGNTSammDj2S"
      },
      "source": [
        "## Q1.2"
      ]
    },
    {
      "cell_type": "code",
      "metadata": {
        "id": "jdb20xtQCJqZ"
      },
      "source": [
        "# Run this cell to check your solution.\n",
        "# If you get an error 'Check not defined', make sure you have run all preceding\n",
        "# cells once (Runtime -> Run before)\n",
        "Check('q1_2')"
      ],
      "execution_count": null,
      "outputs": []
    },
    {
      "cell_type": "markdown",
      "metadata": {
        "id": "RLTLZNiOI0eW"
      },
      "source": [
        "## Q2"
      ]
    },
    {
      "cell_type": "code",
      "metadata": {
        "id": "BWTBek8VI1TL"
      },
      "source": [
        "# Run this cell to check your solution.\n",
        "# If you get an error 'Check not defined', make sure you have run all preceding\n",
        "# cells once (Runtime -> Run before)\n",
        "Check('q2')"
      ],
      "execution_count": null,
      "outputs": []
    },
    {
      "cell_type": "markdown",
      "metadata": {
        "id": "oMhL8cTDJC4U"
      },
      "source": [
        "## Q3"
      ]
    },
    {
      "cell_type": "code",
      "metadata": {
        "id": "3cZJ_C6BI3vL"
      },
      "source": [
        "# Run this cell to check your solution.\n",
        "# If you get an error 'Check not defined', make sure you have run all preceding\n",
        "# cells once (Runtime -> Run before)\n",
        "Check('q3')"
      ],
      "execution_count": null,
      "outputs": []
    }
  ]
}
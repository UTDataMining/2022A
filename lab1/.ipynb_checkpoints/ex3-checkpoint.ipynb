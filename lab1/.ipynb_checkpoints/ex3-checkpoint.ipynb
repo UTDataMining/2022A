{
 "cells": [
  {
   "cell_type": "markdown",
   "metadata": {},
   "source": [
    "# 課題3\n",
    "\n",
    "配点\n",
    "- 10P"
   ]
  },
  {
   "cell_type": "markdown",
   "metadata": {},
   "source": [
    "`population.csv`ファイルと`covid-19_cases.csv`ファイルにはそれぞれ以下のように都道府県ごとの人口（2017年度の数値）と都道府県ごとのcovid-19の感染者数（2021年4月24日時点）のデータが含まれています。\n",
    "\n",
    "```Python\n",
    "## population.csvファイル\n",
    "Prefecture, Population\n",
    "北海道, 5320000\n",
    "青森県, 1278000\n",
    "岩手県, 1255000\n",
    "...\n",
    "\n",
    "## covid-19_cases.csvファイル\n",
    "Prefecture, Cases\n",
    "北海道, 23160\n",
    "青森県, 1462\n",
    "岩手県, 838\n",
    "...\n",
    "```\n",
    "\n",
    "これらのデータを元に、各都道府県ごとの**10万人あたりの感染者数**を求め、それらの記述統計（中心傾向、ばらつき、分布など）を分析し、分析の結果を元に全国の感染の状況について自由に論じてください。\n",
    "\n",
    "データソース\n",
    "- [教育用標準データセット 都道府県別データ](https://www.nstac.go.jp/SSDSE/)\n",
    "- [NHK 新型コロナウイルス関連データ](https://www3.nhk.or.jp/news/special/coronavirus/data/)"
   ]
  },
  {
   "cell_type": "code",
   "execution_count": 3,
   "metadata": {},
   "outputs": [
    {
     "data": {
      "text/html": [
       "<div>\n",
       "<style scoped>\n",
       "    .dataframe tbody tr th:only-of-type {\n",
       "        vertical-align: middle;\n",
       "    }\n",
       "\n",
       "    .dataframe tbody tr th {\n",
       "        vertical-align: top;\n",
       "    }\n",
       "\n",
       "    .dataframe thead th {\n",
       "        text-align: right;\n",
       "    }\n",
       "</style>\n",
       "<table border=\"1\" class=\"dataframe\">\n",
       "  <thead>\n",
       "    <tr style=\"text-align: right;\">\n",
       "      <th></th>\n",
       "      <th>Prefecture</th>\n",
       "      <th>Population</th>\n",
       "      <th>Cases</th>\n",
       "    </tr>\n",
       "  </thead>\n",
       "  <tbody>\n",
       "    <tr>\n",
       "      <th>0</th>\n",
       "      <td>北海道</td>\n",
       "      <td>5320000</td>\n",
       "      <td>23160</td>\n",
       "    </tr>\n",
       "    <tr>\n",
       "      <th>1</th>\n",
       "      <td>青森県</td>\n",
       "      <td>1278000</td>\n",
       "      <td>1462</td>\n",
       "    </tr>\n",
       "    <tr>\n",
       "      <th>2</th>\n",
       "      <td>岩手県</td>\n",
       "      <td>1255000</td>\n",
       "      <td>838</td>\n",
       "    </tr>\n",
       "    <tr>\n",
       "      <th>3</th>\n",
       "      <td>宮城県</td>\n",
       "      <td>2323000</td>\n",
       "      <td>7870</td>\n",
       "    </tr>\n",
       "    <tr>\n",
       "      <th>4</th>\n",
       "      <td>秋田県</td>\n",
       "      <td>996000</td>\n",
       "      <td>413</td>\n",
       "    </tr>\n",
       "  </tbody>\n",
       "</table>\n",
       "</div>"
      ],
      "text/plain": [
       "  Prefecture  Population  Cases\n",
       "0        北海道     5320000  23160\n",
       "1        青森県     1278000   1462\n",
       "2        岩手県     1255000    838\n",
       "3        宮城県     2323000   7870\n",
       "4        秋田県      996000    413"
      ]
     },
     "execution_count": 3,
     "metadata": {},
     "output_type": "execute_result"
    }
   ],
   "source": [
    "import pandas as pd\n",
    "df2 = pd.read_csv('covid-19_cases.csv')   \n",
    "df1 = pd.read_csv('population.csv') \n",
    "df = pd.merge(df1, df2, on='Prefecture')\n",
    "df.head()"
   ]
  },
  {
   "cell_type": "code",
   "execution_count": null,
   "metadata": {},
   "outputs": [],
   "source": []
  }
 ],
 "metadata": {
  "kernelspec": {
   "display_name": "Python 3",
   "language": "python",
   "name": "python3"
  },
  "language_info": {
   "codemirror_mode": {
    "name": "ipython",
    "version": 3
   },
   "file_extension": ".py",
   "mimetype": "text/x-python",
   "name": "python",
   "nbconvert_exporter": "python",
   "pygments_lexer": "ipython3",
   "version": "3.7.3"
  }
 },
 "nbformat": 4,
 "nbformat_minor": 2
}

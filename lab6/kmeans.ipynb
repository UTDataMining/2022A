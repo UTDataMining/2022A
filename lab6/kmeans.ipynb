{
  "nbformat": 4,
  "nbformat_minor": 0,
  "metadata": {
    "kernelspec": {
      "display_name": "Python 3",
      "language": "python",
      "name": "python3"
    },
    "language_info": {
      "codemirror_mode": {
        "name": "ipython",
        "version": 3
      },
      "file_extension": ".py",
      "mimetype": "text/x-python",
      "name": "python",
      "nbconvert_exporter": "python",
      "pygments_lexer": "ipython3",
      "version": "3.7.3"
    },
    "colab": {
      "name": "kmeans.ipynb",
      "provenance": []
    }
  },
  "cells": [
    {
      "cell_type": "markdown",
      "metadata": {
        "id": "5uu1nwopBajI"
      },
      "source": [
        "## scikit-learnライブラリ\n",
        "`scikit-learn`ライブラリには分類、回帰、クラスタリング、次元削減、前処理、モデル選択などの機械学習の処理を行うためのモジュールが含まれています。以下では、`scikit-learn`ライブラリの`KMeans`クラスを使ったk-means法によるクラスタリングについて説明します。\n",
        "\n",
        "機械学習では、観察されたデータをよく表すようにモデルのパラメータの調整を行います。パラメータを調整することでモデルをデータに適合させるので、「学習」と呼ばれます。特に、観測されたデータの特徴のみからそのデータセットの構造やパターンをよく表すようなモデルを学習することを**教師なし学習**と呼びます。クラスタリングは教師なし学習の例です。クラスタリングでは、観測されたデータをクラスタと呼ばれる集合にグループ分けします。\n",
        "\n",
        "`scikit-learn`ライブラリには機械学習に用いる代表的なデータセットが含まれています。以下では、`load_iris`関数により`iris`データセットをロードしています。`iris`データセットにはアヤメの花を4つの特徴量（'sepal length (cm)', 'sepal width (cm)', 'petal length (cm)', 'petal width (cm)'）で表した150個の特徴量ベクトルが含まれています（`iris['data']`)。また、各花には3種類（0:'setosa', 1:'versicolor', 2:'virginica'）のいずれかがラベルとして付与されています（`iris['target']`)\n",
        "\n",
        "\n",
        "`iris['data']`行列の各行は1つの花の特徴量ベクトルに対応しており、行数はデータの総数（この場合は150）を表します。1列目から4列目までの各列は上記の特徴量に対応しています。`scikit-learn`では、この特徴量ベクトルからなる行列を`NumPy`配列または`pandas`のデータフレームに格納し、入力データとして処理します。"
      ]
    },
    {
      "cell_type": "code",
      "metadata": {
        "id": "5hA5WS2uBajM"
      },
      "source": [
        "import csv\n",
        "import pandas as pd\n",
        "import numpy as np\n",
        "import matplotlib.pyplot as plt\n",
        "%matplotlib inline"
      ],
      "execution_count": null,
      "outputs": []
    },
    {
      "cell_type": "code",
      "metadata": {
        "scrolled": true,
        "id": "IWCEQL54BajN",
        "outputId": "78a4f060-3303-4c8e-d54b-4d4349cd6561"
      },
      "source": [
        "from sklearn.datasets import load_iris\n",
        "iris = load_iris() # データセットのロード\n",
        "print(len(iris['data'])) # データの総数\n",
        "print(iris['feature_names']) # 特徴量名\n",
        "print(iris['data'][0:5]) # データ（先頭5行を表示）\n",
        "print(iris['target_names']) # ラベル名\n",
        "print(iris['target'][0:5], iris['target'][50:55], iris['target'][100:105]) # ラベル"
      ],
      "execution_count": null,
      "outputs": [
        {
          "name": "stdout",
          "output_type": "stream",
          "text": [
            "150\n",
            "['sepal length (cm)', 'sepal width (cm)', 'petal length (cm)', 'petal width (cm)']\n",
            "[[5.1 3.5 1.4 0.2]\n",
            " [4.9 3.  1.4 0.2]\n",
            " [4.7 3.2 1.3 0.2]\n",
            " [4.6 3.1 1.5 0.2]\n",
            " [5.  3.6 1.4 0.2]]\n",
            "['setosa' 'versicolor' 'virginica']\n",
            "[0 0 0 0 0] [1 1 1 1 1] [2 2 2 2 2]\n"
          ]
        }
      ]
    },
    {
      "cell_type": "markdown",
      "metadata": {
        "id": "9cOzOWIeBajO"
      },
      "source": [
        "`iris['data']`の3列目と4列目の2つの特徴量（'petal length (cm)', 'petal width (cm)'）を用いて散布図でデータを可視化してみます。"
      ]
    },
    {
      "cell_type": "code",
      "metadata": {
        "id": "NI-whVysBajO",
        "outputId": "59bd2494-343f-4c64-fc63-251bc4761130"
      },
      "source": [
        "X_iris=iris['data'][:,2:4]\n",
        "plt.figure(figsize=(7,5))\n",
        "plt.xlabel(iris[\"feature_names\"][2])\n",
        "plt.ylabel(iris[\"feature_names\"][3])\n",
        "plt.scatter(X_iris[:,0],X_iris[:,1],c='black');"
      ],
      "execution_count": null,
      "outputs": [
        {
          "data": {
            "image/png": "[encoded data removed]",
            "text/plain": [
              "<Figure size 504x360 with 1 Axes>"
            ]
          },
          "metadata": {
            "needs_background": "light"
          },
          "output_type": "display_data"
        }
      ]
    },
    {
      "cell_type": "markdown",
      "metadata": {
        "id": "-U2QxhATBajP"
      },
      "source": [
        "アヤメの種類（0:'setosa', 1:'versicolor', 2:'virginica'）ごとに色を変えて同様にデータを可視化してみると、種類ごとにグループになっており、アヤメの種類ごとに似た特徴量を持っていることがわかります。以下では、クラスタリングによりこれらのグループをクラスタとして自動的に抽出することを考えます。"
      ]
    },
    {
      "cell_type": "code",
      "metadata": {
        "id": "nBvECzvSBajP",
        "outputId": "6324ae05-fdf8-4e6a-c290-e6671e798099"
      },
      "source": [
        "labels=iris['target']\n",
        "plt.figure(figsize=(7,5))\n",
        "plt.xlabel(iris[\"feature_names\"][2])\n",
        "plt.ylabel(iris[\"feature_names\"][3])\n",
        "plt.scatter(X_iris[labels==0,0],X_iris[labels==0,1],c='green', alpha=0.2)\n",
        "plt.scatter(X_iris[labels==1,0],X_iris[labels==1,1],c='yellow', alpha=0.2)\n",
        "plt.scatter(X_iris[labels==2,0],X_iris[labels==2,1],c='blue', alpha=0.2);"
      ],
      "execution_count": null,
      "outputs": [
        {
          "data": {
            "image/png": "[encoded data removed]",
            "text/plain": [
              "<Figure size 504x360 with 1 Axes>"
            ]
          },
          "metadata": {
            "needs_background": "light"
          },
          "output_type": "display_data"
        }
      ]
    },
    {
      "cell_type": "markdown",
      "metadata": {
        "id": "kY1Dj52rBajQ"
      },
      "source": [
        "`scikit-learn`では、以下の手順でデータからモデルの学習を行います。\n",
        "- 使用するモデルのクラスの選択\n",
        "- モデルのハイパーパラメータの選択とインスタンス化\n",
        "- データの準備\n",
        "    - 教師なし学習では、特徴量データを準備\n",
        "- モデルをデータに適合（`fit()`メソッド）\n",
        "- モデルの評価\n",
        "    - 教師なし学習では、`transform()`または`predict()`メソッドを用いて特徴量データのクラスタリングや次元削減などを行う"
      ]
    },
    {
      "cell_type": "markdown",
      "metadata": {
        "id": "L6EIxPpZBajR"
      },
      "source": [
        "以下では、`iris`データセットの2つの特徴量（'petal length (cm)', 'petal width (cm)'）を元にアヤメのデータをk-means法によりクラスタリングする手続きを示しています。\n",
        "\n",
        "モデルのクラスとして`KMeans`を選択し、モデルのハイパーパラメータの選択とインスタンス化では、引数`n_clusters`にハイパーパラメータとしてクラスタ数、ここでは3、を指定して`KMeans`クラスのインスタンスを作成しています。そして、`fit()`メソッドによりモデルを入力データ`X_iris`に適合させ、`predict()`メソッドを用いて各データが所属するクラスタ（0,1,2で表現）の情報をリストとして取得しています。最後に、クラスタリングの結果を元に、クラスタごとに異なる色でデータを可視化しています。\n",
        "\n",
        "[KMeans](https://scikit-learn.org/stable/modules/generated/sklearn.cluster.KMeans.html)"
      ]
    },
    {
      "cell_type": "code",
      "metadata": {
        "id": "qs6elCJ0BajR",
        "outputId": "b73e1dcc-bd7b-4211-ebbf-711b3d90af6a"
      },
      "source": [
        "from sklearn.cluster import KMeans\n",
        "\n",
        "model = KMeans(n_clusters=3, random_state=0) \n",
        "model.fit(X_iris) \n",
        "clusters=model.predict(X_iris) \n",
        "\n",
        "plt.figure(figsize=(7,5))\n",
        "plt.xlabel(iris[\"feature_names\"][2])\n",
        "plt.ylabel(iris[\"feature_names\"][3])\n",
        "\n",
        "plt.scatter(X_iris[clusters==0,0],X_iris[clusters==0,1],c='blue', alpha=0.2)\n",
        "plt.scatter(X_iris[clusters==1,0],X_iris[clusters==1,1],c='green', alpha=0.2)\n",
        "plt.scatter(X_iris[clusters==2,0],X_iris[clusters==2,1],c='yellow', alpha=0.2)\n",
        "\n",
        "plt.scatter(model.cluster_centers_[:,0], model.cluster_centers_[:,1], c='red'); # クラスタの中心点\n",
        "print(model.inertia_) # コスト関数の値"
      ],
      "execution_count": null,
      "outputs": [
        {
          "name": "stdout",
          "output_type": "stream",
          "text": [
            "31.371358974358973\n"
          ]
        },
        {
          "data": {
            "image/png": "[encoded data removed]",
            "text/plain": [
              "<Figure size 504x360 with 1 Axes>"
            ]
          },
          "metadata": {
            "needs_background": "light"
          },
          "output_type": "display_data"
        }
      ]
    },
    {
      "cell_type": "code",
      "metadata": {
        "id": "LFozVs30BajS"
      },
      "source": [
        ""
      ],
      "execution_count": null,
      "outputs": []
    },
    {
      "cell_type": "code",
      "metadata": {
        "id": "L-ItmacTBajS"
      },
      "source": [
        ""
      ],
      "execution_count": null,
      "outputs": []
    }
  ]
}
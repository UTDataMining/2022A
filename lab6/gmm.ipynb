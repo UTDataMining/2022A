{
  "nbformat": 4,
  "nbformat_minor": 0,
  "metadata": {
    "kernelspec": {
      "display_name": "Python 3",
      "language": "python",
      "name": "python3"
    },
    "language_info": {
      "codemirror_mode": {
        "name": "ipython",
        "version": 3
      },
      "file_extension": ".py",
      "mimetype": "text/x-python",
      "name": "python",
      "nbconvert_exporter": "python",
      "pygments_lexer": "ipython3",
      "version": "3.7.3"
    },
    "colab": {
      "name": "gmm.ipynb",
      "provenance": []
    }
  },
  "cells": [
    {
      "cell_type": "markdown",
      "metadata": {
        "id": "Plqeb11gChb4"
      },
      "source": [
        "# 混合ガウスモデルによるクラスタリング\n",
        "\n",
        "[GaussianMixture](https://scikit-learn.org/stable/modules/generated/sklearn.mixture.GaussianMixture.html)"
      ]
    },
    {
      "cell_type": "code",
      "metadata": {
        "id": "8VO1aoUpChb7"
      },
      "source": [
        "# モジュールのインポート\n",
        "import pandas as pd\n",
        "import numpy as np\n",
        "import matplotlib.pyplot as plt\n",
        "%matplotlib inline\n",
        "from sklearn import mixture\n",
        "from matplotlib.colors import LogNorm"
      ],
      "execution_count": null,
      "outputs": []
    },
    {
      "cell_type": "code",
      "metadata": {
        "id": "cNdU44piChb9"
      },
      "source": [
        "# Colaboratoryでは以下を実行して必要なファイルをダウンロード\n",
        "!wget https://raw.githubusercontent.com/UTDataMining/2021S/master/ex7/weather.xlsx"
      ],
      "execution_count": null,
      "outputs": []
    },
    {
      "cell_type": "code",
      "metadata": {
        "id": "VUFuIb3YChb9"
      },
      "source": [
        "weather_df = pd.read_excel('weather.xlsx', header=4, usecols=[0,2,3],  skiprows=[5], skipfooter=4, names=['Pref','Temp','Rain']) \n",
        "X = weather_df[['Temp', 'Rain']].values \n",
        "X = (X-X.mean(axis=0))/X.std(axis=0) "
      ],
      "execution_count": null,
      "outputs": []
    },
    {
      "cell_type": "code",
      "metadata": {
        "id": "BP13b4MIChb9"
      },
      "source": [
        "clf = mixture.GaussianMixture(n_components=3, random_state=0)\n",
        "clf.fit(X)\n",
        "clusters = clf.predict(X) # クラスタラベル\n",
        "centers = clf.means_ # クラスタ中心\n",
        "#print(clf.predict_proba(X)) # 事後確率\n",
        "#print(clf.weights_) # 各混合要素の重み\n",
        "\n",
        "x, y = np.meshgrid(np.linspace(X[:,0].min(), X[:,0].max()), np.linspace(X[:,1].min(), X[:,1].max()))\n",
        "Z = -clf.score_samples(np.array([x.ravel(), y.ravel()]).T)\n",
        "Z = Z.reshape(x.shape)\n",
        "\n",
        "plt.figure(figsize=(15,10))\n",
        "\n",
        "CS = plt.contour(x, y, Z, norm=LogNorm(vmin=1.0, vmax=10.0), levels=np.logspace(0, 1, 20), linestyles='dashed', cmap='Blues')\n",
        "plt.colorbar(CS)\n",
        "\n",
        "plt.xlabel('normalized avg. temp. (degree Celsius)')\n",
        "plt.ylabel('normalized avg. annual rainfall (mm)')\n",
        "plt.scatter(X[clusters==0,0],X[clusters==0,1],c='blue')\n",
        "plt.scatter(X[clusters==1,0],X[clusters==1,1],c='green')\n",
        "plt.scatter(X[clusters==2,0],X[clusters==2,1],c='orange')\n",
        "plt.scatter(centers[:,0], centers[:,1], c='red', s=100, marker='x'); "
      ],
      "execution_count": null,
      "outputs": []
    },
    {
      "cell_type": "code",
      "metadata": {
        "id": "dWF8-7EMChb-"
      },
      "source": [
        ""
      ],
      "execution_count": null,
      "outputs": []
    }
  ]
}
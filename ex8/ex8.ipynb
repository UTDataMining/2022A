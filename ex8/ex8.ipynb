{
  "nbformat": 4,
  "nbformat_minor": 0,
  "metadata": {
    "colab": {
      "name": "ex8.ipynb",
      "provenance": [],
      "collapsed_sections": [],
      "include_colab_link": true
    },
    "kernelspec": {
      "name": "python3",
      "display_name": "Python 3"
    },
    "language_info": {
      "name": "python"
    }
  },
  "cells": [
    {
      "cell_type": "markdown",
      "metadata": {
        "id": "view-in-github",
        "colab_type": "text"
      },
      "source": [
        "<a href=\"https://colab.research.google.com/github/UTDataMining/2021A/blob/master/ex8/ex8.ipynb\" target=\"_parent\"><img src=\"https://colab.research.google.com/assets/colab-badge.svg\" alt=\"Open In Colab\"/></a>"
      ]
    },
    {
      "cell_type": "markdown",
      "metadata": {
        "id": "hkEFgYv75zaQ"
      },
      "source": [
        "# 課題8 線形回帰\n",
        "\n",
        "配点\n",
        "- Q1 1\n",
        "- Q2 1\n",
        "- Q3 5\n",
        "- Q4 3\n"
      ]
    },
    {
      "cell_type": "code",
      "metadata": {
        "id": "tWLJ_bE95oSu"
      },
      "source": [
        "# モジュールのインポート\n",
        "import numpy as np\n",
        "import pandas as pd\n",
        "import matplotlib.pyplot as plt\n",
        "%matplotlib inline"
      ],
      "execution_count": null,
      "outputs": []
    },
    {
      "cell_type": "code",
      "metadata": {
        "id": "cFB5ZpGs6o4x"
      },
      "source": [
        "# Colaboratoryでは以下を実行して必要なファイルをダウンロード\n",
        "!wget https://raw.githubusercontent.com/UTDataMining/2021S/master/ex8/iris.csv"
      ],
      "execution_count": null,
      "outputs": []
    },
    {
      "cell_type": "markdown",
      "metadata": {
        "id": "8nGcCRWZ7JIS"
      },
      "source": [
        "## Q1 特徴間の相関係数\n",
        "\n",
        "irisデータセットの特徴量`petal_length`と`petal_width`の関係を散布図で可視化すると以下のように2つの特徴量間に関係があることがわかります。"
      ]
    },
    {
      "cell_type": "code",
      "metadata": {
        "id": "LqIzexNi7Rf6"
      },
      "source": [
        "iris = pd.read_csv('iris.csv')\n",
        "\n",
        "plt.figure(figsize=(7,5))\n",
        "plt.xlabel('petal_length')\n",
        "plt.ylabel('petal_width')\n",
        "plt.scatter(iris['petal_length'], iris['petal_width'], c='blue');"
      ],
      "execution_count": null,
      "outputs": []
    },
    {
      "cell_type": "markdown",
      "metadata": {
        "id": "u5_UZRRa7aLk"
      },
      "source": [
        "irisデータセットの特徴量`petal_length`と`petal_width`のデータを`NumPy`の配列として受け取って、それらの相関係数を返す以下の関数`petal_corr()`を完成させてください。"
      ]
    },
    {
      "cell_type": "code",
      "metadata": {
        "id": "QdwMKy8S7mht",
        "exercise_id": "q1",
        "inlinetests": {
          "InlineTest_1": "\nassert 'petal_corr' in globals(), f\"Have you defined the function 'petal_corr'?\"\nassert str(petal_corr.__class__) == \"<class 'function'>\", f\"Have you defined a function 'peta_corr'? Found a {petal_corr.__class__} instead\"\ntry:\n    iris = pd.read_csv('iris.csv')\n    X = iris[['petal_length']].values\n    y = iris[['petal_width']].values\n    assert int(petal_corr(X, y)*100) == 96, f\"Your function 'petal_corr' returns {petal_corr(X, y)}, while the expected answer is 0.96...\"\nexcept AssertionError as e:\n    raise e\nexcept Exception as e:\n    assert False, f\"Your function 'petal_corr' does not accept 'X, y' and raises an exception: {e}. Please try to pass `X, y` to your function.\""
        }
      },
      "source": [
        "def petal_corr(x,y):\n",
        "    return ..."
      ],
      "execution_count": null,
      "outputs": []
    },
    {
      "cell_type": "markdown",
      "metadata": {
        "id": "99WbGNIP7tnG"
      },
      "source": [
        "関数`petal_corr()`が完成したら以下のセルを実行して動作を確認してください。以下では`pandas`シリーズオブジェクトの`values`属性を用いて特徴量データを`NumPy`の配列にして関数`petal_corr()`の引数に渡しています。相関係数は$\\simeq0.96$となります。"
      ]
    },
    {
      "cell_type": "code",
      "metadata": {
        "id": "Jw7-nexX7wyy"
      },
      "source": [
        "X=iris[['petal_length']].values # 入力X\n",
        "y=iris[['petal_width']].values # 出力y\n",
        "\n",
        "petal_corr(X, y)"
      ],
      "execution_count": null,
      "outputs": []
    },
    {
      "cell_type": "markdown",
      "metadata": {
        "id": "Zm8MEOBi8cOp"
      },
      "source": [
        "## Q2 特徴量の標準化\n",
        "\n",
        "以下では、線形回帰により特徴量`petal_length`から特徴量`petal_width`を予測するような仮説関数のパラメータを学習することを考えます。\n",
        "\n",
        "まず準備として、特徴量`petal_length`を入力$X$、特徴量`petal_length`を出力$y$としてそれぞれを標準化します。\n",
        "\n",
        "`NumPy`の任意の行数、列数の2次元配列を受け取り、各要素の値をその列の平均値と標準偏差を用いて標準化した配列を返す`normalizer()`関数を完成させてください。"
      ]
    },
    {
      "cell_type": "code",
      "metadata": {
        "id": "A-bXOcTw8icv",
        "exercise_id": "q2",
        "inlinetests": {
          "InlineTest_2": "\nassert 'normalizer' in globals(), f\"Have you defined the function 'normalizer'?\"\nassert str(normalizer.__class__) == \"<class 'function'>\", f\"Have you defined a function 'normalizer'? Found a {normalizer.__class__} instead\"\ntry:\n    iris = pd.read_csv('iris.csv')\n    X = iris[['petal_length']].values\n    assert np.round(np.mean(normalizer(X), axis=0))[0] == 0, f\"Your function 'normalizer' returns {np.round(np.mean(normalizer(X), axis=0))[0]}, while the expected answer is 0\"\n    assert np.round(np.std(normalizer(X), axis=0))[0] == 1, f\"Your function 'normalizer' returns {np.round(np.std(normalizer(X), axis=0))[0]}, while the expected answer is 1\"\nexcept AssertionError as e:\n    raise e\nexcept Exception as e:\n    assert False, f\"Your function 'normalizer' does not accept 'X' and raises an exception: {e}. Please try to pass `X` to your function.\""
        }
      },
      "source": [
        "def normalizer(mat):\n",
        "    return ..."
      ],
      "execution_count": null,
      "outputs": []
    },
    {
      "cell_type": "markdown",
      "metadata": {
        "id": "HjkIuXWV8rn8"
      },
      "source": [
        "`normalizer()`関数が完成したら、以下のセルを実行して、`X`の列（ここでは先頭列を確認）が平均0、標準偏差1に標準化されることを確認してください。"
      ]
    },
    {
      "cell_type": "code",
      "metadata": {
        "id": "FBZ-DSjC9HoA"
      },
      "source": [
        "print(np.round(np.mean(normalizer(X), axis=0))[0])\n",
        "print(np.round(np.std(normalizer(X), axis=0))[0])"
      ],
      "execution_count": null,
      "outputs": []
    },
    {
      "cell_type": "markdown",
      "metadata": {
        "id": "vMKhguvvATaH"
      },
      "source": [
        "次に、入力の各データにバイアス項($x_0=1$)を追加するため、入力の先頭列に1を要素とする列ベクトルを挿入します。これにより、入力,　出力はデータ数を$m$として以下のような行列（$m \\times 2$) とベクトル($m \\times 1$)になります。\n",
        "\n",
        "$\n",
        "  X = \\left(\n",
        "    \\begin{array}{cc}\n",
        "      1 &   x^{(1)} \\\\\n",
        "      1 &   x^{(2)}  \\\\\n",
        "      ... & ... \\\\\n",
        "      1 &  x^{(m)}\n",
        "    \\end{array}\n",
        "  \\right)\n",
        "$\n",
        "\n",
        "$x^{(i)}$は標準化された特徴量petal_length。\n",
        "\n",
        "$\n",
        "  y = \\left(\n",
        "    \\begin{array}{c}\n",
        "       y^{(1)}  \\\\\n",
        "      ...\\\\\n",
        "        y^{(m)}  \\\\\n",
        "    \\end{array}\n",
        "  \\right)\n",
        "$\n",
        "\n",
        "$y^{(i)}$は標準化された特徴量petal_width。"
      ]
    },
    {
      "cell_type": "code",
      "metadata": {
        "id": "Agj8sycbAhQW"
      },
      "source": [
        "X_norm = normalizer(X) # 入力の標準化\n",
        "y_norm = normalizer(y) # 出力の標準化\n",
        "\n",
        "X_norm = np.hstack([np.ones((X.shape[0],1)), X_norm]) # バイアス項の追加\n",
        "\n",
        "print(X_norm[:10,:]) # 先頭10行のデータ\n",
        "print(y_norm[:10]) # 先頭10行のデータ"
      ],
      "execution_count": null,
      "outputs": []
    },
    {
      "cell_type": "markdown",
      "metadata": {
        "id": "uTz2zF0lCISE"
      },
      "source": [
        "## Q3 最急降下法\n",
        "\n",
        "以下では、最急降下法により、訓練データセットを元に入力から出力を予測する仮説関数のパラメータを学習する`graddes`関数を実装します。\n",
        "\n",
        "`graddes`関数では第1引数に入力のデータ行列（データ数($m$)$\\times$(特徴量数+バイアス)($n$))、第2引数に入力の各データに対する出力（正解）のベクトル（$m\\times1$）、第3引数に学習率、第4引数に学習の繰り返し（各繰り返しをエポックと呼ぶ）の回数を受け取ります。\n",
        "\n",
        "これらの引数を元に、`graddes`関数ではパラメータの学習を行い、以下を返します\n",
        "- エポックごとのコスト関数の値を要素とするリスト\n",
        "- 最終的なパラメータの値を要素とする配列（$n\\times1$）を返します。\n",
        "\n",
        "\n",
        "\n",
        "パラメータを$\\theta=(\\theta_0, \\theta_1, ..., \\theta_{n-1})^T$\n",
        "\n",
        "仮説関数を$h(x)=\\theta_0+\\theta_1x_1+\\theta_2x_2+....+\\theta_{n-1}x_{n-1}$\n",
        "\n",
        "入力を$\n",
        "  X = \\left(\n",
        "    \\begin{array}{cccc}\n",
        "      x_0^{(1)} &   x_1^{(1)} & ... &   x_{n-1}^{(1)}  \\\\\n",
        "      ... & ...& ...&...\\\\\n",
        "      x_0^{(m)} &  x_1^{(m)} & ... &   x_{n-1}^{(m)}  \\\\\n",
        "    \\end{array}\n",
        "  \\right)\n",
        "$ \n",
        "\n",
        "$X$において$x_0^{(i)}=1$\n",
        "\n",
        "出力を$y=(y^{(1)}, y^{(2)}, ..., y^{(m)})^T$\n",
        "\n",
        "とすると、最急降下法ではコスト関数を\n",
        "\n",
        "$J(\\theta)=\\frac{1}{2m}\\Sigma_{i=1}^m (h(x^{(i)})-y^{(i)})^2$\n",
        "\n",
        "として、入力$X$の各特徴量$x_j$に対するパラメータ$\\theta_j$を以下の様に更新していきます。\n",
        "\n",
        "$\\theta_j:= \\theta_j - \\alpha \\frac{\\partial J(\\theta)}{\\partial \\theta_j} =  \\theta_j - \\frac{\\alpha}{m} \\Sigma_{i=1}^m ((h(x^{(i)})-y^{(i)})x^{(i)}_j)$\n",
        "\n",
        "パラメータ全体を以下のように一度に更新することもできます。\n",
        "\n",
        "$\\theta := \\theta - \\frac{\\alpha}{m}X^T(X\\theta-y)$\n",
        "\n",
        "入力が1特徴量（変数）の時は、バイアス項に対するパラメータを$\\theta_0$、入力変数に対するパラメータを$\\theta_1$としてパラメータは以下の様に更新されます。\n",
        "\n",
        "$\\theta_0 := \\theta_0 - \\alpha  \\Sigma_{i=1}^m (h(x^{(i)})-y^{(i)})/m$ \n",
        "\n",
        "$\\theta_1 := \\theta_1 - \\alpha  \\Sigma_{i=1}^m ((h(x^{(i)})-y^{(i)})x^{(i)})/m$\n",
        "\n",
        "具体的に、`graddes`関数では以下の手順によりパラメータの学習を行います。\n",
        "\n",
        "- 引数`n_iter`で指定されたエポックの回数だけ以下を繰り返す    \n",
        "\n",
        "     - すべてのm個のデータについて以下を求める\n",
        "        \n",
        "        - 入力データ$x^{(i)}$について仮説関数$h(x^{(i)})$の値を求める\n",
        "        \n",
        "        - 出力$y^{(i)}$との誤差$h(x^{(i)})-y^{(i)}$の値を求める\n",
        "    \n",
        "     - すべてのm個のデータの誤差を用いてコスト関数$J(\\theta)$の値を求め、各エポックのコスト関数の値を要素とするリスト`costs`に追加\n",
        " \n",
        "     - すべてのm個のデータの誤差を用いて各パラメータ$\\theta_j(j=0,..,n-1)$を更新し、パラメータの値を要素とする配列`w`を更新\n",
        "          - `w[0,0]`$:=$($x_0$に対するパラメータ$\\theta_0$), \n",
        "          - ...,\n",
        "          - `w[n-1,0]`$:=$($x_{n-1}$に対するパラメータ$\\theta_{n-1}$)\n",
        "          \n",
        " すべての繰り返しが終了したらリスト`costs`と配列`w`を返す。\n",
        " \n",
        " 上記に従って、`graddes`関数を完成させてください。"
      ]
    },
    {
      "cell_type": "code",
      "metadata": {
        "id": "CODrz_-jCTMy",
        "exercise_id": "q3",
        "inlinetests": {
          "InlineTest_3": "\nassert 'graddes' in globals(), f\"Have you defined the function 'graddes'?\"\nassert str(graddes.__class__) == \"<class 'function'>\", f\"Have you defined a function 'graddes'? Found a {graddes.__class__} instead\"\ntry:\n    iris = pd.read_csv('iris.csv')\n    X = iris[['petal_length']].values\n    y = iris[['petal_width']].values\n    costs, w = graddes(np.hstack([np.ones((X.shape[0],1)), normalizer(X)]), normalizer(y), 0.05, 20)\n    assert int(costs[-1]*1000) == 102, f\"Your function 'graddes' with alpha:0.05 and n_iter:20 returns {costs[-1]}, while the expected answer is 0.102...\"\nexcept AssertionError as e:\n    raise e\nexcept Exception as e:\n    assert False, f\"Your function 'graddes' does not accept 'X_norm, y_norm' and raises an exception: {e}. Please try to pass `X_norm, y_norm` to your function.\""
        }
      },
      "source": [
        "def graddes(X, y, alpha, n_iter):  \n",
        "    m = X.shape[0] # データ数\n",
        "    n = X.shape[1] # 次元（特徴量+バイアス）数\n",
        "    \n",
        "    costs=[] # エポックごとのコスト関数の値を入れるリスト\n",
        "    w = np.zeros((n,1)) #  各特徴量に対するパラメータ（重み）の初期化\n",
        "    \n",
        "    for i in range(n_iter):\n",
        "        ...\n",
        "        \n",
        "    return costs, w"
      ],
      "execution_count": null,
      "outputs": []
    },
    {
      "cell_type": "markdown",
      "metadata": {
        "id": "zR6kWIGhCe3s"
      },
      "source": [
        "`graddes`関数が完成したら以下のセルを実行して動作を確認してください。上記のirisデータセットの特徴量`petal_length`を入力、特徴量`petal_length`を出力とした訓練データセットを与え、学習率を0.05、学習のエポック数を20とした時の最終的なコスト関数の値は$\\simeq 0.102$となります。"
      ]
    },
    {
      "cell_type": "code",
      "metadata": {
        "id": "asoim3WsCi1W"
      },
      "source": [
        "n_iter=20\n",
        "alpha=0.05\n",
        "costs, w = graddes(X_norm, y_norm, alpha, n_iter)\n",
        "print(costs[-1]) # 100エポックでのコスト関数の値\n",
        "print(w) # 推定されたパラメータ"
      ],
      "execution_count": null,
      "outputs": []
    },
    {
      "cell_type": "markdown",
      "metadata": {
        "id": "MS1ovSX0Crrj"
      },
      "source": [
        "以下では、パラメータ推定の過程の各エポックとコスト関数の値の関係を示しています。パラメータの学習が進むにつれてコスト関数の値が減少していくことがわかります。"
      ]
    },
    {
      "cell_type": "code",
      "metadata": {
        "id": "U7vrGqc2ED_N"
      },
      "source": [
        "plt.figure(figsize=(7,5))\n",
        "plt.ylabel('Cost')\n",
        "plt.xlabel('Iteration');\n",
        "plt.plot(range(1,n_iter+1),costs);"
      ],
      "execution_count": null,
      "outputs": []
    },
    {
      "cell_type": "markdown",
      "metadata": {
        "id": "ZKObG1IdEG8W"
      },
      "source": [
        "学習率0.05、学習のエポック数20として学習されたパラメータ$\\theta_0, \\theta_1$を用いて特徴量`petal_length`を入力$x$、特徴量`petal_length`を出力$y$とした時の直線$y=\\theta_0+\\theta_1x$は以下のようになります。"
      ]
    },
    {
      "cell_type": "code",
      "metadata": {
        "id": "cwTrzHgNEKyF"
      },
      "source": [
        "# 回帰直線のプロット\n",
        "def lineplot(X,y,w):\n",
        "    plt.figure(figsize=(7,5))\n",
        "    plt.xlabel('petal_length')\n",
        "    plt.ylabel('petal_width')\n",
        "    plt.scatter(X[:,1],y[:,0],c='blue')\n",
        "    plt.plot(X[:,1], np.dot(X,w)[:,0], color='red');\n",
        "\n",
        "lineplot(X_norm, y_norm, w)"
      ],
      "execution_count": null,
      "outputs": []
    },
    {
      "cell_type": "markdown",
      "metadata": {
        "id": "fVpintSSEQ3n"
      },
      "source": [
        "また、この時のコスト関数$J(\\theta)$とパラメータ$\\theta_0, \\theta_1$は以下のようになります。"
      ]
    },
    {
      "cell_type": "code",
      "metadata": {
        "id": "cXwS5ghEEVnN"
      },
      "source": [
        "from mpl_toolkits.mplot3d import Axes3D\n",
        "\n",
        "# コスト関数のプロット\n",
        "def costplot(X, y, w, cost):\n",
        "    w0, w1 = np.meshgrid(np.arange(-3.0, 3.0, 0.1), np.arange(-3.0, 3.0, 0.1))\n",
        "    J=np.zeros(w0.shape)\n",
        "    for i in range(w0.shape[0]):\n",
        "        for j in range(w0.shape[1]):\n",
        "            J[i,j] = np.sum((np.dot(X, np.array([[w0[i,j]],[w1[i,j]]]))-y)**2)/(2*X.shape[0])\n",
        "    fig = plt.figure(figsize=(10,7))\n",
        "    ax = fig.add_subplot(111, projection=\"3d\")\n",
        "    ax.set_xlabel(\"theta0\")\n",
        "    ax.set_ylabel(\"theta1\")\n",
        "    ax.scatter(w[0,0], w[1,0], cost, s=100, c='red')\n",
        "    ax.plot_wireframe(w0, w1, J);\n",
        "\n",
        "costplot(X_norm, y_norm, w, costs[-1] )"
      ],
      "execution_count": null,
      "outputs": []
    },
    {
      "cell_type": "markdown",
      "metadata": {
        "id": "xxNuU-FBEZ28"
      },
      "source": [
        "学習率$\\alpha$やエポック数を変更して、その時の最終的なパラメータ、コスト関数の値をそれぞれ観察してください。\n",
        "\n",
        "コスト関数の値が十分に収束した時の学習率、エポック数で学習されたパラメータを用いて回帰直線を可視化してください。"
      ]
    },
    {
      "cell_type": "code",
      "metadata": {
        "id": "sn6pHtMJEdO-"
      },
      "source": [
        "n_iter = ... #エポック数\n",
        "alpha = ... #学習率\n",
        "costs, w = graddes(X_norm, y_norm, alpha, n_iter)\n",
        "print(costs[-1]) # コスト関数の値\n",
        "print(w) # 推定されたパラメータ\n",
        "\n",
        "# エポック数 vs. コスト関数\n",
        "plt.figure(figsize=(7,5))\n",
        "plt.ylabel('Cost')\n",
        "plt.xlabel('Iteration');\n",
        "plt.plot(range(1,n_iter+1),costs);\n",
        "\n",
        "# 回帰直線\n",
        "lineplot(X_norm, y_norm, w)\n",
        "\n",
        "# コスト関数\n",
        "costplot(X_norm, y_norm, w, costs[-1] )"
      ],
      "execution_count": null,
      "outputs": []
    },
    {
      "cell_type": "markdown",
      "metadata": {
        "id": "e6y_4lo1GNrF"
      },
      "source": [
        "## Q4 正規方程式\n",
        "線形回帰のパラメータは訓練データセットの入力$X$と出力$y$に対して以下の正規方程式を解くことで解析的に求めることができます。（ただし、$X^TX$が正則（フルランク）であること。）\n",
        "\n",
        "$\\theta = (X^TX)^{-1}X^Ty$\n",
        "\n",
        "ここで、行列$A$の転置$A^T$、逆行列$A^{-1}$は`NumPy`を用いてそれぞれ以下の様に計算できます。\n",
        "\n",
        "転置$A^T$\n",
        "```Python\n",
        "A.T\n",
        "```\n",
        "\n",
        "逆行列$A^{-1}$\n",
        "```Python\n",
        "np.linalg.inv(A)\n",
        "```\n",
        "\n",
        "正規方程式を用いて、訓練データセットを元に入力から出力を予測する仮説関数のパラメータを求める`normal_equation`関数を実装してください。`normal_equation`関数では第1引数に入力のデータ行列（データ数($m$)$\\times$次元数($n$))、第2引数に入力の各データに対する出力（正解）のベクトル（$m\\times1$）を受け取り、パラメータ$\\theta$の値を要素とする配列（$n\\times1$）（Q3のパラメータの配列`w`と同様の形式）を返します。"
      ]
    },
    {
      "cell_type": "code",
      "metadata": {
        "id": "5WneaefNGWea",
        "exercise_id": "q4",
        "inlinetests": {
          "InlineTest_4": "\nassert 'normal_equation' in globals(), f\"Have you defined the function 'normal_equation'?\"\nassert str(normal_equation.__class__) == \"<class 'function'>\", f\"Have you defined a function 'normal_equation'? Found a {normal_equation.__class__} instead\"\ntry:\n    iris = pd.read_csv('iris.csv')\n    X = iris[['petal_length']].values\n    y = iris[['petal_width']].values\n    w = normal_equation(np.hstack([np.ones((X.shape[0],1)), normalizer(X)]), normalizer(y))\n    assert np.round(w, 2)[0,0] == 0, f\"Your function 'normal_equation' returns {w[0,0]}, while the expected answer is about 0\"\n    assert np.round(w, 2)[1,0] == 0.96, f\"Your function 'normal_equation' returns {w[0,1]}, while the expected answer is about 0.96...\"\nexcept AssertionError as e:\n    raise e\nexcept Exception as e:\n    assert False, f\"Your function 'normal_equation' does not accept 'X_norm, y_norm' and raises an exception: {e}. Please try to pass `X_norm, y_norm` to your function.\""
        }
      },
      "source": [
        "def normal_equation(X, y):\n",
        "    return ..."
      ],
      "execution_count": null,
      "outputs": []
    },
    {
      "cell_type": "markdown",
      "metadata": {
        "id": "kHWUNGptGXQ4"
      },
      "source": [
        "`normal_equation`関数が完成したら以下のセルを実行して動作を確認してください。先の最急降下法で求めたパラメータの推定値が正規方程式に基づくパラメータの解析解とよく近似していることがわかります。"
      ]
    },
    {
      "cell_type": "code",
      "metadata": {
        "id": "mWjV2evbGb3p"
      },
      "source": [
        "w=normal_equation(X_norm, y_norm)\n",
        "print(w)\n",
        "\n",
        "lineplot(X_norm, y_norm, w)"
      ],
      "execution_count": null,
      "outputs": []
    },
    {
      "cell_type": "markdown",
      "metadata": {
        "id": "_PjAQMkS59nH"
      },
      "source": [
        "## コードのテスト\n",
        "以下の実行ボタンを押してから、設問ごとにCheck関数でコードのテストをしてください。"
      ]
    },
    {
      "cell_type": "code",
      "metadata": {
        "id": "BU6U7Kdb55gT"
      },
      "source": [
        "## コードのテストの前にこのセルを実行してください\n",
        "!pip install prog_edu_assistant_tools\n",
        "import re\n",
        "import sys\n",
        "import jinja2\n",
        "from IPython.core import display\n",
        "from google.colab import _message as google_message\n",
        "from prog_edu_assistant_tools.magics import report, autotest, CaptureOutput\n",
        "from prog_edu_assistant_tools.check import Check"
      ],
      "execution_count": null,
      "outputs": []
    },
    {
      "cell_type": "markdown",
      "metadata": {
        "id": "F2at-xYq6QRZ"
      },
      "source": [
        "## Q1"
      ]
    },
    {
      "cell_type": "code",
      "metadata": {
        "id": "d-xmfaIS6Opz"
      },
      "source": [
        "# Run this cell to check your solution.\n",
        "# If you get an error 'Check not defined', make sure you have run all preceding\n",
        "# cells once (Runtime -> Run before)\n",
        "Check('q1')"
      ],
      "execution_count": null,
      "outputs": []
    },
    {
      "cell_type": "markdown",
      "metadata": {
        "id": "7IsdKOZc6Umc"
      },
      "source": [
        "## Q2"
      ]
    },
    {
      "cell_type": "code",
      "metadata": {
        "id": "674uMy0T6VfD"
      },
      "source": [
        "# Run this cell to check your solution.\n",
        "# If you get an error 'Check not defined', make sure you have run all preceding\n",
        "# cells once (Runtime -> Run before)\n",
        "Check('q2')"
      ],
      "execution_count": null,
      "outputs": []
    },
    {
      "cell_type": "markdown",
      "metadata": {
        "id": "3MDfrXUP6XPa"
      },
      "source": [
        "## Q3"
      ]
    },
    {
      "cell_type": "code",
      "metadata": {
        "id": "HN2q5cE06YJi"
      },
      "source": [
        "# Run this cell to check your solution.\n",
        "# If you get an error 'Check not defined', make sure you have run all preceding\n",
        "# cells once (Runtime -> Run before)\n",
        "Check('q3')"
      ],
      "execution_count": null,
      "outputs": []
    },
    {
      "cell_type": "markdown",
      "metadata": {
        "id": "TmI0KqMfJtQM"
      },
      "source": [
        "## Q4"
      ]
    },
    {
      "cell_type": "code",
      "metadata": {
        "id": "UG75NpGNJupV"
      },
      "source": [
        "# Run this cell to check your solution.\n",
        "# If you get an error 'Check not defined', make sure you have run all preceding\n",
        "# cells once (Runtime -> Run before)\n",
        "Check('q4')"
      ],
      "execution_count": null,
      "outputs": []
    },
    {
      "cell_type": "code",
      "metadata": {
        "id": "0wPhSyeGJw8G"
      },
      "source": [
        ""
      ],
      "execution_count": null,
      "outputs": []
    }
  ]
}
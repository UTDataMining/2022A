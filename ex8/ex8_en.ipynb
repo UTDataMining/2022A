{
  "nbformat": 4,
  "nbformat_minor": 0,
  "metadata": {
    "colab": {
      "provenance": [],
      "include_colab_link": true
    },
    "kernelspec": {
      "name": "python3",
      "display_name": "Python 3"
    },
    "language_info": {
      "name": "python"
    }
  },
  "cells": [
    {
      "cell_type": "markdown",
      "metadata": {
        "id": "view-in-github",
        "colab_type": "text"
      },
      "source": [
        "<a href=\"https://colab.research.google.com/github/UTDataMining/2022A/blob/main/ex8/ex8_en.ipynb\" target=\"_parent\"><img src=\"https://colab.research.google.com/assets/colab-badge.svg\" alt=\"Open In Colab\"/></a>"
      ]
    },
    {
      "cell_type": "markdown",
      "metadata": {
        "id": "hkEFgYv75zaQ"
      },
      "source": [
        "# EX8 Linear Regression\n",
        "\n",
        "Points\n",
        "- Q1 1\n",
        "- Q2 1\n",
        "- Q3 5\n",
        "- Q4 3\n"
      ]
    },
    {
      "cell_type": "code",
      "metadata": {
        "id": "tWLJ_bE95oSu"
      },
      "source": [
        "# モジュールのインポート\n",
        "import numpy as np\n",
        "import pandas as pd\n",
        "import matplotlib.pyplot as plt\n",
        "%matplotlib inline"
      ],
      "execution_count": null,
      "outputs": []
    },
    {
      "cell_type": "code",
      "metadata": {
        "id": "cFB5ZpGs6o4x"
      },
      "source": [
        "# Colaboratoryでは以下を実行して必要なファイルをダウンロード\n",
        "!wget https://raw.githubusercontent.com/UTDataMining/2022A/master/ex8/iris.csv"
      ],
      "execution_count": null,
      "outputs": []
    },
    {
      "cell_type": "markdown",
      "metadata": {
        "id": "8nGcCRWZ7JIS"
      },
      "source": [
        "## Q1 Correlation coefficient\n",
        "The following scatterplot shows the relationship between `petal_length` and `petal_width` features of the iris dataset.\n"
      ]
    },
    {
      "cell_type": "code",
      "metadata": {
        "id": "LqIzexNi7Rf6",
        "outputId": "51816464-f195-4c82-8541-bd3d90341b98",
        "colab": {
          "base_uri": "https://localhost:8080/",
          "height": 335
        }
      },
      "source": [
        "iris = pd.read_csv('iris.csv')\n",
        "\n",
        "plt.figure(figsize=(7,5))\n",
        "plt.xlabel('petal_length')\n",
        "plt.ylabel('petal_width')\n",
        "plt.scatter(iris['petal_length'], iris['petal_width'], c='blue');"
      ],
      "execution_count": null,
      "outputs": [
        {
          "output_type": "display_data",
          "data": {
            "text/plain": [
              "<Figure size 504x360 with 1 Axes>"
            ],
            "image/png": "[encoded data removed]"
          },
          "metadata": {
            "needs_background": "light"
          }
        }
      ]
    },
    {
      "cell_type": "markdown",
      "metadata": {
        "id": "u5_UZRRa7aLk"
      },
      "source": [
        "Complete the following `petal_corr` function that takes `petal_length` and `petal_width` features of the iris dataset, as `NumPy` arrays, with the arguments `x` and `y` respectively, and returns their correlation coefficient."
      ]
    },
    {
      "cell_type": "code",
      "metadata": {
        "id": "QdwMKy8S7mht",
        "exercise_id": "q1",
        "inlinetests": {
          "InlineTest_1": "\nassert 'petal_corr' in globals(), f\"Have you defined the function 'petal_corr'?\"\nassert str(petal_corr.__class__) == \"<class 'function'>\", f\"Have you defined a function 'peta_corr'? Found a {petal_corr.__class__} instead\"\ntry:\n    iris = pd.read_csv('iris.csv')\n    X = iris[['petal_length']].values\n    y = iris[['petal_width']].values\n    assert int(petal_corr(X, y)*100) == 96, f\"Your function 'petal_corr' returns {petal_corr(X, y)}, while the expected answer is 0.96...\"\nexcept AssertionError as e:\n    raise e\nexcept Exception as e:\n    assert False, f\"Your function 'petal_corr' does not accept 'X, y' and raises an exception: {e}. Please try to pass `X, y` to your function.\""
        }
      },
      "source": [
        "def petal_corr(x,y):\n",
        "    return ..."
      ],
      "execution_count": null,
      "outputs": []
    },
    {
      "cell_type": "markdown",
      "metadata": {
        "id": "99WbGNIP7tnG"
      },
      "source": [
        "Once the `petal_corr` function is complete, run the following cell. Your function should return $\\simeq0.96$.\n"
      ]
    },
    {
      "cell_type": "code",
      "metadata": {
        "id": "Jw7-nexX7wyy"
      },
      "source": [
        "X=iris[['petal_length']].values # 入力X\n",
        "y=iris[['petal_width']].values # 出力y\n",
        "\n",
        "petal_corr(X, y)"
      ],
      "execution_count": null,
      "outputs": []
    },
    {
      "cell_type": "markdown",
      "metadata": {
        "id": "Zm8MEOBi8cOp"
      },
      "source": [
        "## Q2 Normalization\n",
        "\n",
        "In the following, let us consider learning the parameters of our hypothetical function to predict `petal_width` from `petal_length` using linear regression.\n",
        "\n",
        "First, as a preparation, consider normalizing both `petal_length` (as input $X$) and `petal_length` (as output $y$).\n",
        "\n",
        "Complete the following `normalizer` function that takes a `NumPy` 2D array of any number of rows and columns with the argument `mat` and returns an array with each element value normalized based on the mean and standard deviation of its column.\n"
      ]
    },
    {
      "cell_type": "code",
      "metadata": {
        "id": "A-bXOcTw8icv",
        "exercise_id": "q2",
        "inlinetests": {
          "InlineTest_2": "\nassert 'normalizer' in globals(), f\"Have you defined the function 'normalizer'?\"\nassert str(normalizer.__class__) == \"<class 'function'>\", f\"Have you defined a function 'normalizer'? Found a {normalizer.__class__} instead\"\ntry:\n    iris = pd.read_csv('iris.csv')\n    X = iris[['petal_length']].values\n    assert np.round(np.mean(normalizer(X), axis=0))[0] == 0, f\"Your function 'normalizer' returns {np.round(np.mean(normalizer(X), axis=0))[0]}, while the expected answer is 0\"\n    assert np.round(np.std(normalizer(X), axis=0))[0] == 1, f\"Your function 'normalizer' returns {np.round(np.std(normalizer(X), axis=0))[0]}, while the expected answer is 1\"\nexcept AssertionError as e:\n    raise e\nexcept Exception as e:\n    assert False, f\"Your function 'normalizer' does not accept 'X' and raises an exception: {e}. Please try to pass `X` to your function.\""
        }
      },
      "source": [
        "def normalizer(mat):\n",
        "    return ..."
      ],
      "execution_count": null,
      "outputs": []
    },
    {
      "cell_type": "markdown",
      "metadata": {
        "id": "HjkIuXWV8rn8"
      },
      "source": [
        "Once the `normalizer` function is complete, run the following cell. \n",
        "Make sure that each column of `X` column (in this case, checking its 1st column) is normalized to mean 0 and standard deviation 1.\n"
      ]
    },
    {
      "cell_type": "code",
      "metadata": {
        "id": "FBZ-DSjC9HoA"
      },
      "source": [
        "print(np.round(np.mean(normalizer(X), axis=0))[0])\n",
        "print(np.round(np.std(normalizer(X), axis=0))[0])"
      ],
      "execution_count": null,
      "outputs": []
    },
    {
      "cell_type": "markdown",
      "metadata": {
        "id": "vMKhguvvATaH"
      },
      "source": [
        "In the following, we add a bias term ($x_0=1$) by inserting a column vector with elements of 1 in the first column of `X`. As a result, we now have the following matrix ($m \\times 2$) and vector ($m \\times 1$) for our input and output data respectively.\n",
        "\n",
        "$\n",
        "  X = \\left(\n",
        "    \\begin{array}{cc}\n",
        "      1 &   x^{(1)} \\\\\n",
        "      1 &   x^{(2)}  \\\\\n",
        "      ... & ... \\\\\n",
        "      1 &  x^{(m)}\n",
        "    \\end{array}\n",
        "  \\right)\n",
        "$\n",
        "\n",
        "($x^{(i)}$: normalized `petal_length`)\n",
        "\n",
        "$\n",
        "  y = \\left(\n",
        "    \\begin{array}{c}\n",
        "       y^{(1)}  \\\\\n",
        "      ...\\\\\n",
        "        y^{(m)}  \\\\\n",
        "    \\end{array}\n",
        "  \\right)\n",
        "$\n",
        "\n",
        "($y^{(i)}$: normalized `petal_width`)"
      ]
    },
    {
      "cell_type": "code",
      "metadata": {
        "id": "Agj8sycbAhQW"
      },
      "source": [
        "X_norm = normalizer(X) # 入力の標準化\n",
        "y_norm = normalizer(y) # 出力の標準化\n",
        "\n",
        "X_norm = np.hstack([np.ones((X.shape[0],1)), X_norm]) # バイアス項の追加\n",
        "\n",
        "print(X_norm[:10,:]) # 先頭10行のデータ\n",
        "print(y_norm[:10]) # 先頭10行のデータ"
      ],
      "execution_count": null,
      "outputs": []
    },
    {
      "cell_type": "markdown",
      "metadata": {
        "id": "uTz2zF0lCISE"
      },
      "source": [
        "## Q3 Gradient descent\n",
        "In the following, we implement the `graddes` function that learns the parameters of a hypothetical function using the gradient descent method. The `graddes` function is trained based on the training data so that it can predict the output from the input.\n",
        "\n",
        "The `graddes` function takes the input data (number of data ($m$)$\\times$(number of features + bias)($n$)), the output data ($m\\times1$), the learning rate, and the number of training iterations (each iteration is called an epoch) with the arguments `X`, `y`, `alpha`, and `n_iter` respectively.\n",
        "\n",
        "The `graddes` function learns the parameters and then returns:\n",
        "- A list consisting of the costs of each iteration\n",
        "- An array of the parameters ($n\\times1$)\n",
        "\n",
        "#### Model training\n",
        "Let parameters be\n",
        "\n",
        "$\\theta=(\\theta_0, \\theta_1, ..., \\theta_{n-1})^T$,\n",
        "\n",
        "a hypothetical function (model) be\n",
        "\n",
        "$h(x)=\\theta_0+\\theta_1x_1+\\theta_2x_2+....+\\theta_{n-1}x_{n-1}$,\n",
        "\n",
        "an input be\n",
        "\n",
        "$\n",
        "  X = \\left(\n",
        "    \\begin{array}{cccc}\n",
        "      x_0^{(1)} &   x_1^{(1)} & ... &   x_{n-1}^{(1)}  \\\\\n",
        "      ... & ...& ...&...\\\\\n",
        "      x_0^{(m)} &  x_1^{(m)} & ... &   x_{n-1}^{(m)}  \\\\\n",
        "    \\end{array}\n",
        "  \\right)\n",
        "$\n",
        "\n",
        "(where $x_0^{(i)}=1$),\n",
        "\n",
        "and an output be\n",
        "\n",
        "$y=(y^{(1)}, y^{(2)}, ..., y^{(m)})^T$.\n",
        "\n",
        "Given the following cost function\n",
        "\n",
        "$J(\\theta)=\\frac{1}{2m}\\Sigma_{i=1}^m (h(x^{(i)})-y^{(i)})^2$,\n",
        "\n",
        "we update the parameter $\\theta_j$ corresponding the feature $x_j$ of $X$ using the gradient descent method as follows:\n",
        "\n",
        "$\\theta_j:= \\theta_j - \\alpha \\frac{\\partial J(\\theta)}{\\partial \\theta_j} =  \\theta_j - \\frac{\\alpha}{m} \\Sigma_{i=1}^m ((h(x^{(i)})-y^{(i)})x^{(i)}_j)$\n",
        "\n",
        "The entire parameters can also be updated at once as follows:\n",
        "\n",
        "$\\theta := \\theta - \\frac{\\alpha}{m}X^T(X\\theta-y)$\n",
        "\n",
        "When we have one feature as the input, the parameters are updated as follows:\n",
        "\n",
        "$\\theta_0 := \\theta_0 - \\alpha  \\Sigma_{i=1}^m (h(x^{(i)})-y^{(i)})/m$ \n",
        "\n",
        "(the parameter for a bias term)\n",
        "\n",
        "$\\theta_1 := \\theta_1 - \\alpha  \\Sigma_{i=1}^m ((h(x^{(i)})-y^{(i)})x^{(i)})/m$\n",
        "\n",
        "(the parameter for the input feature)\n",
        "\n",
        "The `graddes` function learns the parameters according to the following procedure.\n",
        "\n",
        "- Repeat the following procedure `n_iter` times    \n",
        "     - For all m data\n",
        "        - Calculate the output of the hypothesis function $h(x^{(i)})$ for $x^{(i)}$.  \n",
        "        - Calculate the error $h(x^{(i)})-y^{(i)}$ with $y^{(i)}$.\n",
        "     - Calculate the cost $J(\\theta)$ using the errors of all m data and append it to `costs`.\n",
        "     - Update `w` with the parameters $\\theta_j(j=0,. ,n-1)$ using the errors of all m data,\n",
        "          - `w[0,0]`$:=$(parameter $\\theta_0$ for $x_0$), \n",
        "          - ... ,\n",
        "          - `w[n-1,0]`$:=$(parameter $\\theta_{n-1}$ for $x_{n-1}$)\n",
        "\n",
        "\n",
        "Return `costs` and `w` after all the iterations have been completed.\n",
        " \n",
        "Complete the `graddes` function according to the above procedure.\n"
      ]
    },
    {
      "cell_type": "code",
      "metadata": {
        "id": "CODrz_-jCTMy",
        "exercise_id": "q3",
        "inlinetests": {
          "InlineTest_3": "\nassert 'graddes' in globals(), f\"Have you defined the function 'graddes'?\"\nassert str(graddes.__class__) == \"<class 'function'>\", f\"Have you defined a function 'graddes'? Found a {graddes.__class__} instead\"\ntry:\n    iris = pd.read_csv('iris.csv')\n    X = iris[['petal_length']].values\n    y = iris[['petal_width']].values\n    costs, w = graddes(np.hstack([np.ones((X.shape[0],1)), normalizer(X)]), normalizer(y), 0.05, 20)\n    assert int(costs[-1]*1000) == 102, f\"Your function 'graddes' with alpha:0.05 and n_iter:20 returns {costs[-1]}, while the expected answer is 0.102...\"\nexcept AssertionError as e:\n    raise e\nexcept Exception as e:\n    assert False, f\"Your function 'graddes' does not accept 'X_norm, y_norm' and raises an exception: {e}. Please try to pass `X_norm, y_norm` to your function.\""
        }
      },
      "source": [
        "def graddes(X, y, alpha, n_iter):  \n",
        "    m = X.shape[0] # データ数\n",
        "    n = X.shape[1] # 次元（特徴量+バイアス）数\n",
        "    \n",
        "    costs = [] # エポックごとのコスト関数の値を入れるリスト\n",
        "    w = np.zeros((n,1)) #  各特徴量に対するパラメータ（重み）の初期化\n",
        "    \n",
        "    for i in range(n_iter):\n",
        "        ...\n",
        "        \n",
        "    return costs, w"
      ],
      "execution_count": null,
      "outputs": []
    },
    {
      "cell_type": "markdown",
      "metadata": {
        "id": "zR6kWIGhCe3s"
      },
      "source": [
        "Once the `graddes` is complete, run the following cell. Your function should return the cost $\\simeq 0.102$."
      ]
    },
    {
      "cell_type": "code",
      "metadata": {
        "id": "asoim3WsCi1W"
      },
      "source": [
        "n_iter=20\n",
        "alpha=0.05\n",
        "costs, w = graddes(X_norm, y_norm, alpha, n_iter)\n",
        "print(costs[-1]) # 100エポックでのコスト関数の値\n",
        "print(w) # 推定されたパラメータ"
      ],
      "execution_count": null,
      "outputs": []
    },
    {
      "cell_type": "markdown",
      "metadata": {
        "id": "MS1ovSX0Crrj"
      },
      "source": [
        "The following plot shows the relationship between each epoch and its cost. The cost value decreases as the learning process progresses."
      ]
    },
    {
      "cell_type": "code",
      "metadata": {
        "id": "U7vrGqc2ED_N"
      },
      "source": [
        "plt.figure(figsize=(7,5))\n",
        "plt.ylabel('Cost')\n",
        "plt.xlabel('Iteration');\n",
        "plt.plot(range(1,n_iter+1),costs);"
      ],
      "execution_count": null,
      "outputs": []
    },
    {
      "cell_type": "markdown",
      "metadata": {
        "id": "ZKObG1IdEG8W"
      },
      "source": [
        "The following plot shows $y=\\theta_0+\\theta_1x$ with `petal_length` as input $x$ and `petal_length` as output $y$ using the learned parameters $\\theta_0, \\theta_1$ (learning rate 0.05 and the number of iterations 20).\n",
        "\n"
      ]
    },
    {
      "cell_type": "code",
      "metadata": {
        "id": "cwTrzHgNEKyF"
      },
      "source": [
        "# 回帰直線のプロット\n",
        "def lineplot(X,y,w):\n",
        "    plt.figure(figsize=(7,5))\n",
        "    plt.xlabel('petal_length')\n",
        "    plt.ylabel('petal_width')\n",
        "    plt.scatter(X[:,1],y[:,0],c='blue')\n",
        "    plt.plot(X[:,1], np.dot(X,w)[:,0], color='red');\n",
        "\n",
        "lineplot(X_norm, y_norm, w)"
      ],
      "execution_count": null,
      "outputs": []
    },
    {
      "cell_type": "markdown",
      "metadata": {
        "id": "fVpintSSEQ3n"
      },
      "source": [
        "The following cell visualizes the cost function $J(\\theta)$."
      ]
    },
    {
      "cell_type": "code",
      "metadata": {
        "id": "cXwS5ghEEVnN"
      },
      "source": [
        "from mpl_toolkits.mplot3d import Axes3D\n",
        "\n",
        "# コスト関数のプロット\n",
        "def costplot(X, y, w, cost):\n",
        "    w0, w1 = np.meshgrid(np.arange(-3.0, 3.0, 0.1), np.arange(-3.0, 3.0, 0.1))\n",
        "    J=np.zeros(w0.shape)\n",
        "    for i in range(w0.shape[0]):\n",
        "        for j in range(w0.shape[1]):\n",
        "            J[i,j] = np.sum((np.dot(X, np.array([[w0[i,j]],[w1[i,j]]]))-y)**2)/(2*X.shape[0])\n",
        "    fig = plt.figure(figsize=(10,7))\n",
        "    ax = fig.add_subplot(111, projection=\"3d\")\n",
        "    ax.set_xlabel(\"theta0\")\n",
        "    ax.set_ylabel(\"theta1\")\n",
        "    ax.scatter(w[0,0], w[1,0], cost, s=100, c='red')\n",
        "    ax.plot_wireframe(w0, w1, J);\n",
        "\n",
        "costplot(X_norm, y_norm, w, costs[-1] )"
      ],
      "execution_count": null,
      "outputs": []
    },
    {
      "cell_type": "markdown",
      "metadata": {
        "id": "xxNuU-FBEZ28"
      },
      "source": [
        "Change the learning rate $\\alpha$ and the number of iterations and observe the parameters and cost.\n",
        "\n",
        "Make sure that the cost has converged sufficiently and visualise the regression line using the learned parameters."
      ]
    },
    {
      "cell_type": "code",
      "metadata": {
        "id": "sn6pHtMJEdO-"
      },
      "source": [
        "n_iter = ... #エポック数\n",
        "alpha = ... #学習率\n",
        "costs, w = graddes(X_norm, y_norm, alpha, n_iter)\n",
        "print(costs[-1]) # コスト関数の値\n",
        "print(w) # 推定されたパラメータ\n",
        "\n",
        "# エポック数 vs. コスト関数\n",
        "plt.figure(figsize=(7,5))\n",
        "plt.ylabel('Cost')\n",
        "plt.xlabel('Iteration');\n",
        "plt.plot(range(1,n_iter+1),costs);\n",
        "\n",
        "# 回帰直線\n",
        "lineplot(X_norm, y_norm, w)\n",
        "\n",
        "# コスト関数\n",
        "costplot(X_norm, y_norm, w, costs[-1] )"
      ],
      "execution_count": null,
      "outputs": []
    },
    {
      "cell_type": "markdown",
      "metadata": {
        "id": "e6y_4lo1GNrF"
      },
      "source": [
        "## Q4 Normal equation\n",
        "The parameters of linear regression can be obtained analytically by solving the following normal equation for $X$ and $y$ (assuming $X^TX$ is full rank)\n",
        "\n",
        "$\\theta = (X^TX)^{-1}X^Ty$\n",
        "\n",
        "where the transpose $A^T$ and inverse $A^{-1}$ of matrix $A$ can be calculated using `NumPy` as follows.\n",
        "\n",
        "Transpose $A^T$\n",
        "```Python\n",
        "A.T\n",
        "```\n",
        "\n",
        "Inverse $A^{-1}$\n",
        "```Python\n",
        "np.linalg.inv(A)\n",
        "```\n",
        "\n",
        "Complete the `normal_equation` function that takes the input data (number of data ($m$)$\\times$ of dimensions ($n$)) and the output data ($m\\times1$) with the arguments `X` and `y` respectively and return the parameters $\\theta$ ($n\\times1$) (similar in format to `w` of parameters in Q3)."
      ]
    },
    {
      "cell_type": "code",
      "metadata": {
        "id": "5WneaefNGWea",
        "exercise_id": "q4",
        "inlinetests": {
          "InlineTest_4": "\nassert 'normal_equation' in globals(), f\"Have you defined the function 'normal_equation'?\"\nassert str(normal_equation.__class__) == \"<class 'function'>\", f\"Have you defined a function 'normal_equation'? Found a {normal_equation.__class__} instead\"\ntry:\n    iris = pd.read_csv('iris.csv')\n    X = iris[['petal_length']].values\n    y = iris[['petal_width']].values\n    w = normal_equation(np.hstack([np.ones((X.shape[0],1)), normalizer(X)]), normalizer(y))\n    assert np.round(w, 2)[0,0] == 0, f\"Your function 'normal_equation' returns {w[0,0]}, while the expected answer is about 0\"\n    assert np.round(w, 2)[1,0] == 0.96, f\"Your function 'normal_equation' returns {w[0,1]}, while the expected answer is about 0.96...\"\nexcept AssertionError as e:\n    raise e\nexcept Exception as e:\n    assert False, f\"Your function 'normal_equation' does not accept 'X_norm, y_norm' and raises an exception: {e}. Please try to pass `X_norm, y_norm` to your function.\""
        }
      },
      "source": [
        "def normal_equation(X, y):\n",
        "    return ..."
      ],
      "execution_count": null,
      "outputs": []
    },
    {
      "cell_type": "markdown",
      "metadata": {
        "id": "kHWUNGptGXQ4"
      },
      "source": [
        "Once the `normal_equation` function is complete, run the following cell. "
      ]
    },
    {
      "cell_type": "code",
      "metadata": {
        "id": "mWjV2evbGb3p"
      },
      "source": [
        "w=normal_equation(X_norm, y_norm)\n",
        "print(w)\n",
        "\n",
        "lineplot(X_norm, y_norm, w)"
      ],
      "execution_count": null,
      "outputs": []
    },
    {
      "cell_type": "markdown",
      "metadata": {
        "id": "_PjAQMkS59nH"
      },
      "source": [
        "## Code Testing\n"
      ]
    },
    {
      "cell_type": "code",
      "metadata": {
        "id": "BU6U7Kdb55gT"
      },
      "source": [
        "## Run this cell first\n",
        "!pip install prog_edu_assistant_tools\n",
        "import re\n",
        "import sys\n",
        "import jinja2\n",
        "from IPython.core import display\n",
        "from google.colab import _message as google_message\n",
        "from prog_edu_assistant_tools.magics import report, autotest, CaptureOutput\n",
        "from prog_edu_assistant_tools.check import Check"
      ],
      "execution_count": null,
      "outputs": []
    },
    {
      "cell_type": "markdown",
      "metadata": {
        "id": "F2at-xYq6QRZ"
      },
      "source": [
        "## Q1"
      ]
    },
    {
      "cell_type": "code",
      "metadata": {
        "id": "d-xmfaIS6Opz"
      },
      "source": [
        "# Run this cell to check your solution.\n",
        "# If you get an error 'Check not defined', make sure you have run all preceding\n",
        "# cells once (Runtime -> Run before)\n",
        "Check('q1')"
      ],
      "execution_count": null,
      "outputs": []
    },
    {
      "cell_type": "markdown",
      "metadata": {
        "id": "7IsdKOZc6Umc"
      },
      "source": [
        "## Q2"
      ]
    },
    {
      "cell_type": "code",
      "metadata": {
        "id": "674uMy0T6VfD"
      },
      "source": [
        "# Run this cell to check your solution.\n",
        "# If you get an error 'Check not defined', make sure you have run all preceding\n",
        "# cells once (Runtime -> Run before)\n",
        "Check('q2')"
      ],
      "execution_count": null,
      "outputs": []
    },
    {
      "cell_type": "markdown",
      "metadata": {
        "id": "3MDfrXUP6XPa"
      },
      "source": [
        "## Q3"
      ]
    },
    {
      "cell_type": "code",
      "metadata": {
        "id": "HN2q5cE06YJi"
      },
      "source": [
        "# Run this cell to check your solution.\n",
        "# If you get an error 'Check not defined', make sure you have run all preceding\n",
        "# cells once (Runtime -> Run before)\n",
        "Check('q3')"
      ],
      "execution_count": null,
      "outputs": []
    },
    {
      "cell_type": "markdown",
      "metadata": {
        "id": "TmI0KqMfJtQM"
      },
      "source": [
        "## Q4"
      ]
    },
    {
      "cell_type": "code",
      "metadata": {
        "id": "UG75NpGNJupV"
      },
      "source": [
        "# Run this cell to check your solution.\n",
        "# If you get an error 'Check not defined', make sure you have run all preceding\n",
        "# cells once (Runtime -> Run before)\n",
        "Check('q4')"
      ],
      "execution_count": null,
      "outputs": []
    },
    {
      "cell_type": "code",
      "metadata": {
        "id": "0wPhSyeGJw8G"
      },
      "source": [],
      "execution_count": null,
      "outputs": []
    }
  ]
}
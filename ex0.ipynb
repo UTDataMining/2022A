{
  "nbformat": 4,
  "nbformat_minor": 0,
  "metadata": {
    "colab": {
      "name": "ex0.ipynb",
      "provenance": [],
      "authorship_tag": "ABX9TyMYpCkUMU1pCE/5Gpi5AtX4",
      "include_colab_link": true
    },
    "kernelspec": {
      "name": "python3",
      "display_name": "Python 3"
    },
    "language_info": {
      "name": "python"
    }
  },
  "cells": [
    {
      "cell_type": "markdown",
      "metadata": {
        "id": "view-in-github",
        "colab_type": "text"
      },
      "source": [
        "<a href=\"https://colab.research.google.com/github/UTDataMining/2021A/blob/master/ex0.ipynb\" target=\"_parent\"><img src=\"https://colab.research.google.com/assets/colab-badge.svg\" alt=\"Open In Colab\"/></a>"
      ]
    },
    {
      "cell_type": "markdown",
      "metadata": {
        "id": "KWeVaiLyq87c"
      },
      "source": [
        "以下のセルで足し算を計算してみましょう。1+1は式で、単純なプログラム命令となっていて、Python処理系はこの命令を評価して足し算の結果を返しています。セルの式はCtrl+EnterもしくはShift+Enterで実行することができます。\n",
        "\n",
        "式の中の1は値、+は数学演算子です。"
      ]
    },
    {
      "cell_type": "code",
      "metadata": {
        "colab": {
          "base_uri": "https://localhost:8080/"
        },
        "id": "XUSvC80Tq24k",
        "outputId": "a03b1461-0b34-4487-dd0e-779561afc5f3"
      },
      "source": [
        "1+1"
      ],
      "execution_count": 1,
      "outputs": [
        {
          "output_type": "execute_result",
          "data": {
            "text/plain": [
              "2"
            ]
          },
          "metadata": {},
          "execution_count": 1
        }
      ]
    },
    {
      "cell_type": "markdown",
      "metadata": {
        "id": "X7L7kMyJrCnQ"
      },
      "source": [
        "数学演算子には他に以下のような演算子があります。これらの演算子を使って式を入力して実行し、その評価結果を確認してみてください。\n",
        "\n",
        "- **： 累乗\n",
        "- *： 掛け算\n",
        "- /： 割り算\n",
        "- //: 整数の割り算（小数点以下は切り捨て）\n",
        "- %: 割り算の余り\n",
        "- +: 足し算\n",
        "- -: 引き算"
      ]
    },
    {
      "cell_type": "code",
      "metadata": {
        "id": "xzM-FU32rDBX"
      },
      "source": [
        ""
      ],
      "execution_count": null,
      "outputs": []
    }
  ]
}
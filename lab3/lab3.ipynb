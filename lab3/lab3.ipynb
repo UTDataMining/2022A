{
  "nbformat": 4,
  "nbformat_minor": 0,
  "metadata": {
    "colab": {
      "name": "POS.ipynb",
      "provenance": [],
      "collapsed_sections": [],
      "authorship_tag": "ABX9TyN1VedhW3CSl+SxvGe4iZfS",
      "include_colab_link": true
    },
    "kernelspec": {
      "name": "python3",
      "display_name": "Python 3"
    },
    "language_info": {
      "name": "python"
    }
  },
  "cells": [
    {
      "cell_type": "markdown",
      "metadata": {
        "id": "view-in-github",
        "colab_type": "text"
      },
      "source": [
        "<a href=\"https://colab.research.google.com/github/UTDataMining/2021A/blob/master/ex4/POS.ipynb\" target=\"_parent\"><img src=\"https://colab.research.google.com/assets/colab-badge.svg\" alt=\"Open In Colab\"/></a>"
      ]
    },
    {
      "cell_type": "markdown",
      "metadata": {
        "id": "zK20TE8VAHiZ"
      },
      "source": [
        "[形態素解析器 Janome](https://mocobeta.github.io/janome/)\n"
      ]
    },
    {
      "cell_type": "code",
      "metadata": {
        "colab": {
          "base_uri": "https://localhost:8080/"
        },
        "id": "d6fImEgJACqG",
        "outputId": "89fa89fd-4e1f-4397-f90a-d6a9eac4be98"
      },
      "source": [
        "!pip install janome"
      ],
      "execution_count": 1,
      "outputs": [
        {
          "output_type": "stream",
          "name": "stdout",
          "text": [
            "Collecting janome\n",
            "  Downloading Janome-0.4.1-py2.py3-none-any.whl (19.7 MB)\n",
            "\u001b[K     |████████████████████████████████| 19.7 MB 1.3 MB/s \n",
            "\u001b[?25hInstalling collected packages: janome\n",
            "Successfully installed janome-0.4.1\n"
          ]
        }
      ]
    },
    {
      "cell_type": "code",
      "metadata": {
        "colab": {
          "base_uri": "https://localhost:8080/"
        },
        "id": "VZAn_d6MAF01",
        "outputId": "172cc468-2e20-4893-fd1f-d79104f88065"
      },
      "source": [
        "from janome.tokenizer import Tokenizer\n",
        "t = Tokenizer()\n",
        "text = 'データマイニングとは、統計学、パターン認識、人工知能等のデータ解析の技法を大量のデータに網羅的に適用することで知識を取り出す技術のことである。'\n",
        "for token in t.tokenize(text):\n",
        "    #print(token)\n",
        "    print(token.surface, token.part_of_speech)"
      ],
      "execution_count": 2,
      "outputs": [
        {
          "output_type": "stream",
          "name": "stdout",
          "text": [
            "データ 名詞,一般,*,*\n",
            "マイニング 名詞,サ変接続,*,*\n",
            "と 助詞,格助詞,引用,*\n",
            "は 助詞,係助詞,*,*\n",
            "、 記号,読点,*,*\n",
            "統計 名詞,サ変接続,*,*\n",
            "学 名詞,接尾,一般,*\n",
            "、 記号,読点,*,*\n",
            "パターン 名詞,一般,*,*\n",
            "認識 名詞,サ変接続,*,*\n",
            "、 記号,読点,*,*\n",
            "人工 名詞,一般,*,*\n",
            "知能 名詞,一般,*,*\n",
            "等 名詞,接尾,一般,*\n",
            "の 助詞,連体化,*,*\n",
            "データ 名詞,一般,*,*\n",
            "解析 名詞,サ変接続,*,*\n",
            "の 助詞,連体化,*,*\n",
            "技法 名詞,一般,*,*\n",
            "を 助詞,格助詞,一般,*\n",
            "大量 名詞,形容動詞語幹,*,*\n",
            "の 助詞,連体化,*,*\n",
            "データ 名詞,一般,*,*\n",
            "に 助詞,格助詞,一般,*\n",
            "網羅 名詞,サ変接続,*,*\n",
            "的 名詞,接尾,形容動詞語幹,*\n",
            "に 助詞,副詞化,*,*\n",
            "適用 名詞,サ変接続,*,*\n",
            "する 動詞,自立,*,*\n",
            "こと 名詞,非自立,一般,*\n",
            "で 助詞,格助詞,一般,*\n",
            "知識 名詞,一般,*,*\n",
            "を 助詞,格助詞,一般,*\n",
            "取り出す 動詞,自立,*,*\n",
            "技術 名詞,一般,*,*\n",
            "の 助詞,連体化,*,*\n",
            "こと 名詞,非自立,一般,*\n",
            "で 助動詞,*,*,*\n",
            "ある 助動詞,*,*,*\n",
            "。 記号,句点,*,*\n"
          ]
        }
      ]
    },
    {
      "cell_type": "code",
      "metadata": {
        "id": "BdW93AK6AaNM"
      },
      "source": [
        ""
      ],
      "execution_count": null,
      "outputs": []
    }
  ]
}
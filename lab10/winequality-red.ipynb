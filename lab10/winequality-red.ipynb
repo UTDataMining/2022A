{
  "cells": [
    {
      "cell_type": "markdown",
      "metadata": {
        "id": "D99V4Vg7XLrn"
      },
      "source": [
        "# データ分析の実践"
      ]
    },
    {
      "cell_type": "code",
      "execution_count": 1,
      "metadata": {
        "id": "g_b8Ar9_XLrq"
      },
      "outputs": [],
      "source": [
        "import pandas as pd\n",
        "import numpy as  np\n",
        "import matplotlib.pyplot  as plt\n",
        "%matplotlib inline\n",
        "import seaborn as sns\n",
        "from sklearn.preprocessing import StandardScaler\n",
        "from sklearn.preprocessing import PolynomialFeatures\n",
        "from sklearn.linear_model import LinearRegression\n",
        "from sklearn.linear_model import Ridge\n",
        "from sklearn.linear_model import Lasso\n",
        "from sklearn.pipeline import make_pipeline\n",
        "from sklearn.model_selection import train_test_split\n",
        "from sklearn.model_selection import cross_val_score\n",
        "from sklearn.model_selection import StratifiedKFold\n",
        "from sklearn.model_selection import GridSearchCV\n",
        "from sklearn.model_selection import learning_curve\n",
        "from sklearn.model_selection import validation_curve\n",
        "from sklearn.metrics import mean_squared_error"
      ]
    },
    {
      "cell_type": "code",
      "execution_count": null,
      "metadata": {
        "id": "UmP3RQniXLrr"
      },
      "outputs": [],
      "source": [
        "# Colaboratoryでは以下を実行して必要なファイルをダウンロード\n",
        "!wget https://raw.githubusercontent.com/UTDataMining/2022A/master/lab10/winequality-red.csv"
      ]
    },
    {
      "cell_type": "markdown",
      "metadata": {
        "id": "JjP444aPXLrs"
      },
      "source": [
        "## データセットの準備\n",
        "以下では、UCI Machine Learning Repositoryに公開されているワインの品質データセットを用いて、ワインの理化学検査結果に基づく特徴量からワインの品質を予測することを考えます。\n",
        "\n",
        "データセットには赤ワインのデータセットと白ワインのデータセットが含まれますが、以下では赤ワインのデータセットを使用します。\n",
        "\n",
        "[Wine Quality Data Set ](https://archive.ics.uci.edu/ml/datasets/wine+quality)\n",
        "\n",
        "各ワインのデータは以下の11種類の特徴量からなります。\n",
        "- 1 - fixed acidity \n",
        "- 2 - volatile acidity \n",
        "- 3 - citric acid \n",
        "- 4 - residual sugar \n",
        "- 5 - chlorides \n",
        "- 6 - free sulfur dioxide \n",
        "- 7 - total sulfur dioxide \n",
        "- 8 - density \n",
        "- 9 - pH \n",
        "- 10 - sulphates \n",
        "- 11 - alcohol \n",
        "\n",
        "また、各ワインには0から10の品質スコアが付与さています。11種類の特徴量を元にワインの品質スコアを回帰することでワインの品質を予測することを考えます。"
      ]
    },
    {
      "cell_type": "markdown",
      "metadata": {
        "id": "a16CYeeaXLrs"
      },
      "source": [
        "## データの観察\n",
        "まず、データセットを読み込みます。ここではデータセットのcsvファイルを`pandas`のデータフレームとして読み込みます。"
      ]
    },
    {
      "cell_type": "code",
      "execution_count": 4,
      "metadata": {
        "id": "dPHvjS57XLrs"
      },
      "outputs": [],
      "source": [
        "wine = pd.read_csv(\"winequality-red.csv\", sep=\";\")"
      ]
    },
    {
      "cell_type": "markdown",
      "metadata": {
        "id": "NqDWqB0GXLrt"
      },
      "source": [
        "読み込んだデータセットのデータフレームの情報を確認してみます。1599のデータを行、11の特徴量と1つの品質スコアを列とするデータフレームとなっています。欠損値は含まれていないようです。"
      ]
    },
    {
      "cell_type": "code",
      "execution_count": 5,
      "metadata": {
        "id": "Yiex-ZSZXLrt",
        "outputId": "9d6cea6d-3d49-4ba2-be1f-f9c13fd16963",
        "colab": {
          "base_uri": "https://localhost:8080/"
        }
      },
      "outputs": [
        {
          "output_type": "stream",
          "name": "stdout",
          "text": [
            "<class 'pandas.core.frame.DataFrame'>\n",
            "RangeIndex: 1599 entries, 0 to 1598\n",
            "Data columns (total 12 columns):\n",
            " #   Column                Non-Null Count  Dtype  \n",
            "---  ------                --------------  -----  \n",
            " 0   fixed acidity         1599 non-null   float64\n",
            " 1   volatile acidity      1599 non-null   float64\n",
            " 2   citric acid           1599 non-null   float64\n",
            " 3   residual sugar        1599 non-null   float64\n",
            " 4   chlorides             1599 non-null   float64\n",
            " 5   free sulfur dioxide   1599 non-null   float64\n",
            " 6   total sulfur dioxide  1599 non-null   float64\n",
            " 7   density               1599 non-null   float64\n",
            " 8   pH                    1599 non-null   float64\n",
            " 9   sulphates             1599 non-null   float64\n",
            " 10  alcohol               1599 non-null   float64\n",
            " 11  quality               1599 non-null   int64  \n",
            "dtypes: float64(11), int64(1)\n",
            "memory usage: 150.0 KB\n"
          ]
        }
      ],
      "source": [
        "wine.info()"
      ]
    },
    {
      "cell_type": "markdown",
      "metadata": {
        "id": "GEIUQSWxXLru"
      },
      "source": [
        "データセットを表示してみます。各特徴量と品質スコアは数値で表されていることがわかります。"
      ]
    },
    {
      "cell_type": "code",
      "execution_count": 6,
      "metadata": {
        "id": "VfCseEGaXLrv",
        "outputId": "739bfef4-2498-4858-fe2f-8744702eb985",
        "colab": {
          "base_uri": "https://localhost:8080/",
          "height": 285
        }
      },
      "outputs": [
        {
          "output_type": "execute_result",
          "data": {
            "text/plain": [
              "   fixed acidity  volatile acidity  citric acid  residual sugar  chlorides  \\\n",
              "0            7.4              0.70         0.00             1.9      0.076   \n",
              "1            7.8              0.88         0.00             2.6      0.098   \n",
              "2            7.8              0.76         0.04             2.3      0.092   \n",
              "3           11.2              0.28         0.56             1.9      0.075   \n",
              "4            7.4              0.70         0.00             1.9      0.076   \n",
              "\n",
              "   free sulfur dioxide  total sulfur dioxide  density    pH  sulphates  \\\n",
              "0                 11.0                  34.0   0.9978  3.51       0.56   \n",
              "1                 25.0                  67.0   0.9968  3.20       0.68   \n",
              "2                 15.0                  54.0   0.9970  3.26       0.65   \n",
              "3                 17.0                  60.0   0.9980  3.16       0.58   \n",
              "4                 11.0                  34.0   0.9978  3.51       0.56   \n",
              "\n",
              "   alcohol  quality  \n",
              "0      9.4        5  \n",
              "1      9.8        5  \n",
              "2      9.8        5  \n",
              "3      9.8        6  \n",
              "4      9.4        5  "
            ],
            "text/html": [
              "\n",
              "  <div id=\"df-74e6a75b-c021-4fcc-ac3c-f219da8f109b\">\n",
              "    <div class=\"colab-df-container\">\n",
              "      <div>\n",
              "<style scoped>\n",
              "    .dataframe tbody tr th:only-of-type {\n",
              "        vertical-align: middle;\n",
              "    }\n",
              "\n",
              "    .dataframe tbody tr th {\n",
              "        vertical-align: top;\n",
              "    }\n",
              "\n",
              "    .dataframe thead th {\n",
              "        text-align: right;\n",
              "    }\n",
              "</style>\n",
              "<table border=\"1\" class=\"dataframe\">\n",
              "  <thead>\n",
              "    <tr style=\"text-align: right;\">\n",
              "      <th></th>\n",
              "      <th>fixed acidity</th>\n",
              "      <th>volatile acidity</th>\n",
              "      <th>citric acid</th>\n",
              "      <th>residual sugar</th>\n",
              "      <th>chlorides</th>\n",
              "      <th>free sulfur dioxide</th>\n",
              "      <th>total sulfur dioxide</th>\n",
              "      <th>density</th>\n",
              "      <th>pH</th>\n",
              "      <th>sulphates</th>\n",
              "      <th>alcohol</th>\n",
              "      <th>quality</th>\n",
              "    </tr>\n",
              "  </thead>\n",
              "  <tbody>\n",
              "    <tr>\n",
              "      <th>0</th>\n",
              "      <td>7.4</td>\n",
              "      <td>0.70</td>\n",
              "      <td>0.00</td>\n",
              "      <td>1.9</td>\n",
              "      <td>0.076</td>\n",
              "      <td>11.0</td>\n",
              "      <td>34.0</td>\n",
              "      <td>0.9978</td>\n",
              "      <td>3.51</td>\n",
              "      <td>0.56</td>\n",
              "      <td>9.4</td>\n",
              "      <td>5</td>\n",
              "    </tr>\n",
              "    <tr>\n",
              "      <th>1</th>\n",
              "      <td>7.8</td>\n",
              "      <td>0.88</td>\n",
              "      <td>0.00</td>\n",
              "      <td>2.6</td>\n",
              "      <td>0.098</td>\n",
              "      <td>25.0</td>\n",
              "      <td>67.0</td>\n",
              "      <td>0.9968</td>\n",
              "      <td>3.20</td>\n",
              "      <td>0.68</td>\n",
              "      <td>9.8</td>\n",
              "      <td>5</td>\n",
              "    </tr>\n",
              "    <tr>\n",
              "      <th>2</th>\n",
              "      <td>7.8</td>\n",
              "      <td>0.76</td>\n",
              "      <td>0.04</td>\n",
              "      <td>2.3</td>\n",
              "      <td>0.092</td>\n",
              "      <td>15.0</td>\n",
              "      <td>54.0</td>\n",
              "      <td>0.9970</td>\n",
              "      <td>3.26</td>\n",
              "      <td>0.65</td>\n",
              "      <td>9.8</td>\n",
              "      <td>5</td>\n",
              "    </tr>\n",
              "    <tr>\n",
              "      <th>3</th>\n",
              "      <td>11.2</td>\n",
              "      <td>0.28</td>\n",
              "      <td>0.56</td>\n",
              "      <td>1.9</td>\n",
              "      <td>0.075</td>\n",
              "      <td>17.0</td>\n",
              "      <td>60.0</td>\n",
              "      <td>0.9980</td>\n",
              "      <td>3.16</td>\n",
              "      <td>0.58</td>\n",
              "      <td>9.8</td>\n",
              "      <td>6</td>\n",
              "    </tr>\n",
              "    <tr>\n",
              "      <th>4</th>\n",
              "      <td>7.4</td>\n",
              "      <td>0.70</td>\n",
              "      <td>0.00</td>\n",
              "      <td>1.9</td>\n",
              "      <td>0.076</td>\n",
              "      <td>11.0</td>\n",
              "      <td>34.0</td>\n",
              "      <td>0.9978</td>\n",
              "      <td>3.51</td>\n",
              "      <td>0.56</td>\n",
              "      <td>9.4</td>\n",
              "      <td>5</td>\n",
              "    </tr>\n",
              "  </tbody>\n",
              "</table>\n",
              "</div>\n",
              "      <button class=\"colab-df-convert\" onclick=\"convertToInteractive('df-74e6a75b-c021-4fcc-ac3c-f219da8f109b')\"\n",
              "              title=\"Convert this dataframe to an interactive table.\"\n",
              "              style=\"display:none;\">\n",
              "        \n",
              "  <svg xmlns=\"http://www.w3.org/2000/svg\" height=\"24px\"viewBox=\"0 0 24 24\"\n",
              "       width=\"24px\">\n",
              "    <path d=\"M0 0h24v24H0V0z\" fill=\"none\"/>\n",
              "    <path d=\"M18.56 5.44l.94 2.06.94-2.06 2.06-.94-2.06-.94-.94-2.06-.94 2.06-2.06.94zm-11 1L8.5 8.5l.94-2.06 2.06-.94-2.06-.94L8.5 2.5l-.94 2.06-2.06.94zm10 10l.94 2.06.94-2.06 2.06-.94-2.06-.94-.94-2.06-.94 2.06-2.06.94z\"/><path d=\"M17.41 7.96l-1.37-1.37c-.4-.4-.92-.59-1.43-.59-.52 0-1.04.2-1.43.59L10.3 9.45l-7.72 7.72c-.78.78-.78 2.05 0 2.83L4 21.41c.39.39.9.59 1.41.59.51 0 1.02-.2 1.41-.59l7.78-7.78 2.81-2.81c.8-.78.8-2.07 0-2.86zM5.41 20L4 18.59l7.72-7.72 1.47 1.35L5.41 20z\"/>\n",
              "  </svg>\n",
              "      </button>\n",
              "      \n",
              "  <style>\n",
              "    .colab-df-container {\n",
              "      display:flex;\n",
              "      flex-wrap:wrap;\n",
              "      gap: 12px;\n",
              "    }\n",
              "\n",
              "    .colab-df-convert {\n",
              "      background-color: #E8F0FE;\n",
              "      border: none;\n",
              "      border-radius: 50%;\n",
              "      cursor: pointer;\n",
              "      display: none;\n",
              "      fill: #1967D2;\n",
              "      height: 32px;\n",
              "      padding: 0 0 0 0;\n",
              "      width: 32px;\n",
              "    }\n",
              "\n",
              "    .colab-df-convert:hover {\n",
              "      background-color: #E2EBFA;\n",
              "      box-shadow: 0px 1px 2px rgba(60, 64, 67, 0.3), 0px 1px 3px 1px rgba(60, 64, 67, 0.15);\n",
              "      fill: #174EA6;\n",
              "    }\n",
              "\n",
              "    [theme=dark] .colab-df-convert {\n",
              "      background-color: #3B4455;\n",
              "      fill: #D2E3FC;\n",
              "    }\n",
              "\n",
              "    [theme=dark] .colab-df-convert:hover {\n",
              "      background-color: #434B5C;\n",
              "      box-shadow: 0px 1px 3px 1px rgba(0, 0, 0, 0.15);\n",
              "      filter: drop-shadow(0px 1px 2px rgba(0, 0, 0, 0.3));\n",
              "      fill: #FFFFFF;\n",
              "    }\n",
              "  </style>\n",
              "\n",
              "      <script>\n",
              "        const buttonEl =\n",
              "          document.querySelector('#df-74e6a75b-c021-4fcc-ac3c-f219da8f109b button.colab-df-convert');\n",
              "        buttonEl.style.display =\n",
              "          google.colab.kernel.accessAllowed ? 'block' : 'none';\n",
              "\n",
              "        async function convertToInteractive(key) {\n",
              "          const element = document.querySelector('#df-74e6a75b-c021-4fcc-ac3c-f219da8f109b');\n",
              "          const dataTable =\n",
              "            await google.colab.kernel.invokeFunction('convertToInteractive',\n",
              "                                                     [key], {});\n",
              "          if (!dataTable) return;\n",
              "\n",
              "          const docLinkHtml = 'Like what you see? Visit the ' +\n",
              "            '<a target=\"_blank\" href=https://colab.research.google.com/notebooks/data_table.ipynb>data table notebook</a>'\n",
              "            + ' to learn more about interactive tables.';\n",
              "          element.innerHTML = '';\n",
              "          dataTable['output_type'] = 'display_data';\n",
              "          await google.colab.output.renderOutput(dataTable, element);\n",
              "          const docLink = document.createElement('div');\n",
              "          docLink.innerHTML = docLinkHtml;\n",
              "          element.appendChild(docLink);\n",
              "        }\n",
              "      </script>\n",
              "    </div>\n",
              "  </div>\n",
              "  "
            ]
          },
          "metadata": {},
          "execution_count": 6
        }
      ],
      "source": [
        "wine.head()"
      ]
    },
    {
      "cell_type": "markdown",
      "metadata": {
        "id": "jV6whkPkXLrv"
      },
      "source": [
        "各特徴量と品質スコアの記述統計を観察してみます。"
      ]
    },
    {
      "cell_type": "code",
      "execution_count": 7,
      "metadata": {
        "id": "BdcqIEorXLrv",
        "outputId": "201541d9-c667-4e4b-e406-6fd01a6de7ae",
        "colab": {
          "base_uri": "https://localhost:8080/",
          "height": 382
        }
      },
      "outputs": [
        {
          "output_type": "execute_result",
          "data": {
            "text/plain": [
              "       fixed acidity  volatile acidity  citric acid  residual sugar  \\\n",
              "count    1599.000000       1599.000000  1599.000000     1599.000000   \n",
              "mean        8.319637          0.527821     0.270976        2.538806   \n",
              "std         1.741096          0.179060     0.194801        1.409928   \n",
              "min         4.600000          0.120000     0.000000        0.900000   \n",
              "25%         7.100000          0.390000     0.090000        1.900000   \n",
              "50%         7.900000          0.520000     0.260000        2.200000   \n",
              "75%         9.200000          0.640000     0.420000        2.600000   \n",
              "max        15.900000          1.580000     1.000000       15.500000   \n",
              "\n",
              "         chlorides  free sulfur dioxide  total sulfur dioxide      density  \\\n",
              "count  1599.000000          1599.000000           1599.000000  1599.000000   \n",
              "mean      0.087467            15.874922             46.467792     0.996747   \n",
              "std       0.047065            10.460157             32.895324     0.001887   \n",
              "min       0.012000             1.000000              6.000000     0.990070   \n",
              "25%       0.070000             7.000000             22.000000     0.995600   \n",
              "50%       0.079000            14.000000             38.000000     0.996750   \n",
              "75%       0.090000            21.000000             62.000000     0.997835   \n",
              "max       0.611000            72.000000            289.000000     1.003690   \n",
              "\n",
              "                pH    sulphates      alcohol      quality  \n",
              "count  1599.000000  1599.000000  1599.000000  1599.000000  \n",
              "mean      3.311113     0.658149    10.422983     5.636023  \n",
              "std       0.154386     0.169507     1.065668     0.807569  \n",
              "min       2.740000     0.330000     8.400000     3.000000  \n",
              "25%       3.210000     0.550000     9.500000     5.000000  \n",
              "50%       3.310000     0.620000    10.200000     6.000000  \n",
              "75%       3.400000     0.730000    11.100000     6.000000  \n",
              "max       4.010000     2.000000    14.900000     8.000000  "
            ],
            "text/html": [
              "\n",
              "  <div id=\"df-df3dc8dd-2826-46bb-8a7d-744e1d9e5326\">\n",
              "    <div class=\"colab-df-container\">\n",
              "      <div>\n",
              "<style scoped>\n",
              "    .dataframe tbody tr th:only-of-type {\n",
              "        vertical-align: middle;\n",
              "    }\n",
              "\n",
              "    .dataframe tbody tr th {\n",
              "        vertical-align: top;\n",
              "    }\n",
              "\n",
              "    .dataframe thead th {\n",
              "        text-align: right;\n",
              "    }\n",
              "</style>\n",
              "<table border=\"1\" class=\"dataframe\">\n",
              "  <thead>\n",
              "    <tr style=\"text-align: right;\">\n",
              "      <th></th>\n",
              "      <th>fixed acidity</th>\n",
              "      <th>volatile acidity</th>\n",
              "      <th>citric acid</th>\n",
              "      <th>residual sugar</th>\n",
              "      <th>chlorides</th>\n",
              "      <th>free sulfur dioxide</th>\n",
              "      <th>total sulfur dioxide</th>\n",
              "      <th>density</th>\n",
              "      <th>pH</th>\n",
              "      <th>sulphates</th>\n",
              "      <th>alcohol</th>\n",
              "      <th>quality</th>\n",
              "    </tr>\n",
              "  </thead>\n",
              "  <tbody>\n",
              "    <tr>\n",
              "      <th>count</th>\n",
              "      <td>1599.000000</td>\n",
              "      <td>1599.000000</td>\n",
              "      <td>1599.000000</td>\n",
              "      <td>1599.000000</td>\n",
              "      <td>1599.000000</td>\n",
              "      <td>1599.000000</td>\n",
              "      <td>1599.000000</td>\n",
              "      <td>1599.000000</td>\n",
              "      <td>1599.000000</td>\n",
              "      <td>1599.000000</td>\n",
              "      <td>1599.000000</td>\n",
              "      <td>1599.000000</td>\n",
              "    </tr>\n",
              "    <tr>\n",
              "      <th>mean</th>\n",
              "      <td>8.319637</td>\n",
              "      <td>0.527821</td>\n",
              "      <td>0.270976</td>\n",
              "      <td>2.538806</td>\n",
              "      <td>0.087467</td>\n",
              "      <td>15.874922</td>\n",
              "      <td>46.467792</td>\n",
              "      <td>0.996747</td>\n",
              "      <td>3.311113</td>\n",
              "      <td>0.658149</td>\n",
              "      <td>10.422983</td>\n",
              "      <td>5.636023</td>\n",
              "    </tr>\n",
              "    <tr>\n",
              "      <th>std</th>\n",
              "      <td>1.741096</td>\n",
              "      <td>0.179060</td>\n",
              "      <td>0.194801</td>\n",
              "      <td>1.409928</td>\n",
              "      <td>0.047065</td>\n",
              "      <td>10.460157</td>\n",
              "      <td>32.895324</td>\n",
              "      <td>0.001887</td>\n",
              "      <td>0.154386</td>\n",
              "      <td>0.169507</td>\n",
              "      <td>1.065668</td>\n",
              "      <td>0.807569</td>\n",
              "    </tr>\n",
              "    <tr>\n",
              "      <th>min</th>\n",
              "      <td>4.600000</td>\n",
              "      <td>0.120000</td>\n",
              "      <td>0.000000</td>\n",
              "      <td>0.900000</td>\n",
              "      <td>0.012000</td>\n",
              "      <td>1.000000</td>\n",
              "      <td>6.000000</td>\n",
              "      <td>0.990070</td>\n",
              "      <td>2.740000</td>\n",
              "      <td>0.330000</td>\n",
              "      <td>8.400000</td>\n",
              "      <td>3.000000</td>\n",
              "    </tr>\n",
              "    <tr>\n",
              "      <th>25%</th>\n",
              "      <td>7.100000</td>\n",
              "      <td>0.390000</td>\n",
              "      <td>0.090000</td>\n",
              "      <td>1.900000</td>\n",
              "      <td>0.070000</td>\n",
              "      <td>7.000000</td>\n",
              "      <td>22.000000</td>\n",
              "      <td>0.995600</td>\n",
              "      <td>3.210000</td>\n",
              "      <td>0.550000</td>\n",
              "      <td>9.500000</td>\n",
              "      <td>5.000000</td>\n",
              "    </tr>\n",
              "    <tr>\n",
              "      <th>50%</th>\n",
              "      <td>7.900000</td>\n",
              "      <td>0.520000</td>\n",
              "      <td>0.260000</td>\n",
              "      <td>2.200000</td>\n",
              "      <td>0.079000</td>\n",
              "      <td>14.000000</td>\n",
              "      <td>38.000000</td>\n",
              "      <td>0.996750</td>\n",
              "      <td>3.310000</td>\n",
              "      <td>0.620000</td>\n",
              "      <td>10.200000</td>\n",
              "      <td>6.000000</td>\n",
              "    </tr>\n",
              "    <tr>\n",
              "      <th>75%</th>\n",
              "      <td>9.200000</td>\n",
              "      <td>0.640000</td>\n",
              "      <td>0.420000</td>\n",
              "      <td>2.600000</td>\n",
              "      <td>0.090000</td>\n",
              "      <td>21.000000</td>\n",
              "      <td>62.000000</td>\n",
              "      <td>0.997835</td>\n",
              "      <td>3.400000</td>\n",
              "      <td>0.730000</td>\n",
              "      <td>11.100000</td>\n",
              "      <td>6.000000</td>\n",
              "    </tr>\n",
              "    <tr>\n",
              "      <th>max</th>\n",
              "      <td>15.900000</td>\n",
              "      <td>1.580000</td>\n",
              "      <td>1.000000</td>\n",
              "      <td>15.500000</td>\n",
              "      <td>0.611000</td>\n",
              "      <td>72.000000</td>\n",
              "      <td>289.000000</td>\n",
              "      <td>1.003690</td>\n",
              "      <td>4.010000</td>\n",
              "      <td>2.000000</td>\n",
              "      <td>14.900000</td>\n",
              "      <td>8.000000</td>\n",
              "    </tr>\n",
              "  </tbody>\n",
              "</table>\n",
              "</div>\n",
              "      <button class=\"colab-df-convert\" onclick=\"convertToInteractive('df-df3dc8dd-2826-46bb-8a7d-744e1d9e5326')\"\n",
              "              title=\"Convert this dataframe to an interactive table.\"\n",
              "              style=\"display:none;\">\n",
              "        \n",
              "  <svg xmlns=\"http://www.w3.org/2000/svg\" height=\"24px\"viewBox=\"0 0 24 24\"\n",
              "       width=\"24px\">\n",
              "    <path d=\"M0 0h24v24H0V0z\" fill=\"none\"/>\n",
              "    <path d=\"M18.56 5.44l.94 2.06.94-2.06 2.06-.94-2.06-.94-.94-2.06-.94 2.06-2.06.94zm-11 1L8.5 8.5l.94-2.06 2.06-.94-2.06-.94L8.5 2.5l-.94 2.06-2.06.94zm10 10l.94 2.06.94-2.06 2.06-.94-2.06-.94-.94-2.06-.94 2.06-2.06.94z\"/><path d=\"M17.41 7.96l-1.37-1.37c-.4-.4-.92-.59-1.43-.59-.52 0-1.04.2-1.43.59L10.3 9.45l-7.72 7.72c-.78.78-.78 2.05 0 2.83L4 21.41c.39.39.9.59 1.41.59.51 0 1.02-.2 1.41-.59l7.78-7.78 2.81-2.81c.8-.78.8-2.07 0-2.86zM5.41 20L4 18.59l7.72-7.72 1.47 1.35L5.41 20z\"/>\n",
              "  </svg>\n",
              "      </button>\n",
              "      \n",
              "  <style>\n",
              "    .colab-df-container {\n",
              "      display:flex;\n",
              "      flex-wrap:wrap;\n",
              "      gap: 12px;\n",
              "    }\n",
              "\n",
              "    .colab-df-convert {\n",
              "      background-color: #E8F0FE;\n",
              "      border: none;\n",
              "      border-radius: 50%;\n",
              "      cursor: pointer;\n",
              "      display: none;\n",
              "      fill: #1967D2;\n",
              "      height: 32px;\n",
              "      padding: 0 0 0 0;\n",
              "      width: 32px;\n",
              "    }\n",
              "\n",
              "    .colab-df-convert:hover {\n",
              "      background-color: #E2EBFA;\n",
              "      box-shadow: 0px 1px 2px rgba(60, 64, 67, 0.3), 0px 1px 3px 1px rgba(60, 64, 67, 0.15);\n",
              "      fill: #174EA6;\n",
              "    }\n",
              "\n",
              "    [theme=dark] .colab-df-convert {\n",
              "      background-color: #3B4455;\n",
              "      fill: #D2E3FC;\n",
              "    }\n",
              "\n",
              "    [theme=dark] .colab-df-convert:hover {\n",
              "      background-color: #434B5C;\n",
              "      box-shadow: 0px 1px 3px 1px rgba(0, 0, 0, 0.15);\n",
              "      filter: drop-shadow(0px 1px 2px rgba(0, 0, 0, 0.3));\n",
              "      fill: #FFFFFF;\n",
              "    }\n",
              "  </style>\n",
              "\n",
              "      <script>\n",
              "        const buttonEl =\n",
              "          document.querySelector('#df-df3dc8dd-2826-46bb-8a7d-744e1d9e5326 button.colab-df-convert');\n",
              "        buttonEl.style.display =\n",
              "          google.colab.kernel.accessAllowed ? 'block' : 'none';\n",
              "\n",
              "        async function convertToInteractive(key) {\n",
              "          const element = document.querySelector('#df-df3dc8dd-2826-46bb-8a7d-744e1d9e5326');\n",
              "          const dataTable =\n",
              "            await google.colab.kernel.invokeFunction('convertToInteractive',\n",
              "                                                     [key], {});\n",
              "          if (!dataTable) return;\n",
              "\n",
              "          const docLinkHtml = 'Like what you see? Visit the ' +\n",
              "            '<a target=\"_blank\" href=https://colab.research.google.com/notebooks/data_table.ipynb>data table notebook</a>'\n",
              "            + ' to learn more about interactive tables.';\n",
              "          element.innerHTML = '';\n",
              "          dataTable['output_type'] = 'display_data';\n",
              "          await google.colab.output.renderOutput(dataTable, element);\n",
              "          const docLink = document.createElement('div');\n",
              "          docLink.innerHTML = docLinkHtml;\n",
              "          element.appendChild(docLink);\n",
              "        }\n",
              "      </script>\n",
              "    </div>\n",
              "  </div>\n",
              "  "
            ]
          },
          "metadata": {},
          "execution_count": 7
        }
      ],
      "source": [
        "wine.describe()"
      ]
    },
    {
      "cell_type": "markdown",
      "metadata": {
        "id": "uK-L8J6iXLrv"
      },
      "source": [
        "`pandas`のデータフレームの可視化関数を使って各特徴量ごと値の分布を可視化してみます。\n",
        "\n",
        "それぞれの特徴量はどのような分布になっているでしょうか。また、外れ値や特徴量の変換処理は必要でしょうか（以下では外れ値の処理を行わずに進めることとします）。"
      ]
    },
    {
      "cell_type": "code",
      "execution_count": 8,
      "metadata": {
        "id": "w1NyuNqcXLrw",
        "outputId": "295280b7-69d0-4f29-c0be-f525f1f35fc7",
        "colab": {
          "base_uri": "https://localhost:8080/",
          "height": 814
        }
      },
      "outputs": [
        {
          "output_type": "display_data",
          "data": {
            "text/plain": [
              "<Figure size 1440x1440 with 12 Axes>"
            ],
            "image/png": "[encoded data removed]"
          },
          "metadata": {
            "needs_background": "light"
          }
        }
      ],
      "source": [
        "wine.hist(bins=50, figsize=(20,20));"
      ]
    },
    {
      "cell_type": "markdown",
      "metadata": {
        "id": "L6sJ2QEIXLrw"
      },
      "source": [
        "品質スコアごとのデータ数を数えると多くのデータの品質は5または6となっています。"
      ]
    },
    {
      "cell_type": "code",
      "execution_count": 9,
      "metadata": {
        "id": "FPVePhQ5XLrw",
        "outputId": "86134068-8a53-4555-d1b8-2352c524c7bb",
        "colab": {
          "base_uri": "https://localhost:8080/"
        }
      },
      "outputs": [
        {
          "output_type": "execute_result",
          "data": {
            "text/plain": [
              "5    681\n",
              "6    638\n",
              "7    199\n",
              "4     53\n",
              "8     18\n",
              "3     10\n",
              "Name: quality, dtype: int64"
            ]
          },
          "metadata": {},
          "execution_count": 9
        }
      ],
      "source": [
        "wine['quality'].value_counts()"
      ]
    },
    {
      "cell_type": "markdown",
      "metadata": {
        "id": "tbmBNR1jXLrx"
      },
      "source": [
        "`pandas`のデータフレームの`corr`メソッドを用いて、特徴量間および各特徴量と品質スコアの相関を計算してみます。 お互いに相関がある特徴量、品質スコアと相関がある特徴量はあるでしょうか。"
      ]
    },
    {
      "cell_type": "code",
      "execution_count": 10,
      "metadata": {
        "id": "E6l0jtq-XLrx",
        "outputId": "58eb07e2-eace-4c7c-f3f3-3693948db486",
        "colab": {
          "base_uri": "https://localhost:8080/",
          "height": 663
        }
      },
      "outputs": [
        {
          "output_type": "execute_result",
          "data": {
            "text/plain": [
              "                      fixed acidity  volatile acidity  citric acid  \\\n",
              "fixed acidity              1.000000         -0.256131     0.671703   \n",
              "volatile acidity          -0.256131          1.000000    -0.552496   \n",
              "citric acid                0.671703         -0.552496     1.000000   \n",
              "residual sugar             0.114777          0.001918     0.143577   \n",
              "chlorides                  0.093705          0.061298     0.203823   \n",
              "free sulfur dioxide       -0.153794         -0.010504    -0.060978   \n",
              "total sulfur dioxide      -0.113181          0.076470     0.035533   \n",
              "density                    0.668047          0.022026     0.364947   \n",
              "pH                        -0.682978          0.234937    -0.541904   \n",
              "sulphates                  0.183006         -0.260987     0.312770   \n",
              "alcohol                   -0.061668         -0.202288     0.109903   \n",
              "quality                    0.124052         -0.390558     0.226373   \n",
              "\n",
              "                      residual sugar  chlorides  free sulfur dioxide  \\\n",
              "fixed acidity               0.114777   0.093705            -0.153794   \n",
              "volatile acidity            0.001918   0.061298            -0.010504   \n",
              "citric acid                 0.143577   0.203823            -0.060978   \n",
              "residual sugar              1.000000   0.055610             0.187049   \n",
              "chlorides                   0.055610   1.000000             0.005562   \n",
              "free sulfur dioxide         0.187049   0.005562             1.000000   \n",
              "total sulfur dioxide        0.203028   0.047400             0.667666   \n",
              "density                     0.355283   0.200632            -0.021946   \n",
              "pH                         -0.085652  -0.265026             0.070377   \n",
              "sulphates                   0.005527   0.371260             0.051658   \n",
              "alcohol                     0.042075  -0.221141            -0.069408   \n",
              "quality                     0.013732  -0.128907            -0.050656   \n",
              "\n",
              "                      total sulfur dioxide   density        pH  sulphates  \\\n",
              "fixed acidity                    -0.113181  0.668047 -0.682978   0.183006   \n",
              "volatile acidity                  0.076470  0.022026  0.234937  -0.260987   \n",
              "citric acid                       0.035533  0.364947 -0.541904   0.312770   \n",
              "residual sugar                    0.203028  0.355283 -0.085652   0.005527   \n",
              "chlorides                         0.047400  0.200632 -0.265026   0.371260   \n",
              "free sulfur dioxide               0.667666 -0.021946  0.070377   0.051658   \n",
              "total sulfur dioxide              1.000000  0.071269 -0.066495   0.042947   \n",
              "density                           0.071269  1.000000 -0.341699   0.148506   \n",
              "pH                               -0.066495 -0.341699  1.000000  -0.196648   \n",
              "sulphates                         0.042947  0.148506 -0.196648   1.000000   \n",
              "alcohol                          -0.205654 -0.496180  0.205633   0.093595   \n",
              "quality                          -0.185100 -0.174919 -0.057731   0.251397   \n",
              "\n",
              "                       alcohol   quality  \n",
              "fixed acidity        -0.061668  0.124052  \n",
              "volatile acidity     -0.202288 -0.390558  \n",
              "citric acid           0.109903  0.226373  \n",
              "residual sugar        0.042075  0.013732  \n",
              "chlorides            -0.221141 -0.128907  \n",
              "free sulfur dioxide  -0.069408 -0.050656  \n",
              "total sulfur dioxide -0.205654 -0.185100  \n",
              "density              -0.496180 -0.174919  \n",
              "pH                    0.205633 -0.057731  \n",
              "sulphates             0.093595  0.251397  \n",
              "alcohol               1.000000  0.476166  \n",
              "quality               0.476166  1.000000  "
            ],
            "text/html": [
              "\n",
              "  <div id=\"df-d67134a5-c4b1-4a36-9984-596d39f67a42\">\n",
              "    <div class=\"colab-df-container\">\n",
              "      <div>\n",
              "<style scoped>\n",
              "    .dataframe tbody tr th:only-of-type {\n",
              "        vertical-align: middle;\n",
              "    }\n",
              "\n",
              "    .dataframe tbody tr th {\n",
              "        vertical-align: top;\n",
              "    }\n",
              "\n",
              "    .dataframe thead th {\n",
              "        text-align: right;\n",
              "    }\n",
              "</style>\n",
              "<table border=\"1\" class=\"dataframe\">\n",
              "  <thead>\n",
              "    <tr style=\"text-align: right;\">\n",
              "      <th></th>\n",
              "      <th>fixed acidity</th>\n",
              "      <th>volatile acidity</th>\n",
              "      <th>citric acid</th>\n",
              "      <th>residual sugar</th>\n",
              "      <th>chlorides</th>\n",
              "      <th>free sulfur dioxide</th>\n",
              "      <th>total sulfur dioxide</th>\n",
              "      <th>density</th>\n",
              "      <th>pH</th>\n",
              "      <th>sulphates</th>\n",
              "      <th>alcohol</th>\n",
              "      <th>quality</th>\n",
              "    </tr>\n",
              "  </thead>\n",
              "  <tbody>\n",
              "    <tr>\n",
              "      <th>fixed acidity</th>\n",
              "      <td>1.000000</td>\n",
              "      <td>-0.256131</td>\n",
              "      <td>0.671703</td>\n",
              "      <td>0.114777</td>\n",
              "      <td>0.093705</td>\n",
              "      <td>-0.153794</td>\n",
              "      <td>-0.113181</td>\n",
              "      <td>0.668047</td>\n",
              "      <td>-0.682978</td>\n",
              "      <td>0.183006</td>\n",
              "      <td>-0.061668</td>\n",
              "      <td>0.124052</td>\n",
              "    </tr>\n",
              "    <tr>\n",
              "      <th>volatile acidity</th>\n",
              "      <td>-0.256131</td>\n",
              "      <td>1.000000</td>\n",
              "      <td>-0.552496</td>\n",
              "      <td>0.001918</td>\n",
              "      <td>0.061298</td>\n",
              "      <td>-0.010504</td>\n",
              "      <td>0.076470</td>\n",
              "      <td>0.022026</td>\n",
              "      <td>0.234937</td>\n",
              "      <td>-0.260987</td>\n",
              "      <td>-0.202288</td>\n",
              "      <td>-0.390558</td>\n",
              "    </tr>\n",
              "    <tr>\n",
              "      <th>citric acid</th>\n",
              "      <td>0.671703</td>\n",
              "      <td>-0.552496</td>\n",
              "      <td>1.000000</td>\n",
              "      <td>0.143577</td>\n",
              "      <td>0.203823</td>\n",
              "      <td>-0.060978</td>\n",
              "      <td>0.035533</td>\n",
              "      <td>0.364947</td>\n",
              "      <td>-0.541904</td>\n",
              "      <td>0.312770</td>\n",
              "      <td>0.109903</td>\n",
              "      <td>0.226373</td>\n",
              "    </tr>\n",
              "    <tr>\n",
              "      <th>residual sugar</th>\n",
              "      <td>0.114777</td>\n",
              "      <td>0.001918</td>\n",
              "      <td>0.143577</td>\n",
              "      <td>1.000000</td>\n",
              "      <td>0.055610</td>\n",
              "      <td>0.187049</td>\n",
              "      <td>0.203028</td>\n",
              "      <td>0.355283</td>\n",
              "      <td>-0.085652</td>\n",
              "      <td>0.005527</td>\n",
              "      <td>0.042075</td>\n",
              "      <td>0.013732</td>\n",
              "    </tr>\n",
              "    <tr>\n",
              "      <th>chlorides</th>\n",
              "      <td>0.093705</td>\n",
              "      <td>0.061298</td>\n",
              "      <td>0.203823</td>\n",
              "      <td>0.055610</td>\n",
              "      <td>1.000000</td>\n",
              "      <td>0.005562</td>\n",
              "      <td>0.047400</td>\n",
              "      <td>0.200632</td>\n",
              "      <td>-0.265026</td>\n",
              "      <td>0.371260</td>\n",
              "      <td>-0.221141</td>\n",
              "      <td>-0.128907</td>\n",
              "    </tr>\n",
              "    <tr>\n",
              "      <th>free sulfur dioxide</th>\n",
              "      <td>-0.153794</td>\n",
              "      <td>-0.010504</td>\n",
              "      <td>-0.060978</td>\n",
              "      <td>0.187049</td>\n",
              "      <td>0.005562</td>\n",
              "      <td>1.000000</td>\n",
              "      <td>0.667666</td>\n",
              "      <td>-0.021946</td>\n",
              "      <td>0.070377</td>\n",
              "      <td>0.051658</td>\n",
              "      <td>-0.069408</td>\n",
              "      <td>-0.050656</td>\n",
              "    </tr>\n",
              "    <tr>\n",
              "      <th>total sulfur dioxide</th>\n",
              "      <td>-0.113181</td>\n",
              "      <td>0.076470</td>\n",
              "      <td>0.035533</td>\n",
              "      <td>0.203028</td>\n",
              "      <td>0.047400</td>\n",
              "      <td>0.667666</td>\n",
              "      <td>1.000000</td>\n",
              "      <td>0.071269</td>\n",
              "      <td>-0.066495</td>\n",
              "      <td>0.042947</td>\n",
              "      <td>-0.205654</td>\n",
              "      <td>-0.185100</td>\n",
              "    </tr>\n",
              "    <tr>\n",
              "      <th>density</th>\n",
              "      <td>0.668047</td>\n",
              "      <td>0.022026</td>\n",
              "      <td>0.364947</td>\n",
              "      <td>0.355283</td>\n",
              "      <td>0.200632</td>\n",
              "      <td>-0.021946</td>\n",
              "      <td>0.071269</td>\n",
              "      <td>1.000000</td>\n",
              "      <td>-0.341699</td>\n",
              "      <td>0.148506</td>\n",
              "      <td>-0.496180</td>\n",
              "      <td>-0.174919</td>\n",
              "    </tr>\n",
              "    <tr>\n",
              "      <th>pH</th>\n",
              "      <td>-0.682978</td>\n",
              "      <td>0.234937</td>\n",
              "      <td>-0.541904</td>\n",
              "      <td>-0.085652</td>\n",
              "      <td>-0.265026</td>\n",
              "      <td>0.070377</td>\n",
              "      <td>-0.066495</td>\n",
              "      <td>-0.341699</td>\n",
              "      <td>1.000000</td>\n",
              "      <td>-0.196648</td>\n",
              "      <td>0.205633</td>\n",
              "      <td>-0.057731</td>\n",
              "    </tr>\n",
              "    <tr>\n",
              "      <th>sulphates</th>\n",
              "      <td>0.183006</td>\n",
              "      <td>-0.260987</td>\n",
              "      <td>0.312770</td>\n",
              "      <td>0.005527</td>\n",
              "      <td>0.371260</td>\n",
              "      <td>0.051658</td>\n",
              "      <td>0.042947</td>\n",
              "      <td>0.148506</td>\n",
              "      <td>-0.196648</td>\n",
              "      <td>1.000000</td>\n",
              "      <td>0.093595</td>\n",
              "      <td>0.251397</td>\n",
              "    </tr>\n",
              "    <tr>\n",
              "      <th>alcohol</th>\n",
              "      <td>-0.061668</td>\n",
              "      <td>-0.202288</td>\n",
              "      <td>0.109903</td>\n",
              "      <td>0.042075</td>\n",
              "      <td>-0.221141</td>\n",
              "      <td>-0.069408</td>\n",
              "      <td>-0.205654</td>\n",
              "      <td>-0.496180</td>\n",
              "      <td>0.205633</td>\n",
              "      <td>0.093595</td>\n",
              "      <td>1.000000</td>\n",
              "      <td>0.476166</td>\n",
              "    </tr>\n",
              "    <tr>\n",
              "      <th>quality</th>\n",
              "      <td>0.124052</td>\n",
              "      <td>-0.390558</td>\n",
              "      <td>0.226373</td>\n",
              "      <td>0.013732</td>\n",
              "      <td>-0.128907</td>\n",
              "      <td>-0.050656</td>\n",
              "      <td>-0.185100</td>\n",
              "      <td>-0.174919</td>\n",
              "      <td>-0.057731</td>\n",
              "      <td>0.251397</td>\n",
              "      <td>0.476166</td>\n",
              "      <td>1.000000</td>\n",
              "    </tr>\n",
              "  </tbody>\n",
              "</table>\n",
              "</div>\n",
              "      <button class=\"colab-df-convert\" onclick=\"convertToInteractive('df-d67134a5-c4b1-4a36-9984-596d39f67a42')\"\n",
              "              title=\"Convert this dataframe to an interactive table.\"\n",
              "              style=\"display:none;\">\n",
              "        \n",
              "  <svg xmlns=\"http://www.w3.org/2000/svg\" height=\"24px\"viewBox=\"0 0 24 24\"\n",
              "       width=\"24px\">\n",
              "    <path d=\"M0 0h24v24H0V0z\" fill=\"none\"/>\n",
              "    <path d=\"M18.56 5.44l.94 2.06.94-2.06 2.06-.94-2.06-.94-.94-2.06-.94 2.06-2.06.94zm-11 1L8.5 8.5l.94-2.06 2.06-.94-2.06-.94L8.5 2.5l-.94 2.06-2.06.94zm10 10l.94 2.06.94-2.06 2.06-.94-2.06-.94-.94-2.06-.94 2.06-2.06.94z\"/><path d=\"M17.41 7.96l-1.37-1.37c-.4-.4-.92-.59-1.43-.59-.52 0-1.04.2-1.43.59L10.3 9.45l-7.72 7.72c-.78.78-.78 2.05 0 2.83L4 21.41c.39.39.9.59 1.41.59.51 0 1.02-.2 1.41-.59l7.78-7.78 2.81-2.81c.8-.78.8-2.07 0-2.86zM5.41 20L4 18.59l7.72-7.72 1.47 1.35L5.41 20z\"/>\n",
              "  </svg>\n",
              "      </button>\n",
              "      \n",
              "  <style>\n",
              "    .colab-df-container {\n",
              "      display:flex;\n",
              "      flex-wrap:wrap;\n",
              "      gap: 12px;\n",
              "    }\n",
              "\n",
              "    .colab-df-convert {\n",
              "      background-color: #E8F0FE;\n",
              "      border: none;\n",
              "      border-radius: 50%;\n",
              "      cursor: pointer;\n",
              "      display: none;\n",
              "      fill: #1967D2;\n",
              "      height: 32px;\n",
              "      padding: 0 0 0 0;\n",
              "      width: 32px;\n",
              "    }\n",
              "\n",
              "    .colab-df-convert:hover {\n",
              "      background-color: #E2EBFA;\n",
              "      box-shadow: 0px 1px 2px rgba(60, 64, 67, 0.3), 0px 1px 3px 1px rgba(60, 64, 67, 0.15);\n",
              "      fill: #174EA6;\n",
              "    }\n",
              "\n",
              "    [theme=dark] .colab-df-convert {\n",
              "      background-color: #3B4455;\n",
              "      fill: #D2E3FC;\n",
              "    }\n",
              "\n",
              "    [theme=dark] .colab-df-convert:hover {\n",
              "      background-color: #434B5C;\n",
              "      box-shadow: 0px 1px 3px 1px rgba(0, 0, 0, 0.15);\n",
              "      filter: drop-shadow(0px 1px 2px rgba(0, 0, 0, 0.3));\n",
              "      fill: #FFFFFF;\n",
              "    }\n",
              "  </style>\n",
              "\n",
              "      <script>\n",
              "        const buttonEl =\n",
              "          document.querySelector('#df-d67134a5-c4b1-4a36-9984-596d39f67a42 button.colab-df-convert');\n",
              "        buttonEl.style.display =\n",
              "          google.colab.kernel.accessAllowed ? 'block' : 'none';\n",
              "\n",
              "        async function convertToInteractive(key) {\n",
              "          const element = document.querySelector('#df-d67134a5-c4b1-4a36-9984-596d39f67a42');\n",
              "          const dataTable =\n",
              "            await google.colab.kernel.invokeFunction('convertToInteractive',\n",
              "                                                     [key], {});\n",
              "          if (!dataTable) return;\n",
              "\n",
              "          const docLinkHtml = 'Like what you see? Visit the ' +\n",
              "            '<a target=\"_blank\" href=https://colab.research.google.com/notebooks/data_table.ipynb>data table notebook</a>'\n",
              "            + ' to learn more about interactive tables.';\n",
              "          element.innerHTML = '';\n",
              "          dataTable['output_type'] = 'display_data';\n",
              "          await google.colab.output.renderOutput(dataTable, element);\n",
              "          const docLink = document.createElement('div');\n",
              "          docLink.innerHTML = docLinkHtml;\n",
              "          element.appendChild(docLink);\n",
              "        }\n",
              "      </script>\n",
              "    </div>\n",
              "  </div>\n",
              "  "
            ]
          },
          "metadata": {},
          "execution_count": 10
        }
      ],
      "source": [
        "wine.corr(method='pearson')"
      ]
    },
    {
      "cell_type": "code",
      "execution_count": 11,
      "metadata": {
        "id": "SA2rwDPdXLrx",
        "outputId": "947b3dc9-9395-4072-f44b-5634acdc3836",
        "colab": {
          "base_uri": "https://localhost:8080/",
          "height": 408
        }
      },
      "outputs": [
        {
          "output_type": "display_data",
          "data": {
            "text/plain": [
              "<Figure size 504x360 with 2 Axes>"
            ],
            "image/png": "[encoded data removed]"
          },
          "metadata": {
            "needs_background": "light"
          }
        }
      ],
      "source": [
        "plt.figure(figsize=(7,5))\n",
        "sns.heatmap(wine.corr(method='pearson'), cmap='Blues');"
      ]
    },
    {
      "cell_type": "markdown",
      "metadata": {
        "id": "dN6aNjN7XLrx"
      },
      "source": [
        "品質スコア'quiality'と特徴量'alcohol'には非常に緩やかな正の相関があることがわかります。"
      ]
    },
    {
      "cell_type": "code",
      "execution_count": 12,
      "metadata": {
        "id": "Rc1_zY9RXLry",
        "outputId": "52f9dfb2-80a9-4937-fed8-6ca92120e497",
        "colab": {
          "base_uri": "https://localhost:8080/"
        }
      },
      "outputs": [
        {
          "output_type": "execute_result",
          "data": {
            "text/plain": [
              "quality                 1.000000\n",
              "alcohol                 0.476166\n",
              "sulphates               0.251397\n",
              "citric acid             0.226373\n",
              "fixed acidity           0.124052\n",
              "residual sugar          0.013732\n",
              "free sulfur dioxide    -0.050656\n",
              "pH                     -0.057731\n",
              "chlorides              -0.128907\n",
              "density                -0.174919\n",
              "total sulfur dioxide   -0.185100\n",
              "volatile acidity       -0.390558\n",
              "Name: quality, dtype: float64"
            ]
          },
          "metadata": {},
          "execution_count": 12
        }
      ],
      "source": [
        "corr=wine.corr(method='pearson')\n",
        "corr[\"quality\"].sort_values(ascending=False)"
      ]
    },
    {
      "cell_type": "code",
      "execution_count": 13,
      "metadata": {
        "id": "ScVMVcKWXLry",
        "outputId": "54ee026e-fb7d-4a7a-e8eb-226ed32f05da",
        "colab": {
          "base_uri": "https://localhost:8080/",
          "height": 334
        }
      },
      "outputs": [
        {
          "output_type": "display_data",
          "data": {
            "text/plain": [
              "<Figure size 504x360 with 1 Axes>"
            ],
            "image/png": "[encoded data removed]"
          },
          "metadata": {
            "needs_background": "light"
          }
        }
      ],
      "source": [
        "wine.plot(kind=\"scatter\", x=\"alcohol\", y=\"quality\", alpha=0.05, figsize=(7,5));"
      ]
    },
    {
      "cell_type": "markdown",
      "metadata": {
        "id": "b3s-WemhXLry"
      },
      "source": [
        "## モデルの学習\n",
        "### 線形回帰\n",
        "特徴量'alcohol'から品質スコアを予測するモデルを学習することを考えます。以下では、データセットの80%をモデル学習の訓練データ、20%をモデル評価のテストデータに分割し、特徴量を標準化した上で線形回帰によるモデルの学習を行っています。学習したモデルをテストデータに適用して予測を行い、平均二乗誤差によりモデルの精度を評価しています。"
      ]
    },
    {
      "cell_type": "code",
      "execution_count": 14,
      "metadata": {
        "id": "DTRLiUy8XLry",
        "outputId": "7dd06135-76f7-4ed0-92a2-b7b76342682d",
        "colab": {
          "base_uri": "https://localhost:8080/"
        }
      },
      "outputs": [
        {
          "output_type": "stream",
          "name": "stdout",
          "text": [
            "テストデータ誤差 0.516\n"
          ]
        }
      ],
      "source": [
        "X=wine[['alcohol']].values\n",
        "y=wine[['quality']].values\n",
        "\n",
        "# 訓練データとテストデータに分割\n",
        "X_train, X_test, y_train, y_test = train_test_split(X, y, test_size=0.2, random_state=0, stratify=y)\n",
        "\n",
        "# 標準化\n",
        "sc = StandardScaler()\n",
        "sc.fit(X_train)\n",
        "X_train = sc.transform(X_train)\n",
        "X_test = sc.transform(X_test)\n",
        "\n",
        "# 線形回帰\n",
        "lr = LinearRegression()\n",
        "lr=lr.fit(X_train, y_train)\n",
        "\n",
        "# 予測\n",
        "mse=mean_squared_error(y_test,lr.predict(X_test))\n",
        "print('テストデータ誤差 '+'{:.3f}'.format(mse))"
      ]
    },
    {
      "cell_type": "markdown",
      "metadata": {
        "id": "Vle9GL5TXLrz"
      },
      "source": [
        "次に、すべての特徴量から品質スコアを予測するモデルを学習することを考えます。手順は上記と同じです。特徴量をすべて用いることでテストデータの誤差は小さくなっています。"
      ]
    },
    {
      "cell_type": "code",
      "execution_count": 15,
      "metadata": {
        "id": "N3_CGqebXLrz",
        "outputId": "a09db48e-9ca3-481a-b151-fdfe4fea2f47",
        "colab": {
          "base_uri": "https://localhost:8080/"
        }
      },
      "outputs": [
        {
          "output_type": "stream",
          "name": "stdout",
          "text": [
            "テストデータ誤差 0.401\n"
          ]
        }
      ],
      "source": [
        "X=wine[ ['fixed acidity','volatile acidity','citric acid','residual sugar','chlorides','free sulfur dioxide', 'total sulfur dioxide', 'density', 'pH', 'sulphates','alcohol']].values\n",
        "# X=wine.drop(\"quality\", axis=1).values\n",
        "y=wine[['quality']].values\n",
        "\n",
        "# 訓練データとテストデータに分割\n",
        "X_train, X_test, y_train, y_test = train_test_split(X, y, test_size=0.2, random_state=0, stratify=y)\n",
        "\n",
        "# 標準化\n",
        "sc = StandardScaler()\n",
        "sc.fit(X_train)\n",
        "X_train = sc.transform(X_train)\n",
        "X_test = sc.transform(X_test)\n",
        "\n",
        "# 線形回帰\n",
        "lr = LinearRegression()\n",
        "lr=lr.fit(X_train, y_train)\n",
        "\n",
        "# 予測\n",
        "mse=mean_squared_error(y_test,lr.predict(X_test))\n",
        "print('テストデータ誤差 '+'{:.3f}'.format(mse))"
      ]
    },
    {
      "cell_type": "markdown",
      "metadata": {
        "id": "N0ocbthdXLrz"
      },
      "source": [
        "LinerRegression()オブジェクトのcoef_属性で学習された特徴量の重み（係数）を調べることができます。"
      ]
    },
    {
      "cell_type": "code",
      "execution_count": 16,
      "metadata": {
        "id": "BTW-rm9dXLrz",
        "outputId": "0cdf3cf5-ff7d-4c1a-f1f1-7d64ed07da6e",
        "colab": {
          "base_uri": "https://localhost:8080/",
          "height": 179
        }
      },
      "outputs": [
        {
          "output_type": "execute_result",
          "data": {
            "text/plain": [
              "        fixed acidity  volatile acidity  citric acid  residual sugar  \\\n",
              "weight       0.086582         -0.175892    -0.039447         0.04955   \n",
              "\n",
              "        chlorides  free sulfur dioxide  total sulfur dioxide  density  \\\n",
              "weight  -0.099793             0.037534             -0.102417 -0.07465   \n",
              "\n",
              "              pH  sulphates   alcohol  \n",
              "weight -0.049988   0.158645  0.281997  "
            ],
            "text/html": [
              "\n",
              "  <div id=\"df-bbbd86a8-908f-4f29-80d4-25babbf0f59c\">\n",
              "    <div class=\"colab-df-container\">\n",
              "      <div>\n",
              "<style scoped>\n",
              "    .dataframe tbody tr th:only-of-type {\n",
              "        vertical-align: middle;\n",
              "    }\n",
              "\n",
              "    .dataframe tbody tr th {\n",
              "        vertical-align: top;\n",
              "    }\n",
              "\n",
              "    .dataframe thead th {\n",
              "        text-align: right;\n",
              "    }\n",
              "</style>\n",
              "<table border=\"1\" class=\"dataframe\">\n",
              "  <thead>\n",
              "    <tr style=\"text-align: right;\">\n",
              "      <th></th>\n",
              "      <th>fixed acidity</th>\n",
              "      <th>volatile acidity</th>\n",
              "      <th>citric acid</th>\n",
              "      <th>residual sugar</th>\n",
              "      <th>chlorides</th>\n",
              "      <th>free sulfur dioxide</th>\n",
              "      <th>total sulfur dioxide</th>\n",
              "      <th>density</th>\n",
              "      <th>pH</th>\n",
              "      <th>sulphates</th>\n",
              "      <th>alcohol</th>\n",
              "    </tr>\n",
              "  </thead>\n",
              "  <tbody>\n",
              "    <tr>\n",
              "      <th>weight</th>\n",
              "      <td>0.086582</td>\n",
              "      <td>-0.175892</td>\n",
              "      <td>-0.039447</td>\n",
              "      <td>0.04955</td>\n",
              "      <td>-0.099793</td>\n",
              "      <td>0.037534</td>\n",
              "      <td>-0.102417</td>\n",
              "      <td>-0.07465</td>\n",
              "      <td>-0.049988</td>\n",
              "      <td>0.158645</td>\n",
              "      <td>0.281997</td>\n",
              "    </tr>\n",
              "  </tbody>\n",
              "</table>\n",
              "</div>\n",
              "      <button class=\"colab-df-convert\" onclick=\"convertToInteractive('df-bbbd86a8-908f-4f29-80d4-25babbf0f59c')\"\n",
              "              title=\"Convert this dataframe to an interactive table.\"\n",
              "              style=\"display:none;\">\n",
              "        \n",
              "  <svg xmlns=\"http://www.w3.org/2000/svg\" height=\"24px\"viewBox=\"0 0 24 24\"\n",
              "       width=\"24px\">\n",
              "    <path d=\"M0 0h24v24H0V0z\" fill=\"none\"/>\n",
              "    <path d=\"M18.56 5.44l.94 2.06.94-2.06 2.06-.94-2.06-.94-.94-2.06-.94 2.06-2.06.94zm-11 1L8.5 8.5l.94-2.06 2.06-.94-2.06-.94L8.5 2.5l-.94 2.06-2.06.94zm10 10l.94 2.06.94-2.06 2.06-.94-2.06-.94-.94-2.06-.94 2.06-2.06.94z\"/><path d=\"M17.41 7.96l-1.37-1.37c-.4-.4-.92-.59-1.43-.59-.52 0-1.04.2-1.43.59L10.3 9.45l-7.72 7.72c-.78.78-.78 2.05 0 2.83L4 21.41c.39.39.9.59 1.41.59.51 0 1.02-.2 1.41-.59l7.78-7.78 2.81-2.81c.8-.78.8-2.07 0-2.86zM5.41 20L4 18.59l7.72-7.72 1.47 1.35L5.41 20z\"/>\n",
              "  </svg>\n",
              "      </button>\n",
              "      \n",
              "  <style>\n",
              "    .colab-df-container {\n",
              "      display:flex;\n",
              "      flex-wrap:wrap;\n",
              "      gap: 12px;\n",
              "    }\n",
              "\n",
              "    .colab-df-convert {\n",
              "      background-color: #E8F0FE;\n",
              "      border: none;\n",
              "      border-radius: 50%;\n",
              "      cursor: pointer;\n",
              "      display: none;\n",
              "      fill: #1967D2;\n",
              "      height: 32px;\n",
              "      padding: 0 0 0 0;\n",
              "      width: 32px;\n",
              "    }\n",
              "\n",
              "    .colab-df-convert:hover {\n",
              "      background-color: #E2EBFA;\n",
              "      box-shadow: 0px 1px 2px rgba(60, 64, 67, 0.3), 0px 1px 3px 1px rgba(60, 64, 67, 0.15);\n",
              "      fill: #174EA6;\n",
              "    }\n",
              "\n",
              "    [theme=dark] .colab-df-convert {\n",
              "      background-color: #3B4455;\n",
              "      fill: #D2E3FC;\n",
              "    }\n",
              "\n",
              "    [theme=dark] .colab-df-convert:hover {\n",
              "      background-color: #434B5C;\n",
              "      box-shadow: 0px 1px 3px 1px rgba(0, 0, 0, 0.15);\n",
              "      filter: drop-shadow(0px 1px 2px rgba(0, 0, 0, 0.3));\n",
              "      fill: #FFFFFF;\n",
              "    }\n",
              "  </style>\n",
              "\n",
              "      <script>\n",
              "        const buttonEl =\n",
              "          document.querySelector('#df-bbbd86a8-908f-4f29-80d4-25babbf0f59c button.colab-df-convert');\n",
              "        buttonEl.style.display =\n",
              "          google.colab.kernel.accessAllowed ? 'block' : 'none';\n",
              "\n",
              "        async function convertToInteractive(key) {\n",
              "          const element = document.querySelector('#df-bbbd86a8-908f-4f29-80d4-25babbf0f59c');\n",
              "          const dataTable =\n",
              "            await google.colab.kernel.invokeFunction('convertToInteractive',\n",
              "                                                     [key], {});\n",
              "          if (!dataTable) return;\n",
              "\n",
              "          const docLinkHtml = 'Like what you see? Visit the ' +\n",
              "            '<a target=\"_blank\" href=https://colab.research.google.com/notebooks/data_table.ipynb>data table notebook</a>'\n",
              "            + ' to learn more about interactive tables.';\n",
              "          element.innerHTML = '';\n",
              "          dataTable['output_type'] = 'display_data';\n",
              "          await google.colab.output.renderOutput(dataTable, element);\n",
              "          const docLink = document.createElement('div');\n",
              "          docLink.innerHTML = docLinkHtml;\n",
              "          element.appendChild(docLink);\n",
              "        }\n",
              "      </script>\n",
              "    </div>\n",
              "  </div>\n",
              "  "
            ]
          },
          "metadata": {},
          "execution_count": 16
        }
      ],
      "source": [
        "pd.DataFrame(lr.coef_, index=['weight'], columns=wine.drop(\"quality\", axis=1).columns.values)"
      ]
    },
    {
      "cell_type": "markdown",
      "metadata": {
        "id": "asDe_rAaXLrz"
      },
      "source": [
        "### 学習曲線\n",
        "学習に用いるデータを徐々に増やした時の訓練データの誤差とテストデータ（以下では交差検証による検証データ）の誤差を以下のように学習曲線としてプロットしてみます。データを増やすとテストデータの誤差は徐々に減少していきますが、訓練データとの誤差にやや差があることがわかります。\n",
        "\n",
        "以下のコードでは`make_pipeline`で標準化の処理と線形回帰モデルをまとめています。\n",
        "\n",
        "[make_pipeline](https://scikit-learn.org/stable/modules/generated/sklearn.pipeline.make_pipeline.html)\n",
        "\n",
        "`learning_curve`は`train_sizes`引数で指定された分のデータを利用して交差検証（`cv`引数でfold数を指定）によりモデルの評価を行い、訓練データと検証データの予測精度（`scoring`引数で評価指標を指定）をそれぞれ返します。以下では評価指標として`neg_mean_squared_error`を使用しています。\n",
        "\n",
        "[learning_curve](https://scikit-learn.org/stable/modules/generated/sklearn.model_selection.learning_curve.html)\n",
        "\n",
        "[scoring parameter](https://scikit-learn.org/stable/modules/model_evaluation.html)"
      ]
    },
    {
      "cell_type": "code",
      "execution_count": 17,
      "metadata": {
        "id": "taCuJ-ONXLr0",
        "outputId": "3845046b-d80f-4030-f08e-f8142d830613",
        "colab": {
          "base_uri": "https://localhost:8080/",
          "height": 334
        }
      },
      "outputs": [
        {
          "output_type": "display_data",
          "data": {
            "text/plain": [
              "<Figure size 504x360 with 1 Axes>"
            ],
            "image/png": "[encoded data removed]"
          },
          "metadata": {
            "needs_background": "light"
          }
        }
      ],
      "source": [
        "# 標準化と線形回帰モデルのパイプライン\n",
        "pipe=make_pipeline(StandardScaler(), LinearRegression())\n",
        "\n",
        "# 学習曲線\n",
        "training_sizes, train_scores, valid_scores = learning_curve(pipe, X_train, y_train, cv=5,\n",
        "                                                scoring=\"neg_mean_squared_error\",\n",
        "                                                train_sizes=np.linspace(0.1, 1.0, 10))\n",
        "plt.figure(figsize=(7,5))\n",
        "plt.xlabel('# of instances')\n",
        "plt.ylabel('MSE')\n",
        "plt.plot(training_sizes, -train_scores.mean(axis=1), label=\"training\")\n",
        "plt.plot(training_sizes, -valid_scores.mean(axis=1), label=\"validation\")\n",
        "plt.legend();"
      ]
    },
    {
      "cell_type": "markdown",
      "metadata": {
        "id": "o3zhZBCJXLr0"
      },
      "source": [
        "##  モデル選択と評価\n",
        "### 多項式\n",
        "モデルを複雑にした時のモデル選択と評価について考えます。以下では、多項式により入力の特徴量を増やしモデルを複雑にしています。多項式の次数を増やすと訓練データの誤差は減少していきますが検証データの誤差は3次の多項式で急激に増加し、過学習がおこっていることがわかります。\n",
        "\n",
        "`validation_curve`は`param_name`引数で指定されたハイパーパラメータ（ここでは多項式の次数）について`param_range`引数で指定した値ごとに交差検証（`cv`引数でfold数を指定）によりモデルの評価を行い、各交差検証の訓練データと検証データの予測精度（`scoring`引数で指標を指定）を返します。\n",
        "\n",
        "[validation_curve](https://scikit-learn.org/stable/modules/generated/sklearn.model_selection.validation_curve.html)"
      ]
    },
    {
      "cell_type": "code",
      "execution_count": 18,
      "metadata": {
        "id": "VtNynrIhXLr0"
      },
      "outputs": [],
      "source": [
        "X=wine.drop(\"quality\", axis=1).values\n",
        "y=wine[['quality']].values\n",
        "\n",
        "# 訓練データとテストデータに分割\n",
        "X_train, X_test, y_train, y_test = train_test_split(X, y, test_size=0.2, random_state=0, stratify=y)"
      ]
    },
    {
      "cell_type": "code",
      "execution_count": 19,
      "metadata": {
        "id": "vvbELPiPXLr0",
        "outputId": "e82526ad-ed56-4b2b-9105-68a50182d9f4",
        "colab": {
          "base_uri": "https://localhost:8080/",
          "height": 369
        }
      },
      "outputs": [
        {
          "output_type": "stream",
          "name": "stdout",
          "text": [
            "訓練データ誤差（次数:1,2,3） [0.42088113 0.3696442  0.20538746]\n",
            "検証データ誤差（次数:1,2,3） [0.43163512 0.46101961 5.63512852]\n"
          ]
        },
        {
          "output_type": "display_data",
          "data": {
            "text/plain": [
              "<Figure size 504x360 with 1 Axes>"
            ],
            "image/png": "[encoded data removed]"
          },
          "metadata": {
            "needs_background": "light"
          }
        }
      ],
      "source": [
        "# 多項式特徴量と標準化と線形回帰モデルのパイプライン\n",
        "pipe=make_pipeline(PolynomialFeatures(), StandardScaler(), LinearRegression())\n",
        "\n",
        "# 次数\n",
        "degree = [1, 2, 3]\n",
        "\n",
        "# バリデーション曲線\n",
        "train_scores, valid_scores = validation_curve(pipe, X_train, y_train, \n",
        "                                              param_name='polynomialfeatures__degree',  param_range=degree, \n",
        "                                              scoring=\"neg_mean_squared_error\", cv=5)\n",
        "\n",
        "print('訓練データ誤差（次数:1,2,3）',-train_scores.mean(axis=1)) # 訓練データの誤差\n",
        "print('検証データ誤差（次数:1,2,3）',-valid_scores.mean(axis=1)) # 検証データの誤差\n",
        "\n",
        "plt.figure(figsize=(7,5))\n",
        "plt.xlabel('degree')\n",
        "plt.ylabel('MSE')\n",
        "plt.plot(degree, -train_scores.mean(axis=1), color='red', label='training')\n",
        "plt.plot(degree, -valid_scores.mean(axis=1), color='blue', label='validation')\n",
        "plt.legend();"
      ]
    },
    {
      "cell_type": "markdown",
      "metadata": {
        "id": "qPTG2Nm4XLr0"
      },
      "source": [
        "### 正則化\n",
        "多項式の次数を3次にした時、検証データの誤差が急激に増加し過学習がおこることを確認しました。ここで、正則化を用いて過学習を抑えることを考えます。以下では、$L_2$ノルムを正則化に用いた線形回帰モデルである`Ridge`（リッジ回帰）を用いています。正則化項の係数を大きくすると、検証データの誤差が減少し、過学習が抑えられていることがわかります。一方、正則化項の係数を大きくすると、訓練データの誤差は徐々に増加していることがわかります。"
      ]
    },
    {
      "cell_type": "code",
      "execution_count": 20,
      "metadata": {
        "id": "qCAxN4iNXLr1",
        "outputId": "57cac60e-5bdd-41a2-f5c5-f207f48c57c1",
        "colab": {
          "base_uri": "https://localhost:8080/",
          "height": 403
        }
      },
      "outputs": [
        {
          "output_type": "stream",
          "name": "stdout",
          "text": [
            "訓練データ誤差（正則化係数ごと） [0.24598596 0.26159571 0.28539547 0.3175113  0.35316016 0.38079705\n",
            " 0.40125317]\n",
            "検証データ誤差（正則化係数ごと） [2.28813107 0.91754593 0.57851023 0.54230677 0.45740028 0.42301501\n",
            " 0.41984357]\n"
          ]
        },
        {
          "output_type": "display_data",
          "data": {
            "text/plain": [
              "<Figure size 504x360 with 1 Axes>"
            ],
            "image/png": "[encoded data removed]"
          },
          "metadata": {
            "needs_background": "light"
          }
        }
      ],
      "source": [
        "# 標準化と多項式特徴量（3次）とリッジ回帰モデルのパイプライン\n",
        "pipe=make_pipeline(PolynomialFeatures(degree=3), StandardScaler(), Ridge())\n",
        "\n",
        "# 正則化項の係数\n",
        "alpha = [0.001, 0.01, 0.1, 1, 10, 100, 1000]\n",
        "\n",
        "# バリデーション曲線\n",
        "train_scores, valid_scores = validation_curve(pipe, X_train, y_train, \n",
        "                                              param_name='ridge__alpha', \n",
        "                                              param_range=alpha, \n",
        "                                              cv=5, scoring=\"neg_mean_squared_error\")\n",
        "\n",
        "print('訓練データ誤差（正則化係数ごと）',-train_scores.mean(axis=1)) # 訓練データの誤差\n",
        "print('検証データ誤差（正則化係数ごと）',-valid_scores.mean(axis=1)) # 検証データの誤差\n",
        "\n",
        "plt.figure(figsize=(7,5))\n",
        "plt.xlabel('log(alpha)')\n",
        "plt.ylabel('MSE')\n",
        "plt.plot(np.log10(alpha), -train_scores.mean(axis=1), color='red', label='training')\n",
        "plt.plot(np.log10(alpha), -valid_scores.mean(axis=1), color='blue', label='validation')\n",
        "plt.legend();"
      ]
    },
    {
      "cell_type": "markdown",
      "metadata": {
        "id": "eHEFNB97XLr1"
      },
      "source": [
        "以下は、多項式の次数を2次にした時の正則化項の係数と誤差です。正則化項の係数を大きくすると検証データの誤差が減少しますが、大きくしすぎると、訓練データの誤差も検証データの誤差も増加するアンダーフィティング（High Bias）の状態になります。"
      ]
    },
    {
      "cell_type": "code",
      "execution_count": 21,
      "metadata": {
        "id": "ZLqTn_wpXLr1",
        "outputId": "38d55503-deae-41eb-a854-9f6e01e22dfd",
        "colab": {
          "base_uri": "https://localhost:8080/",
          "height": 403
        }
      },
      "outputs": [
        {
          "output_type": "stream",
          "name": "stdout",
          "text": [
            "訓練データ誤差（正則化係数ごと） [0.37415106 0.3751812  0.37556577 0.37819839 0.38516598 0.3987686\n",
            " 0.42079551]\n",
            "検証データ誤差（正則化係数ごと） [0.45199162 0.45179353 0.44845027 0.43880609 0.42287278 0.41798959\n",
            " 0.43180823]\n"
          ]
        },
        {
          "output_type": "display_data",
          "data": {
            "text/plain": [
              "<Figure size 504x360 with 1 Axes>"
            ],
            "image/png": "[encoded data removed]"
          },
          "metadata": {
            "needs_background": "light"
          }
        }
      ],
      "source": [
        "# 標準化と多項式特徴量（2次）とリッジ回帰モデルのパイプライン\n",
        "pipe=make_pipeline(PolynomialFeatures(degree=2), StandardScaler(), Ridge())\n",
        "\n",
        "# 正則化項の係数\n",
        "alpha = [0.001, 0.01, 0.1, 1, 10, 100, 1000]\n",
        "\n",
        "# バリデーション曲線\n",
        "train_scores, valid_scores = validation_curve(pipe, X_train, y_train,\n",
        "                                              param_name='ridge__alpha', \n",
        "                                              param_range=alpha, \n",
        "                                              cv=5, scoring=\"neg_mean_squared_error\")\n",
        "\n",
        "print('訓練データ誤差（正則化係数ごと）',-train_scores.mean(axis=1)) # 訓練データの誤差\n",
        "print('検証データ誤差（正則化係数ごと）',-valid_scores.mean(axis=1)) # 検証データの誤差\n",
        "\n",
        "plt.figure(figsize=(7,5))\n",
        "plt.xlabel('log(alpha)')\n",
        "plt.ylabel('MSE')\n",
        "plt.plot(np.log10(alpha), -train_scores.mean(axis=1), color='red', label='training')\n",
        "plt.plot(np.log10(alpha), -valid_scores.mean(axis=1), color='blue', label='validation')\n",
        "plt.legend();"
      ]
    },
    {
      "cell_type": "markdown",
      "metadata": {
        "id": "-PMa467MXLr1"
      },
      "source": [
        "### グリッドサーチ\n",
        "モデルのハイパーパラメータである多項式の次数と正則化項の係数の組み合わせについて交差検証で評価を行い、モデルを選択することを考えます。グリッドサーチによるハイパーパラメータ探索の結果、学習に用いたデータセットについては、2次の多項式で正則化項の係数を100としたモデルが交差検証では最も高い精度となりました。このハイパーパラメータでモデルの学習を行い、実際の運用時の性能評価は別途用意したテストデータで評価を行ます。\n",
        "\n",
        "`GridSearchCV`は、`param_grid`引数で指定されたハイパーパラメータの組み合わせごとに交差検証（`cv`引数でfold数を指定）によりモデルの評価（`scoring`引数で評価指標を指定）を行います。以下ではグリッドサーチによるハイパーパラメータの組み合わせごとのモデルの予測精度をヒートマップとして可視化しています。\n",
        "\n",
        "[GridSearchCV](https://scikit-learn.org/stable/modules/generated/sklearn.model_selection.GridSearchCV.html)"
      ]
    },
    {
      "cell_type": "code",
      "execution_count": 22,
      "metadata": {
        "id": "jY0aMD4AXLr1",
        "outputId": "45a4e0d0-3f73-4b70-86b5-48c55fd5859e",
        "colab": {
          "base_uri": "https://localhost:8080/",
          "height": 370
        }
      },
      "outputs": [
        {
          "output_type": "stream",
          "name": "stdout",
          "text": [
            "{'polynomialfeatures__degree': 2, 'ridge__alpha': 100}\n",
            "0.41798958525448204\n"
          ]
        },
        {
          "output_type": "display_data",
          "data": {
            "text/plain": [
              "<Figure size 720x360 with 2 Axes>"
            ],
            "image/png": "[encoded data removed]"
          },
          "metadata": {
            "needs_background": "light"
          }
        }
      ],
      "source": [
        "# グリッドサーチでのパラメータのラベル\n",
        "degree=\"param_polynomialfeatures__degree\"\n",
        "alpha='param_ridge__alpha'\n",
        "\n",
        "# 標準化と多項式特徴量とリッジ回帰モデルのパイプライン\n",
        "pipe = make_pipeline(PolynomialFeatures(), StandardScaler(), Ridge())\n",
        "\n",
        "# ハイパーパラメータ（多項式の次数と正則化項の係数）\n",
        "param_grid = {'polynomialfeatures__degree': [1, 2, 3], 'ridge__alpha': [0.001, 0.01, 0.1, 1, 10, 100, 1000]}\n",
        "\n",
        "# グリッドサーチ\n",
        "grid = GridSearchCV(pipe, param_grid=param_grid, scoring=\"neg_mean_squared_error\", cv=5, return_train_score=True)\n",
        "grid.fit(X_train, y_train)\n",
        "print(grid.best_params_)\n",
        "print(-grid.best_score_)\n",
        "\n",
        "# 可視化\n",
        "results=pd.DataFrame(grid.cv_results_)\n",
        "data=results[[degree, alpha, 'mean_test_score' ]].pivot(index=alpha, columns=degree, values='mean_test_score' )\n",
        "plt.figure(figsize=(10,5))\n",
        "sns.heatmap(data, annot=True, fmt='.4f',  cmap=\"Blues\");"
      ]
    },
    {
      "cell_type": "markdown",
      "metadata": {
        "id": "de9EmPSTXLr2"
      },
      "source": [
        "ハイパーパラメータの探索は以下のように`cross_val_score`を用いても行うことができます。\n",
        "\n",
        "[cross_val_score](https://scikit-learn.org/stable/modules/generated/sklearn.model_selection.cross_val_score.html)"
      ]
    },
    {
      "cell_type": "code",
      "execution_count": 23,
      "metadata": {
        "id": "rlXGJWQJXLr2",
        "outputId": "3818ce67-580f-4193-eee9-21c5483b5c80",
        "colab": {
          "base_uri": "https://localhost:8080/"
        }
      },
      "outputs": [
        {
          "output_type": "stream",
          "name": "stdout",
          "text": [
            "次数 正則化係数 誤差\n",
            "1 0.01 0.432\n",
            "1 0.1 0.432\n",
            "1 1 0.432\n",
            "1 10 0.431\n",
            "1 100 0.431\n",
            "2 0.01 0.452\n",
            "2 0.1 0.448\n",
            "2 1 0.439\n",
            "2 10 0.423\n",
            "2 100 0.418\n",
            "3 0.01 0.918\n",
            "3 0.1 0.579\n",
            "3 1 0.542\n",
            "3 10 0.457\n",
            "3 100 0.423\n"
          ]
        }
      ],
      "source": [
        "# ハイパーパラメータ（多項式の次数と正則化項の係数）\n",
        "degree=[1,2,3]\n",
        "alpha=[0.01, 0.1, 1, 10, 100]\n",
        "\n",
        "print('次数', '正則化係数', '誤差')\n",
        "for n in degree:\n",
        "    for r in alpha:\n",
        "        pipe = make_pipeline(PolynomialFeatures(degree=n), StandardScaler(), Ridge(alpha=r))\n",
        "        scores = cross_val_score(pipe, X_train, y_train, scoring='neg_mean_squared_error', cv=5)\n",
        "        print(n, r, '{:.3f}'.format(-scores.mean()))"
      ]
    },
    {
      "cell_type": "markdown",
      "metadata": {
        "id": "DaypOWkrXLr2"
      },
      "source": [
        "### テストデータによる評価"
      ]
    },
    {
      "cell_type": "code",
      "execution_count": 24,
      "metadata": {
        "id": "B83NT-DfXLr2",
        "outputId": "a2647447-9905-4500-92a8-2f39c4f35382",
        "colab": {
          "base_uri": "https://localhost:8080/"
        }
      },
      "outputs": [
        {
          "output_type": "stream",
          "name": "stdout",
          "text": [
            "訓練データ誤差  0.400\n",
            "テストデータ誤差  0.386\n"
          ]
        }
      ],
      "source": [
        "model = make_pipeline(PolynomialFeatures(degree=2), StandardScaler(), Ridge(alpha=100))\n",
        "model.fit(X_train, y_train)\n",
        "\n",
        "train_mse=mean_squared_error(y_train,model.predict(X_train))\n",
        "print('訓練データ誤差 ', '{:.3f}'.format(train_mse))\n",
        "\n",
        "test_mse=mean_squared_error(y_test,model.predict(X_test))\n",
        "print('テストデータ誤差 ', '{:.3f}'.format(test_mse))"
      ]
    },
    {
      "cell_type": "markdown",
      "metadata": {
        "id": "wMmsX7oLXLr2"
      },
      "source": [
        "### ラッソ回帰（L1正則化）\n",
        "以下では、$L_1$ノルムを正則化に用いた線形回帰モデルである`Lasso`（ラッソ回帰）を用いています。ラッソ回帰では多くのパラメータが0となるため疎なパラメータのモデルをえられます。\n",
        "\n",
        "[Lasso](https://scikit-learn.org/stable/modules/generated/sklearn.linear_model.Lasso.html)"
      ]
    },
    {
      "cell_type": "code",
      "execution_count": 25,
      "metadata": {
        "id": "rI42-OjUXLr2",
        "outputId": "b4496e32-b857-4cf6-8130-6cb9659ed0e9",
        "colab": {
          "base_uri": "https://localhost:8080/",
          "height": 370
        }
      },
      "outputs": [
        {
          "output_type": "stream",
          "name": "stdout",
          "text": [
            "{'lasso__alpha': 0.01, 'polynomialfeatures__degree': 3}\n",
            "0.41937373249170296\n"
          ]
        },
        {
          "output_type": "display_data",
          "data": {
            "text/plain": [
              "<Figure size 720x360 with 2 Axes>"
            ],
            "image/png": "[encoded data removed]"
          },
          "metadata": {
            "needs_background": "light"
          }
        }
      ],
      "source": [
        "# グリッドサーチでのパラメータのラベル\n",
        "degree=\"param_polynomialfeatures__degree\"\n",
        "alpha='param_lasso__alpha'\n",
        "\n",
        "# 標準化と多項式特徴量とラッソ回帰モデルのパイプライン\n",
        "pipe = make_pipeline(PolynomialFeatures(), StandardScaler(), Lasso(max_iter=50000))\n",
        "\n",
        "# ハイパーパラメータ（多項式の次数と正則化項の係数）\n",
        "param_grid = {'polynomialfeatures__degree': [1, 2, 3], 'lasso__alpha': [0.001, 0.01, 0.1, 1]}\n",
        "\n",
        "# グリッドサーチ\n",
        "grid = GridSearchCV(pipe, param_grid=param_grid, scoring=\"neg_mean_squared_error\", cv=5, return_train_score=True)\n",
        "grid.fit(X_train, y_train)\n",
        "print(grid.best_params_)\n",
        "print(-grid.best_score_)\n",
        "\n",
        "# 可視化\n",
        "results=pd.DataFrame(grid.cv_results_)\n",
        "data=results[[degree, alpha, 'mean_test_score' ]].pivot(index=alpha, columns=degree, values='mean_test_score' )\n",
        "plt.figure(figsize=(10,5))\n",
        "sns.heatmap(data, annot=True, fmt='.4f',  cmap=\"Blues\");"
      ]
    },
    {
      "cell_type": "code",
      "execution_count": 26,
      "metadata": {
        "id": "3qbp8QjQXLr3",
        "outputId": "c5c6f84e-3f95-4ab1-df93-f98ded54cb52",
        "colab": {
          "base_uri": "https://localhost:8080/"
        }
      },
      "outputs": [
        {
          "output_type": "execute_result",
          "data": {
            "text/plain": [
              "array([ 0.        ,  0.        , -0.        , -0.        ,  0.        ,\n",
              "       -0.        ,  0.        , -0.        , -0.00524848, -0.        ,\n",
              "        0.        ,  0.03278787,  0.        , -0.        , -0.        ,\n",
              "        0.        , -0.        ,  0.        , -0.        ,  0.        ,\n",
              "        0.        ,  0.        ,  0.        , -0.        , -0.        ,\n",
              "       -0.        , -0.        ,  0.        ,  0.        , -0.        ,\n",
              "       -0.        , -0.        , -0.        , -0.        ,  0.        ,\n",
              "       -0.        , -0.        , -0.        , -0.        , -0.        ,\n",
              "       -0.        ,  0.        ,  0.        ,  0.        ,  0.        ,\n",
              "        0.        ,  0.        ,  0.        ,  0.        ,  0.        ,\n",
              "       -0.        , -0.        , -0.        , -0.        , -0.        ,\n",
              "       -0.        , -0.        , -0.        , -0.        ,  0.        ,\n",
              "        0.        , -0.        ,  0.        ,  0.        , -0.        ,\n",
              "       -0.        , -0.        , -0.        , -0.        , -0.        ,\n",
              "        0.        ,  0.        , -0.        ,  0.        ,  0.        ,\n",
              "       -0.        ,  0.        ,  0.        ,  0.        , -0.03907437,\n",
              "        0.        ,  0.        , -0.        ,  0.        , -0.        ,\n",
              "        0.        ,  0.        ,  0.        ,  0.        , -0.        ,\n",
              "       -0.        ,  0.        , -0.        ,  0.        ,  0.        ,\n",
              "       -0.        , -0.00206645, -0.        , -0.        ,  0.        ,\n",
              "        0.        , -0.        , -0.        , -0.        , -0.        ,\n",
              "       -0.        , -0.        ,  0.        ,  0.        ,  0.        ,\n",
              "        0.        ,  0.        ,  0.        ,  0.        ,  0.        ,\n",
              "        0.        , -0.        , -0.        , -0.        , -0.        ,\n",
              "       -0.        , -0.        , -0.        , -0.        , -0.        ,\n",
              "        0.        ,  0.        , -0.        ,  0.        , -0.        ,\n",
              "       -0.        , -0.        , -0.        , -0.        ,  0.        ,\n",
              "        0.        ,  0.        ,  0.        ,  0.        ,  0.        ,\n",
              "        0.        , -0.        ,  0.        ,  0.05535565, -0.        ,\n",
              "        0.        , -0.04078699, -0.        ,  0.        ,  0.03133311,\n",
              "       -0.        , -0.        , -0.        , -0.        ,  0.        ,\n",
              "        0.        , -0.        , -0.        ,  0.        , -0.        ,\n",
              "       -0.        , -0.        , -0.        ,  0.        ,  0.        ,\n",
              "        0.        ,  0.        , -0.        , -0.        ,  0.        ,\n",
              "       -0.        , -0.        , -0.        ,  0.        , -0.        ,\n",
              "       -0.        , -0.        , -0.        , -0.        , -0.        ,\n",
              "        0.        ,  0.        ,  0.        ,  0.02599909,  0.        ,\n",
              "        0.        ,  0.        , -0.        ,  0.        , -0.        ,\n",
              "       -0.04440231, -0.        , -0.        , -0.07936275, -0.        ,\n",
              "       -0.        , -0.02163319, -0.        , -0.        ,  0.        ,\n",
              "       -0.        , -0.        , -0.        ,  0.        , -0.        ,\n",
              "       -0.        , -0.        ,  0.        ,  0.        , -0.        ,\n",
              "        0.        ,  0.        ,  0.        , -0.        , -0.        ,\n",
              "        0.        , -0.        , -0.04765509, -0.        , -0.        ,\n",
              "       -0.        , -0.        , -0.        ,  0.        , -0.        ,\n",
              "       -0.        , -0.        , -0.        , -0.        ,  0.        ,\n",
              "       -0.        , -0.        , -0.01217817, -0.        , -0.        ,\n",
              "       -0.        , -0.        ,  0.        , -0.        , -0.        ,\n",
              "       -0.        , -0.        , -0.        ,  0.        ,  0.        ,\n",
              "        0.        ,  0.        ,  0.05207639,  0.        ,  0.        ,\n",
              "        0.        ,  0.        , -0.        ,  0.        ,  0.        ,\n",
              "        0.        ,  0.        , -0.        ,  0.        ,  0.        ,\n",
              "        0.        ,  0.        ,  0.        ,  0.        ,  0.02384733,\n",
              "        0.00337017,  0.        ,  0.        , -0.        ,  0.        ,\n",
              "        0.        ,  0.        ,  0.        ,  0.        ,  0.        ,\n",
              "        0.        ,  0.        , -0.        ,  0.        ,  0.        ,\n",
              "       -0.        , -0.        , -0.        , -0.        , -0.        ,\n",
              "       -0.        , -0.        , -0.        , -0.        , -0.        ,\n",
              "       -0.        , -0.        , -0.        , -0.        , -0.        ,\n",
              "       -0.        , -0.        , -0.        , -0.        , -0.        ,\n",
              "       -0.        , -0.        , -0.05784191, -0.        , -0.        ,\n",
              "       -0.        , -0.        , -0.        , -0.        , -0.        ,\n",
              "       -0.        , -0.        , -0.        ,  0.        ,  0.        ,\n",
              "       -0.        , -0.        , -0.05200417, -0.        ,  0.        ,\n",
              "        0.        , -0.        ,  0.        ,  0.        , -0.        ,\n",
              "        0.        , -0.        ,  0.        ,  0.04037934,  0.00870708,\n",
              "        0.        , -0.        , -0.        ,  0.        , -0.        ,\n",
              "       -0.        , -0.        , -0.        , -0.        , -0.10978759,\n",
              "       -0.        , -0.04009619, -0.        , -0.        , -0.        ,\n",
              "       -0.        ,  0.        ,  0.        , -0.        ,  0.        ,\n",
              "        0.        , -0.        ,  0.        ,  0.        , -0.03347163,\n",
              "        0.        , -0.        , -0.        ,  0.        ,  0.        ,\n",
              "       -0.        , -0.        ,  0.3577149 ,  0.        ])"
            ]
          },
          "metadata": {},
          "execution_count": 26
        }
      ],
      "source": [
        "# パラメータ\n",
        "grid.best_estimator_.named_steps['lasso'].coef_"
      ]
    },
    {
      "cell_type": "code",
      "execution_count": 27,
      "metadata": {
        "id": "UghNd56KXLr3",
        "outputId": "ca93b416-d0e8-46a0-b445-6af14dd5ee4a",
        "colab": {
          "base_uri": "https://localhost:8080/"
        }
      },
      "outputs": [
        {
          "output_type": "stream",
          "name": "stdout",
          "text": [
            "訓練データ誤差 0.401\n",
            "テストデータ誤差 0.393\n"
          ]
        }
      ],
      "source": [
        "# テストデータによる評価\n",
        "model = make_pipeline(PolynomialFeatures(degree=3), StandardScaler(), Lasso(alpha=0.01, max_iter=50000))\n",
        "model.fit(X_train, y_train)\n",
        "\n",
        "train_mse=mean_squared_error(y_train,model.predict(X_train))\n",
        "print('訓練データ誤差', '{:.3f}'.format(train_mse))\n",
        "\n",
        "test_mse=mean_squared_error(y_test,model.predict(X_test))\n",
        "print('テストデータ誤差', '{:.3f}'.format(test_mse))"
      ]
    },
    {
      "cell_type": "code",
      "execution_count": null,
      "metadata": {
        "id": "0kJt-TQjXLr3"
      },
      "outputs": [],
      "source": []
    }
  ],
  "metadata": {
    "kernelspec": {
      "display_name": "Python 3",
      "language": "python",
      "name": "python3"
    },
    "language_info": {
      "codemirror_mode": {
        "name": "ipython",
        "version": 3
      },
      "file_extension": ".py",
      "mimetype": "text/x-python",
      "name": "python",
      "nbconvert_exporter": "python",
      "pygments_lexer": "ipython3",
      "version": "3.7.3"
    },
    "colab": {
      "provenance": []
    }
  },
  "nbformat": 4,
  "nbformat_minor": 0
}
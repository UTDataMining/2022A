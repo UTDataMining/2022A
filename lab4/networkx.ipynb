{
  "cells": [
    {
      "cell_type": "markdown",
      "metadata": {
        "id": "view-in-github",
        "colab_type": "text"
      },
      "source": [
        "<a href=\"https://colab.research.google.com/github/UTDataMining/2022A/blob/main/lab4/networkx.ipynb\" target=\"_parent\"><img src=\"https://colab.research.google.com/assets/colab-badge.svg\" alt=\"Open In Colab\"/></a>"
      ]
    },
    {
      "cell_type": "markdown",
      "metadata": {
        "id": "MtHrqwui2zxv"
      },
      "source": [
        "# NetworkXライブラリ\n",
        "[NetworkX](https://networkx.github.io/documentation/stable/index.html)\n",
        "\n",
        "以下ではNetworkXライブラリを用いたネットワーク（グラフ）データ処理の基礎について説明します。なお、以下は2.X系のNetworkXの説明です。"
      ]
    },
    {
      "cell_type": "code",
      "execution_count": 1,
      "metadata": {
        "id": "t144TEn_2zxx"
      },
      "outputs": [],
      "source": [
        "import networkx as nx\n",
        "from networkx.algorithms import community\n",
        "import pandas as pd\n",
        "import numpy as np\n",
        "import matplotlib.pyplot as plt\n",
        "%matplotlib inline"
      ]
    },
    {
      "cell_type": "code",
      "execution_count": 2,
      "metadata": {
        "id": "aoO__3392zxz"
      },
      "outputs": [],
      "source": [
        "# 空の無向グラフの作成\n",
        "G = nx.Graph()"
      ]
    },
    {
      "cell_type": "code",
      "execution_count": 3,
      "metadata": {
        "id": "iF5g7s412zxz"
      },
      "outputs": [],
      "source": [
        "# グラフにノード追加\n",
        "G.add_node(1)\n",
        "\n",
        "# グラフにラベル付きノード追加\n",
        "G.add_node('one')\n",
        "\n",
        "# グラフに属性付きノード追加\n",
        "G.add_node(2, weight=5)\n",
        "\n",
        "# 属性には任意のオブジェクトを付加できる\n",
        "G.add_node(3, name=['node','number','three'])\n",
        "\n",
        "# リストの要素からノード追加\n",
        "# 集合, 辞書, 文字列, グラフオブジェクトも指定可能\n",
        "G.add_nodes_from([4,5,6])"
      ]
    },
    {
      "cell_type": "code",
      "execution_count": 5,
      "metadata": {
        "id": "mpQkhM092zxz",
        "outputId": "4a727713-36dd-402b-e8bf-f6d5f3735070",
        "colab": {
          "base_uri": "https://localhost:8080/"
        }
      },
      "outputs": [
        {
          "output_type": "stream",
          "name": "stdout",
          "text": [
            "[1, 'one', 2, 3, 4, 5, 6]\n",
            "[(1, {}), ('one', {}), (2, {'weight': 5}), (3, {'name': ['node', 'number', 'three']}), (4, {}), (5, {}), (6, {})]\n"
          ]
        }
      ],
      "source": [
        "# グラフに含まれるすべてのノードをリストとして返す\n",
        "print(G.nodes)\n",
        "print(G.nodes.data())"
      ]
    },
    {
      "cell_type": "code",
      "execution_count": 6,
      "metadata": {
        "id": "iWZ2OU8c2zx0",
        "outputId": "a91f7190-2313-4c47-fd38-41f776fbd05b",
        "colab": {
          "base_uri": "https://localhost:8080/"
        }
      },
      "outputs": [
        {
          "output_type": "stream",
          "name": "stdout",
          "text": [
            "{'name': ['node', 'number', 'three']}\n",
            "['node', 'number', 'three']\n"
          ]
        }
      ],
      "source": [
        "# ノードの属性情報を辞書として返す\n",
        "print(G.nodes[3])\n",
        "print(G.nodes[3]['name'])"
      ]
    },
    {
      "cell_type": "code",
      "execution_count": 7,
      "metadata": {
        "id": "Tz6s4gdK2zx1",
        "outputId": "8ea373ab-4802-45b1-f11f-39b3de8d76c4",
        "colab": {
          "base_uri": "https://localhost:8080/"
        }
      },
      "outputs": [
        {
          "output_type": "stream",
          "name": "stdout",
          "text": [
            "1\n",
            "one\n",
            "2\n",
            "3\n",
            "4\n",
            "5\n",
            "6\n"
          ]
        }
      ],
      "source": [
        "# ノードの繰り返し処理\n",
        "for n in G:\n",
        "    print(n)"
      ]
    },
    {
      "cell_type": "code",
      "execution_count": 8,
      "metadata": {
        "id": "98ORGCNW2zx1"
      },
      "outputs": [],
      "source": [
        "# グラフにエッジ追加\n",
        "G.add_edge(1,2)\n",
        "\n",
        "# グラフに属性付きエッジ追加\n",
        "G.add_edge(2,3, weight=10, name=\"edge from 2 to 3\")\n",
        "\n",
        "# タプルを要素としたリストからエッジ追加\n",
        "G.add_edges_from([(3,4),(3,5),(2,4)])\n",
        "\n",
        "# タプルの3番目の要素をエッジの重みとして、リストから重み付きエッジ追加\n",
        "G.add_weighted_edges_from([(4,5,20),(5,6,30)])"
      ]
    },
    {
      "cell_type": "code",
      "execution_count": 9,
      "metadata": {
        "id": "Oi6cDRif2zx2",
        "outputId": "eedb4cf2-190b-42cc-83ec-71cd17c7df47",
        "colab": {
          "base_uri": "https://localhost:8080/"
        }
      },
      "outputs": [
        {
          "output_type": "stream",
          "name": "stdout",
          "text": [
            "[(1, 2), (2, 3), (2, 4), (3, 4), (3, 5), (4, 5), (5, 6)]\n",
            "[(1, 2, {}), (2, 3, {'weight': 10, 'name': 'edge from 2 to 3'}), (2, 4, {}), (3, 4, {}), (3, 5, {}), (4, 5, {'weight': 20}), (5, 6, {'weight': 30})]\n"
          ]
        }
      ],
      "source": [
        "# グラフに含まれるすべてのエッジをリストとして返す\n",
        "print(G.edges)\n",
        "print(G.edges.data())"
      ]
    },
    {
      "cell_type": "code",
      "execution_count": 10,
      "metadata": {
        "id": "qbjov_kR2zx2",
        "outputId": "c93b30d4-ead8-41a9-f87a-886d05970bbf",
        "colab": {
          "base_uri": "https://localhost:8080/"
        }
      },
      "outputs": [
        {
          "output_type": "stream",
          "name": "stdout",
          "text": [
            "(1, 2)\n",
            "(2, 3)\n",
            "(2, 4)\n",
            "(3, 4)\n",
            "(3, 5)\n",
            "(4, 5)\n",
            "(5, 6)\n"
          ]
        }
      ],
      "source": [
        "# エッジの繰り返し処理\n",
        "for e in G.edges:\n",
        "    print(e)"
      ]
    },
    {
      "cell_type": "code",
      "execution_count": 11,
      "metadata": {
        "id": "FhrBwGE22zx3",
        "outputId": "5cc7ea92-b418-49c0-8910-19f58d12adcc",
        "colab": {
          "base_uri": "https://localhost:8080/"
        }
      },
      "outputs": [
        {
          "output_type": "stream",
          "name": "stdout",
          "text": [
            "[1, 3, 4]\n",
            "{1: {}, 3: {'weight': 10, 'name': 'edge from 2 to 3'}, 4: {}}\n",
            "{1: {}, 3: {'weight': 10, 'name': 'edge from 2 to 3'}, 4: {}}\n",
            "{'weight': 10, 'name': 'edge from 2 to 3'}\n",
            "{'weight': 10, 'name': 'edge from 2 to 3'}\n",
            "edge from 2 to 3\n",
            "10\n"
          ]
        }
      ],
      "source": [
        "# ノードに隣接するノード\n",
        "print(list(G.neighbors(2)))\n",
        "\n",
        "# ノードに隣接するノードの情報の辞書を返す\n",
        "print(G[2])\n",
        "print(G.adj[2])\n",
        "\n",
        "# エッジの情報\n",
        "print(G[2][3])\n",
        "print(G.edges[2, 3])\n",
        "\n",
        "# エッジの属性\n",
        "print(G[2][3]['name'])\n",
        "print(G.edges[2, 3]['weight'])"
      ]
    },
    {
      "cell_type": "code",
      "execution_count": 12,
      "metadata": {
        "id": "ghYoOrlA2zx3",
        "outputId": "6dd6a9fc-61ac-42f0-9c8c-6571c6395520",
        "colab": {
          "base_uri": "https://localhost:8080/",
          "height": 319
        }
      },
      "outputs": [
        {
          "output_type": "display_data",
          "data": {
            "text/plain": [
              "<Figure size 432x288 with 1 Axes>"
            ],
            "image/png": "[encoded data removed]"
          },
          "metadata": {}
        }
      ],
      "source": [
        "# グラフの描画\n",
        "nx.draw(G, with_labels=True)"
      ]
    },
    {
      "cell_type": "code",
      "execution_count": 13,
      "metadata": {
        "id": "gwYsl-Ik2zx3"
      },
      "outputs": [],
      "source": [
        "# グラフからノードとそのノードに接続するすべてのエッジを削除\n",
        "G.remove_node('one')\n",
        "\n",
        "# グラフからエッジを削除\n",
        "G.remove_edge(4,5)\n",
        "\n",
        "# グラフからすべてのノードとエッジを削除\n",
        "#　G.clear"
      ]
    },
    {
      "cell_type": "code",
      "execution_count": 14,
      "metadata": {
        "id": "YVAKNBgA2zx4",
        "outputId": "c8e0a3f5-40bc-4e41-c0f7-d206ac0357e4",
        "colab": {
          "base_uri": "https://localhost:8080/"
        }
      },
      "outputs": [
        {
          "output_type": "stream",
          "name": "stdout",
          "text": [
            "True\n",
            "False\n"
          ]
        }
      ],
      "source": [
        "# エッジがあるかの確認\n",
        "print(G.has_edge(1,2))\n",
        "print(G.has_edge(1,3))"
      ]
    },
    {
      "cell_type": "code",
      "execution_count": 15,
      "metadata": {
        "id": "48s4t4592zx5",
        "outputId": "8f788726-52a5-4440-898c-7c8a3d065de7",
        "colab": {
          "base_uri": "https://localhost:8080/",
          "height": 319
        }
      },
      "outputs": [
        {
          "output_type": "display_data",
          "data": {
            "text/plain": [
              "<Figure size 432x288 with 1 Axes>"
            ],
            "image/png": "[encoded data removed]"
          },
          "metadata": {}
        }
      ],
      "source": [
        "# ネットワーク図をファイルに保存\n",
        "nx.draw(G, with_labels=True)\n",
        "plt.savefig('network.png')"
      ]
    },
    {
      "cell_type": "code",
      "execution_count": 16,
      "metadata": {
        "id": "v6MiSf1h2zx5",
        "outputId": "a5cd6eaa-2880-41be-8f40-7f010cfa189d",
        "colab": {
          "base_uri": "https://localhost:8080/"
        }
      },
      "outputs": [
        {
          "output_type": "stream",
          "name": "stdout",
          "text": [
            "6\n",
            "6\n"
          ]
        }
      ],
      "source": [
        "# ノードの数\n",
        "print(len(G))\n",
        "\n",
        "# エッジの数\n",
        "print(G.size())"
      ]
    },
    {
      "cell_type": "code",
      "execution_count": 17,
      "metadata": {
        "id": "5C32_y_x2zx5",
        "outputId": "cde32d8f-6026-4906-e839-c4e2a4f00a21",
        "colab": {
          "base_uri": "https://localhost:8080/"
        }
      },
      "outputs": [
        {
          "output_type": "stream",
          "name": "stdout",
          "text": [
            "  (0, 1)\t1\n",
            "  (1, 0)\t1\n",
            "  (1, 2)\t1\n",
            "  (1, 3)\t1\n",
            "  (2, 1)\t1\n",
            "  (2, 3)\t1\n",
            "  (2, 4)\t1\n",
            "  (3, 1)\t1\n",
            "  (3, 2)\t1\n",
            "  (4, 2)\t1\n",
            "  (4, 5)\t1\n",
            "  (5, 4)\t1\n",
            "[[0 1 0 0 0 0]\n",
            " [1 0 1 1 0 0]\n",
            " [0 1 0 1 1 0]\n",
            " [0 1 1 0 0 0]\n",
            " [0 0 1 0 0 1]\n",
            " [0 0 0 0 1 0]]\n"
          ]
        }
      ],
      "source": [
        "# エッジの重みを1に設定し直す\n",
        "G[2][3]['weight']=1\n",
        "G[5][6]['weight']=1\n",
        "\n",
        "# グラフの隣接行列\n",
        "print(nx.adjacency_matrix(G))\n",
        "print(nx.adjacency_matrix(G).toarray())"
      ]
    },
    {
      "cell_type": "code",
      "execution_count": 18,
      "metadata": {
        "id": "21L_feQg2zx6",
        "outputId": "b55356b4-140e-47e0-cc02-cde110586d92",
        "colab": {
          "base_uri": "https://localhost:8080/"
        }
      },
      "outputs": [
        {
          "output_type": "stream",
          "name": "stdout",
          "text": [
            "[[1 0 1 1 0 0]\n",
            " [0 3 1 1 1 0]\n",
            " [1 1 3 1 0 1]\n",
            " [1 1 1 2 1 0]\n",
            " [0 1 0 1 2 0]\n",
            " [0 0 1 0 0 1]]\n"
          ]
        }
      ],
      "source": [
        "# 隣接行列の積\n",
        "A=nx.adjacency_matrix(G).toarray()\n",
        "print(np.dot(A,A))"
      ]
    },
    {
      "cell_type": "code",
      "execution_count": 19,
      "metadata": {
        "id": "-H7okq7c2zx6",
        "outputId": "19fb6f38-f92f-437b-ab30-4b5bfa481e2c",
        "colab": {
          "base_uri": "https://localhost:8080/"
        }
      },
      "outputs": [
        {
          "output_type": "stream",
          "name": "stdout",
          "text": [
            "[1, 2, 3, 5, 6]\n",
            "[4, 3, 5, 6]\n",
            "{1: [1], 2: [1, 2], 3: [1, 2, 3], 4: [1, 2, 4], 5: [1, 2, 3, 5], 6: [1, 2, 3, 5, 6]}\n",
            "[1, 2, 3, 5, 6]\n",
            "4\n"
          ]
        }
      ],
      "source": [
        "# 最短経路\n",
        "path = nx.shortest_path(G)\n",
        "print(path[1][6])\n",
        "print(path[4][6])\n",
        "\n",
        "# ノード1からの最短経路\n",
        "print(nx.shortest_path(G,1))\n",
        "\n",
        "# ノード1と6の間の最短経路\n",
        "print(nx.shortest_path(G,1,6))\n",
        "\n",
        "# ノード1と6の間の最短経路長\n",
        "print(nx.shortest_path_length(G,1,6))"
      ]
    },
    {
      "cell_type": "code",
      "execution_count": 20,
      "metadata": {
        "id": "XUv4zx9J2zx6",
        "outputId": "aefd85e1-101c-401b-f808-0542d6def4a3",
        "colab": {
          "base_uri": "https://localhost:8080/"
        }
      },
      "outputs": [
        {
          "output_type": "stream",
          "name": "stdout",
          "text": [
            "1.9333333333333333\n",
            "0.27777777777777773\n"
          ]
        }
      ],
      "source": [
        "#平均最短距離\n",
        "print(nx.average_shortest_path_length(G))\n",
        "\n",
        "#平均クラスタリング係数\n",
        "print(nx.average_clustering(G))"
      ]
    },
    {
      "cell_type": "code",
      "execution_count": 21,
      "metadata": {
        "id": "DYnwfYD22zx6",
        "outputId": "dffdf6d0-60d8-422d-ef06-dfde12f06112",
        "colab": {
          "base_uri": "https://localhost:8080/"
        }
      },
      "outputs": [
        {
          "output_type": "stream",
          "name": "stdout",
          "text": [
            "{1: 0.2, 2: 0.6000000000000001, 3: 0.6000000000000001, 4: 0.4, 5: 0.4, 6: 0.2}\n",
            "{1: 0.4166666666666667, 2: 0.625, 3: 0.7142857142857143, 4: 0.5555555555555556, 5: 0.5555555555555556, 6: 0.38461538461538464}\n",
            "{1: 0.0, 2: 0.4, 3: 0.6000000000000001, 4: 0.0, 5: 0.4, 6: 0.0}\n"
          ]
        }
      ],
      "source": [
        "# 次数中心性 (次数/ネットワークの最大次数（n-1)で標準化)\n",
        "print(nx.degree_centrality(G))\n",
        "\n",
        "# 近接中心性\n",
        "print(nx.closeness_centrality(G))\n",
        "\n",
        "# 媒介中心性\n",
        "print(nx.betweenness_centrality(G))"
      ]
    },
    {
      "cell_type": "code",
      "execution_count": 25,
      "metadata": {
        "id": "3Hr3nlnh2zx7",
        "outputId": "b8e79b1f-8a78-4423-d0f0-1815d53a348f",
        "colab": {
          "base_uri": "https://localhost:8080/",
          "height": 319
        }
      },
      "outputs": [
        {
          "output_type": "display_data",
          "data": {
            "text/plain": [
              "<Figure size 432x288 with 1 Axes>"
            ],
            "image/png": "[encoded data removed]"
          },
          "metadata": {}
        }
      ],
      "source": [
        "# 媒介中心性の値でノードの大きさを変えて可視化\n",
        "node_size = np.array(list((nx.betweenness_centrality(G)).values()))\n",
        "nx.draw(G, with_labels=True,  node_size = [v * 3000 for v in node_size])"
      ]
    },
    {
      "cell_type": "code",
      "execution_count": 26,
      "metadata": {
        "id": "f6B_f-dI2zx7",
        "outputId": "d15b0d58-afa4-4f8f-a8f1-7d53f568a9b3",
        "colab": {
          "base_uri": "https://localhost:8080/",
          "height": 319
        }
      },
      "outputs": [
        {
          "output_type": "display_data",
          "data": {
            "text/plain": [
              "<Figure size 432x288 with 1 Axes>"
            ],
            "image/png": "[encoded data removed]"
          },
          "metadata": {}
        }
      ],
      "source": [
        "# 有効グラフの作成（ただし自己閉路を含まない）\n",
        "DiG = nx.DiGraph()\n",
        "DiG.add_edges_from([(1,2),(2,3),(2,4)])\n",
        "nx.draw(DiG, with_labels=True)"
      ]
    },
    {
      "cell_type": "code",
      "execution_count": 27,
      "metadata": {
        "id": "ke_FcQji2zx7",
        "outputId": "62f1e7ba-4f59-4300-8fb3-7e803ecdcbbf",
        "colab": {
          "base_uri": "https://localhost:8080/"
        }
      },
      "outputs": [
        {
          "output_type": "stream",
          "name": "stdout",
          "text": [
            "[3, 4]\n",
            "[1]\n"
          ]
        }
      ],
      "source": [
        "# 有向グラフにおける点の後続点\n",
        "print (list(DiG.successors(2)))\n",
        "\n",
        "# 有向グラフにおける点の先行点\n",
        "print(list(DiG.predecessors(2)))"
      ]
    },
    {
      "cell_type": "code",
      "execution_count": 28,
      "metadata": {
        "id": "wUOYOZyS2zx7",
        "outputId": "05d06fd3-c650-48a1-82a7-cf7b5a7147d7",
        "colab": {
          "base_uri": "https://localhost:8080/"
        }
      },
      "outputs": [
        {
          "output_type": "stream",
          "name": "stdout",
          "text": [
            "3\n",
            "1\n",
            "2\n"
          ]
        },
        {
          "output_type": "execute_result",
          "data": {
            "text/plain": [
              "[(1, 1), (2, 3), (3, 1), (4, 1)]"
            ]
          },
          "metadata": {},
          "execution_count": 28
        }
      ],
      "source": [
        "# ノードの次数\n",
        "print(DiG.degree(2))\n",
        "\n",
        "# ノードの入次数\n",
        "print(DiG.in_degree(2))\n",
        "\n",
        "# ノードの出次数\n",
        "print(DiG.out_degree(2))\n",
        "\n",
        "#グラフの各ノードの次数\n",
        "list(DiG.degree)"
      ]
    },
    {
      "cell_type": "code",
      "execution_count": null,
      "metadata": {
        "id": "By-ZJ9xn2zx7"
      },
      "outputs": [],
      "source": []
    }
  ],
  "metadata": {
    "kernelspec": {
      "display_name": "Python 3",
      "language": "python",
      "name": "python3"
    },
    "language_info": {
      "codemirror_mode": {
        "name": "ipython",
        "version": 3
      },
      "file_extension": ".py",
      "mimetype": "text/x-python",
      "name": "python",
      "nbconvert_exporter": "python",
      "pygments_lexer": "ipython3",
      "version": "3.7.3"
    },
    "colab": {
      "provenance": [],
      "include_colab_link": true
    }
  },
  "nbformat": 4,
  "nbformat_minor": 0
}
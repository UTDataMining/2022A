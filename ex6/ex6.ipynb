{
  "nbformat": 4,
  "nbformat_minor": 0,
  "metadata": {
    "colab": {
      "name": "ex6.ipynb",
      "provenance": [],
      "collapsed_sections": [],
      "include_colab_link": true
    },
    "kernelspec": {
      "name": "python3",
      "display_name": "Python 3"
    },
    "language_info": {
      "name": "python"
    }
  },
  "cells": [
    {
      "cell_type": "markdown",
      "metadata": {
        "id": "view-in-github",
        "colab_type": "text"
      },
      "source": [
        "<a href=\"https://colab.research.google.com/github/UTDataMining/2021A/blob/master/ex6/ex6.ipynb\" target=\"_parent\"><img src=\"https://colab.research.google.com/assets/colab-badge.svg\" alt=\"Open In Colab\"/></a>"
      ]
    },
    {
      "cell_type": "markdown",
      "metadata": {
        "id": "V3PsY3Xz8M2p"
      },
      "source": [
        "# 課題6 クラスタリング\n",
        "\n",
        "配点\n",
        "- Q1 2P\n",
        "- Q2 6P\n",
        "- Q3 2P"
      ]
    },
    {
      "cell_type": "code",
      "metadata": {
        "id": "aJOqhgpC3Iwt"
      },
      "source": [
        "# matplotlib日本語化用モジュールをインストール\n",
        "!pip install japanize-matplotlib"
      ],
      "execution_count": null,
      "outputs": []
    },
    {
      "cell_type": "code",
      "metadata": {
        "id": "U1_PIc3V8bzB"
      },
      "source": [
        "# モジュールのインポート\n",
        "import csv\n",
        "import pandas as pd\n",
        "import numpy as np\n",
        "import matplotlib.pyplot as plt\n",
        "%matplotlib inline\n",
        "import japanize_matplotlib"
      ],
      "execution_count": null,
      "outputs": []
    },
    {
      "cell_type": "markdown",
      "metadata": {
        "id": "aLiSfZBn8h3t"
      },
      "source": [
        "## 階層化クラスタリング\n",
        "以下では、都道府県の気象データについて都道府県間の類似度（距離）に基づき都道府県を階層化クラスタリングすることを考えます。気象データは都道府県ごとの2018年度の年平均気温（℃）と年間降水量（mm）からなり、以下の政府統計ポータルサイトe-Statから取得しました。\n",
        "\n",
        "[都道府県・市区町村のすがた（社会・人口統計体系）](https://www.e-stat.go.jp/regional-statistics/ssdsview/prefectures)"
      ]
    },
    {
      "cell_type": "code",
      "metadata": {
        "id": "KjGPCVXY8f0o"
      },
      "source": [
        "# Colaboratoryでは以下を実行して必要なファイルをダウンロード\n",
        "!wget https://raw.githubusercontent.com/UTDataMining/2021S/master/ex7/weather.xlsx"
      ],
      "execution_count": null,
      "outputs": []
    },
    {
      "cell_type": "code",
      "metadata": {
        "id": "XHWWCXCi8mjA"
      },
      "source": [
        "# 気象データファイルの読み込み（年平均気温: Temp、年間降水量: Rain）\n",
        "weather_df = pd.read_excel('weather.xlsx', header=4, usecols=[0,2,3],  skiprows=[5], skipfooter=4, names=['Pref','Temp','Rain']) \n",
        "weather_df"
      ],
      "execution_count": null,
      "outputs": []
    },
    {
      "cell_type": "code",
      "metadata": {
        "id": "AxpxRLT88pHg"
      },
      "source": [
        "# 散布図\n",
        "plt.figure(figsize=(10,7))\n",
        "plt.scatter(weather_df['Temp'], weather_df['Rain'])\n",
        "plt.xlabel('avg. temp. (degree Celsius)')\n",
        "plt.ylabel('avg. annual rainfall (mm)')\n",
        "plt.grid(True);"
      ],
      "execution_count": null,
      "outputs": []
    },
    {
      "cell_type": "markdown",
      "metadata": {
        "id": "vfLjz3NE8ukL"
      },
      "source": [
        "階層化クラスタリングには`SciPy`の階層化クラスタリングモジュール（`scipy.cluster.hierarchy`）を用います。\n",
        "\n",
        "`linkage`関数は、特徴量ベクトルを行とする行列を入力とし、`metric`引数で指定した距離尺度と`method`引数で指定した距離計算方法で階層化クラスタリングを行い、特徴量ベクトル間のクラスタリングの過程を行列として返します。\n",
        "\n",
        "- metric引数に指定できる距離尺度: cosine, euclidean, jaccard, hamming, correlation, mahalanobis, など\n",
        "[距離尺度](https://docs.scipy.org/doc/scipy/reference/generated/scipy.spatial.distance.pdist.html#scipy.spatial.distance.pdist)\n",
        "\n",
        "- method引数に指定できる距離計算方法: single, complete, average, ward, など\n",
        "[linkage関数と距離計算方法](https://docs.scipy.org/doc/scipy/reference/generated/scipy.cluster.hierarchy.linkage.html)\n",
        "\n",
        "以下では、標準化された都道府県の気象データの2次元配列を`linkage`関数の入力として指定しています。\n",
        "\n",
        "`dendrogram`関数は、`linkage`関数が出力したクラスタリング過程を表す行列を入力として、クラスタリングの過程をデンドログラムとして可視化します。`labels`引数には各特徴量ベクトル（各都道府県の平均気温と降水量のベクトル）に付与するラベルのリストを指定します。"
      ]
    },
    {
      "cell_type": "code",
      "metadata": {
        "id": "TQyhAzOi8sK-"
      },
      "source": [
        "from scipy.cluster.hierarchy import linkage\n",
        "from scipy.cluster.hierarchy import dendrogram"
      ],
      "execution_count": null,
      "outputs": []
    },
    {
      "cell_type": "code",
      "metadata": {
        "id": "2SWewiG08947"
      },
      "source": [
        "X = weather_df[['Temp', 'Rain']].values # データフレーム から配列に変換\n",
        "X = (X-X.mean(axis=0))/X.std(axis=0) # 標準化\n",
        "\n",
        "prefs = weather_df['Pref'].values # 都道府県名ラベル"
      ],
      "execution_count": null,
      "outputs": []
    },
    {
      "cell_type": "code",
      "metadata": {
        "id": "_aE8jB-e9CH_"
      },
      "source": [
        "# 距離計算方法single\n",
        "clusters = linkage(X, metric = 'euclidean', method = 'single')\n",
        "\n",
        "plt.figure(figsize=(10,7))\n",
        "dendrogram(clusters, labels=prefs,  color_threshold=0.7)\n",
        "plt.ylabel('threshold');"
      ],
      "execution_count": null,
      "outputs": []
    },
    {
      "cell_type": "markdown",
      "metadata": {
        "id": "akMgrhkP9FOC"
      },
      "source": [
        "距離計算方法を`complete`や`average`に変更して階層化クラスタリングを行い得られるクラスタがどのように変化するか、それぞれのデンドログラムを可視化して観察してください。`denderogram`の`color_thereshold`の値を変えることで異なるクラスタ数でクラスタリング結果が色分けされます。"
      ]
    },
    {
      "cell_type": "code",
      "metadata": {
        "id": "pChuKzro9D5f"
      },
      "source": [
        "# 距離計算方法complete\n",
        "..."
      ],
      "execution_count": null,
      "outputs": []
    },
    {
      "cell_type": "code",
      "metadata": {
        "id": "I66Vl-669KpA"
      },
      "source": [
        "# 距離計算方法average\n",
        "..."
      ],
      "execution_count": null,
      "outputs": []
    },
    {
      "cell_type": "markdown",
      "metadata": {
        "id": "GV_BWjCp9O5U"
      },
      "source": [
        "### 参考\n",
        "`linkage`関数には、以下のように特徴量ベクトル間の距離を表す行列を入力することもできます。`pdist`関数は`metric`引数で指定した距離尺度で特徴量ベクトル間の距離を計算し、それらの距離を要素とする行列（正確には行列の上半分をベクトルにしたもの）を返します。距離行列を`linkage`関数の入力とした場合は、`linkage`関数で距離尺度を指定する必要はありません。\n",
        "\n",
        "[pdist関数](https://docs.scipy.org/doc/scipy/reference/generated/scipy.spatial.distance.pdist.html)"
      ]
    },
    {
      "cell_type": "code",
      "metadata": {
        "id": "2JdTkoXH9ODi"
      },
      "source": [
        "from scipy.spatial.distance import pdist\n",
        "\n",
        "# 階層化クラスタリング\n",
        "# 距離尺度を'euclidean'、距離計算は'single'\n",
        "clusters = linkage(pdist(X, metric='euclidean'), method='single')\n",
        "\n",
        "# デンドログラム\n",
        "plt.figure(figsize=(10,7))\n",
        "dendrogram(clusters, labels=prefs,  color_threshold=0.7)\n",
        "plt.ylabel('threshold');"
      ],
      "execution_count": null,
      "outputs": []
    },
    {
      "cell_type": "code",
      "metadata": {
        "id": "Zwkw72BT9XLg"
      },
      "source": [
        "from scipy.spatial.distance import squareform\n",
        "\n",
        "# 距離行列\n",
        "dist_matrix = pd.DataFrame(squareform(pdist(X, metric='euclidean')), columns=prefs, index=prefs)\n",
        "dist_matrix"
      ],
      "execution_count": null,
      "outputs": []
    },
    {
      "cell_type": "markdown",
      "metadata": {
        "id": "6Lk3LL7H9l8g"
      },
      "source": [
        "## k-means法"
      ]
    },
    {
      "cell_type": "markdown",
      "metadata": {
        "id": "2aAxk1j7-GYs"
      },
      "source": [
        "### Q1 平方ユークリッド距離\n",
        "\n",
        "$n$-次元ベクトル空間における、任意の2つのベクトル、$ \\vec{x}=(x_1,x_2,...,x_n)$、$\\vec{y}=(y_1,y_2,...,y_n)$、の間の平方ユークリッド距離$ \\| \\vec{x}- \\vec{y}\\|^2$は以下のように定義されます。\n",
        "\n",
        "$\\Sigma^{n}_{i=1}(x_{i}-y_{i})^2=\\vec{x}\\cdot\\vec{x}+\\vec{y}\\cdot\\vec{y}-2\\vec{x}\\cdot\\vec{y}$\n",
        "\n",
        "入力ベクトル $\\vec{x}$, $\\vec{y}$ をそれぞれ`NumPy` の配列として引数で受け取り、それらのベクトル間の平方ユークリッド距離を計算して返す関数 `squared_euclid` を完成させてください。"
      ]
    },
    {
      "cell_type": "code",
      "metadata": {
        "id": "SOmxV_MY9kem",
        "exercise_id": "q1",
        "inlinetests": {
          "InlineTest_1": "\ntry:\n  import numpy as np\n  assert 1 == squared_euclid(np.array([1,0,1]), np.array([1,1,1])), f\"'squared_euclid(np.array([1,0,1]), np.array([1,1,1]))' returns {squared_euclid(np.array([1,0,1]), np.array([1,1,1]))}, while the expected answer is {1}\"\n  assert 0 == squared_euclid(np.array([1,1,1]), np.array([1,1,1])), f\"'squared_euclid(np.array([1,1,1]), np.array([1,1,1]))' returns {squared_euclid(np.array([1,1,1]), np.array([1,1,1]))}, while the expected answer is {0}\"\n  assert 12 == squared_euclid(np.array([-1,-1,-1]), np.array([1,1,1])), f\"'squared_euclid(np.array([-1,-1,-1]), np.array([1,1,1]))' returns {squared_euclid(np.array([-1,-1,-1]), np.array([1,1,1]))}, while the expected answer is {12}\"\nexcept AssertionError as e:\n    raise e\nexcept Exception as e:\n    assert False, f\"Your function raises an exception: {e}.\""
        }
      },
      "source": [
        "def squared_euclid(x, y):\n",
        "    return ..."
      ],
      "execution_count": null,
      "outputs": []
    },
    {
      "cell_type": "markdown",
      "metadata": {
        "id": "f1MhdJuTAIiY"
      },
      "source": [
        "`squared_euclid()`関数が完成したら、以下のセルを実行して動作を確認してください。"
      ]
    },
    {
      "cell_type": "code",
      "metadata": {
        "id": "kzL92o34AXMk"
      },
      "source": [
        "print(squared_euclid(np.array([1,0,1]), np.array([1,1,1])))\n",
        "print(squared_euclid(np.array([1,1,1]), np.array([1,1,1])))\n",
        "print(squared_euclid(np.array([-1,-1,-1]), np.array([1,1,1])))"
      ],
      "execution_count": null,
      "outputs": []
    },
    {
      "cell_type": "markdown",
      "metadata": {
        "id": "l4J8XF5eA35y"
      },
      "source": [
        "結果は、`1`、`0`、`12`、となります。"
      ]
    },
    {
      "cell_type": "markdown",
      "metadata": {
        "id": "3xrMqlrsByoN"
      },
      "source": [
        "### Q2 k-means法の実装\n",
        "以下では、k-means法によるクラスタリングを行う`kmeans`関数を実装します。`kmeans`関数では第1引数に入力`X`（データ数($m$)$\\times$特徴量数($n$)の行列）、第2引数にクラスタ数を受け取り、以下の処理を行います。（引数には第3引数に中心への割り当てと中心点の更新の繰り返し数（既定値10）、第4引数に中心をランダムに選ぶ際のシード（既定値0）、を指定できますが省略可能です。）\n",
        "\n",
        "- ***初期化***\n",
        "\n",
        "まず、クラスタの数($K$)だけ中心を入力データからランダムに選び、それらを初期の中心$\\mu^{(k)} (k=0,...,K-1)$とします。\n",
        "\n",
        "- ***1. 中心への割り当て***\n",
        "\n",
        "各データ$x^{(i)} (i=0,...,m-1)$と各中心$\\mu^{(k)}$の平方ユークリッド距離を計算し、その結果を距離行列`d[i,k]`に代入します。距離行列`d`はデータを行、中心を列として、各データと各中心の距離を要素とする行列です。\n",
        "\n",
        "距離行列`d[i,k]`の各行について、その行に対応するデータに最も近い中心をそのデータが属するクラスタの中心として選びます。これにより、各データ$x^{(i)}$がどのクラスタ中心$\\mu^{(k)}$に属するかを表す以下の配列`clusters`を更新します。\n",
        "\n",
        "データ$x^{(i)}$の最近接の中心が$\\mu^{(k)}$であれば`clusters[i]=k`\n",
        "\n",
        "この時、以下のように距離行列`d`の各行ごとにその行の最小値を持つ列のインデックスを`np.argmin`で取得することで配列`clusters`を作成できます。\n",
        "```Python\n",
        "clusters = np.argmin(d,axis=1)\n",
        "```\n",
        "\n",
        "- ***2. 中心の更新***\n",
        "\n",
        "そして、各中心$\\mu^{(k)}$に属するデータ$x^{(k,i)}$を用いて各中心を更新します\n",
        "\n",
        "$\\mu^{(k)}= \\Sigma_{i} x^{(k,i)}/(\\mu^{(k)}に属するデータ数)$\n",
        "\n",
        "この時、`clusters`配列とインデックス参照を用いて、中心$\\mu^{(k)}$に属するデータの特徴ベクトル集合を入力`X`から以下のように取得できます。\n",
        "```Python\n",
        "X[clusters==k,:]\n",
        "```\n",
        "これらの特徴ベクトルの平均のベクトル（ヒント:`np.mean`)を新たな中心$\\mu^{(k)}$のベクトルとします。\n",
        "\n",
        "k-means法では、上記のデータの中心への割り当てと中心の更新を繰り返すことで、クラスタリングを行います。繰り返し処理が終わったら、`kmeans`関数は、各データの所属するクラスタを表す配列`clusters`、各クラスタ中心のベクトルを行とする行列`centers`、最終的なコスト関数の値`cost`を返します。上記に従って、`kmeans`関数を完成させてください。"
      ]
    },
    {
      "cell_type": "code",
      "metadata": {
        "id": "XrpMxauoCQUi",
        "exercise_id": "q2",
        "inlinetests": {
          "InlineTest_2": "\ntry:\n  X = weather_df[['Temp', 'Rain']].values\n  X = (X-X.mean(axis=0))/X.std(axis=0)\n  clusters, centers, cost=kmeans(X, 3)  \n  assert {(-2.0, -1.0), (0.0, -0.0), (1.0, 2.0)} == set(map(tuple, np.round(centers))), f\"'np.round(centers)' returns {np.round(centers)}, while the expected answer is {[-2.0, -1.0], [0.0, -0.0], [1.0, 2.0]}\"\n  assert 32 == int(cost), f\"'cost' returns {cost}, while the expected answer is {32}...\"\nexcept AssertionError as e:\n    raise e\nexcept Exception as e:\n    assert False, f\"Your function raises an exception: {e}.\""
        }
      },
      "source": [
        "def kmeans(X, n_clusters, max_iter=10, rand_seed=2): \n",
        "    ### 引数：\n",
        "    # X: 入力データ（データ数x特徴量数の行列）\n",
        "    # n_clusters: クラスタ数\n",
        "    # max_iter: 中心への割り当てと中心の更新の繰り返し数\n",
        "    # rand_seed: 中心をランダムに選ぶ際のシード\n",
        "    \n",
        "    # クラスタ数のだけ中心を入力データからランダムに選ぶ\n",
        "        # 補: k-means++の場合は、この中心を選び方を変更\n",
        "        # 補: また、クラスタ数が比較的小さい時は異なる初期中心を試し\n",
        "        # 最終的にコストが小さくなる初期中心を採用するのがよい\n",
        "    np.random.seed(rand_seed)    \n",
        "    centers=X[np.random.choice(X.shape[0], n_clusters, replace=False), :]\n",
        "    \n",
        "    # 各特徴量ベクトルと中心点ベクトルの距離を表す2次元配列（入力データ数xクラスタ数）の初期化\n",
        "    d = ...\n",
        "    \n",
        "    # 各データの所属するクラスタ（中心）を表す1次元配列の初期化\n",
        "    clusters = ...\n",
        "    \n",
        "    # 以下をmax_iter回だけ繰り返し\n",
        "        # 1. 中心への割り当て\n",
        "        ### 入力データiの特徴量ベクトルと中心kのベクトルの平方ユークリッド距離を計算して、d[i,k]を更新するコード\n",
        "        ...\n",
        "        ###  各データiがどの中心kに属するかを表す配列clustersを更新（clusters[i]=k)するコード\n",
        "        ...\n",
        "        # 2. 中心の更新\n",
        "        ### 中心kに属するデータiだけを用いて中心kのベクトルcenters[k,:]を更新するコード\n",
        "        ...\n",
        "    # コストの計算\n",
        "    cost = .... # コスト（各データ点とその中心の平方ユークリッド距離の総和）の計算\n",
        "    return clusters, centers, cost "
      ],
      "execution_count": null,
      "outputs": []
    },
    {
      "cell_type": "markdown",
      "metadata": {
        "id": "sl192qxxDuPU"
      },
      "source": [
        "`kmeans`関数が完成したら以下のセルを実行して動作を確認してください。"
      ]
    },
    {
      "cell_type": "code",
      "metadata": {
        "id": "ed2lmC7wDs2m"
      },
      "source": [
        "X = weather_df[['Temp', 'Rain']].values # データフレーム から配列に変換\n",
        "X = (X-X.mean(axis=0))/X.std(axis=0) # 標準化\n",
        "clusters, centers, cost=kmeans(X, 3)\n",
        "\n",
        "# 可視化\n",
        "plt.figure(figsize=(10,7))\n",
        "plt.xlabel('normalized avg. temp. (degree Celsius)')\n",
        "plt.ylabel('normalized avg. annual rainfall (mm)')\n",
        "plt.scatter(X[clusters==0,0],X[clusters==0,1],c='blue')\n",
        "plt.scatter(X[clusters==1,0],X[clusters==1,1],c='green')\n",
        "plt.scatter(X[clusters==2,0],X[clusters==2,1],c='yellow')\n",
        "plt.scatter(centers[:,0], centers[:,1], c='red'); # クラスタの中心点"
      ],
      "execution_count": null,
      "outputs": []
    },
    {
      "cell_type": "markdown",
      "metadata": {
        "id": "xjN3sbJWEGRZ"
      },
      "source": [
        "最終的なコスト関数の値は$\\simeq32$、クラスタの中心点は`(0.2..., -0.1...)`、`(-1.7..., -0.9...)`、`(0.7..., 1.7...)`となります。"
      ]
    },
    {
      "cell_type": "code",
      "metadata": {
        "id": "MQ36QAVVEFp4"
      },
      "source": [
        "# コスト関数の値\n",
        "print(cost)\n",
        "\n",
        "# クラスタの中心点\n",
        "print(centers)"
      ],
      "execution_count": null,
      "outputs": []
    },
    {
      "cell_type": "markdown",
      "metadata": {
        "id": "Eubhe9i2OnHe"
      },
      "source": [
        "scikit-learnのKMeansモデルを用いると以下のようにk-means法を実行できます。\n"
      ]
    },
    {
      "cell_type": "code",
      "metadata": {
        "id": "qEunluViOKrQ"
      },
      "source": [
        "from sklearn.cluster import KMeans\n",
        "\n",
        "model = KMeans(n_clusters=3) \n",
        "model.fit(X) \n",
        "clusters=model.predict(X) \n",
        "\n",
        "plt.figure(figsize=(10,7))\n",
        "plt.xlabel('normalized avg. temp. (degree Celsius)')\n",
        "plt.ylabel('normalized avg. annual rainfall (mm)')\n",
        "plt.scatter(X[clusters==0,0],X[clusters==0,1],c='blue')\n",
        "plt.scatter(X[clusters==1,0],X[clusters==1,1],c='green')\n",
        "plt.scatter(X[clusters==2,0],X[clusters==2,1],c='yellow')\n",
        "\n",
        "plt.scatter(model.cluster_centers_[:,0], model.cluster_centers_[:,1], c='red'); # クラスタの中心点\n",
        "print(model.inertia_) # コスト関数の値\n",
        "print(model.cluster_centers_) # クラスタの中心点"
      ],
      "execution_count": null,
      "outputs": []
    },
    {
      "cell_type": "markdown",
      "metadata": {
        "id": "npqmx0JxJ2QC"
      },
      "source": [
        "### Q3 エルボー法\n",
        "クラスタリングにおいて、クラスタ数を変化させた時のクラスタリングのコストの変化に基づいて、最適なクラスタ数を決定する方法をエルボー法と呼びます。エルボー法では、クラスタ数を増やしていった時にコストが最も大きく減少しその後の減少が緩やかになる（グラフの”肘”ができる）時のクラスタ数を採用します。以下の`elbow`関数は、Q2で作成した`kmeans`関数を用いて、クラスタ数を1から1つずつ増やしていった時のクラスタリングのコストの変化を可視化します。`elbow`関数を完成させてください。"
      ]
    },
    {
      "cell_type": "code",
      "metadata": {
        "id": "K9uB0nZoKC9K",
        "exercise_id": "q3",
        "inlinetests": {
          "InlineTest_3": "\ntry:\n  X = weather_df[['Temp', 'Rain']].values\n  X = (X-X.mean(axis=0))/X.std(axis=0)\n  costs = elbow(X, 10)  \n  assert 94 == int(costs[0]), f\"'cost' returns {costs[0]}, while the expected answer is {94}...\"\n  assert 53 == int(costs[1]), f\"'cost' returns {costs[1]}, while the expected answer is {53}...\"\n  assert 32 == int(costs[2]), f\"'cost' returns {costs[2]}, while the expected answer is {32}...\"\nexcept AssertionError as e:\n    raise e\nexcept Exception as e:\n    assert False, f\"Your function raises an exception: {e}.\""
        }
      },
      "source": [
        "def elbow(X, K):\n",
        "    ### 引数：\n",
        "    # X: 入力データ\n",
        "    # K: 最大のクラスタ数    \n",
        "    \n",
        "    # 各クラスタ数でのコストをいれるリスト\n",
        "    costs=[]\n",
        "    \n",
        "    #1からKまでのクラスタ数kそれぞれで入力データをkmeans法でクラスタリングした時の最終的なコストをcostsに追加するコード \n",
        "    ...    \n",
        "\n",
        "    return costs"
      ],
      "execution_count": null,
      "outputs": []
    },
    {
      "cell_type": "code",
      "metadata": {
        "id": "MPW6v1FpKgte"
      },
      "source": [
        "X = weather_df[['Temp', 'Rain']].values # データフレーム から配列に変換\n",
        "X = (X-X.mean(axis=0))/X.std(axis=0) # 標準化\n",
        "K = 15\n",
        "costs = elbow(X, 15)\n",
        "plt.xlabel(\"# of clusters\")\n",
        "plt.ylabel(\"cost\")\n",
        "plt.plot(range(1,K+1),costs);"
      ],
      "execution_count": null,
      "outputs": []
    },
    {
      "cell_type": "markdown",
      "metadata": {
        "id": "r5pN7s1IK7MP"
      },
      "source": [
        "### 参考\n",
        "地図上でのクラスタの可視化"
      ]
    },
    {
      "cell_type": "code",
      "metadata": {
        "id": "wKd6gMq_K_sm"
      },
      "source": [
        "!pip install japanmap"
      ],
      "execution_count": null,
      "outputs": []
    },
    {
      "cell_type": "code",
      "metadata": {
        "id": "lpcFNqH4LH8r"
      },
      "source": [
        "import japanmap as jm\n",
        "colors = {0:\"red\", 1:\"green\", 2:\"blue\", 3:\"cyan\", 4:\"magenta\", 5:\"yellow\", 6:\"black\", 7:\"white\"}\n",
        "k=5\n",
        "plt.figure(figsize=(10, 10))\n",
        "plt.imshow(jm.picture({p:c for p, c in zip(weather_df['Pref'].values, [colors[c] for c in kmeans(X, k)[0]])}))\n",
        "plt.axis('off');"
      ],
      "execution_count": null,
      "outputs": []
    },
    {
      "cell_type": "markdown",
      "metadata": {
        "id": "j5oThFYV-VRb"
      },
      "source": [
        "## コードのテスト\n",
        "以下の実行ボタンを押してから、設問ごとにCheck関数でコードのテストをしてください。"
      ]
    },
    {
      "cell_type": "code",
      "metadata": {
        "id": "xeJeApdR-ZFm"
      },
      "source": [
        "## コードのテストの前にこのセルを実行してください\n",
        "!pip install prog_edu_assistant_tools\n",
        "import re\n",
        "import sys\n",
        "import jinja2\n",
        "from IPython.core import display\n",
        "from google.colab import _message as google_message\n",
        "from prog_edu_assistant_tools.magics import report, autotest, CaptureOutput\n",
        "from prog_edu_assistant_tools.check import Check"
      ],
      "execution_count": null,
      "outputs": []
    },
    {
      "cell_type": "markdown",
      "metadata": {
        "id": "j6njdFpx-nV3"
      },
      "source": [
        "## Q1"
      ]
    },
    {
      "cell_type": "code",
      "metadata": {
        "id": "KcEkvcDt-ov1"
      },
      "source": [
        "# Run this cell to check your solution.\n",
        "# If you get an error 'Check not defined', make sure you have run all preceding\n",
        "# cells once (Runtime -> Run before)\n",
        "Check('q1')"
      ],
      "execution_count": null,
      "outputs": []
    },
    {
      "cell_type": "markdown",
      "metadata": {
        "id": "L8t7AyDk-r9k"
      },
      "source": [
        "## Q2"
      ]
    },
    {
      "cell_type": "code",
      "metadata": {
        "id": "UVT3IJIO-te9"
      },
      "source": [
        "# Run this cell to check your solution.\n",
        "# If you get an error 'Check not defined', make sure you have run all preceding\n",
        "# cells once (Runtime -> Run before)\n",
        "Check('q2')"
      ],
      "execution_count": null,
      "outputs": []
    },
    {
      "cell_type": "markdown",
      "metadata": {
        "id": "fI_rZX2K-vlc"
      },
      "source": [
        "## Q3"
      ]
    },
    {
      "cell_type": "code",
      "metadata": {
        "id": "Qp9PAPoV-ws9"
      },
      "source": [
        "# Run this cell to check your solution.\n",
        "# If you get an error 'Check not defined', make sure you have run all preceding\n",
        "# cells once (Runtime -> Run before)\n",
        "Check('q3')"
      ],
      "execution_count": null,
      "outputs": []
    }
  ]
}
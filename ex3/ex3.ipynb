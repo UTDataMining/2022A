{
  "nbformat": 4,
  "nbformat_minor": 0,
  "metadata": {
    "colab": {
      "name": "ex3.ipynb",
      "provenance": [],
      "collapsed_sections": [],
      "include_colab_link": true
    },
    "kernelspec": {
      "name": "python3",
      "display_name": "Python 3"
    },
    "language_info": {
      "name": "python"
    }
  },
  "cells": [
    {
      "cell_type": "markdown",
      "metadata": {
        "id": "view-in-github",
        "colab_type": "text"
      },
      "source": [
        "<a href=\"https://colab.research.google.com/github/UTDataMining/2021A/blob/master/ex3/ex3.ipynb\" target=\"_parent\"><img src=\"https://colab.research.google.com/assets/colab-badge.svg\" alt=\"Open In Colab\"/></a>"
      ]
    },
    {
      "cell_type": "markdown",
      "metadata": {
        "id": "k4Wkvd4votda"
      },
      "source": [
        "# 課題3 データの前処理と可視化\n",
        "\n",
        "配点\n",
        "- Q1, 1P\n",
        "- Q2, 1P\n",
        "- Q3, 2P\n",
        "- Q4, 3P\n",
        "- Q5, 3P\n"
      ]
    },
    {
      "cell_type": "code",
      "metadata": {
        "id": "zE9BHJEnosaM"
      },
      "source": [
        "# 必要なモジュールの読み込み\n",
        "import pandas as pd\n",
        "import numpy as np\n",
        "import matplotlib.pyplot as plt\n",
        "%matplotlib inline"
      ],
      "execution_count": null,
      "outputs": []
    },
    {
      "cell_type": "markdown",
      "metadata": {
        "id": "up9EkMIBo52Z"
      },
      "source": [
        "## Q1 欠損値の処理\n",
        "### 欠損値の検出\n",
        "pandasのシリーズやデータフレームではデータに欠損値（例えば数値データ内の空値）が含まれる場合、欠損値が`NaN`となります。以下では欠損値（空値）を含む得点データのcsvファイル, 'score_missing.csv', を読み込み、データフレーム`score`を作成します。"
      ]
    },
    {
      "cell_type": "code",
      "metadata": {
        "id": "jAtn4CQTpCqH"
      },
      "source": [
        "# Colaboratoryでは以下を実行して必要なファイルをダウンロード\n",
        "!wget https://raw.githubusercontent.com/UTDataMining/2020A/master/ex3/score_missing.csv"
      ],
      "execution_count": null,
      "outputs": []
    },
    {
      "cell_type": "code",
      "metadata": {
        "id": "bwXktMcWo6Vn"
      },
      "source": [
        "score = pd.read_csv('score_missing.csv')\n",
        "score"
      ],
      "execution_count": null,
      "outputs": []
    },
    {
      "cell_type": "markdown",
      "metadata": {
        "id": "7buvx45_pJCo"
      },
      "source": [
        "データフレームに欠損値が含まれるかどうかはpandasの`isnull()`メソッドを使うと調べることができます。`isnull()`メソッドはデータフレームの各要素の値について、欠損値であれば`True`、欠損値でなければ`False`を要素としたデータフレームを返します。\n",
        "\n",
        "`isnull()`メソッドの詳細は以下を参照してください。\n",
        "\n",
        "[isnull()](https://pandas.pydata.org/pandas-docs/stable/reference/api/pandas.isnull.html)"
      ]
    },
    {
      "cell_type": "code",
      "metadata": {
        "id": "9DIg7B4KpJfH"
      },
      "source": [
        "score.isnull()"
      ],
      "execution_count": null,
      "outputs": []
    },
    {
      "cell_type": "markdown",
      "metadata": {
        "id": "jhfr8w4npUE7"
      },
      "source": [
        "`isnull()`メソッドで返された上記のデータフレームの`any()`メソッド使うと、データフレームにおいて欠損値を含む行または列を調べることができます。以下では、列ごとに欠損値を含むかどうかを示すシリーズオブジェクトを返します。"
      ]
    },
    {
      "cell_type": "code",
      "metadata": {
        "id": "KazX6mBJpSSP"
      },
      "source": [
        "# 列ごとに欠損値があるか調べる\n",
        "score.isnull().any()"
      ],
      "execution_count": null,
      "outputs": []
    },
    {
      "cell_type": "markdown",
      "metadata": {
        "id": "vZPmCuhUpcPX"
      },
      "source": [
        "上記で`any()メソッド`の引数`axis`を1とすると、行ごとに欠損値を含むかどうかを示すシリーズオブジェクトを返します。"
      ]
    },
    {
      "cell_type": "code",
      "metadata": {
        "id": "9ygZnBzepbDX"
      },
      "source": [
        "# 行ごとに欠損値があるか調べる\n",
        "score.isnull().any(axis=1)"
      ],
      "execution_count": null,
      "outputs": []
    },
    {
      "cell_type": "markdown",
      "metadata": {
        "id": "9Xrcrkbnpk_D"
      },
      "source": [
        "上記のシリーズオブジェクトを以下のようデータフレーム抽出の条件として用いると、元のデータフレームから欠損値を含む行または列からなるデータフレームを抽出できます。"
      ]
    },
    {
      "cell_type": "code",
      "metadata": {
        "id": "HzJyQBuBpgOv"
      },
      "source": [
        "# データフレームから欠損値を含む行を抽出\n",
        "score[score.isnull().any(axis=1)]"
      ],
      "execution_count": null,
      "outputs": []
    },
    {
      "cell_type": "code",
      "metadata": {
        "id": "ck0eVmg1pkHn"
      },
      "source": [
        "# データフレームから欠損値を含む列を抽出\n",
        "score.loc[:, score.isnull().any()]"
      ],
      "execution_count": null,
      "outputs": []
    },
    {
      "cell_type": "markdown",
      "metadata": {
        "id": "kHU5A_AcpuAr"
      },
      "source": [
        "### 欠損値の削除\n",
        "pandasの`dropna()`メソッドを使うと欠損値を含む行を削除したデータフレーム を返すことができます。`dropna()`メソッドでは、この他にもさまざまな方法で欠損値を削除することができます。詳細は以下を参照してください。\n",
        "\n",
        "[dropna()](https://pandas.pydata.org/pandas-docs/stable/reference/api/pandas.DataFrame.dropna.html)"
      ]
    },
    {
      "cell_type": "code",
      "metadata": {
        "id": "maLPAIFVpp2H"
      },
      "source": [
        "score.dropna()"
      ],
      "execution_count": null,
      "outputs": []
    },
    {
      "cell_type": "markdown",
      "metadata": {
        "id": "oPL16p1YqKq_"
      },
      "source": [
        "### 欠損値の補完\n",
        "pandasの`fillna()`メソッドを使うと欠損値を補完したデータフレーム を返すことができます。以下では、欠損値が含まれる列の欠損がない要素の値の平均値でその列にある欠損値を補完しています。`fillna()`メソッドでは、この他にもさまざまな方法で欠損値を補完することができます。詳細は以下を参照してください。\n",
        "\n",
        "[fillna()](https://pandas.pydata.org/pandas-docs/stable/reference/api/pandas.DataFrame.fillna.html)"
      ]
    },
    {
      "cell_type": "code",
      "metadata": {
        "id": "RMWHKkoDp2EH"
      },
      "source": [
        "score = pd.read_csv('score_missing.csv')\n",
        "score.fillna(score.mean())"
      ],
      "execution_count": null,
      "outputs": []
    },
    {
      "cell_type": "markdown",
      "metadata": {
        "id": "5smU3EvNqgFY"
      },
      "source": [
        "## Q1\n",
        "欠損値（空値）を含む得点データのcsvファイル, 'score_missing.csv', を読み込み作成したデータフレームを受け取り、各列の欠損値をその列の欠損がない要素の値の中央値で補完したデータフレームを返す`fill_median()`関数を完成させてください。"
      ]
    },
    {
      "cell_type": "code",
      "metadata": {
        "id": "g2SCSpN_qjUt",
        "exercise_id": "q1",
        "inlinetests": {
          "InlineTest_1": "\ntry:\n  import pandas as pd\n  score = pd.read_csv('score_missing.csv')\n  assert 2013 == fill_median(score).sum().sum(), f\"'fill_median(score).sum().sum()' returns {fill_median(score).sum().sum()}, while the expected answer is {2013}\"\n  assert 42 == fill_median(score).loc[2,'kokugo'], f\"'fill_median(score).loc[2,'kokugo']' returns {fill_median(score).loc[2,'kokugo']}, while the expected answer is {42}\"\nexcept AssertionError as e:\n    raise e\nexcept Exception as e:\n    assert False, f\"Your function raises an exception: {e}.\""
        }
      },
      "source": [
        "def fill_median(df):\n",
        "  return ..."
      ],
      "execution_count": null,
      "outputs": []
    },
    {
      "cell_type": "code",
      "metadata": {
        "id": "sYHimAexv55P"
      },
      "source": [
        "score = pd.read_csv('score_missing.csv') # csvファイル読み込み\n",
        "fill_median(score) # 欠損値補完されたデータフレームを表示"
      ],
      "execution_count": null,
      "outputs": []
    },
    {
      "cell_type": "markdown",
      "metadata": {
        "id": "1t0NrELLqw68"
      },
      "source": [
        "`fill_median()`関数が完成したら、以下のセルを実行して動作を確認してください。"
      ]
    },
    {
      "cell_type": "code",
      "metadata": {
        "id": "g9gruw8FrUnm"
      },
      "source": [
        "df = fill_median(score) \n",
        "df.loc[2, 'kokugo']"
      ],
      "execution_count": null,
      "outputs": []
    },
    {
      "cell_type": "markdown",
      "metadata": {
        "id": "BBCaQNyXrjMT"
      },
      "source": [
        "結果は、`42.0`、となります。結果が異なる場合は、作成した`fill_median`関数に誤りがないか確認してください。"
      ]
    },
    {
      "cell_type": "markdown",
      "metadata": {
        "id": "AfPSpKzZueD6"
      },
      "source": [
        "## Q2\n",
        "整数を要素とする任意の長さの1次元配列を入力として受け取り、配列の要素の値の中で、以下の外れ値の基準にあてはまる要素からなる1次元配列を返す`find_outliers()`関数を完成させてください。なお、IQRは四分位範囲であり、第3四分位から第1四分位を引いた値です。\n",
        "- （第1四分位-1.5IQR）を値の下限としてそれより小さい値は外れ値とする\n",
        "- （第3四分位+1.5IQR）を値の上限としてそれより大きい値は外れ値とする\n",
        "\n",
        "配列の第1四分位と第3四分位は、NumPyの`percentile()`関数を用いて以下のように求められる。\n",
        "```Python\n",
        "第1四分位, 第3四分位=np.percentile(配列, [25, 75])\n",
        "```"
      ]
    },
    {
      "cell_type": "code",
      "metadata": {
        "id": "6LN7YhL-u7me",
        "exercise_id": "q2",
        "inlinetests": {
          "InlineTest_2": "\ntry:\n  import numpy as np\n  lst = [30,39,-100,29,95,70,67,200,29,1000,56,45,68]\n  assert set([-100,200,1000]) == set(find_outliers(np.array(lst))), f\"Your function returns {find_outliers(np.array(lst))}, while the expected answer is {np.array([-100, 200, 1000])}\"\nexcept AssertionError as e:\n    raise e\nexcept Exception as e:\n    assert False, f\"Your function raises an exception: {e}.\""
        }
      },
      "source": [
        "def find_outliers(input_array):\n",
        "  ...\n",
        "  return ..."
      ],
      "execution_count": null,
      "outputs": []
    },
    {
      "cell_type": "markdown",
      "metadata": {
        "id": "yBkorOQ8vvwF"
      },
      "source": [
        "`find_outliers()`関数が完成したら、以下のセルを実行して動作を確認してください。"
      ]
    },
    {
      "cell_type": "code",
      "metadata": {
        "id": "8sM4UhLlvy_2"
      },
      "source": [
        "find_outliers(np.array([30,39,-100,29,95,70,67,200,29,1000,56,45,68]))"
      ],
      "execution_count": null,
      "outputs": []
    },
    {
      "cell_type": "markdown",
      "metadata": {
        "id": "UFG9zguHv52D"
      },
      "source": [
        "結果は、`array([-100,  200, 1000])`、となります。結果が異なる場合は、作成した`find_outliers`関数に誤りがないか確認してください。"
      ]
    },
    {
      "cell_type": "markdown",
      "metadata": {
        "id": "9za5rkvLzDy7"
      },
      "source": [
        "## Q3\n",
        "以下のような形式の\"score_outlier.csv\"ファイルを読み込み、データフレーム`score`を作成します。\n",
        "```Python\n",
        "## score_outlier.csvファイル\n",
        "kokugo, shakai, sugaku, rika\n",
        "30, 43, 51, 63\n",
        "39, 21, 49, 56\n",
        "...\n",
        "```\n",
        "`score`を受け取り、各列ごとに、Q2.1と同様に四分位範囲, 第3四分位, 第1四分位を用いて外れ値を検出し、外れ値を含む行を除いたデータフレームを返す関数`drop_outliers()`を完成させてください。データフレームの各列の第1四分位と第3四分位は、pandasの`quantile()`メソッドを用いて以下のように求められる。\n",
        "```Python\n",
        "第1四分位 = データフレーム[列名].quantile(0.25)\n",
        "第3四分位 = データフレーム[列名].quantile(0.75)\n",
        "```"
      ]
    },
    {
      "cell_type": "code",
      "metadata": {
        "id": "W7y9KBL9zQwE"
      },
      "source": [
        "# Colaboratoryでは以下を実行して必要なファイルをダウンロード\n",
        "!wget https://raw.githubusercontent.com/UTDataMining/2020A/master/ex3/score_outlier.csv"
      ],
      "execution_count": null,
      "outputs": []
    },
    {
      "cell_type": "code",
      "metadata": {
        "id": "oMjoQCEfzSpj",
        "exercise_id": "q3",
        "inlinetests": {
          "InlineTest_3": "\ntry:\n  import pandas as pd\n  score = pd.read_csv('score_outlier.csv')\n  assert 155 == len(drop_outliers(score).index), f\"'len(drop_outliers(score).index)' returns {len(drop_outliers(score).index)}, while the expected answer is {155}\"\nexcept AssertionError as e:\n    raise e\nexcept Exception as e:\n    assert False, f\"Your function raises an exception: {e}.\""
        }
      },
      "source": [
        "def drop_outliers(df):\n",
        "  for c in  df.columns:       \n",
        "    q1 = ... # 第1四分位\n",
        "    q3 = ... # 第3四分位\n",
        "    iqr = ... # 四分位範囲\n",
        "    df.loc[...] = None # 外れ値にNoneを代入\n",
        "  return  df.dropna()"
      ],
      "execution_count": null,
      "outputs": []
    },
    {
      "cell_type": "code",
      "metadata": {
        "id": "rDJfREhZwkeO"
      },
      "source": [
        "score = pd.read_csv('score_outlier.csv') # csvファイル読み込み\n",
        "drop_outliers(score).head(10)  # 外れ値を含む行を除いたデータフレームを表示"
      ],
      "execution_count": null,
      "outputs": []
    },
    {
      "cell_type": "markdown",
      "metadata": {
        "id": "i-o6NhmI0PQO"
      },
      "source": [
        "`drop_outliers()`関数が完成したら、以下のセルを実行して動作を確認してください。"
      ]
    },
    {
      "cell_type": "code",
      "metadata": {
        "id": "bdsS1GDC0jCP"
      },
      "source": [
        "len(drop_outliers(score).index)"
      ],
      "execution_count": null,
      "outputs": []
    },
    {
      "cell_type": "markdown",
      "metadata": {
        "id": "afq07CSG0jL3"
      },
      "source": [
        "外れ値を含む行を除いたデータフレームの行数は`155`となります。"
      ]
    },
    {
      "cell_type": "markdown",
      "metadata": {
        "id": "dc4R8MML16uG"
      },
      "source": [
        "## 外れ値と箱ひげ図の可視化"
      ]
    },
    {
      "cell_type": "markdown",
      "metadata": {
        "id": "_3kMPHxX2AxK"
      },
      "source": [
        "`matplotlib`では、以下のようにして複数の1次配列を入力として、それぞれを箱ひげ図として同時に可視化することができます。\n",
        "```Python\n",
        "plt.boxplot([配列1, 配列2, 配列3, ....], showmeans=True);\n",
        "```"
      ]
    },
    {
      "cell_type": "code",
      "metadata": {
        "id": "bHHvmHXt2EVz"
      },
      "source": [
        "score = np.loadtxt(\"score_outlier.csv\", delimiter=\",\", skiprows=1)\n",
        "plt.boxplot([score[:,0], score[:,1], score[:,2], score[:,3]], showmeans=True);"
      ],
      "execution_count": null,
      "outputs": []
    },
    {
      "cell_type": "markdown",
      "metadata": {
        "id": "xjsHVQDc2Skn"
      },
      "source": [
        "## ヒストグラムの可視化\n",
        "`matplotlib`では、以下のように1次配列を入力として、ヒストグラムを可視化することができます。\n",
        "```Python\n",
        "plt.hist(配列, bins=階級数);\n",
        "```"
      ]
    },
    {
      "cell_type": "code",
      "metadata": {
        "id": "V8WEONdz3AiJ"
      },
      "source": [
        "# Colaboratoryでは以下を実行して必要なファイルをダウンロード\n",
        "!wget https://raw.githubusercontent.com/UTDataMining/2020A/master/ex3/exam_score.csv"
      ],
      "execution_count": null,
      "outputs": []
    },
    {
      "cell_type": "code",
      "metadata": {
        "id": "75X3_0Cz2ZHT"
      },
      "source": [
        "# 数学（3列目）の点数のヒストグラム\n",
        "score = np.loadtxt(\"exam_score.csv\", delimiter=\",\", skiprows=1)\n",
        "plt.hist(score[:,2], bins=20);"
      ],
      "execution_count": null,
      "outputs": []
    },
    {
      "cell_type": "code",
      "metadata": {
        "id": "2Q33m71Q3D_o"
      },
      "source": [
        "# 平均=muと標準偏差=stdの時の正規分布に従うランダムな値からなる配列を入力とするヒストグラム\n",
        "mu, std = 50, 25\n",
        "nor = np.random.normal(mu, std,1000)\n",
        "plt.hist(nor, bins=20);"
      ],
      "execution_count": null,
      "outputs": []
    },
    {
      "cell_type": "markdown",
      "metadata": {
        "id": "A6y5BJ9q3mNl"
      },
      "source": [
        "## Q4\n",
        "### 散布図\n",
        "`matplotlib`では、以下のように2つの1次配列を入力として、散布図を可視化することができます。\n",
        "```Python\n",
        "plt.plot(配列1, 配列2, 'o');\n",
        "```"
      ]
    },
    {
      "cell_type": "code",
      "metadata": {
        "id": "Hr5IULTC3rvZ"
      },
      "source": [
        "# 数学と理科の点数の散布図\n",
        "score = np.loadtxt(\"exam_score.csv\", delimiter=\",\", skiprows=1)\n",
        "plt.plot(score[:,2], score[:,3], 'o');"
      ],
      "execution_count": null,
      "outputs": []
    },
    {
      "cell_type": "markdown",
      "metadata": {
        "id": "PFcC2qjw4OVC"
      },
      "source": [
        "整数を要素とする同じ長さの2つの1次元配列を入力として受け取り、それらの配列の要素の相関係数を返す`correlation()`関数を完成させてください。2つの配列は先頭から順にそれぞれの要素が対応するものとします。それぞれの配列の対応する要素の値を$x_{i}, y_{i}$とすると、相関係数は以下のように求められます。\n",
        "\n",
        "$\\frac{1}{n}\\Sigma^{n}_{i=1}(\\frac{x_{i}-\\overline{x}}{s_{x}})(\\frac{y_{i}-\\overline{y}}{s_{y}})$\n",
        "\n",
        "$\\overline{x}, \\overline{y}$は平均、$s_{x}, s_{y}$は標準偏差です。"
      ]
    },
    {
      "cell_type": "code",
      "metadata": {
        "id": "BuneOUM-5TNN",
        "exercise_id": "q4",
        "inlinetests": {
          "InlineTest_4": "\ntry:\n  import numpy as np\n  score = np.loadtxt(\"exam_score.csv\", delimiter=\",\", skiprows=1)\n  assert 81 == int(correlation(score[:,2], score[:,3])*100), f\"Your function returns {correlation(score[:,2], score[:,3])}, while the expected answer is {0.81}...\"\nexcept AssertionError as e:\n    raise e\nexcept Exception as e:\n    assert False, f\"Your function raises an exception: {e}.\""
        }
      },
      "source": [
        "def correlation(x, y):\n",
        "  return ..."
      ],
      "execution_count": null,
      "outputs": []
    },
    {
      "cell_type": "markdown",
      "metadata": {
        "id": "rg5COWFR5t7v"
      },
      "source": [
        "`correlation()`関数が完成したら、以下のセルを実行して動作を確認してください。"
      ]
    },
    {
      "cell_type": "code",
      "metadata": {
        "id": "kMpriQEr5uRi"
      },
      "source": [
        "score = np.loadtxt(\"exam_score.csv\", delimiter=\",\", skiprows=1)\n",
        "correlation(score[:,2], score[:,3])"
      ],
      "execution_count": null,
      "outputs": []
    },
    {
      "cell_type": "markdown",
      "metadata": {
        "id": "3-pGG8sT57vj"
      },
      "source": [
        "相関係数は、約`0.81`となります。"
      ]
    },
    {
      "cell_type": "markdown",
      "metadata": {
        "id": "ZsbeD8lQ7l4i"
      },
      "source": [
        "### 参考\n",
        "NumPyの`corrcoef()`関数を使うと2つの1次元配列の相関係数を以下のように求めることができます。"
      ]
    },
    {
      "cell_type": "code",
      "metadata": {
        "id": "IfjWtEGn7pgN"
      },
      "source": [
        "score = np.loadtxt(\"exam_score.csv\", delimiter=\",\", skiprows=1)\n",
        "np.corrcoef(score[:,2], score[:,3])"
      ],
      "execution_count": null,
      "outputs": []
    },
    {
      "cell_type": "markdown",
      "metadata": {
        "id": "Iu2EvDqX7yYt"
      },
      "source": [
        "pandasの`corr`メソッドを使うとデータフレームの列間の相関係数を以下のように求めることができます。"
      ]
    },
    {
      "cell_type": "code",
      "metadata": {
        "id": "4cGEbtSb7xdn"
      },
      "source": [
        "score = pd.read_csv(\"exam_score.csv\", sep=\",\")\n",
        "score.corr(method='pearson')"
      ],
      "execution_count": null,
      "outputs": []
    },
    {
      "cell_type": "markdown",
      "metadata": {
        "id": "Yw5Ju0SZ8uCE"
      },
      "source": [
        "これらの相関係数の大小に基づいて以下のように列間の相関の大小をヒートマップとして可視化することができます。"
      ]
    },
    {
      "cell_type": "code",
      "metadata": {
        "id": "x3eqbBab8tSx"
      },
      "source": [
        "plt.colorbar(plt.imshow(score.corr(method='pearson')));"
      ],
      "execution_count": null,
      "outputs": []
    },
    {
      "cell_type": "markdown",
      "metadata": {
        "id": "N7CZtShl87yJ"
      },
      "source": [
        "## Q5\n",
        "以下のような形式の\"exam_score.csv\"ファイルを読み込み、作成したNumPyの配列を受け取り、各教科の点数をその教科の平均値と分散を用いて標準化した配列を返す`normalize_score()`関数を完成させてください。平均値と分散の計算には、NumPyの関数またはndarrayオブジェクトのメソッド、どちらを使ってもよいです。また、分散は標本分散としてください。\n",
        "```Python\n",
        "## exam_score.csvファイル\n",
        "kokugo, shakai, sugaku, rika\n",
        "30, 43, 51, 63\n",
        "39, 21, 49, 56\n",
        "...\n",
        "```\n",
        "\n",
        "配列の列ごとに関数やメソッドを適用するには以下のように`axis`引数を0とする。\n",
        "```Python\n",
        "np.mean(配列, axis=0)\n",
        "配列.mean(axis=0)\n",
        "```"
      ]
    },
    {
      "cell_type": "code",
      "metadata": {
        "id": "K10GoIHS9GDx",
        "exercise_id": "q5",
        "inlinetests": {
          "InlineTest_5": "\ntry:\n  import numpy as np\n  score = np.loadtxt(\"exam_score.csv\", delimiter=\",\", skiprows=1)\n  assert 1 == round(normalize_score(score)[:,0].var()), f\"'round(normalize_score(score)[:,0].var())' returns {round(normalize_score(score)[:,0].var())}, while the expected answer is {1}\"\n  assert 1 == round(normalize_score(score)[:,1].var()), f\"'round(normalize_score(score)[:,1].var())' returns {round(normalize_score(score)[:,1].var())}, while the expected answer is {1}\"\n  assert 1 == round(normalize_score(score)[:,2].var()), f\"'round(normalize_score(score)[:,2].var())' returns {round(normalize_score(score)[:,2].var())}, while the expected answer is {1}\"\n  assert 1 == round(normalize_score(score)[:,3].var()), f\"'round(normalize_score(score)[:,3].var())' returns {round(normalize_score(score)[:,3].var())}, while the expected answer is {1}\"\nexcept AssertionError as e:\n    raise e\nexcept Exception as e:\n    assert False, f\"Your function raises an exception: {e}.\""
        }
      },
      "source": [
        "def normalize_score(X):\n",
        "  return ..."
      ],
      "execution_count": null,
      "outputs": []
    },
    {
      "cell_type": "markdown",
      "metadata": {
        "id": "eroCLdPv9sYr"
      },
      "source": [
        "`normalize_score()`関数が完成したら、以下のセルを実行して動作を確認してください。"
      ]
    },
    {
      "cell_type": "code",
      "metadata": {
        "id": "p_dVn6EK-Hi0"
      },
      "source": [
        "score = np.loadtxt(\"exam_score.csv\", delimiter=\",\", skiprows=1)\n",
        "print(round(normalize_score(score)[:,0].var()))\n",
        "print(round(normalize_score(score)[:,1].var()))\n",
        "print(round(normalize_score(score)[:,2].var()))\n",
        "print(round(normalize_score(score)[:,3].var()))"
      ],
      "execution_count": null,
      "outputs": []
    },
    {
      "cell_type": "markdown",
      "metadata": {
        "id": "9pyuQH93-g4D"
      },
      "source": [
        "各教科の点数の分散は、約`1`となります。"
      ]
    },
    {
      "cell_type": "markdown",
      "metadata": {
        "id": "VrxhWASUBO4p"
      },
      "source": [
        "### 参考\n",
        "pandasでは以下のようにしてデータフレームの各列をその列の平均値と分散を用いて標準化できます。"
      ]
    },
    {
      "cell_type": "code",
      "metadata": {
        "id": "IPCNc7i_BQon"
      },
      "source": [
        "score_df = pd.read_csv('exam_score.csv')\n",
        "((score_df - score_df.mean()) / score_df.std(ddof=0)).head(5)"
      ],
      "execution_count": null,
      "outputs": []
    },
    {
      "cell_type": "markdown",
      "metadata": {
        "id": "_2E-gStbsO3c"
      },
      "source": [
        "## コードのテスト\n",
        "以下の実行ボタンを押してから、設問ごとにCheck関数でコードのテストをしてください。"
      ]
    },
    {
      "cell_type": "code",
      "metadata": {
        "id": "mzFSWMV7sDi2"
      },
      "source": [
        "# コードのテストの前にこのセルを実行してください\n",
        "!pip install prog_edu_assistant_tools\n",
        "import re\n",
        "import sys\n",
        "import jinja2\n",
        "from IPython.core import display\n",
        "from google.colab import _message as google_message\n",
        "from prog_edu_assistant_tools.magics import report, autotest, CaptureOutput\n",
        "from prog_edu_assistant_tools.check import Check"
      ],
      "execution_count": null,
      "outputs": []
    },
    {
      "cell_type": "markdown",
      "metadata": {
        "id": "CtlZONIWtgiY"
      },
      "source": [
        "## Q1"
      ]
    },
    {
      "cell_type": "code",
      "metadata": {
        "id": "2Gp8b0L_ti5r"
      },
      "source": [
        "# Run this cell to check your solution.\n",
        "# If you get an error 'Check not defined', make sure you have run all preceding\n",
        "# cells once (Runtime -> Run before)\n",
        "Check('q1')"
      ],
      "execution_count": null,
      "outputs": []
    },
    {
      "cell_type": "markdown",
      "metadata": {
        "id": "yDrSx1xExhgO"
      },
      "source": [
        "## Q2"
      ]
    },
    {
      "cell_type": "code",
      "metadata": {
        "id": "8dx-nzartkha"
      },
      "source": [
        "# Run this cell to check your solution.\n",
        "# If you get an error 'Check not defined', make sure you have run all preceding\n",
        "# cells once (Runtime -> Run before)\n",
        "Check('q2')"
      ],
      "execution_count": null,
      "outputs": []
    },
    {
      "cell_type": "markdown",
      "metadata": {
        "id": "GpaVE7GL1a2U"
      },
      "source": [
        "## Q3"
      ]
    },
    {
      "cell_type": "code",
      "metadata": {
        "id": "SMqVV4bixkqv"
      },
      "source": [
        "# Run this cell to check your solution.\n",
        "# If you get an error 'Check not defined', make sure you have run all preceding\n",
        "# cells once (Runtime -> Run before)\n",
        "Check('q3')"
      ],
      "execution_count": null,
      "outputs": []
    },
    {
      "cell_type": "markdown",
      "metadata": {
        "id": "2wAh_pMI7VW3"
      },
      "source": [
        "## Q4"
      ]
    },
    {
      "cell_type": "code",
      "metadata": {
        "id": "YJjnXGp71eDb"
      },
      "source": [
        "# Run this cell to check your solution.\n",
        "# If you get an error 'Check not defined', make sure you have run all preceding\n",
        "# cells once (Runtime -> Run before)\n",
        "Check('q4')"
      ],
      "execution_count": null,
      "outputs": []
    },
    {
      "cell_type": "markdown",
      "metadata": {
        "id": "jV_7uqJW_oW_"
      },
      "source": [
        "## Q5"
      ]
    },
    {
      "cell_type": "code",
      "metadata": {
        "id": "pNYGsygx7X8d"
      },
      "source": [
        "# Run this cell to check your solution.\n",
        "# If you get an error 'Check not defined', make sure you have run all preceding\n",
        "# cells once (Runtime -> Run before)\n",
        "Check('q5')"
      ],
      "execution_count": null,
      "outputs": []
    }
  ]
}
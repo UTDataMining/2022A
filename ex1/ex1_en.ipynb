{
  "nbformat": 4,
  "nbformat_minor": 0,
  "metadata": {
    "colab": {
      "provenance": [],
      "collapsed_sections": [],
      "include_colab_link": true
    },
    "kernelspec": {
      "name": "python3",
      "display_name": "Python 3"
    },
    "language_info": {
      "name": "python"
    }
  },
  "cells": [
    {
      "cell_type": "markdown",
      "metadata": {
        "id": "view-in-github",
        "colab_type": "text"
      },
      "source": [
        "<a href=\"https://colab.research.google.com/github/UTDataMining/2022A/blob/main/ex1/ex1_en.ipynb\" target=\"_parent\"><img src=\"https://colab.research.google.com/assets/colab-badge.svg\" alt=\"Open In Colab\"/></a>"
      ]
    },
    {
      "cell_type": "markdown",
      "metadata": {
        "id": "2WVIxtiCgy6L"
      },
      "source": [
        "# EX1 Descriptive statistics\n",
        "The mean is one of typical descriptive statistics. The mean is used for describing the central tendency of data.\n",
        "\n",
        "When the data consists of $n$ numerical elements, the mean can be calculated as follows. \n",
        "\n",
        "$\\frac{1}{n}\\Sigma^{n}_{i=1}x_{i}$,\n",
        "\n",
        "where $x_{i}$ represents each element of the data.\n",
        "\n",
        "In the following,  implement Python code to calculate the mean, maximum, and minimum values given numerical data as a list.\n",
        "\n",
        "Points\n",
        "- Q1 5P\n",
        "- Q2 5P"
      ]
    },
    {
      "cell_type": "markdown",
      "metadata": {
        "id": "aN6b5pLGhN2z"
      },
      "source": [
        "## Q1\n",
        "Complete the `avg_max_min` function, which takes as input a list of any length with non-negative integers (at most 10,000,000) as elements and returns a list with the following as elements.\n",
        "- The mean value of the elements of the input list\n",
        "- The maximum value among the elements of the input list\n",
        "- The minimum value among the elements of the input list"
      ]
    },
    {
      "cell_type": "code",
      "metadata": {
        "id": "Ak00hVu7hThE",
        "exercise_id": "q1",
        "inlinetests": {
          "InlineTest_1": "\nassert 'avg_max_min' in globals(), f\"Have you defined the function 'avg_max_min'?\"\nassert str(avg_max_min.__class__) == \"<class 'function'>\", f\"Have you defined a function 'avg_max_min'? Found a {avg_max_min.__class__} instead\"\ntry:\n    lst = [30,39,29,95,70,67,29,56,45,68]\n    assert avg_max_min(lst) == [sum(lst)/len(lst), max(lst), min(lst)], f\"Your function 'avg_max_min' returns {avg_max_min(lst)}, while the expected answer is {[sum(lst)/len(lst), max(lst), min(lst)]}\"\nexcept AssertionError as e:\n    raise e\nexcept Exception as e:\n    assert False, f\"Your function 'avg_max_min' does not accept 'input_list' and raises an exception: {e}. Please try to pass `input_list` to your function.\""
        }
      },
      "source": [
        "def avg_max_min(input_list):\n",
        "  avg_value=0 # initial mean value\n",
        "  max_value=-1 # initial max value\n",
        "  min_value= 10**7 # initial min value\n",
        "  sum_value=0 # total value of the elements\n",
        "  results=[] # list to be returned\n",
        "    \n",
        "  for ...\n",
        "    sum_value = ...\n",
        "        \n",
        "    if ...\n",
        "      max_value = ...\n",
        "            \n",
        "    if ...\n",
        "      min_value = ...\n",
        "        \n",
        "  avg_value =  ...\n",
        "    \n",
        "    \n",
        "  results.append(avg_value) \n",
        "  results.append(max_value)\n",
        "  results.append(min_value)\n",
        "  return results  "
      ],
      "execution_count": null,
      "outputs": []
    },
    {
      "cell_type": "markdown",
      "metadata": {
        "id": "ejUJ4nxijTh-"
      },
      "source": [
        "Once the `avg_max_min` function is complete, run the following cell[リンクテキスト](https://) to see how it works."
      ]
    },
    {
      "cell_type": "code",
      "metadata": {
        "id": "zXtK0MUPjWMq"
      },
      "source": [
        "avg_max_min([30,39,29,95,70,67,29,56,45,68])"
      ],
      "execution_count": null,
      "outputs": []
    },
    {
      "cell_type": "markdown",
      "metadata": {
        "id": "xT6PvVTNjcB2"
      },
      "source": [
        "Make sure that your function returns `[52.8, 95, 29]`. "
      ]
    },
    {
      "cell_type": "markdown",
      "metadata": {
        "id": "PanoCZkIj4oI"
      },
      "source": [
        "## Q2\n",
        "Complete the `population_stat` function:\n",
        "- first, read a \"SSDSE.csv\" file.\n",
        "- create a list of mean, maximum and minimum values for each column,  \"total population\", \"total population (male)\", \"total population (female)\".\n",
        "- The lists becomes the values of the dictionary to be returned, where its keys are \"total\", \"male\", and \"female\".\n",
        "\n",
        "you may use the `avg_max_min` function above.\n",
        "\n",
        "\n",
        "```Python\n",
        "## SSDSE.csv file\n",
        "code, prefecture, municipality, A1101,\tA110101, A110102, ...\n",
        "地域コード, 都道府県, 市区町村, 人口総数, 人口総数（男）, 人口総数（女）, ...\n",
        "R01100, 北海道, 札幌市, 1952356, 910614, 1041742\n",
        "R01202, 北海道, 函館市, 265979, 120376, 145603\n",
        "R01203, 北海道, 小樽市, 121924, 54985, 66939\n",
        "...\n",
        "\n",
        "## A dictionary to be returned\n",
        "{'total': ['人口総数の平均', '人口総数の最大値', '人口総数の最小値'],\n",
        " 'male': ['人口総数（男）の平均', '人口総数（男）の最大値', '人口総数（男）の最小値'],\n",
        " 'female': ['人口総数（女）の平均', '人口総数（女）の最大値', '人口総数（女）の最小値']}\n",
        "```\n",
        "\n",
        "### Reference\n",
        "\n",
        "- [教育用標準データセット](https://www.nstac.go.jp/SSDSE/)"
      ]
    },
    {
      "cell_type": "code",
      "metadata": {
        "id": "vEvQVmIIj3oU"
      },
      "source": [
        "# Run this cell to download the data\n",
        "!wget https://raw.githubusercontent.com/UTDataMining/2022A/master/ex1/SSDSE.csv"
      ],
      "execution_count": null,
      "outputs": []
    },
    {
      "cell_type": "code",
      "metadata": {
        "id": "24OikpbPkBfW",
        "exercise_id": "q2",
        "inlinetests": {
          "InlineTest_2": "\nassert 'population_stat' in globals(), f\"Have you defined the function 'petal_corr'?\"\nassert str(population_stat.__class__) == \"<class 'function'>\", f\"Have you defined a function 'population_stat'? Found a {population_stat.__class__} instead\"\ntry:\n  import pandas as pd\n  stat = pd.read_csv('SSDSE.csv',  skiprows=[1])\n  ans = {\"total\":[stat['A1101'].mean(), stat['A1101'].max(), stat['A1101'].min()], \"male\":[stat['A110101'].mean(), stat['A110101'].max(), stat['A110101'].min()], \"female\":[stat['A110102'].mean(), stat['A110102'].max(), stat['A110102'].min()]}\n  assert population_stat() == ans, f\"Your function 'population_stat' returns {population_stat()}, while the expected answer is {ans}\"\nexcept AssertionError as e:\n    raise e\nexcept Exception as e:\n    assert False, f\"Your function raises an exception: {e}.\""
        }
      },
      "source": [
        "import csv\n",
        "\n",
        "def population_stat():\n",
        "  total=[] # initial list of total population\n",
        "  male=[] # initial list of male population\n",
        "  female=[] # initial list of female population\n",
        "    \n",
        "  with open('SSDSE.csv', 'r', encoding=\"utf-8\") as handler: \n",
        "    csv_reader = csv.reader(handler) \n",
        "    for row in csv_reader: \n",
        "      if csv_reader.line_num > 2: \n",
        "            total...(int(row[3]))\n",
        "            male...(int(row[4]))\n",
        "            female...(int(row[5]))\n",
        "    \n",
        "    total_stat = ...\n",
        "    male_stat = ...\n",
        "    female_stat = ...\n",
        "    \n",
        "    results={\"total\":total_stat, \"male\":male_stat, \"female\":female_stat} # 結果の辞書\n",
        "    return results"
      ],
      "execution_count": null,
      "outputs": []
    },
    {
      "cell_type": "markdown",
      "metadata": {
        "id": "D9S-TgSult7I"
      },
      "source": [
        "Once the `poplation_stat` function is complete, run the following cell to see how it works."
      ]
    },
    {
      "cell_type": "code",
      "metadata": {
        "id": "b3Hy-Flkl1Ff"
      },
      "source": [
        "population_stat()"
      ],
      "execution_count": null,
      "outputs": []
    },
    {
      "cell_type": "markdown",
      "metadata": {
        "id": "NeRqoGxvmDlS"
      },
      "source": [
        "Make sure your function returns`{'total': [73001.00229753015, 3724844, 0],\n",
        " 'male': [35520.814474439976, 1855985, 0],\n",
        " 'female': [37480.18782309018, 1868859, 0]}`.\n",
        "\n",
        "The order of the keys can be different.\n",
        " "
      ]
    },
    {
      "cell_type": "markdown",
      "metadata": {
        "id": "9uNQmVQCmTi-"
      },
      "source": [
        "# Code Testing"
      ]
    },
    {
      "cell_type": "code",
      "metadata": {
        "id": "EImwWFwUgr2-"
      },
      "source": [
        "# Run this cell\n",
        "!pip install prog_edu_assistant_tools\n",
        "import re\n",
        "import sys\n",
        "import jinja2\n",
        "from IPython.core import display\n",
        "from google.colab import _message as google_message\n",
        "from prog_edu_assistant_tools.magics import report, autotest, CaptureOutput\n",
        "from prog_edu_assistant_tools.check import Check"
      ],
      "execution_count": null,
      "outputs": []
    },
    {
      "cell_type": "markdown",
      "metadata": {
        "id": "8uK76x5anMpX"
      },
      "source": [
        "## Q1"
      ]
    },
    {
      "cell_type": "code",
      "metadata": {
        "id": "TdDp1LLfmy7I"
      },
      "source": [
        "# Run this cell to check your solution.\n",
        "# If you get an error 'Check not defined', make sure you have run all preceding\n",
        "# cells once (Runtime -> Run before)\n",
        "Check('q1')"
      ],
      "execution_count": null,
      "outputs": []
    },
    {
      "cell_type": "markdown",
      "metadata": {
        "id": "rBbzkn-GnUW8"
      },
      "source": [
        "## Q2"
      ]
    },
    {
      "cell_type": "code",
      "metadata": {
        "id": "hZiCuyQpm_o1"
      },
      "source": [
        "# Run this cell to check your solution.\n",
        "# If you get an error 'Check not defined', make sure you have run all preceding\n",
        "# cells once (Runtime -> Run before)\n",
        "Check('q2')"
      ],
      "execution_count": null,
      "outputs": []
    }
  ]
}
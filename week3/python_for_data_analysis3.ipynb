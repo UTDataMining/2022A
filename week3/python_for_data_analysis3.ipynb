{
  "cells": [
    {
      "cell_type": "markdown",
      "metadata": {
        "id": "view-in-github",
        "colab_type": "text"
      },
      "source": [
        "<a href=\"https://colab.research.google.com/github/UTDataMining/2022A/blob/main/week3/python_for_data_analysis3.ipynb\" target=\"_parent\"><img src=\"https://colab.research.google.com/assets/colab-badge.svg\" alt=\"Open In Colab\"/></a>"
      ]
    },
    {
      "cell_type": "markdown",
      "metadata": {
        "id": "79MzSczcS_6s"
      },
      "source": [
        "# データマイニング概論\n",
        "# Pythonの基礎"
      ]
    },
    {
      "cell_type": "markdown",
      "metadata": {
        "id": "RHO0eZH-S_6v"
      },
      "source": [
        "## NumPyライブラリ\n",
        "**NumPy**ライブラリを用いることにより、Python標準のリストよりも効率的に多次元の配列を扱うことができます。これにより高速な行列演算が可能になるため、行列演算を行う科学技術計算などでよく活用されています。以下では、NumPyライブラリの配列の基本的な操作や機能を説明します。"
      ]
    },
    {
      "cell_type": "markdown",
      "metadata": {
        "id": "W_L-Zt-HS_6w"
      },
      "source": [
        "## 配列の作成\n",
        "NumPyライブラリを使用するには、まず`numpy`モジュールをインポートします。慣例として、同モジュールを`np`と別名をつけてコードの中で使用します。"
      ]
    },
    {
      "cell_type": "code",
      "execution_count": 1,
      "metadata": {
        "id": "2uv_4k0ZS_6w"
      },
      "outputs": [],
      "source": [
        "import numpy as np"
      ]
    },
    {
      "cell_type": "markdown",
      "metadata": {
        "id": "h98E45LtS_6x"
      },
      "source": [
        "NumPyの**配列**は`numpy`モジュールの**`array`**`()`関数で作ります。配列の要素はPython標準のリストやタプルで指定します。"
      ]
    },
    {
      "cell_type": "code",
      "execution_count": null,
      "metadata": {
        "id": "QMrnqk43S_6x",
        "outputId": "9599d900-5385-44b8-df95-14b201820146"
      },
      "outputs": [
        {
          "data": {
            "text/plain": [
              "array([1, 2, 3, 4, 5])"
            ]
          },
          "execution_count": 2,
          "metadata": {},
          "output_type": "execute_result"
        }
      ],
      "source": [
        "# リストから配列作成\n",
        "list_to_array = np.array([1,2,3,4,5])\n",
        "list_to_array"
      ]
    },
    {
      "cell_type": "markdown",
      "metadata": {
        "id": "oGlk8t6tS_6y"
      },
      "source": [
        "NumPyの配列は`ndarray`オブジェクトとなります。"
      ]
    },
    {
      "cell_type": "code",
      "execution_count": null,
      "metadata": {
        "id": "lOpx5dFJS_6z",
        "outputId": "447b3fdd-83bb-4cb2-cce2-d6cc4946c093"
      },
      "outputs": [
        {
          "data": {
            "text/plain": [
              "numpy.ndarray"
            ]
          },
          "execution_count": 3,
          "metadata": {},
          "output_type": "execute_result"
        }
      ],
      "source": [
        "# タプルからの配列作成\n",
        "tuple_to_array = np.array((1,2,3,4,5))\n",
        "\n",
        "# 配列の型\n",
        "type(tuple_to_array)"
      ]
    },
    {
      "cell_type": "markdown",
      "metadata": {
        "id": "nHIcfwG_S_6z"
      },
      "source": [
        "`print()`関数を使って配列を出力すると、要素が空白で区切られて出力されます。"
      ]
    },
    {
      "cell_type": "code",
      "execution_count": null,
      "metadata": {
        "id": "MkKH2owbS_60",
        "outputId": "909369b0-7c15-4520-de4a-6a735a4e90f6"
      },
      "outputs": [
        {
          "name": "stdout",
          "output_type": "stream",
          "text": [
            "[1 2 3 4 5]\n",
            "[1 2 3 4 5]\n"
          ]
        }
      ],
      "source": [
        "# 配列のprint\n",
        "print(list_to_array)\n",
        "print(tuple_to_array)"
      ]
    },
    {
      "cell_type": "markdown",
      "metadata": {
        "id": "bK8Fr3IrS_60"
      },
      "source": [
        "`array()`関数では、第2引数`dtype`で配列の要素の型を指定することができます。NumPyの配列はリストと異なり、要素の型を混在させることはできません。配列の要素の型は`dtype`属性で調べることができます。"
      ]
    },
    {
      "cell_type": "code",
      "execution_count": null,
      "metadata": {
        "id": "yCwd66dES_60",
        "outputId": "ce360273-b436-4a1c-bb35-6c89c4110746"
      },
      "outputs": [
        {
          "data": {
            "text/plain": [
              "dtype('float64')"
            ]
          },
          "execution_count": 5,
          "metadata": {},
          "output_type": "execute_result"
        }
      ],
      "source": [
        "# 配列要素の型の指定\n",
        "list_to_array = np.array([1,2,3,4,5], dtype=float)\n",
        "\n",
        "# 配列要素の型の確認\n",
        "list_to_array.dtype"
      ]
    },
    {
      "cell_type": "markdown",
      "metadata": {
        "id": "qhqGsbEsS_61"
      },
      "source": [
        "配列を`array()`関数に渡し、第2引数dtypeで型を指定すると、既存の配列を別の型に変換した配列を作成できます。"
      ]
    },
    {
      "cell_type": "code",
      "execution_count": null,
      "metadata": {
        "id": "XCpK9D--S_61",
        "outputId": "6fed0e37-cbae-483f-8f8c-ebfbeaa5d253"
      },
      "outputs": [
        {
          "data": {
            "text/plain": [
              "array([1., 2., 3., 4., 5.])"
            ]
          },
          "execution_count": 6,
          "metadata": {},
          "output_type": "execute_result"
        }
      ],
      "source": [
        "int_array = np.array([1,2,3,4,5])\n",
        "\n",
        "# 配列要素の型の変換\n",
        "float_array = np.array(int_array, dtype=float)\n",
        "float_array"
      ]
    },
    {
      "cell_type": "markdown",
      "metadata": {
        "id": "6jnc-x_wS_61"
      },
      "source": [
        "## 多次元配列の作成\n",
        "**多次元配列**は、配列の中に配列がある入れ子の配列です。NumPyは多次元配列を効率的に扱うことができます。NumPyでは、`array()`関数の引数にリストが入れ子になった多重リストを与えると多次元配列が作成できます。\n",
        "\n",
        "**`shape`**属性で、配列が何行何列かを調べることができます。また、**`ndim`**属性で、何次元の配列かを調べることができます。**`size`**属性では、配列の要素の個数を調べることができます。"
      ]
    },
    {
      "cell_type": "code",
      "execution_count": null,
      "metadata": {
        "id": "wfpWans_S_62",
        "outputId": "a083e791-8a74-4513-d285-745d43f18403"
      },
      "outputs": [
        {
          "name": "stdout",
          "output_type": "stream",
          "text": [
            "[[1 2 3]\n",
            " [4 5 6]]\n",
            "(2, 3)\n",
            "2\n",
            "6\n"
          ]
        }
      ],
      "source": [
        "# 多次元配列の作成\n",
        "mul_array = np.array([[1,2,3],[4,5,6]])\n",
        "print(mul_array)\n",
        "\n",
        "# 多次元配列の行数と列数\n",
        "print(mul_array.shape)\n",
        "\n",
        "# 多次元配列の次元数\n",
        "print(mul_array.ndim)\n",
        "\n",
        "# 多次元配列の要素数\n",
        "print(mul_array.size)"
      ]
    },
    {
      "cell_type": "markdown",
      "metadata": {
        "id": "qPu7kwCGS_62"
      },
      "source": [
        "**`reshape`**`()`メソッドを使うと、`reshape`(行数、列数）と指定して、1次元配列を多次元配列に変換することができます。`reshape()`で変換した多次元配列の操作の結果は元の配列にも反映されることに注意してください。\n",
        "\n",
        "**`ravel`**`()`メソッドまたは**`flatten`**`()`メソッドを使うと、多次元配列を1次元配列に戻すことができます。"
      ]
    },
    {
      "cell_type": "code",
      "execution_count": null,
      "metadata": {
        "id": "bEA-AQbfS_62",
        "outputId": "75ede20a-ca22-4136-cf4b-b198ce83e998"
      },
      "outputs": [
        {
          "name": "stdout",
          "output_type": "stream",
          "text": [
            "[1 2 3 4 5 6]\n",
            "[[1 2 3]\n",
            " [4 5 6]]\n",
            "[0 2 3 4 5 6]\n",
            "[[0 2 3]\n",
            " [4 5 6]]\n",
            "[0 2 3 4 5 6]\n"
          ]
        }
      ],
      "source": [
        "mydata = [1,2,3,4,5,6]\n",
        "a1 = np.array(mydata)\n",
        "\n",
        "# 2行3列の多次元配列に変換\n",
        "a2 = a1.reshape(2,3) \n",
        "print(a1)\n",
        "print(a2)\n",
        "\n",
        "# 1行1列の要素に代入（後述）\n",
        "a2[0,0]=0\n",
        "print(a1)\n",
        "print(a2)\n",
        "\n",
        "# 多次元配列を1次元配列に戻す\n",
        "print(a2.ravel())"
      ]
    },
    {
      "cell_type": "markdown",
      "metadata": {
        "id": "w7lQAq5fS_62"
      },
      "source": [
        "## 練習\n",
        "以下のリストから1次元配列を作成し、その配列から3行3列の多次元配列を作成してください。作成した配列のshape属性を確認してください。"
      ]
    },
    {
      "cell_type": "code",
      "execution_count": null,
      "metadata": {
        "id": "oyJO0__MS_63"
      },
      "outputs": [],
      "source": [
        "mylist=[1,2,3,4,5,6,7,8,9]"
      ]
    },
    {
      "cell_type": "markdown",
      "metadata": {
        "id": "TwJLv6i2S_63"
      },
      "source": [
        "## 様々な配列の作り方"
      ]
    },
    {
      "cell_type": "markdown",
      "metadata": {
        "id": "4OmaVHUyS_63"
      },
      "source": [
        "### zeros()関数\n",
        "**`zeros`**`()`関数を用いると、すべての要素が0の配列を作成することができます。`zero()`関数の第1引数には0の個数を（多次元配列の場合は行数と列数をタプルで）指定し、第2引数の`dtype`に数値の型を指定します。"
      ]
    },
    {
      "cell_type": "code",
      "execution_count": null,
      "metadata": {
        "id": "HGXo79t1S_63",
        "outputId": "f8297859-4262-4633-c38c-9993c3b07228"
      },
      "outputs": [
        {
          "name": "stdout",
          "output_type": "stream",
          "text": [
            "[0 0 0 0 0]\n",
            "[[0 0 0]\n",
            " [0 0 0]\n",
            " [0 0 0]]\n"
          ]
        }
      ],
      "source": [
        "# 5つの0要素からなる配列\n",
        "zero_array1=np.zeros(5, dtype=int)\n",
        "print(zero_array1)\n",
        "\n",
        "# 3行3列の0要素からなる多次元配列\n",
        "zero_array2=np.zeros((3,3), dtype=int)\n",
        "print(zero_array2)"
      ]
    },
    {
      "cell_type": "markdown",
      "metadata": {
        "id": "dwUQYpD5S_64"
      },
      "source": [
        "### ones()関数\n",
        "**`ones`**`()`関数を用いると、すべての要素が1の配列を作成することができます。`ones()`関数の第1引数には1の個数を（多次元配列の場合は行数と列数をタプルで）指定し、第2引数の`dtype`に数値の型を指定します。"
      ]
    },
    {
      "cell_type": "code",
      "execution_count": null,
      "metadata": {
        "id": "2kLYVnLJS_64",
        "outputId": "29e50c3d-7686-4c02-f3ae-10ff95035726"
      },
      "outputs": [
        {
          "name": "stdout",
          "output_type": "stream",
          "text": [
            "[[1 1]\n",
            " [1 1]]\n"
          ]
        }
      ],
      "source": [
        "# 2行2列の1要素からなる多次元配列\n",
        "one_array=np.ones((2,2), dtype=int)\n",
        "print(one_array)"
      ]
    },
    {
      "cell_type": "markdown",
      "metadata": {
        "id": "FmhVhC4ZS_64"
      },
      "source": [
        "### arange()関数\n",
        "**`arange`**`()`関数を用いると、開始値から一定の刻み幅で生成した値の要素からなる配列を作成できます。`arange()`関数の第1引数には開始値、第2引数には終了値、第3引数には刻み幅を指定します。終了値は生成される値に含まれないことに注意してください。開始値を省略すると0、刻み幅を省略すると1がそれぞれ初期値となります。`arange()`関数では`dtype`で数値の型も指定できますが、省略すると開始値、終了値、刻み幅に合わせて型が選ばれます。\n",
        "```Python\n",
        "numpy.arange(開始値、終了値、刻み幅、dtype=型）\n",
        "```"
      ]
    },
    {
      "cell_type": "code",
      "execution_count": null,
      "metadata": {
        "id": "9-8zgqccS_64",
        "outputId": "ff3eb335-b29f-4df9-8647-87108a7d9a8d"
      },
      "outputs": [
        {
          "name": "stdout",
          "output_type": "stream",
          "text": [
            "[0 1 2 3 4]\n",
            "[0.  0.1 0.2 0.3 0.4 0.5 0.6 0.7 0.8 0.9]\n",
            "[[0 1]\n",
            " [2 3]]\n"
          ]
        }
      ],
      "source": [
        "# 0から1刻みで5つの要素を持つ配列\n",
        "a1=np.arange(5)\n",
        "print(a1)\n",
        "\n",
        "# 0から0.1刻みで1未満の値の要素を持つ配列\n",
        "a2=np.arange(0,1,0.1)\n",
        "print(a2)\n",
        "\n",
        "# 0から1刻みで4つの要素を持つ配列を2行2列の多次元配列に変換\n",
        "a3=np.arange(2*2).reshape(2,2)\n",
        "print(a3)"
      ]
    },
    {
      "cell_type": "markdown",
      "metadata": {
        "id": "XVSuR7sSS_64"
      },
      "source": [
        "### linspace()関数\n",
        "**`linspace`**`()`関数を用いると、分割数を指定することで値の範囲を等間隔で分割した値の要素からなる配列を作成できます。`linspace()`関数の第1引数には開始値、第2引数には終了値、第3引数には分割数を指定します。"
      ]
    },
    {
      "cell_type": "code",
      "execution_count": null,
      "metadata": {
        "id": "LQ1VhE6iS_64",
        "outputId": "becb78ad-e817-4e93-fa7c-0881601af78f"
      },
      "outputs": [
        {
          "name": "stdout",
          "output_type": "stream",
          "text": [
            "[  0.  10.  20.  30.  40.  50.  60.  70.  80.  90. 100.]\n"
          ]
        }
      ],
      "source": [
        "# 0から100の値を11分割した値を要素に持つ配列\n",
        "a=np.linspace(0,100,11)\n",
        "print(a)"
      ]
    },
    {
      "cell_type": "markdown",
      "metadata": {
        "id": "b60oZBmDS_65"
      },
      "source": [
        "### random.rand()関数\n",
        "**`random.rand`**`()`関数を用いると、乱数の配列を作成することができます。`random.rand()`関数では、引数で与えた個数の乱数が0から1の間の値で生成されます。この他にも、`random.randn()`関数、`random.binomial()`関数、`random.poisson()`関数を用いると、それぞれ標準正規分布、二項分布、ポアソン分布から乱数の配列を作成することができます。\n",
        "- [random.*関数](https://docs.scipy.org/doc/numpy/reference/routines.random.html)"
      ]
    },
    {
      "cell_type": "code",
      "execution_count": 3,
      "metadata": {
        "id": "fp7qELw2S_65",
        "outputId": "47d875cf-aec0-4a51-95b0-64404df88ec6",
        "colab": {
          "base_uri": "https://localhost:8080/"
        }
      },
      "outputs": [
        {
          "output_type": "stream",
          "name": "stdout",
          "text": [
            "[0.67173088 0.75466154 0.50005978 0.73973421 0.55150466]\n",
            "[ 0.847749    0.08861961 -0.532683   -1.11678489 -0.12702014 -0.35750712\n",
            " -1.28899955 -0.80529037 -0.07297188 -1.09591885]\n"
          ]
        }
      ],
      "source": [
        "# 5つのランダムな値の要素からなる多次元配列\n",
        "rand_array=np.random.rand(5)\n",
        "print(rand_array)\n",
        "\n",
        "# 平均mu,分散sigmaの正規分布に従う値の要素からなる多次元配列\n",
        "mu, sigma = 0, 1\n",
        "rand_normal_array=np.random.normal(mu, sigma, 10)\n",
        "print(rand_normal_array)"
      ]
    },
    {
      "cell_type": "markdown",
      "metadata": {
        "id": "kcHPLgWuS_65"
      },
      "source": [
        "## 練習\n",
        "9つのランダムな値の要素から3行3列の多次元配列を作成してください。"
      ]
    },
    {
      "cell_type": "code",
      "execution_count": null,
      "metadata": {
        "id": "_NZjilCbS_65"
      },
      "outputs": [],
      "source": []
    },
    {
      "cell_type": "markdown",
      "metadata": {
        "id": "JCXr5EltS_65"
      },
      "source": [
        "## csvファイルからの配列の作成\n",
        "`loadtxt()`関数を用いて、以下のように**csvファイル**を読み込んで、配列を作成することができます。`loadtxt()`関数の`delimiter`引数には区切り文字を指定します。また、`skiprows`引数を`=1`とすることで、csvファイルの先頭行（ヘッダ）を飛ばすように指定します（配列は異なる型の要素を混在できないため）。\n",
        "```Python\n",
        "## simple_score.csv\n",
        "user, kokugo, shakai, sugaku, rika\n",
        "1, 30, 43, 51, 63\n",
        "2, 39, 21, 49, 56\n",
        "...\n",
        "```"
      ]
    },
    {
      "cell_type": "code",
      "execution_count": null,
      "metadata": {
        "id": "pEO3Z7BdS_65"
      },
      "outputs": [],
      "source": [
        "# Colaboratoryでは以下を実行して必要なファイルをダウンロード\n",
        "!wget https://raw.githubusercontent.com/UTDataMining/2022A/master/week3/simple_score.csv"
      ]
    },
    {
      "cell_type": "code",
      "execution_count": null,
      "metadata": {
        "id": "-iFcJ7CwS_66",
        "outputId": "7efc5304-d901-4278-acad-06a6f7c27230"
      },
      "outputs": [
        {
          "data": {
            "text/plain": [
              "array([[  1.,  30.,  43.,  51.,  63.],\n",
              "       [  2.,  39.,  21.,  49.,  56.],\n",
              "       [  3.,  29.,  30.,  23.,  57.],\n",
              "       [  4.,  95.,  87.,  77., 100.],\n",
              "       [  5.,  70.,  71.,  78.,  67.]])"
            ]
          },
          "execution_count": 15,
          "metadata": {},
          "output_type": "execute_result"
        }
      ],
      "source": [
        "score = np.loadtxt(\"simple_score.csv\", delimiter=\",\", skiprows=1)\n",
        "score"
      ]
    },
    {
      "cell_type": "markdown",
      "metadata": {
        "id": "ZsU_LvwRS_66"
      },
      "source": [
        "## 配列要素の操作\n",
        "### インデックス\n",
        "NumPyの配列の要素には、リストと同様に0から始まる**インデックス**を使ってアクセスします。リストと同じく、配列の先頭要素のインデックスは0、最後の要素のインデックスは-1となります。"
      ]
    },
    {
      "cell_type": "code",
      "execution_count": null,
      "metadata": {
        "id": "6Ro4by1dS_66",
        "outputId": "cc466786-c0de-4807-c2b3-b12e4c1b88bf"
      },
      "outputs": [
        {
          "name": "stdout",
          "output_type": "stream",
          "text": [
            "[1 3 5 7 9]\n",
            "1\n",
            "9\n",
            "[1 3 5 7 0]\n"
          ]
        }
      ],
      "source": [
        "a = np.array([1,3,5,7,9])\n",
        "print(a)\n",
        "\n",
        "# 配列aのインデックス0の要素\n",
        "print(a[0])\n",
        "\n",
        "# 配列aのインデックス-1(終端）の要素\n",
        "print(a[-1])\n",
        "\n",
        "# 配列aのインデックス-1の要素に代入\n",
        "a[-1]=0\n",
        "print(a)"
      ]
    },
    {
      "cell_type": "markdown",
      "metadata": {
        "id": "lP1A41fQS_66"
      },
      "source": [
        "多次元配列では、`array[行,列]`のように行と列で要素にアクセスできます。この時、行と列はインデックスと同じくそれぞれ0から始まります。また、多次元リストと同様に、`array[インデックス][インデックス]`のようにリストごとのインデックスを使っても要素にアクセスできます。"
      ]
    },
    {
      "cell_type": "code",
      "execution_count": null,
      "metadata": {
        "id": "Lzj2ZY7dS_66",
        "outputId": "59434ec9-b3c1-4dbd-816d-c3a42905661b"
      },
      "outputs": [
        {
          "name": "stdout",
          "output_type": "stream",
          "text": [
            "[[1 2 3]\n",
            " [4 5 6]]\n",
            "6\n",
            "0\n"
          ]
        }
      ],
      "source": [
        "a = np.array([[1,2,3],[4,5,6]])\n",
        "print(a)\n",
        "\n",
        "# 2行3列の要素\n",
        "print(a[1,2])\n",
        "\n",
        "# 2行3列の要素に代入\n",
        "a[1,2]=0\n",
        "\n",
        "# 2行3列の要素\n",
        "print(a[1][2])"
      ]
    },
    {
      "cell_type": "markdown",
      "metadata": {
        "id": "bJ_HuvQ2S_66"
      },
      "source": [
        "## 練習\n",
        "csvファイル、simple_score.csv、から配列を作成し、3行4列の要素を抽出してください。"
      ]
    },
    {
      "cell_type": "code",
      "execution_count": null,
      "metadata": {
        "id": "swVQIAFOS_67"
      },
      "outputs": [],
      "source": []
    },
    {
      "cell_type": "markdown",
      "metadata": {
        "id": "I5UJipvXS_67"
      },
      "source": [
        "### スライス\n",
        "リストと同様に、NumPyの配列でも、`array[開始位置:終了位置:ステップ]`のように**スライス**を用いて配列の要素を抜き出すことができます。リストと同じく、スライスの開始位置や終了位置は省略が可能です。"
      ]
    },
    {
      "cell_type": "code",
      "execution_count": null,
      "metadata": {
        "id": "NzSX6uC8S_67",
        "outputId": "7f52ce85-2bcb-4473-a8fb-acb8245d917a"
      },
      "outputs": [
        {
          "name": "stdout",
          "output_type": "stream",
          "text": [
            "[  10  100 1000]\n",
            "[   10   100  1000 10000]\n",
            "[  1  10 100]\n",
            "[    1   100 10000]\n",
            "[10000  1000   100    10     1]\n"
          ]
        }
      ],
      "source": [
        "a = np.array([1,10,100,1000,10000])\n",
        "\n",
        "# 配列aのインデックス1からインデックス3までの要素をスライス\n",
        "print(a[1:4])\n",
        "\n",
        "# 配列aのインデックス1から終端までの要素をスライス\n",
        "print(a[1:])\n",
        "\n",
        "# 配列aの先頭から終端から3番目までの要素をスライス\n",
        "print(a[:-2])\n",
        "\n",
        "# 配列aの先頭から1つ飛ばしで要素をスライス\n",
        "print(a[::2])\n",
        "\n",
        "# 配列aの終端から先頭までの要素をスライス\n",
        "print(a[::-1])"
      ]
    },
    {
      "cell_type": "markdown",
      "metadata": {
        "id": "xxZ-A0iyS_67"
      },
      "source": [
        "NumPyの配列では、配列からスライスで抜き出した要素に値をまとめて代入することができます。配列においてスライスに対する変更は元の配列にも反映されることに注意してください。"
      ]
    },
    {
      "cell_type": "code",
      "execution_count": null,
      "metadata": {
        "id": "JGPf8vpQS_67",
        "outputId": "28b939dd-39e6-4bb9-b335-34e8fe0f4033"
      },
      "outputs": [
        {
          "name": "stdout",
          "output_type": "stream",
          "text": [
            "[    1     0     0     0 10000]\n"
          ]
        }
      ],
      "source": [
        "a = np.array([1,10,100,1000,10000])\n",
        "\n",
        "# 配列aのインデックス1からインデックス3までの要素に0を代入\n",
        "a[1:4]=0\n",
        "print(a)"
      ]
    },
    {
      "cell_type": "markdown",
      "metadata": {
        "id": "h4pJ6a8PS_67"
      },
      "source": [
        "多次元配列のスライスでは、`array[行のスライス,　列のスライス]`のように行と列のスライスのそれぞれの指定をカンマで区切って指定します。"
      ]
    },
    {
      "cell_type": "code",
      "execution_count": null,
      "metadata": {
        "id": "BmAr56v7S_68",
        "outputId": "c6462899-a52d-4b40-db78-6d0a14a7f99c"
      },
      "outputs": [
        {
          "name": "stdout",
          "output_type": "stream",
          "text": [
            "[[1 2 3]\n",
            " [4 5 6]\n",
            " [7 8 9]]\n",
            "[[1 2]\n",
            " [4 5]]\n",
            "[[5 6]\n",
            " [8 9]]\n"
          ]
        }
      ],
      "source": [
        "a = np.array( [1,2,3,4,5,6,7,8,9]).reshape(3,3)\n",
        "print(a)\n",
        "\n",
        "# 多次元配列aの先頭行から2行目、先頭列から2列目までの要素をスライス\n",
        "print(a[:2,:2])\n",
        "\n",
        "# 多次元配列aの2行目から終端行、2列目から終端列までの要素をスライス\n",
        "print(a[1:,1:])"
      ]
    },
    {
      "cell_type": "markdown",
      "metadata": {
        "id": "uW9IvRkNS_68"
      },
      "source": [
        "## 練習\n",
        "csvファイル、simple_score.csv、から配列を作成し、1列目を除いた全ての列を抽出してください。"
      ]
    },
    {
      "cell_type": "code",
      "execution_count": null,
      "metadata": {
        "id": "MuQIDi36S_68"
      },
      "outputs": [],
      "source": []
    },
    {
      "cell_type": "markdown",
      "metadata": {
        "id": "7quJ3eqFS_68"
      },
      "source": [
        "### 要素の順序取り出し\n",
        "リストと同様に、`for...in`文を用いて、配列の要素を順番に取り出すことができます。**`enumerate`**`()`関数を使うと、リストと同じく、取り出しの繰り返し回数も併せて数えることができますが、多次元配列の要素の取り出しでは`enumerate`関数の代わりに`ndenumerate()`関数を用います。`ndenumerate()`関数は取り出した要素とともに、その要素の位置を行と列のタプルで返します。"
      ]
    },
    {
      "cell_type": "code",
      "execution_count": null,
      "metadata": {
        "id": "E3ftEGgcS_69",
        "outputId": "580108f6-f180-45a8-be76-ccd1a54e7941"
      },
      "outputs": [
        {
          "name": "stdout",
          "output_type": "stream",
          "text": [
            "1\n",
            "2\n",
            "3\n",
            "4\n",
            "5\n",
            "6\n",
            "0 [1 2 3]\n",
            "1 [4 5 6]\n",
            "(0, 0) 1\n",
            "(0, 1) 2\n",
            "(0, 2) 3\n",
            "(1, 0) 4\n",
            "(1, 1) 5\n",
            "(1, 2) 6\n"
          ]
        }
      ],
      "source": [
        "a1 = np.array([1,2,3,4,5,6])\n",
        "\n",
        "# 配列a1から要素の取り出し\n",
        "for num in a1:\n",
        "    print(num)\n",
        "    \n",
        "a2 = np.array([1,2,3,4,5,6]).reshape(2,3)\n",
        "\n",
        "# 多次元配列a2から行の要素と繰り返し回数の取り出し\n",
        "for i, num in enumerate(a2):\n",
        "    print(i, num)\n",
        "                \n",
        "# 多次元配列a2から要素の取り出し、要素の位置を行と列のタプルで取得\n",
        "for i, num in np.ndenumerate(a2):\n",
        "    print(i, num)"
      ]
    },
    {
      "cell_type": "markdown",
      "metadata": {
        "id": "A_BKhsx5S_69"
      },
      "source": [
        "## 練習\n",
        "csvファイル、simple_score.csv、から配列を作成し、得点の要素の値を取り出してください。"
      ]
    },
    {
      "cell_type": "code",
      "execution_count": null,
      "metadata": {
        "id": "effeEn0aS_6-"
      },
      "outputs": [],
      "source": [
        "score = np.loadtxt(\"simple_score.csv\", delimiter=\",\", skiprows=1)\n",
        "score=score[:,1:]"
      ]
    },
    {
      "cell_type": "markdown",
      "metadata": {
        "id": "73Vk-7W6S_6_"
      },
      "source": [
        "### 要素の並び替え\n",
        "配列の要素の並び替えには、`ndarray`オブジェクトの**`sort`**`()`メソッドまたはNumPyライブラリの`sort()`関数を使います。`sort()`メソッドは、メソッドを呼び出した自身の配列の要素を並び替えますが、`sort()`関数は引数で与えた配列の要素を並び替えた新しい配列を返します。`sort()`関数の引数にリストやタプルを指定し、それらの並び替えを行った結果を配列として取得することもできます。"
      ]
    },
    {
      "cell_type": "code",
      "execution_count": null,
      "metadata": {
        "id": "q8zqCeijS_6_",
        "outputId": "dd5541a3-4eec-45ea-b60b-123e3d6908da"
      },
      "outputs": [
        {
          "name": "stdout",
          "output_type": "stream",
          "text": [
            "[1 2 3 4 5]\n",
            "[5 3 1 4 2]\n",
            "[1 2 3 4 5]\n"
          ]
        }
      ],
      "source": [
        "a1 = np.array([5,3,1,4,2])\n",
        "# 配列a1の要素を並び替え\n",
        "a1.sort()\n",
        "print(a1)\n",
        "\n",
        "a2 = np.array([5,3,1,4,2])\n",
        "# 配列a2の要素を並び替えた結果から新たな配列a3を作成\n",
        "a3 = np.sort(a2)\n",
        "\n",
        "print(a2)\n",
        "print(a3)"
      ]
    },
    {
      "cell_type": "markdown",
      "metadata": {
        "id": "lbC74gaYS_6_"
      },
      "source": [
        "## 要素の条件取り出し\n",
        "条件式を用いて、配列の要素の中から条件に合う要素のみを抽出し、要素の値を変更したり、新たな配列を作成することができます。配列と比較演算を組み合わせることで、比較演算が配列の個々の要素に適用されます。\n",
        "\n",
        "条件式のブール演算では、`and`、`or`、`not`の代わりに`&`、`|`、`~`を用います。"
      ]
    },
    {
      "cell_type": "code",
      "execution_count": null,
      "metadata": {
        "id": "2FZ_XFnfS_6_",
        "outputId": "af2b4295-c010-4fb6-f31e-8f6ef5ac7d7e"
      },
      "outputs": [
        {
          "name": "stdout",
          "output_type": "stream",
          "text": [
            "[ 1  2 -3  0  5  0 -7]\n"
          ]
        }
      ],
      "source": [
        "a1 = np.array([1,2,-3,-4,5,-6,-7])\n",
        "\n",
        "# 0未満で2で割り切れる値を持つ要素に0を代入\n",
        "a1[(a1<0) & (a1%2==0)]=0\n",
        "print(a1)"
      ]
    },
    {
      "cell_type": "markdown",
      "metadata": {
        "id": "kLqXMsrdS_6_"
      },
      "source": [
        "以下の例において、`print(a1>0)`とすると`[ True  True False False  True False False]`というブール値の配列が返ってきていることがわかります。`True`は条件（この場合は要素が正）に対して真な要素（この場合は1,2,5）に対応しています。配列要素の条件取り出しでは、このブール値の配列を元の配列に渡して、条件に対して真な要素のインデックスを参照していることになります。これを**ブールインデックス参照**と呼びます。"
      ]
    },
    {
      "cell_type": "code",
      "execution_count": null,
      "metadata": {
        "id": "pikSG24oS_6_",
        "outputId": "0f08e3e6-fef1-4810-d9de-d6606882738a"
      },
      "outputs": [
        {
          "name": "stdout",
          "output_type": "stream",
          "text": [
            "[ True  True False False  True False False]\n",
            "[1 2 5]\n"
          ]
        }
      ],
      "source": [
        "a1 = np.array([1,2,-3,-4,5,-6,-7])\n",
        "\n",
        "# 0より大きい値を持つ要素はTrue, それ以外はFalseのブール値配列\n",
        "print(a1>0)\n",
        "\n",
        "# 配列a1の0より大きい値を持つ要素から新たな配列a2の作成\n",
        "a2 = a1[a1>0]\n",
        "print(a2)"
      ]
    },
    {
      "cell_type": "markdown",
      "metadata": {
        "id": "pGer5IhxS_7A"
      },
      "source": [
        "## 練習\n",
        "csvファイル、simple_score.csv、から配列を作成し、50点以上の得点の要素の値を取り出してください。"
      ]
    },
    {
      "cell_type": "code",
      "execution_count": null,
      "metadata": {
        "id": "-AA1dhd5S_7A"
      },
      "outputs": [],
      "source": [
        "score = np.loadtxt(\"simple_score.csv\", delimiter=\",\", skiprows=1)\n",
        "score=score[:,1:]"
      ]
    },
    {
      "cell_type": "markdown",
      "metadata": {
        "id": "Ml2X4U4kS_7A"
      },
      "source": [
        "## 配列の演算\n",
        "NumPyの配列では、配列のすべての要素に数値演算を適用する**ブロードキャスト**という機能により、要素が数値である配列の演算を簡単に行うことができます。"
      ]
    },
    {
      "cell_type": "code",
      "execution_count": null,
      "metadata": {
        "id": "rEiH4-VBS_7A",
        "outputId": "149238ae-0037-41d4-d8b8-7d70ddd7263e"
      },
      "outputs": [
        {
          "name": "stdout",
          "output_type": "stream",
          "text": [
            "[2 3 4 5 6]\n",
            "[ 4  6  8 10 12]\n",
            "[2. 3. 4. 5. 6.]\n"
          ]
        }
      ],
      "source": [
        "a = np.array([1,2,3,4, 5])\n",
        "\n",
        "# 配列aのすべての要素に1を加算\n",
        "b = a+1\n",
        "print(b)\n",
        "\n",
        "# 配列bのすべての要素に2を乗算\n",
        "c=b*2\n",
        "print(c)\n",
        "\n",
        "# 配列cのすべての要素に2を除算\n",
        "d=c/2\n",
        "print(d)"
      ]
    },
    {
      "cell_type": "markdown",
      "metadata": {
        "id": "vz7B6gUeS_7A"
      },
      "source": [
        "この他に、NumPyには**ユニバーサル関数**と呼ばれる、配列を入力としてのそのすべての要素を操作した結果を配列として返す関数が複数あります。ユニバーサル関数については以下を参照してください。\n",
        "\n",
        "- [ユニバーサル関数の一覧](https://docs.scipy.org/doc/numpy/reference/ufuncs.html)"
      ]
    },
    {
      "cell_type": "markdown",
      "metadata": {
        "id": "TZSSvNjLS_7A"
      },
      "source": [
        "## 練習\n",
        "csvファイル、simple_score.csv、から配列を作成し、得点の各要素の値を2乗にしてください。"
      ]
    },
    {
      "cell_type": "code",
      "execution_count": 5,
      "metadata": {
        "id": "GCRKHPraS_7A"
      },
      "outputs": [],
      "source": [
        "score = np.loadtxt(\"simple_score.csv\", delimiter=\",\", skiprows=1)\n",
        "score=score[:,1:]"
      ]
    },
    {
      "cell_type": "markdown",
      "metadata": {
        "id": "8zBDmI0HS_7A"
      },
      "source": [
        "`ndarray`オブジェクトのメソッドを用いて、要素の合計、平均値、最大値、最小値を、それぞれ`sum()`、`mean()`、`max()`、`min()`で求めることができます。各メソッドは`axis`引数を指定しなければ配列のすべての要素に適用されます。多次元配列の場合、`axis`引数に0を指定すると、各列にメソッドを適用した結果の配列、`axis`引数に1を指定すると各行にメソッドを適用した結果の配列が返ります。"
      ]
    },
    {
      "cell_type": "code",
      "execution_count": 6,
      "metadata": {
        "id": "zgNjSvHOS_7A",
        "outputId": "6e6e95bf-d4a8-46e9-a07d-5ebf79fa1c0d",
        "colab": {
          "base_uri": "https://localhost:8080/"
        }
      },
      "outputs": [
        {
          "output_type": "stream",
          "name": "stdout",
          "text": [
            "56.8\n",
            "[52.6 50.4 55.6 68.6]\n",
            "[46.75 41.25 34.75 89.75 71.5 ]\n"
          ]
        }
      ],
      "source": [
        "score = np.loadtxt(\"simple_score.csv\", delimiter=\",\", skiprows=1)\n",
        "score=score[:,1:] # 得点の列だけ抽出\n",
        "\n",
        "# 多次元配列scoreのすべての要素の平均\n",
        "print(score.mean())\n",
        "\n",
        "# 多次元配列aの各列の要素の平均\n",
        "print(score.mean(axis=0))\n",
        "\n",
        "# 多次元配列aの各行の要素の平均\n",
        "print(score.mean(axis=1))"
      ]
    },
    {
      "cell_type": "markdown",
      "metadata": {
        "id": "RiQW7Bx6S_7B"
      },
      "source": [
        "配列に対する数学・統計操作はNumPyの関数を用いても同様に行うことができます。"
      ]
    },
    {
      "cell_type": "code",
      "source": [
        "# 多次元配列scoreのすべての要素の平均\n",
        "print(np.mean(score))\n",
        "\n",
        "# 多次元配列aの各列の要素の平均\n",
        "print(np.mean(score, axis=0))\n",
        "\n",
        "# 多次元配列aの各行の要素の平均\n",
        "print(np.mean(score, axis=1))"
      ],
      "metadata": {
        "colab": {
          "base_uri": "https://localhost:8080/"
        },
        "id": "bfXNozHIZmvk",
        "outputId": "c7d53648-955e-4ddf-e2e4-df1899a63d0b"
      },
      "execution_count": 7,
      "outputs": [
        {
          "output_type": "stream",
          "name": "stdout",
          "text": [
            "56.8\n",
            "[52.6 50.4 55.6 68.6]\n",
            "[46.75 41.25 34.75 89.75 71.5 ]\n"
          ]
        }
      ]
    },
    {
      "cell_type": "markdown",
      "source": [
        "数学・統計関連のメソッド・関数については以下を参照してください。\n",
        "\n",
        "- [数学関数](https://docs.scipy.org/doc/numpy/reference/routines.math.html)\n",
        "- [統計関数](https://docs.scipy.org/doc/numpy/reference/routines.statistics.html)"
      ],
      "metadata": {
        "id": "Y-GEgZkAZlnM"
      }
    },
    {
      "cell_type": "markdown",
      "metadata": {
        "id": "BxDZu4doS_7B"
      },
      "source": [
        "## 練習\n",
        "csvファイル、simple_score.csv、から配列を作成し、得点の各列の最大値と最小値を求めてください。"
      ]
    },
    {
      "cell_type": "code",
      "execution_count": null,
      "metadata": {
        "id": "gucPEuuUS_7B"
      },
      "outputs": [],
      "source": [
        "score = np.loadtxt(\"simple_score.csv\", delimiter=\",\", skiprows=1)\n",
        "score=score[:,1:]"
      ]
    },
    {
      "cell_type": "markdown",
      "metadata": {
        "id": "hecabESlS_7B"
      },
      "source": [
        "## 配列同士の演算\n",
        "行数と列数が同じ配列同士の四則演算は、各要素同士の演算となります。"
      ]
    },
    {
      "cell_type": "code",
      "execution_count": null,
      "metadata": {
        "id": "_CgXov4TS_7B",
        "outputId": "a301ce37-9978-4589-a639-dc8b7b69eef9"
      },
      "outputs": [
        {
          "name": "stdout",
          "output_type": "stream",
          "text": [
            "[[ 3  6]\n",
            " [ 9 12]]\n",
            "[[1 2]\n",
            " [3 4]]\n",
            "[[ 2  8]\n",
            " [18 32]]\n",
            "[[2 2]\n",
            " [2 2]]\n"
          ]
        }
      ],
      "source": [
        "A = np.array([1,2,3,4]).reshape(2,2)\n",
        "B = np.array([2,4,6,8]).reshape(2,2)\n",
        "\n",
        "# 配列の要素同士の足し算\n",
        "C = A+B\n",
        "print(C)\n",
        "\n",
        "# 配列の要素同士の引き算\n",
        "D = B-A\n",
        "print(D)\n",
        "\n",
        "# 配列の要素同士の掛け算\n",
        "E = A*B\n",
        "print(E)\n",
        "\n",
        "# 配列の要素同士の割り算\n",
        "F = B//A\n",
        "print(F)"
      ]
    },
    {
      "cell_type": "markdown",
      "metadata": {
        "id": "P_0KBWwxS_7B"
      },
      "source": [
        "## 練習\n",
        "csvファイル、simple_score.csv、から配列を作成し、得点の要素同士を掛け算して得点の各要素の値を2乗にしてください。"
      ]
    },
    {
      "cell_type": "code",
      "execution_count": null,
      "metadata": {
        "id": "m_ZhuOnnS_7B"
      },
      "outputs": [],
      "source": [
        "score = np.loadtxt(\"simple_score.csv\", delimiter=\",\", skiprows=1)\n",
        "score=score[:,1:] "
      ]
    },
    {
      "cell_type": "markdown",
      "metadata": {
        "id": "SUAE-EMIS_7B"
      },
      "source": [
        "## ブロードキャスト\n",
        "行数と列数が異なる配列や行列同士の四則演算では、足りない行や列の値を補うブロードキャストが行われます。以下の例では、配列Aと演算に対して、配列`B`の2行目が足りないため、`B`の1行目と同じ値で2行目を補い演算を行なっています。このようなブロードキャストが機能するのは、`B`の行数または列数が`A`のそれらと同じ場合、または配列`B`が1行・1列の場合です。"
      ]
    },
    {
      "cell_type": "code",
      "execution_count": null,
      "metadata": {
        "id": "k0iPesl0S_7B",
        "outputId": "1144f327-085d-4f67-e7c5-f6af3fc9e144"
      },
      "outputs": [
        {
          "name": "stdout",
          "output_type": "stream",
          "text": [
            "[[3 6]\n",
            " [5 8]]\n"
          ]
        }
      ],
      "source": [
        "A = np.array([1,2,3,4]).reshape(2,2)\n",
        "B = np.array([2,4])\n",
        "\n",
        "# 行列Bをブロードキャストして行列Aと足し算\n",
        "C = A+B\n",
        "print(C)"
      ]
    },
    {
      "cell_type": "markdown",
      "metadata": {
        "id": "H8KFSVtXS_7C"
      },
      "source": [
        "## 行列の演算"
      ]
    },
    {
      "cell_type": "markdown",
      "metadata": {
        "id": "308dtY_KS_7C"
      },
      "source": [
        "`dot()`関数を使うとベクトルの**内積**や**行列積**を計算することができます。この時、それぞれの配列の行数と列数、または列数と行数が同じである必要があります。"
      ]
    },
    {
      "cell_type": "code",
      "execution_count": null,
      "metadata": {
        "id": "3nL8Pm6RS_7C",
        "outputId": "c9e87d68-96a3-4fab-ee07-78ca949c1cb9"
      },
      "outputs": [
        {
          "name": "stdout",
          "output_type": "stream",
          "text": [
            "[[14 20]\n",
            " [30 44]]\n"
          ]
        }
      ],
      "source": [
        "A = np.array([1,2,3,4]).reshape(2,2)\n",
        "B = np.array([2,4,6,8]).reshape(2,2)\n",
        "\n",
        "# 行列積\n",
        "C = np.dot(A,B)\n",
        "print(C)"
      ]
    },
    {
      "cell_type": "markdown",
      "metadata": {
        "id": "10X5drdmS_7C"
      },
      "source": [
        "単位行列は`identity()`関数または`eye()`関数で作成することができます。引数に行列のサイズを指定します。"
      ]
    },
    {
      "cell_type": "code",
      "execution_count": null,
      "metadata": {
        "id": "Leqm3ju7S_7C",
        "outputId": "26750684-7bb1-4279-8921-ead4344d8d9b"
      },
      "outputs": [
        {
          "name": "stdout",
          "output_type": "stream",
          "text": [
            "[[1 0 0]\n",
            " [0 1 0]\n",
            " [0 0 1]]\n"
          ]
        }
      ],
      "source": [
        "# 3行3列の単位行列\n",
        "E=np.identity(3, dtype=int)\n",
        "print(E)"
      ]
    },
    {
      "cell_type": "markdown",
      "metadata": {
        "id": "m4AvsKnQS_7C"
      },
      "source": [
        "`transpose()`関数または配列の`T`属性で、配列の行と列の要素を入れ替えた配列を得ることができます。この時、元の配列の形状を変えているだけで元の配列を直接変更していないことに注意してください。"
      ]
    },
    {
      "cell_type": "code",
      "execution_count": null,
      "metadata": {
        "id": "KeUJQ4yYS_7C",
        "outputId": "7b99b24d-533e-4422-f5bf-25bda34638c8"
      },
      "outputs": [
        {
          "name": "stdout",
          "output_type": "stream",
          "text": [
            "[[1 4]\n",
            " [2 5]\n",
            " [3 6]]\n",
            "[[1 4]\n",
            " [2 5]\n",
            " [3 6]]\n",
            "[[1 2 3]\n",
            " [4 5 6]]\n"
          ]
        }
      ],
      "source": [
        "A = np.array([1,2,3,4,5,6]).reshape(2,3)\n",
        "\n",
        "# 配列の行と列の入れ替え\n",
        "print(np.transpose(A))\n",
        "print(A.T)\n",
        "print(A)"
      ]
    },
    {
      "cell_type": "markdown",
      "metadata": {
        "id": "bd2C8tFmS_7C"
      },
      "source": [
        "NumPyでは、行列の分解、転置、行列式などの計算を含む線形代数の機能は、`numpy.linalg`モジュールで提供されています。同モジュールについては以下を参照してください。\n",
        "- [線形代数関連関数](https://docs.scipy.org/doc/numpy/reference/routines.linalg.html)"
      ]
    },
    {
      "cell_type": "markdown",
      "metadata": {
        "id": "0FSoMRSVS_7D"
      },
      "source": [
        "## 練習\n",
        "csvファイル、simple_score.csv、から配列を作成し、各行を得点の各列を値を要素とするベクトルとみなし、1行目との他の行との内積をそれぞれ計算してください。"
      ]
    },
    {
      "cell_type": "code",
      "execution_count": null,
      "metadata": {
        "id": "YjpWI8TNS_7D"
      },
      "outputs": [],
      "source": [
        "score = np.loadtxt(\"simple_score.csv\", delimiter=\",\", skiprows=1)\n",
        "score=score[:,1:] "
      ]
    },
    {
      "cell_type": "markdown",
      "metadata": {
        "id": "bjHle1JlS_7D"
      },
      "source": [
        "## 配列要素の追加、挿入、削除\n",
        "### append()関数\n",
        "NumPyの配列の要素の追加には**`append`**`()`関数を使います。`append()`関数の第1引数には配列を指定し、第2引数にはその配列に追加する値を指定します。リストやタプルで複数の値を同時に指定することもできます。NumPyの`append()`関数は、要素を追加した新しい配列が返り、元の配列は変化しないことに注意してください。"
      ]
    },
    {
      "cell_type": "code",
      "execution_count": null,
      "metadata": {
        "id": "_ZkW3A0RS_7D",
        "outputId": "baa004e7-604e-4a0b-fca5-3069dbdb723e"
      },
      "outputs": [
        {
          "name": "stdout",
          "output_type": "stream",
          "text": [
            "[1 2]\n",
            "[1 2 3]\n",
            "[1 2 3 4 5]\n"
          ]
        }
      ],
      "source": [
        "a1 = np.array([1,2])\n",
        "\n",
        "# 配列a1に値3を要素として追加\n",
        "a2 = np.append(a1, 3)\n",
        "\n",
        "# 配列a2に値4,5を要素として追加\n",
        "a3 = np.append(a2,[4,5])\n",
        "\n",
        "print(a1)\n",
        "print(a2)\n",
        "print(a3)"
      ]
    },
    {
      "cell_type": "markdown",
      "metadata": {
        "id": "1yJ3w0rIS_7D"
      },
      "source": [
        "多次元配列に要素を追加する場合は、`append`関数の`axis`引数に対して、行追加であれば0、列追加であれば1を渡します。追加する要素は、追加先の配列の行または列と同じ次元の配列である必要があります。"
      ]
    },
    {
      "cell_type": "code",
      "execution_count": null,
      "metadata": {
        "id": "guL28X2zS_7D",
        "outputId": "9f0fd779-9a39-4b7f-a030-63fe7eebef21"
      },
      "outputs": [
        {
          "name": "stdout",
          "output_type": "stream",
          "text": [
            "[[1 2 3]\n",
            " [4 5 6]]\n",
            "[[1 2 3]\n",
            " [4 5 6]\n",
            " [7 8 9]]\n",
            "[[1 2 3 0]\n",
            " [4 5 6 0]\n",
            " [7 8 9 0]]\n"
          ]
        }
      ],
      "source": [
        "mul_array1 = np.array([[1,2,3],[4,5,6]])\n",
        "\n",
        "#  多次元配列mul_array1に行[7,8,9]を追加\n",
        "mul_array2 = np.append(mul_array1, [[7,8,9]], axis =0)\n",
        "\n",
        "#  多次元配列mul_array2に列[0,0,0]を追加\n",
        "mul_array3 = np.append(mul_array2, np.array([[0,0,0]]).T, axis =1)\n",
        "\n",
        "print(mul_array1)\n",
        "print(mul_array2)\n",
        "print(mul_array3)"
      ]
    },
    {
      "cell_type": "markdown",
      "metadata": {
        "id": "34ucmPv5S_7D"
      },
      "source": [
        "### insert()関数\n",
        "NumPyの配列の要素の挿入には**`insert`**`()`関数を使います。`insert()`関数の第1引数には配列、第2引数には要素を挿入する位置、第3引数にはその配列に追加する値を指定します。値は、リストやタプルで複数を同時に指定することもできます。NumPyの`insert()`関数は、要素を追加した新しい配列が返り、元の配列は変化しないことに注意してください。"
      ]
    },
    {
      "cell_type": "code",
      "execution_count": null,
      "metadata": {
        "id": "bLWKfqkrS_7D",
        "outputId": "b0c02435-1493-4d3a-fa1f-43a9b385fc62"
      },
      "outputs": [
        {
          "name": "stdout",
          "output_type": "stream",
          "text": [
            "[1 3]\n",
            "[1 2 3]\n",
            "[1 2 3 4 5]\n"
          ]
        }
      ],
      "source": [
        "a1 = np.array([1,3])\n",
        "\n",
        "# 配列a1のインデックス1に値2を要素として追加\n",
        "a2 = np.insert(a1, 1, 2)\n",
        "\n",
        "# 配列a2のインデックス3に値4,5を要素として追加\n",
        "a3 = np.insert(a2, 3, [4,5])\n",
        "\n",
        "print(a1)\n",
        "print(a2)\n",
        "print(a3)"
      ]
    },
    {
      "cell_type": "markdown",
      "metadata": {
        "id": "lsEqjlOBS_7D"
      },
      "source": [
        "多次元配列に要素を挿入する場合は、axis引数に対して、行追加であれば0、列追加であれば1を渡します。挿入する要素は、挿入先の配列の行または列と同じ次元の配列である必要があります。"
      ]
    },
    {
      "cell_type": "code",
      "execution_count": null,
      "metadata": {
        "id": "TCQCWIE8S_7E",
        "outputId": "465ef0de-d7b2-403c-9649-c72d88a92df1"
      },
      "outputs": [
        {
          "name": "stdout",
          "output_type": "stream",
          "text": [
            "[[1 2 3]\n",
            " [7 8 9]]\n",
            "[[1 2 3]\n",
            " [4 5 6]\n",
            " [7 8 9]]\n"
          ]
        }
      ],
      "source": [
        "mul_array1 = np.array([[1,2,3],[7,8,9]])\n",
        "\n",
        "#  多次元配列mul_array1に行[4,5,6]を追加\n",
        "mul_array2 = np.insert(mul_array1, 1, [[4,5,6]], axis =0)\n",
        "\n",
        "print(mul_array1)\n",
        "print(mul_array2)"
      ]
    },
    {
      "cell_type": "markdown",
      "metadata": {
        "id": "-9HQUVSvS_7E"
      },
      "source": [
        "### delete()関数\n",
        "NumPyの配列の要素の削除には**`delete`**`()`関数を使います。`delete()`関数の第1引数には配列、第2引数には削除する要素の位置を指定します。`delete`関数でも`append()`関数、`insert()`関数と同様に、元の配列は変化しないことに注意してください。"
      ]
    },
    {
      "cell_type": "code",
      "execution_count": null,
      "metadata": {
        "id": "P_RuV-UiS_7E",
        "outputId": "3682114c-9d89-4d67-bd01-aee4fd4da982"
      },
      "outputs": [
        {
          "name": "stdout",
          "output_type": "stream",
          "text": [
            "[0 1 2]\n",
            "[0 1]\n"
          ]
        }
      ],
      "source": [
        "a1 = np.array([0,1,2])\n",
        "\n",
        "# 配列a1のインデックス2の要素を削除\n",
        "a2 = np.delete(a1,2) \n",
        "\n",
        "print(a1)\n",
        "print(a2)"
      ]
    },
    {
      "cell_type": "code",
      "execution_count": null,
      "metadata": {
        "id": "_oqwsAhQS_7E"
      },
      "outputs": [],
      "source": []
    }
  ],
  "metadata": {
    "kernelspec": {
      "display_name": "Python 3",
      "language": "python",
      "name": "python3"
    },
    "language_info": {
      "codemirror_mode": {
        "name": "ipython",
        "version": 3
      },
      "file_extension": ".py",
      "mimetype": "text/x-python",
      "name": "python",
      "nbconvert_exporter": "python",
      "pygments_lexer": "ipython3",
      "version": "3.7.3"
    },
    "colab": {
      "provenance": [],
      "collapsed_sections": [],
      "include_colab_link": true
    }
  },
  "nbformat": 4,
  "nbformat_minor": 0
}
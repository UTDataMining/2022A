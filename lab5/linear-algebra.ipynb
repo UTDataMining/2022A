{
  "cells": [
    {
      "cell_type": "markdown",
      "metadata": {
        "id": "mIVZV4w637gu"
      },
      "source": [
        "# ベクトル・行列演算"
      ]
    },
    {
      "cell_type": "code",
      "execution_count": 1,
      "metadata": {
        "ExecuteTime": {
          "end_time": "2019-01-22T06:59:37.697347Z",
          "start_time": "2019-01-22T06:59:36.344203Z"
        },
        "id": "ddNB5vwj37gw"
      },
      "outputs": [],
      "source": [
        "import numpy as np"
      ]
    },
    {
      "cell_type": "markdown",
      "metadata": {
        "id": "hizpSgqV37gx"
      },
      "source": [
        "## ベクトル\n",
        "\n",
        "$x = (x_1,...,x_n)$"
      ]
    },
    {
      "cell_type": "code",
      "execution_count": 2,
      "metadata": {
        "ExecuteTime": {
          "end_time": "2019-01-22T06:59:37.759425Z",
          "start_time": "2019-01-22T06:59:37.748844Z"
        },
        "id": "I2WlLN8G37gy",
        "outputId": "08d94cf8-287e-4668-dcde-0fe1da91443a",
        "colab": {
          "base_uri": "https://localhost:8080/"
        }
      },
      "outputs": [
        {
          "output_type": "stream",
          "name": "stdout",
          "text": [
            "x =  [0 1 2 3 4]\n",
            "3\n"
          ]
        }
      ],
      "source": [
        "x = np.arange(5)\n",
        "print('x = ', x) \n",
        "print(x[3])"
      ]
    },
    {
      "cell_type": "markdown",
      "metadata": {
        "id": "Bjt7i3IB37gz"
      },
      "source": [
        "### ベクトルの演算"
      ]
    },
    {
      "cell_type": "code",
      "execution_count": 3,
      "metadata": {
        "ExecuteTime": {
          "end_time": "2019-01-22T06:59:37.723391Z",
          "start_time": "2019-01-22T06:59:37.701297Z"
        },
        "id": "WCbldg8b37gz",
        "outputId": "f668af4e-149c-4f49-cec0-7268e6114502",
        "colab": {
          "base_uri": "https://localhost:8080/"
        }
      },
      "outputs": [
        {
          "output_type": "stream",
          "name": "stdout",
          "text": [
            "x + y =  [5. 5.]\n",
            "x * y =  [6. 4.]\n",
            "x / y =  [1.5 4. ]\n",
            "x ** y =  [9. 4.]\n"
          ]
        }
      ],
      "source": [
        "x = np.array([3.0, 4.0])\n",
        "y = np.array([2.0, 1.0])\n",
        "\n",
        "print('x + y = ', x + y) \n",
        "print('x * y = ', x * y)\n",
        "print('x / y = ', x / y)\n",
        "print('x ** y = ', np.power(x,y))"
      ]
    },
    {
      "cell_type": "markdown",
      "metadata": {
        "id": "1VbQJ1yW37gz"
      },
      "source": [
        "## 行列\n",
        "we can draw a matrix as a table,\n",
        "where each entry $a_{ij}$ belongs to the $i$-th row and $j$-th column.\n",
        "\n",
        "\n",
        "$$A=\\begin{pmatrix}\n",
        " a_{11} & a_{12} & \\cdots & a_{1m} \\\\\n",
        " a_{21} & a_{22} & \\cdots & a_{2m} \\\\\n",
        "\\vdots & \\vdots & \\ddots & \\vdots \\\\\n",
        " a_{n1} & a_{n2} & \\cdots & a_{nm} \\\\\n",
        "\\end{pmatrix}$$"
      ]
    },
    {
      "cell_type": "code",
      "execution_count": 4,
      "metadata": {
        "ExecuteTime": {
          "end_time": "2019-01-22T06:59:37.845855Z",
          "start_time": "2019-01-22T06:59:37.832911Z"
        },
        "id": "UOJ1uZlb37g0",
        "outputId": "2538b355-92e2-48db-d537-25701ee6ea15",
        "colab": {
          "base_uri": "https://localhost:8080/"
        }
      },
      "outputs": [
        {
          "output_type": "stream",
          "name": "stdout",
          "text": [
            "A = [[ 0  1  2  3]\n",
            " [ 4  5  6  7]\n",
            " [ 8  9 10 11]]\n",
            "11\n"
          ]
        }
      ],
      "source": [
        "A = np.arange(12).reshape((3,4))\n",
        "print('A =', A)\n",
        "print(A[2,3])"
      ]
    },
    {
      "cell_type": "markdown",
      "metadata": {
        "id": "IahNqzUF37g0"
      },
      "source": [
        "### 次元"
      ]
    },
    {
      "cell_type": "code",
      "execution_count": 5,
      "metadata": {
        "ExecuteTime": {
          "end_time": "2019-01-22T06:59:37.799655Z",
          "start_time": "2019-01-22T06:59:37.792531Z"
        },
        "id": "KY-N6kIb37g1",
        "outputId": "37b69be7-2117-4874-d09e-56fba5e6603d",
        "colab": {
          "base_uri": "https://localhost:8080/"
        }
      },
      "outputs": [
        {
          "output_type": "stream",
          "name": "stdout",
          "text": [
            "2\n",
            "(3, 4)\n",
            "12\n"
          ]
        }
      ],
      "source": [
        "print(A.ndim)\n",
        "print(A.shape)\n",
        "print(A.size)"
      ]
    },
    {
      "cell_type": "markdown",
      "metadata": {
        "id": "7mDlUG-q37g1"
      },
      "source": [
        "### 転置行列\n",
        "if $B = A^T$, then $b_{ij} = a_{ji}$ for any $i$ and $j$."
      ]
    },
    {
      "cell_type": "code",
      "execution_count": 6,
      "metadata": {
        "ExecuteTime": {
          "end_time": "2019-01-22T06:59:37.858642Z",
          "start_time": "2019-01-22T06:59:37.849556Z"
        },
        "id": "yRjOx1tg37g1",
        "outputId": "12ec0f2e-4d1c-4b49-cb71-5e69c6b13c21",
        "colab": {
          "base_uri": "https://localhost:8080/"
        }
      },
      "outputs": [
        {
          "output_type": "stream",
          "name": "stdout",
          "text": [
            "[[ 0  4  8]\n",
            " [ 1  5  9]\n",
            " [ 2  6 10]\n",
            " [ 3  7 11]]\n"
          ]
        }
      ],
      "source": [
        "print(A.T)"
      ]
    },
    {
      "cell_type": "markdown",
      "metadata": {
        "id": "25fIeQVP37g2"
      },
      "source": [
        "### 演算"
      ]
    },
    {
      "cell_type": "code",
      "execution_count": 7,
      "metadata": {
        "ExecuteTime": {
          "end_time": "2019-01-22T06:59:37.896390Z",
          "start_time": "2019-01-22T06:59:37.883657Z"
        },
        "id": "fmvTBqN837g2",
        "outputId": "3691ae48-f4f0-46e2-eebb-03c22ea446ce",
        "colab": {
          "base_uri": "https://localhost:8080/"
        }
      },
      "outputs": [
        {
          "output_type": "stream",
          "name": "stdout",
          "text": [
            "X = [[1. 1. 1.]\n",
            " [1. 1. 1.]]\n",
            "Y = [[-1. -1. -1.]\n",
            " [-1. -1. -1.]]\n",
            "aX = [[2. 2. 2.]\n",
            " [2. 2. 2.]]\n",
            "aX+Y = [[1. 1. 1.]\n",
            " [1. 1. 1.]]\n"
          ]
        }
      ],
      "source": [
        "a = 2\n",
        "x = np.ones((2,3))\n",
        "y = np.zeros((2,3))-1\n",
        "print('X =',x)\n",
        "print('Y =',y)\n",
        "print('aX =',a*x)\n",
        "print('aX+Y =',a*x+y)"
      ]
    },
    {
      "cell_type": "markdown",
      "metadata": {
        "id": "vlaS7I5_37g2"
      },
      "source": [
        "## 総和と平均"
      ]
    },
    {
      "cell_type": "code",
      "execution_count": 8,
      "metadata": {
        "ExecuteTime": {
          "end_time": "2019-01-22T06:59:37.911193Z",
          "start_time": "2019-01-22T06:59:37.899472Z"
        },
        "id": "Aa9d68Np37g2",
        "outputId": "379621c1-39ee-4265-cbd1-44699ccad594",
        "colab": {
          "base_uri": "https://localhost:8080/"
        }
      },
      "outputs": [
        {
          "output_type": "stream",
          "name": "stdout",
          "text": [
            "X= [[1. 1. 1.]\n",
            " [1. 1. 1.]]\n",
            "6.0\n",
            "[2. 2. 2.]\n",
            "[3. 3.]\n"
          ]
        }
      ],
      "source": [
        "print('X=',x)\n",
        "print(np.sum(x))\n",
        "print(np.sum(x, axis=0))\n",
        "print(np.sum(x, axis=1))"
      ]
    },
    {
      "cell_type": "code",
      "execution_count": 9,
      "metadata": {
        "ExecuteTime": {
          "end_time": "2019-01-22T06:59:37.933514Z",
          "start_time": "2019-01-22T06:59:37.925021Z"
        },
        "id": "WdlIe0wv37g3",
        "outputId": "0b58b6c1-2043-4c10-a695-493b42c31e78",
        "colab": {
          "base_uri": "https://localhost:8080/"
        }
      },
      "outputs": [
        {
          "output_type": "stream",
          "name": "stdout",
          "text": [
            "A = [[ 0  1  2  3]\n",
            " [ 4  5  6  7]\n",
            " [ 8  9 10 11]]\n",
            "5.5\n",
            "5.5\n",
            "[4. 5. 6. 7.]\n",
            "[4. 5. 6. 7.]\n",
            "[1.5 5.5 9.5]\n",
            "[1.5 5.5 9.5]\n"
          ]
        }
      ],
      "source": [
        "print('A =',A)\n",
        "print(np.mean(A))\n",
        "print(np.sum(A) / A.size)\n",
        "print(np.mean(A,axis=0))\n",
        "print(np.sum(A,axis=0) / A.shape[0])\n",
        "print(np.mean(A,axis=1))\n",
        "print(np.sum(A,axis=1) / A.shape[1])"
      ]
    },
    {
      "cell_type": "markdown",
      "metadata": {
        "id": "uTzF0UvY37g3"
      },
      "source": [
        "## ベクトル内積\n",
        "\n",
        "Given two vectors $\\mathbf{u}$ and $\\mathbf{v}$, the dot product $\\mathbf{u}^T \\mathbf{v}$ is a sum over the products of the corresponding elements: $\\mathbf{u}^T \\mathbf{v} = \\sum_{i=1}^{d} u_i \\cdot v_i$."
      ]
    },
    {
      "cell_type": "code",
      "execution_count": 10,
      "metadata": {
        "ExecuteTime": {
          "end_time": "2019-01-22T06:59:37.947256Z",
          "start_time": "2019-01-22T06:59:37.936840Z"
        },
        "id": "o-HpQIko37g3",
        "outputId": "8b53b220-bd7d-49a0-c10f-a51af8990fbe",
        "colab": {
          "base_uri": "https://localhost:8080/"
        }
      },
      "outputs": [
        {
          "output_type": "stream",
          "name": "stdout",
          "text": [
            "x = [1. 2. 3. 4.]\n",
            "y = [1. 1. 1. 1.]\n",
            "x・y = 10.0\n"
          ]
        }
      ],
      "source": [
        "x = np.arange(4) +1.0\n",
        "y = np.ones(4)\n",
        "print('x =',x)\n",
        "print('y =',y)\n",
        "print('x・y =',np.dot(x, y))"
      ]
    },
    {
      "cell_type": "code",
      "execution_count": null,
      "metadata": {
        "ExecuteTime": {
          "end_time": "2019-01-22T06:59:37.958753Z",
          "start_time": "2019-01-22T06:59:37.950028Z"
        },
        "id": "x-cNVtLi37g4",
        "outputId": "148f4328-51b1-493a-c99d-d616ebd07e57"
      },
      "outputs": [
        {
          "data": {
            "text/plain": [
              "10.0"
            ]
          },
          "execution_count": 11,
          "metadata": {},
          "output_type": "execute_result"
        }
      ],
      "source": [
        "np.sum(x * y)"
      ]
    },
    {
      "cell_type": "markdown",
      "metadata": {
        "id": "T3dYdDw437g4"
      },
      "source": [
        "## 行列とベクトルの積\n",
        "\n",
        "$$A=\\begin{pmatrix}\n",
        " a_{11} & a_{12} & \\cdots & a_{1m} \\\\\n",
        " a_{21} & a_{22} & \\cdots & a_{2m} \\\\\n",
        "\\vdots & \\vdots & \\ddots & \\vdots \\\\\n",
        " a_{n1} & a_{n2} & \\cdots & a_{nm} \\\\\n",
        "\\end{pmatrix},\\quad\\mathbf{x}=\\begin{pmatrix}\n",
        " x_{1}  \\\\\n",
        " x_{2} \\\\\n",
        "\\vdots\\\\\n",
        " x_{m}\\\\\n",
        "\\end{pmatrix} $$\n",
        "\n",
        "$$A\\mathbf{x}=\n",
        "\\begin{pmatrix}\n",
        "\\cdots & \\mathbf{a}^T_{1} &...  \\\\\n",
        "\\cdots & \\mathbf{a}^T_{2} & \\cdots \\\\\n",
        " & \\vdots &  \\\\\n",
        " \\cdots &\\mathbf{a}^T_n & \\cdots \\\\\n",
        "\\end{pmatrix}\n",
        "\\begin{pmatrix}\n",
        " x_{1}  \\\\\n",
        " x_{2} \\\\\n",
        "\\vdots\\\\\n",
        " x_{m}\\\\\n",
        "\\end{pmatrix}\n",
        "= \\begin{pmatrix}\n",
        " \\mathbf{a}^T_{1} \\mathbf{x}  \\\\\n",
        " \\mathbf{a}^T_{2} \\mathbf{x} \\\\\n",
        "\\vdots\\\\\n",
        " \\mathbf{a}^T_{n} \\mathbf{x}\\\\\n",
        "\\end{pmatrix}\n",
        "$$\n",
        "\n",
        "So you can think of multiplication by a matrix $A\\in \\mathbb{R}^{m \\times n}$ as a transformation that projects vectors from $\\mathbb{R}^{m}$ to $\\mathbb{R}^{n}$.\n"
      ]
    },
    {
      "cell_type": "code",
      "execution_count": 11,
      "metadata": {
        "ExecuteTime": {
          "end_time": "2019-01-22T06:59:37.972681Z",
          "start_time": "2019-01-22T06:59:37.961622Z"
        },
        "id": "w0UBVNNi37g4",
        "outputId": "44512855-f32e-4192-f9ab-a2989c2a2b10",
        "colab": {
          "base_uri": "https://localhost:8080/"
        }
      },
      "outputs": [
        {
          "output_type": "stream",
          "name": "stdout",
          "text": [
            "A = [[ 0  1  2  3]\n",
            " [ 4  5  6  7]\n",
            " [ 8  9 10 11]]\n",
            "x = [1. 2. 3. 4.]\n",
            "A*x = [[ 0.  2.  6. 12.]\n",
            " [ 4. 10. 18. 28.]\n",
            " [ 8. 18. 30. 44.]]\n",
            "Ax = [ 20.  60. 100.]\n"
          ]
        }
      ],
      "source": [
        "A = A.reshape((3,4))\n",
        "print('A =',A)\n",
        "print('x =',x)\n",
        "print('A*x =',A * x)\n",
        "print('Ax =',np.dot(A, x))"
      ]
    },
    {
      "cell_type": "markdown",
      "metadata": {
        "id": "fGrbvK8637g5"
      },
      "source": [
        "## 行列積\n",
        "\n",
        "If you've gotten the hang of dot products and matrix-vector multiplication, then matrix-matrix multiplications should be pretty straightforward.\n",
        "\n",
        "Say we have two matrices, $A \\in \\mathbb{R}^{n \\times k}$ and $B \\in \\mathbb{R}^{k \\times m}$:\n",
        "\n",
        "$$A=\\begin{pmatrix}\n",
        " a_{11} & a_{12} & \\cdots & a_{1k} \\\\\n",
        " a_{21} & a_{22} & \\cdots & a_{2k} \\\\\n",
        "\\vdots & \\vdots & \\ddots & \\vdots \\\\\n",
        " a_{n1} & a_{n2} & \\cdots & a_{nk} \\\\\n",
        "\\end{pmatrix},\\quad\n",
        "B=\\begin{pmatrix}\n",
        " b_{11} & b_{12} & \\cdots & b_{1m} \\\\\n",
        " b_{21} & b_{22} & \\cdots & b_{2m} \\\\\n",
        "\\vdots & \\vdots & \\ddots & \\vdots \\\\\n",
        " b_{k1} & b_{k2} & \\cdots & b_{km} \\\\\n",
        "\\end{pmatrix}$$"
      ]
    },
    {
      "cell_type": "markdown",
      "metadata": {
        "id": "hMC4vvon37g5"
      },
      "source": [
        "$$AB = \\begin{pmatrix}\n",
        "\\cdots & \\mathbf{a}^T_{1} &...  \\\\\n",
        "\\cdots & \\mathbf{a}^T_{2} & \\cdots \\\\\n",
        " & \\vdots &  \\\\\n",
        " \\cdots &\\mathbf{a}^T_n & \\cdots \\\\\n",
        "\\end{pmatrix}\n",
        "\\begin{pmatrix}\n",
        "\\vdots & \\vdots &  & \\vdots \\\\\n",
        " \\mathbf{b}_{1} & \\mathbf{b}_{2} & \\cdots & \\mathbf{b}_{m} \\\\\n",
        " \\vdots & \\vdots &  &\\vdots\\\\\n",
        "\\end{pmatrix}\n",
        "= \\begin{pmatrix}\n",
        "\\mathbf{a}^T_{1} \\mathbf{b}_1 & \\mathbf{a}^T_{1}\\mathbf{b}_2& \\cdots & \\mathbf{a}^T_{1} \\mathbf{b}_m \\\\\n",
        " \\mathbf{a}^T_{2}\\mathbf{b}_1 & \\mathbf{a}^T_{2} \\mathbf{b}_2 & \\cdots & \\mathbf{a}^T_{2} \\mathbf{b}_m \\\\\n",
        " \\vdots & \\vdots & \\ddots &\\vdots\\\\\n",
        "\\mathbf{a}^T_{n} \\mathbf{b}_1 & \\mathbf{a}^T_{n}\\mathbf{b}_2& \\cdots& \\mathbf{a}^T_{n} \\mathbf{b}_m\n",
        "\\end{pmatrix}\n",
        "$$\n",
        "\n",
        "You can think of the matrix-matrix multiplication $AB$ as simply performing $m$ matrix-vector products and stitching the results together."
      ]
    },
    {
      "cell_type": "code",
      "execution_count": 12,
      "metadata": {
        "ExecuteTime": {
          "end_time": "2019-01-22T06:59:38.003462Z",
          "start_time": "2019-01-22T06:59:37.989098Z"
        },
        "id": "NZ5HWk4837g5",
        "outputId": "2da560b4-4ff5-419b-b8e1-313a5d676630",
        "colab": {
          "base_uri": "https://localhost:8080/"
        }
      },
      "outputs": [
        {
          "output_type": "stream",
          "name": "stdout",
          "text": [
            "A = [[ 0  1  2  3]\n",
            " [ 4  5  6  7]\n",
            " [ 8  9 10 11]]\n",
            "B = [[1. 1. 1.]\n",
            " [1. 1. 1.]\n",
            " [1. 1. 1.]\n",
            " [1. 1. 1.]]\n",
            "AB = [[ 6.  6.  6.]\n",
            " [22. 22. 22.]\n",
            " [38. 38. 38.]]\n"
          ]
        }
      ],
      "source": [
        "B = np.ones(shape=(4, 3))\n",
        "print('A =',A)\n",
        "print('B =',B)\n",
        "print('AB =',np.dot(A, B))"
      ]
    },
    {
      "cell_type": "markdown",
      "metadata": {
        "id": "6LXAWGQT37g5"
      },
      "source": [
        "numpy.dot(a, b, out=None)\n",
        "Dot product of two arrays. Specifically,\n",
        "\n",
        "- If both a and b are 1-D arrays, it is inner product of vectors (without complex conjugation).\n",
        "\n",
        "- If both a and b are 2-D arrays, it is matrix multiplication, but using matmul or a @ b is preferred.\n",
        "\n",
        "- If either a or b is 0-D (scalar), it is equivalent to multiply and using numpy.multiply(a, b) or a * b is preferred.\n",
        "\n",
        "- If a is an N-D array and b is a 1-D array, it is a sum product over the last axis of a and b.\n",
        "\n",
        "- If a is an N-D array and b is an M-D array (where M>=2), it is a sum product over the last axis of a and the second-to-last axis of b:"
      ]
    },
    {
      "cell_type": "markdown",
      "metadata": {
        "id": "ii98pPDZ37g6"
      },
      "source": [
        "## ノルム\n",
        "\n",
        "All norms must satisfy a handful of properties:\n",
        "\n",
        "1. $\\|\\alpha A\\| = |\\alpha| \\|A\\|$\n",
        "1. $\\|A + B\\| \\leq \\|A\\| + \\|B\\|$\n",
        "1. $\\|A\\| \\geq 0$\n",
        "1. If $\\forall {i,j}, a_{ij} = 0$, then $\\|A\\|=0$"
      ]
    },
    {
      "cell_type": "code",
      "execution_count": 13,
      "metadata": {
        "ExecuteTime": {
          "end_time": "2019-01-22T06:59:38.023692Z",
          "start_time": "2019-01-22T06:59:38.010330Z"
        },
        "id": "889sYJuP37g6",
        "outputId": "0a74d0bb-b3ea-496c-e00a-5cdf73c0e2bf",
        "colab": {
          "base_uri": "https://localhost:8080/"
        }
      },
      "outputs": [
        {
          "output_type": "stream",
          "name": "stdout",
          "text": [
            "||x|| = 5.477225575051661\n",
            "||A|| = 22.494443758403985\n"
          ]
        }
      ],
      "source": [
        "print('||x|| =',np.linalg.norm(x))\n",
        "print('||A|| =',np.linalg.norm(A))"
      ]
    }
  ],
  "metadata": {
    "kernelspec": {
      "display_name": "Python 3",
      "language": "python",
      "name": "python3"
    },
    "language_info": {
      "codemirror_mode": {
        "name": "ipython",
        "version": 3
      },
      "file_extension": ".py",
      "mimetype": "text/x-python",
      "name": "python",
      "nbconvert_exporter": "python",
      "pygments_lexer": "ipython3",
      "version": "3.7.3"
    },
    "colab": {
      "provenance": []
    }
  },
  "nbformat": 4,
  "nbformat_minor": 0
}